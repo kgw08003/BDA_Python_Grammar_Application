{
 "cells": [
  {
   "cell_type": "markdown",
   "id": "b6ed4f9d",
   "metadata": {},
   "source": [
    "### 분산분석(Analysis of Variance, ANOVA)과 다변량분석(Manova, Multivariate Analysis of Variance)\n",
    "\n",
    "- 통계학에서 사용되는 분석 방법으로, 그룹 간 차이를 비교하는 데에 활용된다. \n",
    "- 두 방법은 사용되는 데이터의 종류와 분석 목적에 따라 다르게 적용된다.\n",
    "\n",
    "\n",
    "### 분산분석 (ANOVA):\n",
    "- 분산분석은 연속형 종속 변수와 이산형 독립 변수(요인)를 가지는 경우에 사용되며, 주로 한 개 이상의 독립 변수에 따라 종속 변수의 평균 값이 유의미하게 다른지를 확인하는 데에 사용된다\n",
    "- 분산분석은 여러 그룹 간의 평균 차이를 비교하며, 그룹 내 변동과 그룹 간 변동을 비교하여 유의미한 차이를 검정한다.\n",
    "- 일반적으로 One-way ANOVA(일원분산분석)과 Two-way ANOVA(이원분산분석)이 많이 사용됩니다.\n",
    "\n",
    "### 다변량분석 (MANOVA):\n",
    "- 다변량분석은 두 개 이상의 연속형 종속 변수와 이산형 독립 변수(요인)를 가지는 경우에 사용되며, 여러 종속 변수들이 상호 관련성을 가지고 있을 때, 종속 변수들을 동시에 고려하여 그룹 간 차이를 비교한다.\n",
    "- 이를 통해 여러 종속 변수들의 결합적인 효과를 고려하여 그룹 간 차이를 검정한다.\n",
    "\n",
    "다양한 경우의 수에 대한 분산분석 및 다변량분석 개념 비교:\n",
    "\n",
    "### One-way ANOVA vs. One-way MANOVA:\n",
    "\n",
    "- One-way ANOVA: \n",
    "- 3개 이상의 범주를 가지고 있는 하나의 IV가 있는 경우 사용되며, IV가 하나일 때 분산의 원인이 집단 간 차이에 기안한 것인지 분석하는 방법이다.\n",
    "- 쉽게 말하면 하나의 독립 변수(요인)에 대해 하나의 연속형 종속 변수를 비교한다.\n",
    "- 예를 들어, 여러 교육 수준에 따라 수학 시험 점수를 비교하는 경우입니다.\n",
    "------------------\n",
    "- One-way MANOVA: \n",
    "- 하나의 독립 변수(요인)에 대해 두 개 이상의 상관된 연속형 종속 변수를 비교한다.\n",
    "- 예를 들어, 교육 수준에 따라 수학, 과학, 영어 시험 점수를 함께 비교하는 경우이다.\n",
    "\n",
    "### Two-way ANOVA vs. Two-way MANOVA:\n",
    "\n",
    "- Two-way ANOVA: \n",
    "- IV가 2개인 경우 사용하며, 두 가지 설계로 나누어서 볼 수 있다.\n",
    "- 1. crossed design(교차 설계)는 각 IV의 main effect(주 효과) 뿐 아니라 IV간의 상호작용 효과도 알 수 있는 설계 방법이다.\n",
    "- 2. nested desing(내재 설계)는 IV간의 상호작용 효과에는 관심이 없고, 한 변수의 각 수준에서 다른 변수의 효과가 있는지를 분석하기 위한 설계이다.\n",
    "- 정리하면 두 개의 독립 변수(요인)에 대해 하나의 연속형 종속 변수를 비교한다.\n",
    "- 예를 들어, 교육 수준과 성별에 따라 시험 점수를 비교하는 경우입니다.\n",
    "--------------------\n",
    "- Two-way MANOVA: \n",
    "- 두 개의 독립 변수(요인)에 대해 두 개 이상의 상관된 연속형 종속 변수를 비교한다.\n",
    "- 예를 들어, 교육 수준과 성별에 따라 수학, 과학, 영어 시험 점수를 함께 비교하는 경우이다.\n",
    "\n",
    "### Repeated Measures ANOVA vs. Repeated Measures MANOVA:\n",
    "\n",
    "- Repeated Measures ANOVA: \n",
    "- 하나의 독립 변수(요인)에 대해 하나의 연속형 종속 변수를 반복적으로 측정한 경우에 사용됩니다. \n",
    "- 예를 들어, 시간에 따라서 한 그룹의 체중 변화를 비교하는 경우이다.\n",
    "--------------------------\n",
    "- Repeated Measures MANOVA: \n",
    "- 하나의 독립 변수(요인)에 대해 두 개 이상의 상관된 연속형 종속 변수를 반복적으로 측정한 경우에 사용된다.\n",
    "- 예를 들어, 시간에 따라서 한 그룹의 체중, 혈압, 심박수 등의 변화를 함께 비교하는 경우이다.\n"
   ]
  },
  {
   "cell_type": "code",
   "execution_count": null,
   "id": "94c6fc75",
   "metadata": {},
   "outputs": [],
   "source": []
  }
 ],
 "metadata": {
  "kernelspec": {
   "display_name": "Python 3 (ipykernel)",
   "language": "python",
   "name": "python3"
  },
  "language_info": {
   "codemirror_mode": {
    "name": "ipython",
    "version": 3
   },
   "file_extension": ".py",
   "mimetype": "text/x-python",
   "name": "python",
   "nbconvert_exporter": "python",
   "pygments_lexer": "ipython3",
   "version": "3.9.13"
  }
 },
 "nbformat": 4,
 "nbformat_minor": 5
}
