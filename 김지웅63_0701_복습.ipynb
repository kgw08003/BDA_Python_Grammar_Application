{
 "cells": [
  {
   "cell_type": "code",
   "execution_count": 2,
   "id": "6d303b66",
   "metadata": {
    "id": "6d303b66"
   },
   "outputs": [],
   "source": [
    "import pandas as pd\n",
    "import numpy as np\n",
    "import matplotlib.pyplot as plt\n",
    "\n",
    "%matplotlib inline"
   ]
  },
  {
   "cell_type": "code",
   "execution_count": 3,
   "id": "ac4242ae",
   "metadata": {
    "id": "ac4242ae"
   },
   "outputs": [],
   "source": [
    "df = pd.read_csv('scores_em.csv')"
   ]
  },
  {
   "cell_type": "code",
   "execution_count": 4,
   "id": "8566fb0b",
   "metadata": {
    "id": "8566fb0b",
    "outputId": "fba40495-651a-4ca9-ee40-f3396c635085",
    "scrolled": true
   },
   "outputs": [
    {
     "data": {
      "text/html": [
       "<div>\n",
       "<style scoped>\n",
       "    .dataframe tbody tr th:only-of-type {\n",
       "        vertical-align: middle;\n",
       "    }\n",
       "\n",
       "    .dataframe tbody tr th {\n",
       "        vertical-align: top;\n",
       "    }\n",
       "\n",
       "    .dataframe thead th {\n",
       "        text-align: right;\n",
       "    }\n",
       "</style>\n",
       "<table border=\"1\" class=\"dataframe\">\n",
       "  <thead>\n",
       "    <tr style=\"text-align: right;\">\n",
       "      <th></th>\n",
       "      <th>student number</th>\n",
       "      <th>english</th>\n",
       "      <th>mathematics</th>\n",
       "    </tr>\n",
       "  </thead>\n",
       "  <tbody>\n",
       "    <tr>\n",
       "      <th>0</th>\n",
       "      <td>1</td>\n",
       "      <td>42</td>\n",
       "      <td>65</td>\n",
       "    </tr>\n",
       "    <tr>\n",
       "      <th>1</th>\n",
       "      <td>2</td>\n",
       "      <td>69</td>\n",
       "      <td>80</td>\n",
       "    </tr>\n",
       "    <tr>\n",
       "      <th>2</th>\n",
       "      <td>3</td>\n",
       "      <td>56</td>\n",
       "      <td>63</td>\n",
       "    </tr>\n",
       "    <tr>\n",
       "      <th>3</th>\n",
       "      <td>4</td>\n",
       "      <td>41</td>\n",
       "      <td>63</td>\n",
       "    </tr>\n",
       "    <tr>\n",
       "      <th>4</th>\n",
       "      <td>5</td>\n",
       "      <td>57</td>\n",
       "      <td>76</td>\n",
       "    </tr>\n",
       "    <tr>\n",
       "      <th>5</th>\n",
       "      <td>6</td>\n",
       "      <td>48</td>\n",
       "      <td>60</td>\n",
       "    </tr>\n",
       "    <tr>\n",
       "      <th>6</th>\n",
       "      <td>7</td>\n",
       "      <td>65</td>\n",
       "      <td>81</td>\n",
       "    </tr>\n",
       "    <tr>\n",
       "      <th>7</th>\n",
       "      <td>8</td>\n",
       "      <td>49</td>\n",
       "      <td>66</td>\n",
       "    </tr>\n",
       "    <tr>\n",
       "      <th>8</th>\n",
       "      <td>9</td>\n",
       "      <td>65</td>\n",
       "      <td>78</td>\n",
       "    </tr>\n",
       "    <tr>\n",
       "      <th>9</th>\n",
       "      <td>10</td>\n",
       "      <td>58</td>\n",
       "      <td>82</td>\n",
       "    </tr>\n",
       "    <tr>\n",
       "      <th>10</th>\n",
       "      <td>11</td>\n",
       "      <td>70</td>\n",
       "      <td>94</td>\n",
       "    </tr>\n",
       "    <tr>\n",
       "      <th>11</th>\n",
       "      <td>12</td>\n",
       "      <td>47</td>\n",
       "      <td>75</td>\n",
       "    </tr>\n",
       "    <tr>\n",
       "      <th>12</th>\n",
       "      <td>13</td>\n",
       "      <td>51</td>\n",
       "      <td>70</td>\n",
       "    </tr>\n",
       "    <tr>\n",
       "      <th>13</th>\n",
       "      <td>14</td>\n",
       "      <td>64</td>\n",
       "      <td>77</td>\n",
       "    </tr>\n",
       "    <tr>\n",
       "      <th>14</th>\n",
       "      <td>15</td>\n",
       "      <td>62</td>\n",
       "      <td>84</td>\n",
       "    </tr>\n",
       "    <tr>\n",
       "      <th>15</th>\n",
       "      <td>16</td>\n",
       "      <td>70</td>\n",
       "      <td>84</td>\n",
       "    </tr>\n",
       "    <tr>\n",
       "      <th>16</th>\n",
       "      <td>17</td>\n",
       "      <td>71</td>\n",
       "      <td>82</td>\n",
       "    </tr>\n",
       "    <tr>\n",
       "      <th>17</th>\n",
       "      <td>18</td>\n",
       "      <td>68</td>\n",
       "      <td>85</td>\n",
       "    </tr>\n",
       "    <tr>\n",
       "      <th>18</th>\n",
       "      <td>19</td>\n",
       "      <td>73</td>\n",
       "      <td>90</td>\n",
       "    </tr>\n",
       "    <tr>\n",
       "      <th>19</th>\n",
       "      <td>20</td>\n",
       "      <td>37</td>\n",
       "      <td>70</td>\n",
       "    </tr>\n",
       "    <tr>\n",
       "      <th>20</th>\n",
       "      <td>21</td>\n",
       "      <td>65</td>\n",
       "      <td>78</td>\n",
       "    </tr>\n",
       "    <tr>\n",
       "      <th>21</th>\n",
       "      <td>22</td>\n",
       "      <td>65</td>\n",
       "      <td>93</td>\n",
       "    </tr>\n",
       "    <tr>\n",
       "      <th>22</th>\n",
       "      <td>23</td>\n",
       "      <td>61</td>\n",
       "      <td>77</td>\n",
       "    </tr>\n",
       "    <tr>\n",
       "      <th>23</th>\n",
       "      <td>24</td>\n",
       "      <td>52</td>\n",
       "      <td>88</td>\n",
       "    </tr>\n",
       "    <tr>\n",
       "      <th>24</th>\n",
       "      <td>25</td>\n",
       "      <td>57</td>\n",
       "      <td>82</td>\n",
       "    </tr>\n",
       "    <tr>\n",
       "      <th>25</th>\n",
       "      <td>26</td>\n",
       "      <td>57</td>\n",
       "      <td>76</td>\n",
       "    </tr>\n",
       "    <tr>\n",
       "      <th>26</th>\n",
       "      <td>27</td>\n",
       "      <td>75</td>\n",
       "      <td>87</td>\n",
       "    </tr>\n",
       "    <tr>\n",
       "      <th>27</th>\n",
       "      <td>28</td>\n",
       "      <td>61</td>\n",
       "      <td>84</td>\n",
       "    </tr>\n",
       "    <tr>\n",
       "      <th>28</th>\n",
       "      <td>29</td>\n",
       "      <td>47</td>\n",
       "      <td>77</td>\n",
       "    </tr>\n",
       "    <tr>\n",
       "      <th>29</th>\n",
       "      <td>30</td>\n",
       "      <td>54</td>\n",
       "      <td>82</td>\n",
       "    </tr>\n",
       "    <tr>\n",
       "      <th>30</th>\n",
       "      <td>31</td>\n",
       "      <td>66</td>\n",
       "      <td>91</td>\n",
       "    </tr>\n",
       "    <tr>\n",
       "      <th>31</th>\n",
       "      <td>32</td>\n",
       "      <td>54</td>\n",
       "      <td>75</td>\n",
       "    </tr>\n",
       "    <tr>\n",
       "      <th>32</th>\n",
       "      <td>33</td>\n",
       "      <td>54</td>\n",
       "      <td>76</td>\n",
       "    </tr>\n",
       "    <tr>\n",
       "      <th>33</th>\n",
       "      <td>34</td>\n",
       "      <td>42</td>\n",
       "      <td>78</td>\n",
       "    </tr>\n",
       "    <tr>\n",
       "      <th>34</th>\n",
       "      <td>35</td>\n",
       "      <td>37</td>\n",
       "      <td>57</td>\n",
       "    </tr>\n",
       "    <tr>\n",
       "      <th>35</th>\n",
       "      <td>36</td>\n",
       "      <td>79</td>\n",
       "      <td>89</td>\n",
       "    </tr>\n",
       "    <tr>\n",
       "      <th>36</th>\n",
       "      <td>37</td>\n",
       "      <td>56</td>\n",
       "      <td>83</td>\n",
       "    </tr>\n",
       "    <tr>\n",
       "      <th>37</th>\n",
       "      <td>38</td>\n",
       "      <td>62</td>\n",
       "      <td>69</td>\n",
       "    </tr>\n",
       "    <tr>\n",
       "      <th>38</th>\n",
       "      <td>39</td>\n",
       "      <td>62</td>\n",
       "      <td>86</td>\n",
       "    </tr>\n",
       "    <tr>\n",
       "      <th>39</th>\n",
       "      <td>40</td>\n",
       "      <td>55</td>\n",
       "      <td>81</td>\n",
       "    </tr>\n",
       "    <tr>\n",
       "      <th>40</th>\n",
       "      <td>41</td>\n",
       "      <td>63</td>\n",
       "      <td>81</td>\n",
       "    </tr>\n",
       "    <tr>\n",
       "      <th>41</th>\n",
       "      <td>42</td>\n",
       "      <td>57</td>\n",
       "      <td>80</td>\n",
       "    </tr>\n",
       "    <tr>\n",
       "      <th>42</th>\n",
       "      <td>43</td>\n",
       "      <td>57</td>\n",
       "      <td>79</td>\n",
       "    </tr>\n",
       "    <tr>\n",
       "      <th>43</th>\n",
       "      <td>44</td>\n",
       "      <td>67</td>\n",
       "      <td>87</td>\n",
       "    </tr>\n",
       "    <tr>\n",
       "      <th>44</th>\n",
       "      <td>45</td>\n",
       "      <td>55</td>\n",
       "      <td>84</td>\n",
       "    </tr>\n",
       "    <tr>\n",
       "      <th>45</th>\n",
       "      <td>46</td>\n",
       "      <td>45</td>\n",
       "      <td>71</td>\n",
       "    </tr>\n",
       "    <tr>\n",
       "      <th>46</th>\n",
       "      <td>47</td>\n",
       "      <td>66</td>\n",
       "      <td>80</td>\n",
       "    </tr>\n",
       "    <tr>\n",
       "      <th>47</th>\n",
       "      <td>48</td>\n",
       "      <td>55</td>\n",
       "      <td>77</td>\n",
       "    </tr>\n",
       "    <tr>\n",
       "      <th>48</th>\n",
       "      <td>49</td>\n",
       "      <td>64</td>\n",
       "      <td>83</td>\n",
       "    </tr>\n",
       "    <tr>\n",
       "      <th>49</th>\n",
       "      <td>50</td>\n",
       "      <td>66</td>\n",
       "      <td>88</td>\n",
       "    </tr>\n",
       "  </tbody>\n",
       "</table>\n",
       "</div>"
      ],
      "text/plain": [
       "    student number  english  mathematics\n",
       "0                1       42           65\n",
       "1                2       69           80\n",
       "2                3       56           63\n",
       "3                4       41           63\n",
       "4                5       57           76\n",
       "5                6       48           60\n",
       "6                7       65           81\n",
       "7                8       49           66\n",
       "8                9       65           78\n",
       "9               10       58           82\n",
       "10              11       70           94\n",
       "11              12       47           75\n",
       "12              13       51           70\n",
       "13              14       64           77\n",
       "14              15       62           84\n",
       "15              16       70           84\n",
       "16              17       71           82\n",
       "17              18       68           85\n",
       "18              19       73           90\n",
       "19              20       37           70\n",
       "20              21       65           78\n",
       "21              22       65           93\n",
       "22              23       61           77\n",
       "23              24       52           88\n",
       "24              25       57           82\n",
       "25              26       57           76\n",
       "26              27       75           87\n",
       "27              28       61           84\n",
       "28              29       47           77\n",
       "29              30       54           82\n",
       "30              31       66           91\n",
       "31              32       54           75\n",
       "32              33       54           76\n",
       "33              34       42           78\n",
       "34              35       37           57\n",
       "35              36       79           89\n",
       "36              37       56           83\n",
       "37              38       62           69\n",
       "38              39       62           86\n",
       "39              40       55           81\n",
       "40              41       63           81\n",
       "41              42       57           80\n",
       "42              43       57           79\n",
       "43              44       67           87\n",
       "44              45       55           84\n",
       "45              46       45           71\n",
       "46              47       66           80\n",
       "47              48       55           77\n",
       "48              49       64           83\n",
       "49              50       66           88"
      ]
     },
     "execution_count": 4,
     "metadata": {},
     "output_type": "execute_result"
    }
   ],
   "source": [
    "df"
   ]
  },
  {
   "cell_type": "markdown",
   "id": "d80cfb16",
   "metadata": {
    "id": "d80cfb16"
   },
   "source": [
    "### 1차원 데이터에 대한 도수분포표 및 간단한 시각화 정리"
   ]
  },
  {
   "cell_type": "code",
   "execution_count": 5,
   "id": "5f5de1c0",
   "metadata": {
    "id": "5f5de1c0"
   },
   "outputs": [],
   "source": [
    "df_en=df['english']"
   ]
  },
  {
   "cell_type": "markdown",
   "id": "24660902",
   "metadata": {
    "id": "24660902"
   },
   "source": [
    "### 도수분포표, 히스토그램"
   ]
  },
  {
   "cell_type": "markdown",
   "id": "43534532",
   "metadata": {
    "id": "43534532"
   },
   "source": [
    "- frequency distribution\n",
    "- 데이터에 대해서 구간을 나누고 ( 정할 수 있다. ) 각 구간에 데이터가 몇 개 있는지 카운팅\n",
    "- 성적이라고 한다면 성적에 대한 구간, 0~10, 10~20 .... 90~100 / 원하는 구간을 나눌 수 있다.\n",
    "- 0~10 구간을 만들면 구간이 계급, class 학생 수 frequency 각 구간의 폭 (0~10점 10점의 폭)"
   ]
  },
  {
   "cell_type": "code",
   "execution_count": 6,
   "id": "4de61b08",
   "metadata": {
    "id": "4de61b08"
   },
   "outputs": [],
   "source": [
    "freq, _ = np.histogram(df_en, bins=10, range=(0,100)) #numpy의 histogram 함수를 사용하여 데이터프레임 df_en의 빈도수(frequency)를 계산. 데이터를 10개의 구간(bins)으로 나누고 범위(range)는 0부터 100까지로 설정. 계산된 빈도수는 freq에 저장되며, 두 번째 변수 _는 사용하지 않음."
   ]
  },
  {
   "cell_type": "code",
   "execution_count": 7,
   "id": "4e159004",
   "metadata": {
    "id": "4e159004",
    "outputId": "a05c1da3-1a80-462a-d7b0-8cafd206ed1e"
   },
   "outputs": [
    {
     "data": {
      "text/plain": [
       "array([ 0,  0,  0,  2,  8, 16, 18,  6,  0,  0], dtype=int64)"
      ]
     },
     "execution_count": 7,
     "metadata": {},
     "output_type": "execute_result"
    }
   ],
   "source": [
    "freq #학생 수"
   ]
  },
  {
   "cell_type": "code",
   "execution_count": 8,
   "id": "e02e2f39",
   "metadata": {
    "id": "e02e2f39",
    "outputId": "689edc5e-240e-450b-91e3-aed9a8155985"
   },
   "outputs": [
    {
     "data": {
      "text/plain": [
       "array([  0.,  10.,  20.,  30.,  40.,  50.,  60.,  70.,  80.,  90., 100.])"
      ]
     },
     "execution_count": 8,
     "metadata": {},
     "output_type": "execute_result"
    }
   ],
   "source": [
    "_ # 범위 계급"
   ]
  },
  {
   "cell_type": "code",
   "execution_count": 9,
   "id": "a51dd20d",
   "metadata": {
    "id": "a51dd20d"
   },
   "outputs": [],
   "source": [
    "# 데이터프레임으로 만들기\n",
    "freq_class = [f'{i}-{i+10}' for i in range(0,100,10)] #구간별 빈도수를 나타내는 클래스(class) 레이블을 생성.'시작값-끝값' 형태의 문자열로 표현하여 freq_class 리스트에 저장\n",
    "# 데이터프레임 만들기\n",
    "freq_df = pd.DataFrame({'frequency':freq},\n",
    "                      index = pd.Index(freq_class,name='class'))"
   ]
  },
  {
   "cell_type": "code",
   "execution_count": 10,
   "id": "020fecc8",
   "metadata": {
    "id": "020fecc8",
    "outputId": "c65f9330-bc9e-414b-a50a-4bea9ca9a5b7"
   },
   "outputs": [
    {
     "data": {
      "text/html": [
       "<div>\n",
       "<style scoped>\n",
       "    .dataframe tbody tr th:only-of-type {\n",
       "        vertical-align: middle;\n",
       "    }\n",
       "\n",
       "    .dataframe tbody tr th {\n",
       "        vertical-align: top;\n",
       "    }\n",
       "\n",
       "    .dataframe thead th {\n",
       "        text-align: right;\n",
       "    }\n",
       "</style>\n",
       "<table border=\"1\" class=\"dataframe\">\n",
       "  <thead>\n",
       "    <tr style=\"text-align: right;\">\n",
       "      <th></th>\n",
       "      <th>frequency</th>\n",
       "    </tr>\n",
       "    <tr>\n",
       "      <th>class</th>\n",
       "      <th></th>\n",
       "    </tr>\n",
       "  </thead>\n",
       "  <tbody>\n",
       "    <tr>\n",
       "      <th>0-10</th>\n",
       "      <td>0</td>\n",
       "    </tr>\n",
       "    <tr>\n",
       "      <th>10-20</th>\n",
       "      <td>0</td>\n",
       "    </tr>\n",
       "    <tr>\n",
       "      <th>20-30</th>\n",
       "      <td>0</td>\n",
       "    </tr>\n",
       "    <tr>\n",
       "      <th>30-40</th>\n",
       "      <td>2</td>\n",
       "    </tr>\n",
       "    <tr>\n",
       "      <th>40-50</th>\n",
       "      <td>8</td>\n",
       "    </tr>\n",
       "    <tr>\n",
       "      <th>50-60</th>\n",
       "      <td>16</td>\n",
       "    </tr>\n",
       "    <tr>\n",
       "      <th>60-70</th>\n",
       "      <td>18</td>\n",
       "    </tr>\n",
       "    <tr>\n",
       "      <th>70-80</th>\n",
       "      <td>6</td>\n",
       "    </tr>\n",
       "    <tr>\n",
       "      <th>80-90</th>\n",
       "      <td>0</td>\n",
       "    </tr>\n",
       "    <tr>\n",
       "      <th>90-100</th>\n",
       "      <td>0</td>\n",
       "    </tr>\n",
       "  </tbody>\n",
       "</table>\n",
       "</div>"
      ],
      "text/plain": [
       "        frequency\n",
       "class            \n",
       "0-10            0\n",
       "10-20           0\n",
       "20-30           0\n",
       "30-40           2\n",
       "40-50           8\n",
       "50-60          16\n",
       "60-70          18\n",
       "70-80           6\n",
       "80-90           0\n",
       "90-100          0"
      ]
     },
     "execution_count": 10,
     "metadata": {},
     "output_type": "execute_result"
    }
   ],
   "source": [
    "freq_df"
   ]
  },
  {
   "cell_type": "markdown",
   "id": "e85c863a",
   "metadata": {
    "id": "e85c863a"
   },
   "source": [
    "- 이런한 구간을 단순하게 도수분포표로 생각할 수 있지만, 새로운 파생변수를 만드는 경우도 도움이 될 수 있다.\n",
    "- 어떤 학생에 대한 변수를 만들 때, 높은 친구들에 대해서는 어떤 새로운 파생변수도 만들 수 있다."
   ]
  },
  {
   "cell_type": "markdown",
   "id": "4c8a5b4d",
   "metadata": {
    "id": "4c8a5b4d"
   },
   "source": [
    "- 히스토그램\n",
    "- 도수분포표의 막대그래프\n",
    "- 히스토그램 데이터의 분포를 볼 때 사용, 데이터 분석에서 필수적으로 데이터의 분포를 파악할 때 한 번은 꼭 사용한다.\n",
    "- matplot"
   ]
  },
  {
   "cell_type": "code",
   "execution_count": 11,
   "id": "a38b77e3",
   "metadata": {
    "id": "a38b77e3"
   },
   "outputs": [],
   "source": [
    "import matplotlib.pyplot as plt"
   ]
  },
  {
   "cell_type": "code",
   "execution_count": 12,
   "id": "a691d911",
   "metadata": {
    "id": "a691d911",
    "outputId": "62efb6b1-13fb-492f-b1ed-242b477d72bc"
   },
   "outputs": [
    {
     "data": {
      "text/plain": [
       "Text(0, 0.5, 'students')"
      ]
     },
     "execution_count": 12,
     "metadata": {},
     "output_type": "execute_result"
    },
    {
     "data": {
      "image/png": "[encoded data removed]",
      "text/plain": [
       "<Figure size 1000x700 with 1 Axes>"
      ]
     },
     "metadata": {},
     "output_type": "display_data"
    }
   ],
   "source": [
    "fig = plt.figure(figsize=(10,7)) #도화지 그리기\n",
    "\n",
    "ax = fig.add_subplot(111) # 1x1 그리드의 첫 번째 subplot\n",
    "freq, _ ,_ = ax.hist(df['english'], bins=10, range=(0,100)) #데이터를 10개의 구간(bins)으로 나누고, 범위(range)는 0부터 100까지로 설정,계산된 빈도수는 freq에 저장\n",
    "ax.set_xlabel('score')#x축 이름\n",
    "ax.set_ylabel('students')#y축 이름\n"
   ]
  },
  {
   "cell_type": "code",
   "execution_count": null,
   "id": "a2b42ab1",
   "metadata": {
    "id": "a2b42ab1",
    "outputId": "9395f9e5-c2d6-41ed-d9b1-3dea3d5b9230"
   },
   "outputs": [
    {
     "data": {
      "text/plain": [
       "Text(0, 0.5, 'students')"
      ]
     },
     "execution_count": 20,
     "metadata": {},
     "output_type": "execute_result"
    },
    {
     "data": {
      "image/png": "[encoded data removed]",
      "text/plain": [
       "<Figure size 1000x700 with 1 Axes>"
      ]
     },
     "metadata": {},
     "output_type": "display_data"
    }
   ],
   "source": [
    "fig = plt.figure(figsize=(10,7)) #도화지 그리기\n",
    "\n",
    "ax = fig.add_subplot(111)\n",
    "freq, _ ,_ = ax.hist(df['english'], bins=20, range=(0,100))\n",
    "ax.set_xlabel('score')\n",
    "ax.set_ylabel('students')"
   ]
  },
  {
   "cell_type": "markdown",
   "id": "34d44e63",
   "metadata": {
    "id": "34d44e63"
   },
   "source": [
    "## boxplot\n",
    "\n",
    "- 데이터의 이상치를 판단할 수 있다.\n",
    "- IQR의 범위"
   ]
  },
  {
   "cell_type": "code",
   "execution_count": null,
   "id": "07fb37bb",
   "metadata": {
    "id": "07fb37bb",
    "outputId": "b75767f9-2a8c-41e6-cbb3-eb062575cd4f"
   },
   "outputs": [
    {
     "data": {
      "text/plain": [
       "{'whiskers': [<matplotlib.lines.Line2D at 0x7fd7d9b40b50>,\n",
       "  <matplotlib.lines.Line2D at 0x7fd7d9b40df0>],\n",
       " 'caps': [<matplotlib.lines.Line2D at 0x7fd7d9d640d0>,\n",
       "  <matplotlib.lines.Line2D at 0x7fd7d9d64370>],\n",
       " 'boxes': [<matplotlib.lines.Line2D at 0x7fd7d9b408b0>],\n",
       " 'medians': [<matplotlib.lines.Line2D at 0x7fd7d9d64610>],\n",
       " 'fliers': [<matplotlib.lines.Line2D at 0x7fd7d9d648b0>],\n",
       " 'means': []}"
      ]
     },
     "execution_count": 21,
     "metadata": {},
     "output_type": "execute_result"
    },
    {
     "data": {
      "image/png": "[encoded data removed]",
      "text/plain": [
       "<Figure size 700x800 with 1 Axes>"
      ]
     },
     "metadata": {},
     "output_type": "display_data"
    }
   ],
   "source": [
    "fig =plt.figure(figsize=(7,8)) #도화지 그리기\n",
    "ax = fig.add_subplot(111) # 1x1 그리드의 첫 번째 subplot\n",
    "ax.boxplot(df['english'], labels=['english']) #boxplot그리고 축 이름은 english"
   ]
  },
  {
   "cell_type": "markdown",
   "id": "c1b5bd04",
   "metadata": {
    "id": "c1b5bd04"
   },
   "source": [
    "- IQR봐서 이상치나오면 그거 다 제거하고 분석하면 되지?\n",
    "- 정말 위험한 발상입니다. 통계적으로 이상치를 보여주는 것이지, 도메인 기반으로 이상치를 보여주는 건 아니다.\n",
    "- 따라서 분석가는 이상치에 대한 판단을 할 순 있지만 단순 IQR, boxplot을 이용한 시각화로 이상치를 제거하려는 것은 안 됩니다."
   ]
  },
  {
   "cell_type": "markdown",
   "id": "0611cf40",
   "metadata": {
    "id": "0611cf40"
   },
   "source": [
    "# 2차원 데이터를 확인"
   ]
  },
  {
   "cell_type": "code",
   "execution_count": null,
   "id": "d111577b",
   "metadata": {
    "id": "d111577b"
   },
   "outputs": [],
   "source": [
    "en_score = np.array(df['english'][:10])\n",
    "mt_score = np.array(df['mathematics'][:10])\n",
    "\n",
    "\n",
    "#데이터프레임 다시 만들기\n",
    "st_df = pd.DataFrame({'eng':en_score,\n",
    "                     'math':mt_score},\n",
    "                    index=pd.Index(['A','B','C','D','E','F','G','H','I','J'],name='student'))"
   ]
  },
  {
   "cell_type": "code",
   "execution_count": null,
   "id": "7c662de7",
   "metadata": {
    "id": "7c662de7",
    "outputId": "3b90e1d6-6521-493a-cd03-6e2b98ecf75d"
   },
   "outputs": [
    {
     "data": {
      "text/html": [
       "<div>\n",
       "<style scoped>\n",
       "    .dataframe tbody tr th:only-of-type {\n",
       "        vertical-align: middle;\n",
       "    }\n",
       "\n",
       "    .dataframe tbody tr th {\n",
       "        vertical-align: top;\n",
       "    }\n",
       "\n",
       "    .dataframe thead th {\n",
       "        text-align: right;\n",
       "    }\n",
       "</style>\n",
       "<table border=\"1\" class=\"dataframe\">\n",
       "  <thead>\n",
       "    <tr style=\"text-align: right;\">\n",
       "      <th></th>\n",
       "      <th>eng</th>\n",
       "      <th>math</th>\n",
       "    </tr>\n",
       "    <tr>\n",
       "      <th>student</th>\n",
       "      <th></th>\n",
       "      <th></th>\n",
       "    </tr>\n",
       "  </thead>\n",
       "  <tbody>\n",
       "    <tr>\n",
       "      <th>A</th>\n",
       "      <td>42</td>\n",
       "      <td>65</td>\n",
       "    </tr>\n",
       "    <tr>\n",
       "      <th>B</th>\n",
       "      <td>69</td>\n",
       "      <td>80</td>\n",
       "    </tr>\n",
       "    <tr>\n",
       "      <th>C</th>\n",
       "      <td>56</td>\n",
       "      <td>63</td>\n",
       "    </tr>\n",
       "    <tr>\n",
       "      <th>D</th>\n",
       "      <td>41</td>\n",
       "      <td>63</td>\n",
       "    </tr>\n",
       "    <tr>\n",
       "      <th>E</th>\n",
       "      <td>57</td>\n",
       "      <td>76</td>\n",
       "    </tr>\n",
       "    <tr>\n",
       "      <th>F</th>\n",
       "      <td>48</td>\n",
       "      <td>60</td>\n",
       "    </tr>\n",
       "    <tr>\n",
       "      <th>G</th>\n",
       "      <td>65</td>\n",
       "      <td>81</td>\n",
       "    </tr>\n",
       "    <tr>\n",
       "      <th>H</th>\n",
       "      <td>49</td>\n",
       "      <td>66</td>\n",
       "    </tr>\n",
       "    <tr>\n",
       "      <th>I</th>\n",
       "      <td>65</td>\n",
       "      <td>78</td>\n",
       "    </tr>\n",
       "    <tr>\n",
       "      <th>J</th>\n",
       "      <td>58</td>\n",
       "      <td>82</td>\n",
       "    </tr>\n",
       "  </tbody>\n",
       "</table>\n",
       "</div>"
      ],
      "text/plain": [
       "         eng  math\n",
       "student           \n",
       "A         42    65\n",
       "B         69    80\n",
       "C         56    63\n",
       "D         41    63\n",
       "E         57    76\n",
       "F         48    60\n",
       "G         65    81\n",
       "H         49    66\n",
       "I         65    78\n",
       "J         58    82"
      ]
     },
     "execution_count": 27,
     "metadata": {},
     "output_type": "execute_result"
    }
   ],
   "source": [
    "st_df"
   ]
  },
  {
   "cell_type": "markdown",
   "id": "fe821305",
   "metadata": {
    "id": "fe821305"
   },
   "source": [
    "- 1차원과 비교했을 때 2차원을 비교한다는 것은\n",
    "- 결국 두 개의 컬럼을 사용한다는 것이고, 대부분 두 개의 컬럼을 사용한다는 것은 두 개의 컬럼에 대한 데이터의 분포 또는 영향도를 확인할 수 있다.\n",
    "- 1차원인 경우는 카운팅의 개념으로 분포를 확인했다면, 2차원은 두 개의 데이터이기 때문에 확인할 수 있는 것이 더 많다.\n",
    "- 상관계수, 공분산 두 변수간의 관계를 확인하게 되는 것\n",
    "\n",
    "- 영어점수가 높으면 수학점수도 높다?\n",
    "- 영어점수가 높으면 수학점수는 낮다?\n",
    "- 두 데이터에 대한 관계를 살펴볼 수 있다.\n",
    "\n",
    "- 상관성에 대해서 확인을 하고, 양의 상관, 음의 상관이다"
   ]
  },
  {
   "cell_type": "markdown",
   "id": "f9103957",
   "metadata": {
    "id": "f9103957"
   },
   "source": [
    "# 공분산\n",
    "\n",
    "- 두 데이터에 대한 분포를 보고나서\n",
    "- 두 데이터가 어떤 상관성이 있는지 보는데\n",
    "- 공분산은 결국 면적의 개념이다.\n",
    "- 영어점수와 수학점수에 대한 평균을 기반 선을 가지고 데이터 대한 비교를 해본다 하면\n",
    "- 공분산이 양의 값이면 면적이 양의 값이라는 것이고\n",
    "- 공분산이 음의 값이면 면적이 음의 값이라는 것"
   ]
  },
  {
   "cell_type": "code",
   "execution_count": null,
   "id": "0a912c63",
   "metadata": {
    "id": "0a912c63",
    "outputId": "a3b8af3a-8ae9-46ad-8612-4a3d9dd14278"
   },
   "outputs": [
    {
     "data": {
      "text/plain": [
       "58.38"
      ]
     },
     "execution_count": 33,
     "metadata": {},
     "output_type": "execute_result"
    }
   ],
   "source": [
    "(df['english'].mean()) #영어평균"
   ]
  },
  {
   "cell_type": "code",
   "execution_count": null,
   "id": "287f0492",
   "metadata": {
    "id": "287f0492",
    "outputId": "229eb01a-208a-4b9d-d020-640a1f9f53dd"
   },
   "outputs": [
    {
     "data": {
      "text/plain": [
       "78.88"
      ]
     },
     "execution_count": 34,
     "metadata": {},
     "output_type": "execute_result"
    }
   ],
   "source": [
    "(df['mathematics'].mean()) #수학평균"
   ]
  },
  {
   "cell_type": "code",
   "execution_count": null,
   "id": "00e604de",
   "metadata": {
    "id": "00e604de",
    "outputId": "a37fe11b-d522-4bc0-fbb5-23884c00290d"
   },
   "outputs": [
    {
     "data": {
      "text/plain": [
       "Text(0, 0.5, 'math')"
      ]
     },
     "execution_count": 31,
     "metadata": {},
     "output_type": "execute_result"
    },
    {
     "data": {
      "image/png": "[encoded data removed]",
      "text/plain": [
       "<Figure size 640x480 with 1 Axes>"
      ]
     },
     "metadata": {},
     "output_type": "display_data"
    }
   ],
   "source": [
    "plt.scatter(df['english'],df['mathematics'], c='red') #산포도 그리기\n",
    "plt.xlabel('eng') #x축이름\n",
    "plt.ylabel('math') #y축 이름"
   ]
  },
  {
   "cell_type": "code",
   "execution_count": null,
   "id": "c384afb1",
   "metadata": {
    "id": "c384afb1",
    "outputId": "39e69041-21ec-4c3d-85db-8baeb024fe79"
   },
   "outputs": [
    {
     "data": {
      "text/plain": [
       "Text(0, 0.5, 'math')"
      ]
     },
     "execution_count": 29,
     "metadata": {},
     "output_type": "execute_result"
    },
    {
     "data": {
      "image/png": "[encoded data removed]",
      "text/plain": [
       "<Figure size 640x480 with 1 Axes>"
      ]
     },
     "metadata": {},
     "output_type": "display_data"
    }
   ],
   "source": [
    "plt.scatter(st_df['eng'],st_df['math'], c='red')\n",
    "plt.xlabel('eng')\n",
    "plt.ylabel('math')"
   ]
  },
  {
   "cell_type": "code",
   "execution_count": null,
   "id": "1a89cf78",
   "metadata": {
    "id": "1a89cf78"
   },
   "outputs": [],
   "source": [
    "st_df_new=st_df.copy()\n"
   ]
  },
  {
   "cell_type": "code",
   "execution_count": null,
   "id": "fbbaf9a5",
   "metadata": {
    "id": "fbbaf9a5"
   },
   "outputs": [],
   "source": [
    "st_df_new['eng_dev'] = st_df_new['eng'] - st_df_new['eng'].mean() #영어과목 편차 구하기\n",
    "st_df_new['math_dev'] = st_df_new['math'] - st_df_new['math'].mean() #수학과목 편차 구하기\n",
    "\n",
    "#공분산이라는 건 면적의\n",
    "st_df_new['cov'] = st_df_new['eng_dev']*st_df_new['math_dev'] #각각의 편차의 곱"
   ]
  },
  {
   "cell_type": "code",
   "execution_count": null,
   "id": "bfc07f3a",
   "metadata": {
    "id": "bfc07f3a",
    "outputId": "68f66b71-3bb9-4edc-9fb3-289acbc31cb6"
   },
   "outputs": [
    {
     "data": {
      "text/plain": [
       "eng         5.500000e+01\n",
       "math        7.140000e+01\n",
       "eng_dev     0.000000e+00\n",
       "math_dev   -5.684342e-15\n",
       "cov         6.280000e+01\n",
       "dtype: float64"
      ]
     },
     "execution_count": 43,
     "metadata": {},
     "output_type": "execute_result"
    }
   ],
   "source": [
    "st_df_new.mean() #전체적으로 양의 값나왔다."
   ]
  },
  {
   "cell_type": "markdown",
   "id": "e5590ee3",
   "metadata": {
    "id": "e5590ee3"
   },
   "source": [
    "- 넘파이로 아주 쉽게 공분산을 구할 수 있다."
   ]
  },
  {
   "cell_type": "code",
   "execution_count": null,
   "id": "b2a2e443",
   "metadata": {
    "id": "b2a2e443"
   },
   "outputs": [],
   "source": [
    "cov_mat = np.cov(st_df_new['eng'],st_df_new['math'],ddof=0)"
   ]
  },
  {
   "cell_type": "code",
   "execution_count": null,
   "id": "4da44b3d",
   "metadata": {
    "id": "4da44b3d",
    "outputId": "1f42864f-5fe4-44f6-dcc1-426844e80954"
   },
   "outputs": [
    {
     "data": {
      "text/plain": [
       "array([[86.  , 62.8 ],\n",
       "       [62.8 , 68.44]])"
      ]
     },
     "execution_count": 45,
     "metadata": {},
     "output_type": "execute_result"
    }
   ],
   "source": [
    "cov_mat"
   ]
  },
  {
   "cell_type": "markdown",
   "id": "579f642c",
   "metadata": {
    "id": "579f642c"
   },
   "source": [
    "        - 영어, 수학\n",
    "- 영어     86   62.8\n",
    "- 수학     62.8 68.44"
   ]
  },
  {
   "cell_type": "markdown",
   "id": "9b41ef2a",
   "metadata": {
    "id": "9b41ef2a"
   },
   "source": [
    "## 상관계수로 본다.\n",
    "- 상관계수로 변수에 대한 상관성을 체크한다.\n",
    "- 상관계수로 보는 이유?\n",
    "- 수학, 영어라는 동일한 변수에 대해서 공분산을 체크한 것\n",
    "- 영어점수와 통장잔고 완전 다른 개념이다. 이 두개를 같이 비교하면, 영어점수가 90, 통장잔고는 1,000원 작다\n",
    "- 단위가 달라지니 공분산을 계산해도 이해하기 어려운 경우\n",
    "- 단위에 의존하지 않고 상관으 나타내는 지표를 만드는 것이 상관계수\n",
    "- 상관계수는 -1 ~ +1 범위에 존재하는데 -에 가까우면 음의 상관관계, +1에 가까우면 양의 상관관계, 0이면 무상관\u0010"
   ]
  },
  {
   "cell_type": "code",
   "execution_count": null,
   "id": "5aca6e3e",
   "metadata": {
    "id": "5aca6e3e"
   },
   "outputs": [],
   "source": [
    "import seaborn as sns"
   ]
  },
  {
   "cell_type": "code",
   "execution_count": null,
   "id": "c9553dc4",
   "metadata": {
    "id": "c9553dc4",
    "outputId": "8d944bbe-a211-446e-f689-efbaf7b51389"
   },
   "outputs": [
    {
     "data": {
      "text/plain": [
       "<seaborn.axisgrid.PairGrid at 0x7fd7bbe0bca0>"
      ]
     },
     "execution_count": 47,
     "metadata": {},
     "output_type": "execute_result"
    },
    {
     "data": {
      "image/png": "[encoded data removed]",
      "text/plain": [
       "<Figure size 1250x1250 with 30 Axes>"
      ]
     },
     "metadata": {},
     "output_type": "display_data"
    }
   ],
   "source": [
    "sns.pairplot(st_df_new)"
   ]
  },
  {
   "cell_type": "markdown",
   "id": "0113eba0",
   "metadata": {
    "id": "0113eba0"
   },
   "source": [
    "- 상관계수를 구하기 전에 필수적으로 데이터의 시각화를 진행하여 데이터의 분포, 경향성을 확인해야 한다!"
   ]
  },
  {
   "cell_type": "code",
   "execution_count": null,
   "id": "88c76b03",
   "metadata": {
    "id": "88c76b03",
    "outputId": "04666a98-3e82-47f9-f24d-8019a3a0f195"
   },
   "outputs": [
    {
     "data": {
      "text/plain": [
       "0.8185692341186714"
      ]
     },
     "execution_count": 49,
     "metadata": {},
     "output_type": "execute_result"
    }
   ],
   "source": [
    "# 영어, 수학 상관계수 구하기\n",
    "np.cov(st_df_new['eng'], st_df_new['math'],ddof=0)[0,1]/(np.std(st_df_new['eng']*np.std(st_df_new['math'])))"
   ]
  },
  {
   "cell_type": "code",
   "execution_count": null,
   "id": "a4dbe2cc",
   "metadata": {
    "id": "a4dbe2cc",
    "outputId": "2d1f948b-a32b-4b9a-ee92-899793fb1458"
   },
   "outputs": [
    {
     "data": {
      "text/plain": [
       "array([[1.        , 0.81856923],\n",
       "       [0.81856923, 1.        ]])"
      ]
     },
     "execution_count": 51,
     "metadata": {},
     "output_type": "execute_result"
    }
   ],
   "source": [
    "## 넘파이로 쉽게 구할 수 있따\n",
    "np.corrcoef(st_df_new['eng'],st_df_new['math'])"
   ]
  },
  {
   "cell_type": "code",
   "execution_count": null,
   "id": "805253e6",
   "metadata": {
    "id": "805253e6",
    "outputId": "3d84e138-9c8b-4794-8c2c-05d8ee10f60f"
   },
   "outputs": [
    {
     "data": {
      "text/html": [
       "<div>\n",
       "<style scoped>\n",
       "    .dataframe tbody tr th:only-of-type {\n",
       "        vertical-align: middle;\n",
       "    }\n",
       "\n",
       "    .dataframe tbody tr th {\n",
       "        vertical-align: top;\n",
       "    }\n",
       "\n",
       "    .dataframe thead th {\n",
       "        text-align: right;\n",
       "    }\n",
       "</style>\n",
       "<table border=\"1\" class=\"dataframe\">\n",
       "  <thead>\n",
       "    <tr style=\"text-align: right;\">\n",
       "      <th></th>\n",
       "      <th>eng</th>\n",
       "      <th>math</th>\n",
       "      <th>eng_dev</th>\n",
       "      <th>math_dev</th>\n",
       "      <th>cov</th>\n",
       "    </tr>\n",
       "  </thead>\n",
       "  <tbody>\n",
       "    <tr>\n",
       "      <th>eng</th>\n",
       "      <td>1.000000</td>\n",
       "      <td>0.818569</td>\n",
       "      <td>1.000000</td>\n",
       "      <td>0.818569</td>\n",
       "      <td>-0.017808</td>\n",
       "    </tr>\n",
       "    <tr>\n",
       "      <th>math</th>\n",
       "      <td>0.818569</td>\n",
       "      <td>1.000000</td>\n",
       "      <td>0.818569</td>\n",
       "      <td>1.000000</td>\n",
       "      <td>0.067759</td>\n",
       "    </tr>\n",
       "    <tr>\n",
       "      <th>eng_dev</th>\n",
       "      <td>1.000000</td>\n",
       "      <td>0.818569</td>\n",
       "      <td>1.000000</td>\n",
       "      <td>0.818569</td>\n",
       "      <td>-0.017808</td>\n",
       "    </tr>\n",
       "    <tr>\n",
       "      <th>math_dev</th>\n",
       "      <td>0.818569</td>\n",
       "      <td>1.000000</td>\n",
       "      <td>0.818569</td>\n",
       "      <td>1.000000</td>\n",
       "      <td>0.067759</td>\n",
       "    </tr>\n",
       "    <tr>\n",
       "      <th>cov</th>\n",
       "      <td>-0.017808</td>\n",
       "      <td>0.067759</td>\n",
       "      <td>-0.017808</td>\n",
       "      <td>0.067759</td>\n",
       "      <td>1.000000</td>\n",
       "    </tr>\n",
       "  </tbody>\n",
       "</table>\n",
       "</div>"
      ],
      "text/plain": [
       "               eng      math   eng_dev  math_dev       cov\n",
       "eng       1.000000  0.818569  1.000000  0.818569 -0.017808\n",
       "math      0.818569  1.000000  0.818569  1.000000  0.067759\n",
       "eng_dev   1.000000  0.818569  1.000000  0.818569 -0.017808\n",
       "math_dev  0.818569  1.000000  0.818569  1.000000  0.067759\n",
       "cov      -0.017808  0.067759 -0.017808  0.067759  1.000000"
      ]
     },
     "execution_count": 53,
     "metadata": {},
     "output_type": "execute_result"
    }
   ],
   "source": [
    "#데이터프레임으로 상관계수 만들기\n",
    "st_df_new.corr()"
   ]
  },
  {
   "cell_type": "code",
   "execution_count": null,
   "id": "2ee1b6d1",
   "metadata": {
    "id": "2ee1b6d1",
    "outputId": "f084f3b5-afcd-4fe5-e4d3-b04b01bbb04e"
   },
   "outputs": [
    {
     "data": {
      "text/html": [
       "<div>\n",
       "<style scoped>\n",
       "    .dataframe tbody tr th:only-of-type {\n",
       "        vertical-align: middle;\n",
       "    }\n",
       "\n",
       "    .dataframe tbody tr th {\n",
       "        vertical-align: top;\n",
       "    }\n",
       "\n",
       "    .dataframe thead th {\n",
       "        text-align: right;\n",
       "    }\n",
       "</style>\n",
       "<table border=\"1\" class=\"dataframe\">\n",
       "  <thead>\n",
       "    <tr style=\"text-align: right;\">\n",
       "      <th></th>\n",
       "      <th>student number</th>\n",
       "      <th>english</th>\n",
       "      <th>mathematics</th>\n",
       "    </tr>\n",
       "  </thead>\n",
       "  <tbody>\n",
       "    <tr>\n",
       "      <th>student number</th>\n",
       "      <td>1.000000</td>\n",
       "      <td>0.071501</td>\n",
       "      <td>0.289502</td>\n",
       "    </tr>\n",
       "    <tr>\n",
       "      <th>english</th>\n",
       "      <td>0.071501</td>\n",
       "      <td>1.000000</td>\n",
       "      <td>0.723741</td>\n",
       "    </tr>\n",
       "    <tr>\n",
       "      <th>mathematics</th>\n",
       "      <td>0.289502</td>\n",
       "      <td>0.723741</td>\n",
       "      <td>1.000000</td>\n",
       "    </tr>\n",
       "  </tbody>\n",
       "</table>\n",
       "</div>"
      ],
      "text/plain": [
       "                student number   english  mathematics\n",
       "student number        1.000000  0.071501     0.289502\n",
       "english               0.071501  1.000000     0.723741\n",
       "mathematics           0.289502  0.723741     1.000000"
      ]
     },
     "execution_count": 55,
     "metadata": {},
     "output_type": "execute_result"
    }
   ],
   "source": [
    "#데이터프레임으로 상관계수 만들기\n",
    "df.corr() #0.72 차이"
   ]
  },
  {
   "cell_type": "code",
   "execution_count": null,
   "id": "1c7a68e0",
   "metadata": {
    "id": "1c7a68e0",
    "outputId": "89ca0054-8bde-4314-b762-7f2d4859e383"
   },
   "outputs": [
    {
     "data": {
      "text/html": [
       "<div>\n",
       "<style scoped>\n",
       "    .dataframe tbody tr th:only-of-type {\n",
       "        vertical-align: middle;\n",
       "    }\n",
       "\n",
       "    .dataframe tbody tr th {\n",
       "        vertical-align: top;\n",
       "    }\n",
       "\n",
       "    .dataframe thead th {\n",
       "        text-align: right;\n",
       "    }\n",
       "</style>\n",
       "<table border=\"1\" class=\"dataframe\">\n",
       "  <thead>\n",
       "    <tr style=\"text-align: right;\">\n",
       "      <th></th>\n",
       "      <th>eng</th>\n",
       "      <th>math</th>\n",
       "      <th>eng_dev</th>\n",
       "      <th>math_dev</th>\n",
       "      <th>cov</th>\n",
       "    </tr>\n",
       "    <tr>\n",
       "      <th>student</th>\n",
       "      <th></th>\n",
       "      <th></th>\n",
       "      <th></th>\n",
       "      <th></th>\n",
       "      <th></th>\n",
       "    </tr>\n",
       "  </thead>\n",
       "  <tbody>\n",
       "    <tr>\n",
       "      <th>A</th>\n",
       "      <td>42</td>\n",
       "      <td>65</td>\n",
       "      <td>-13.0</td>\n",
       "      <td>-6.4</td>\n",
       "      <td>83.2</td>\n",
       "    </tr>\n",
       "    <tr>\n",
       "      <th>B</th>\n",
       "      <td>69</td>\n",
       "      <td>80</td>\n",
       "      <td>14.0</td>\n",
       "      <td>8.6</td>\n",
       "      <td>120.4</td>\n",
       "    </tr>\n",
       "    <tr>\n",
       "      <th>C</th>\n",
       "      <td>56</td>\n",
       "      <td>63</td>\n",
       "      <td>1.0</td>\n",
       "      <td>-8.4</td>\n",
       "      <td>-8.4</td>\n",
       "    </tr>\n",
       "    <tr>\n",
       "      <th>D</th>\n",
       "      <td>41</td>\n",
       "      <td>63</td>\n",
       "      <td>-14.0</td>\n",
       "      <td>-8.4</td>\n",
       "      <td>117.6</td>\n",
       "    </tr>\n",
       "    <tr>\n",
       "      <th>E</th>\n",
       "      <td>57</td>\n",
       "      <td>76</td>\n",
       "      <td>2.0</td>\n",
       "      <td>4.6</td>\n",
       "      <td>9.2</td>\n",
       "    </tr>\n",
       "    <tr>\n",
       "      <th>F</th>\n",
       "      <td>48</td>\n",
       "      <td>60</td>\n",
       "      <td>-7.0</td>\n",
       "      <td>-11.4</td>\n",
       "      <td>79.8</td>\n",
       "    </tr>\n",
       "    <tr>\n",
       "      <th>G</th>\n",
       "      <td>65</td>\n",
       "      <td>81</td>\n",
       "      <td>10.0</td>\n",
       "      <td>9.6</td>\n",
       "      <td>96.0</td>\n",
       "    </tr>\n",
       "    <tr>\n",
       "      <th>H</th>\n",
       "      <td>49</td>\n",
       "      <td>66</td>\n",
       "      <td>-6.0</td>\n",
       "      <td>-5.4</td>\n",
       "      <td>32.4</td>\n",
       "    </tr>\n",
       "    <tr>\n",
       "      <th>I</th>\n",
       "      <td>65</td>\n",
       "      <td>78</td>\n",
       "      <td>10.0</td>\n",
       "      <td>6.6</td>\n",
       "      <td>66.0</td>\n",
       "    </tr>\n",
       "    <tr>\n",
       "      <th>J</th>\n",
       "      <td>58</td>\n",
       "      <td>82</td>\n",
       "      <td>3.0</td>\n",
       "      <td>10.6</td>\n",
       "      <td>31.8</td>\n",
       "    </tr>\n",
       "  </tbody>\n",
       "</table>\n",
       "</div>"
      ],
      "text/plain": [
       "         eng  math  eng_dev  math_dev    cov\n",
       "student                                     \n",
       "A         42    65    -13.0      -6.4   83.2\n",
       "B         69    80     14.0       8.6  120.4\n",
       "C         56    63      1.0      -8.4   -8.4\n",
       "D         41    63    -14.0      -8.4  117.6\n",
       "E         57    76      2.0       4.6    9.2\n",
       "F         48    60     -7.0     -11.4   79.8\n",
       "G         65    81     10.0       9.6   96.0\n",
       "H         49    66     -6.0      -5.4   32.4\n",
       "I         65    78     10.0       6.6   66.0\n",
       "J         58    82      3.0      10.6   31.8"
      ]
     },
     "execution_count": 56,
     "metadata": {},
     "output_type": "execute_result"
    }
   ],
   "source": [
    "st_df_new"
   ]
  },
  {
   "cell_type": "code",
   "execution_count": null,
   "id": "fadb23d6",
   "metadata": {
    "id": "fadb23d6",
    "outputId": "212d93d0-c580-4bc3-dddb-2aaac9cdfb3e",
    "scrolled": true
   },
   "outputs": [
    {
     "data": {
      "text/html": [
       "<div>\n",
       "<style scoped>\n",
       "    .dataframe tbody tr th:only-of-type {\n",
       "        vertical-align: middle;\n",
       "    }\n",
       "\n",
       "    .dataframe tbody tr th {\n",
       "        vertical-align: top;\n",
       "    }\n",
       "\n",
       "    .dataframe thead th {\n",
       "        text-align: right;\n",
       "    }\n",
       "</style>\n",
       "<table border=\"1\" class=\"dataframe\">\n",
       "  <thead>\n",
       "    <tr style=\"text-align: right;\">\n",
       "      <th></th>\n",
       "      <th>student number</th>\n",
       "      <th>english</th>\n",
       "      <th>mathematics</th>\n",
       "    </tr>\n",
       "  </thead>\n",
       "  <tbody>\n",
       "    <tr>\n",
       "      <th>0</th>\n",
       "      <td>1</td>\n",
       "      <td>42</td>\n",
       "      <td>65</td>\n",
       "    </tr>\n",
       "    <tr>\n",
       "      <th>1</th>\n",
       "      <td>2</td>\n",
       "      <td>69</td>\n",
       "      <td>80</td>\n",
       "    </tr>\n",
       "    <tr>\n",
       "      <th>2</th>\n",
       "      <td>3</td>\n",
       "      <td>56</td>\n",
       "      <td>63</td>\n",
       "    </tr>\n",
       "    <tr>\n",
       "      <th>3</th>\n",
       "      <td>4</td>\n",
       "      <td>41</td>\n",
       "      <td>63</td>\n",
       "    </tr>\n",
       "    <tr>\n",
       "      <th>4</th>\n",
       "      <td>5</td>\n",
       "      <td>57</td>\n",
       "      <td>76</td>\n",
       "    </tr>\n",
       "    <tr>\n",
       "      <th>5</th>\n",
       "      <td>6</td>\n",
       "      <td>48</td>\n",
       "      <td>60</td>\n",
       "    </tr>\n",
       "    <tr>\n",
       "      <th>6</th>\n",
       "      <td>7</td>\n",
       "      <td>65</td>\n",
       "      <td>81</td>\n",
       "    </tr>\n",
       "    <tr>\n",
       "      <th>7</th>\n",
       "      <td>8</td>\n",
       "      <td>49</td>\n",
       "      <td>66</td>\n",
       "    </tr>\n",
       "    <tr>\n",
       "      <th>8</th>\n",
       "      <td>9</td>\n",
       "      <td>65</td>\n",
       "      <td>78</td>\n",
       "    </tr>\n",
       "    <tr>\n",
       "      <th>9</th>\n",
       "      <td>10</td>\n",
       "      <td>58</td>\n",
       "      <td>82</td>\n",
       "    </tr>\n",
       "    <tr>\n",
       "      <th>10</th>\n",
       "      <td>11</td>\n",
       "      <td>70</td>\n",
       "      <td>94</td>\n",
       "    </tr>\n",
       "    <tr>\n",
       "      <th>11</th>\n",
       "      <td>12</td>\n",
       "      <td>47</td>\n",
       "      <td>75</td>\n",
       "    </tr>\n",
       "    <tr>\n",
       "      <th>12</th>\n",
       "      <td>13</td>\n",
       "      <td>51</td>\n",
       "      <td>70</td>\n",
       "    </tr>\n",
       "    <tr>\n",
       "      <th>13</th>\n",
       "      <td>14</td>\n",
       "      <td>64</td>\n",
       "      <td>77</td>\n",
       "    </tr>\n",
       "    <tr>\n",
       "      <th>14</th>\n",
       "      <td>15</td>\n",
       "      <td>62</td>\n",
       "      <td>84</td>\n",
       "    </tr>\n",
       "    <tr>\n",
       "      <th>15</th>\n",
       "      <td>16</td>\n",
       "      <td>70</td>\n",
       "      <td>84</td>\n",
       "    </tr>\n",
       "    <tr>\n",
       "      <th>16</th>\n",
       "      <td>17</td>\n",
       "      <td>71</td>\n",
       "      <td>82</td>\n",
       "    </tr>\n",
       "    <tr>\n",
       "      <th>17</th>\n",
       "      <td>18</td>\n",
       "      <td>68</td>\n",
       "      <td>85</td>\n",
       "    </tr>\n",
       "    <tr>\n",
       "      <th>18</th>\n",
       "      <td>19</td>\n",
       "      <td>73</td>\n",
       "      <td>90</td>\n",
       "    </tr>\n",
       "    <tr>\n",
       "      <th>19</th>\n",
       "      <td>20</td>\n",
       "      <td>37</td>\n",
       "      <td>70</td>\n",
       "    </tr>\n",
       "    <tr>\n",
       "      <th>20</th>\n",
       "      <td>21</td>\n",
       "      <td>65</td>\n",
       "      <td>78</td>\n",
       "    </tr>\n",
       "    <tr>\n",
       "      <th>21</th>\n",
       "      <td>22</td>\n",
       "      <td>65</td>\n",
       "      <td>93</td>\n",
       "    </tr>\n",
       "    <tr>\n",
       "      <th>22</th>\n",
       "      <td>23</td>\n",
       "      <td>61</td>\n",
       "      <td>77</td>\n",
       "    </tr>\n",
       "    <tr>\n",
       "      <th>23</th>\n",
       "      <td>24</td>\n",
       "      <td>52</td>\n",
       "      <td>88</td>\n",
       "    </tr>\n",
       "    <tr>\n",
       "      <th>24</th>\n",
       "      <td>25</td>\n",
       "      <td>57</td>\n",
       "      <td>82</td>\n",
       "    </tr>\n",
       "    <tr>\n",
       "      <th>25</th>\n",
       "      <td>26</td>\n",
       "      <td>57</td>\n",
       "      <td>76</td>\n",
       "    </tr>\n",
       "    <tr>\n",
       "      <th>26</th>\n",
       "      <td>27</td>\n",
       "      <td>75</td>\n",
       "      <td>87</td>\n",
       "    </tr>\n",
       "    <tr>\n",
       "      <th>27</th>\n",
       "      <td>28</td>\n",
       "      <td>61</td>\n",
       "      <td>84</td>\n",
       "    </tr>\n",
       "    <tr>\n",
       "      <th>28</th>\n",
       "      <td>29</td>\n",
       "      <td>47</td>\n",
       "      <td>77</td>\n",
       "    </tr>\n",
       "    <tr>\n",
       "      <th>29</th>\n",
       "      <td>30</td>\n",
       "      <td>54</td>\n",
       "      <td>82</td>\n",
       "    </tr>\n",
       "    <tr>\n",
       "      <th>30</th>\n",
       "      <td>31</td>\n",
       "      <td>66</td>\n",
       "      <td>91</td>\n",
       "    </tr>\n",
       "    <tr>\n",
       "      <th>31</th>\n",
       "      <td>32</td>\n",
       "      <td>54</td>\n",
       "      <td>75</td>\n",
       "    </tr>\n",
       "    <tr>\n",
       "      <th>32</th>\n",
       "      <td>33</td>\n",
       "      <td>54</td>\n",
       "      <td>76</td>\n",
       "    </tr>\n",
       "    <tr>\n",
       "      <th>33</th>\n",
       "      <td>34</td>\n",
       "      <td>42</td>\n",
       "      <td>78</td>\n",
       "    </tr>\n",
       "    <tr>\n",
       "      <th>34</th>\n",
       "      <td>35</td>\n",
       "      <td>37</td>\n",
       "      <td>57</td>\n",
       "    </tr>\n",
       "    <tr>\n",
       "      <th>35</th>\n",
       "      <td>36</td>\n",
       "      <td>79</td>\n",
       "      <td>89</td>\n",
       "    </tr>\n",
       "    <tr>\n",
       "      <th>36</th>\n",
       "      <td>37</td>\n",
       "      <td>56</td>\n",
       "      <td>83</td>\n",
       "    </tr>\n",
       "    <tr>\n",
       "      <th>37</th>\n",
       "      <td>38</td>\n",
       "      <td>62</td>\n",
       "      <td>69</td>\n",
       "    </tr>\n",
       "    <tr>\n",
       "      <th>38</th>\n",
       "      <td>39</td>\n",
       "      <td>62</td>\n",
       "      <td>86</td>\n",
       "    </tr>\n",
       "    <tr>\n",
       "      <th>39</th>\n",
       "      <td>40</td>\n",
       "      <td>55</td>\n",
       "      <td>81</td>\n",
       "    </tr>\n",
       "    <tr>\n",
       "      <th>40</th>\n",
       "      <td>41</td>\n",
       "      <td>63</td>\n",
       "      <td>81</td>\n",
       "    </tr>\n",
       "    <tr>\n",
       "      <th>41</th>\n",
       "      <td>42</td>\n",
       "      <td>57</td>\n",
       "      <td>80</td>\n",
       "    </tr>\n",
       "    <tr>\n",
       "      <th>42</th>\n",
       "      <td>43</td>\n",
       "      <td>57</td>\n",
       "      <td>79</td>\n",
       "    </tr>\n",
       "    <tr>\n",
       "      <th>43</th>\n",
       "      <td>44</td>\n",
       "      <td>67</td>\n",
       "      <td>87</td>\n",
       "    </tr>\n",
       "    <tr>\n",
       "      <th>44</th>\n",
       "      <td>45</td>\n",
       "      <td>55</td>\n",
       "      <td>84</td>\n",
       "    </tr>\n",
       "    <tr>\n",
       "      <th>45</th>\n",
       "      <td>46</td>\n",
       "      <td>45</td>\n",
       "      <td>71</td>\n",
       "    </tr>\n",
       "    <tr>\n",
       "      <th>46</th>\n",
       "      <td>47</td>\n",
       "      <td>66</td>\n",
       "      <td>80</td>\n",
       "    </tr>\n",
       "    <tr>\n",
       "      <th>47</th>\n",
       "      <td>48</td>\n",
       "      <td>55</td>\n",
       "      <td>77</td>\n",
       "    </tr>\n",
       "    <tr>\n",
       "      <th>48</th>\n",
       "      <td>49</td>\n",
       "      <td>64</td>\n",
       "      <td>83</td>\n",
       "    </tr>\n",
       "    <tr>\n",
       "      <th>49</th>\n",
       "      <td>50</td>\n",
       "      <td>66</td>\n",
       "      <td>88</td>\n",
       "    </tr>\n",
       "  </tbody>\n",
       "</table>\n",
       "</div>"
      ],
      "text/plain": [
       "    student number  english  mathematics\n",
       "0                1       42           65\n",
       "1                2       69           80\n",
       "2                3       56           63\n",
       "3                4       41           63\n",
       "4                5       57           76\n",
       "5                6       48           60\n",
       "6                7       65           81\n",
       "7                8       49           66\n",
       "8                9       65           78\n",
       "9               10       58           82\n",
       "10              11       70           94\n",
       "11              12       47           75\n",
       "12              13       51           70\n",
       "13              14       64           77\n",
       "14              15       62           84\n",
       "15              16       70           84\n",
       "16              17       71           82\n",
       "17              18       68           85\n",
       "18              19       73           90\n",
       "19              20       37           70\n",
       "20              21       65           78\n",
       "21              22       65           93\n",
       "22              23       61           77\n",
       "23              24       52           88\n",
       "24              25       57           82\n",
       "25              26       57           76\n",
       "26              27       75           87\n",
       "27              28       61           84\n",
       "28              29       47           77\n",
       "29              30       54           82\n",
       "30              31       66           91\n",
       "31              32       54           75\n",
       "32              33       54           76\n",
       "33              34       42           78\n",
       "34              35       37           57\n",
       "35              36       79           89\n",
       "36              37       56           83\n",
       "37              38       62           69\n",
       "38              39       62           86\n",
       "39              40       55           81\n",
       "40              41       63           81\n",
       "41              42       57           80\n",
       "42              43       57           79\n",
       "43              44       67           87\n",
       "44              45       55           84\n",
       "45              46       45           71\n",
       "46              47       66           80\n",
       "47              48       55           77\n",
       "48              49       64           83\n",
       "49              50       66           88"
      ]
     },
     "execution_count": 57,
     "metadata": {},
     "output_type": "execute_result"
    }
   ],
   "source": [
    "df"
   ]
  },
  {
   "cell_type": "markdown",
   "id": "202683cc",
   "metadata": {
    "id": "202683cc"
   },
   "source": [
    "- 무작정 0.6이다 상관성 높다, 0.7 상관성 미쳤다.\n",
    "- 0.8 높다\n",
    "- 하나의 비교지표, 기준에대한 선을 제공하는 것이지 정답은 아니다.\n",
    "- 0.3 0.4 , 도메인에 따라 달라질 수 있는 것이라\n",
    "- 맹신하면 안 된다.\n",
    "\n",
    "- 상관계수가 결국엔 데이터에 대한 이해를 바탕으로 더 나아가는 출발점\n",
    "- 따라서 이걸 잘 이해하고 있어야지 머신러닝, 딥러닝 추가적인 엔지니어링에도 도움이 된다.\n",
    "\n",
    "- 다중회귀분석 진행시 다중공선성 체크해야 된다.\n",
    "- 변수들의 상관성부터 출발한다."
   ]
  },
  {
   "cell_type": "code",
   "execution_count": null,
   "id": "8b2b268e",
   "metadata": {
    "id": "8b2b268e",
    "outputId": "fc7387c4-a073-4f57-d88a-8c79126c70e9"
   },
   "outputs": [
    {
     "data": {
      "text/plain": [
       "Text(0, 0.5, 'math')"
      ]
     },
     "execution_count": 58,
     "metadata": {},
     "output_type": "execute_result"
    },
    {
     "data": {
      "image/png": "[encoded data removed]",
      "text/plain": [
       "<Figure size 640x480 with 1 Axes>"
      ]
     },
     "metadata": {},
     "output_type": "display_data"
    }
   ],
   "source": [
    "# 산점도\n",
    "plt.scatter(df['english'],df['mathematics'], c='red')\n",
    "plt.xlabel('eng')\n",
    "plt.ylabel('math')"
   ]
  },
  {
   "cell_type": "code",
   "execution_count": null,
   "id": "0e0c34f5",
   "metadata": {
    "id": "0e0c34f5"
   },
   "outputs": [],
   "source": []
  }
 ],
 "metadata": {
  "colab": {
   "provenance": []
  },
  "kernelspec": {
   "display_name": "Python 3 (ipykernel)",
   "language": "python",
   "name": "python3"
  },
  "language_info": {
   "codemirror_mode": {
    "name": "ipython",
    "version": 3
   },
   "file_extension": ".py",
   "mimetype": "text/x-python",
   "name": "python",
   "nbconvert_exporter": "python",
   "pygments_lexer": "ipython3",
   "version": "3.9.13"
  }
 },
 "nbformat": 4,
 "nbformat_minor": 5
}
