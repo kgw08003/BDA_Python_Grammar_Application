{
 "cells": [
  {
   "cell_type": "markdown",
   "id": "fe5bb9af",
   "metadata": {},
   "source": [
    "### 필수과제 3\n",
    "- 정규성을 만족하지 않는 경우\n",
    "- 정규성을 만족하는 경우\n",
    "- 두 경우의 수를 모두 다 코드로 작성해 주세요! ( cat 데이터를 가지고 )\n",
    "- 귀무가설과 대립가설의 결과 차이에 대해서 간단한 시각화와 평균에 대한 비교를 함께 보여주세요!"
   ]
  },
  {
   "cell_type": "markdown",
   "id": "935afb7f",
   "metadata": {},
   "source": [
    "### \"물리적 운동 훈련을 시작하기 전과 후의 체중이 서로 다르다\"라는 가설\n",
    "- 귀무가설: 물리적 운동 훈련 전후에 체중이 변화가 없다\n",
    "- 대립가설: 물리적 운동 훈련 전후에 체중이 변화가 있다"
   ]
  },
  {
   "cell_type": "code",
   "execution_count": 7,
   "id": "fa621a99",
   "metadata": {},
   "outputs": [
    {
     "name": "stdout",
     "output_type": "stream",
     "text": [
      "Before - Shapiro-Wilk Test:\n",
      "Statistic: 0.9686175584793091\n",
      "P-Value: 0.5020750761032104\n",
      "Normality: 정규 분포입니다.\n",
      "\n",
      "After Training - Shapiro-Wilk Test:\n",
      "Statistic: 0.9516263008117676\n",
      "P-Value: 0.18686345219612122\n",
      "Normality: 정규 분포입니다.\n",
      "\n",
      "Paired Sample T-Test:\n",
      "T-Statistic: 3.1021000678088657\n",
      "P-Value: 0.004255546093460701\n",
      "Result: 귀무가설 기각\n",
      "Wilcoxon Signed-Rank Test:\n",
      "Statistic: 56.5\n",
      "P-Value: 0.005897509200571389\n",
      "Result: 귀무가설 기각\n"
     ]
    }
   ],
   "source": [
    "import pandas as pd\n",
    "from scipy.stats import ttest_rel, wilcoxon, shapiro\n",
    "\n",
    "# Data\n",
    "before = [60, 62, 64, 61, 59, 63, 65, 66, 62, 61, 63, 58, 59, 61, 62, 60, 65, 64, 61, 62, 60, 63, 59, 64, 62, 61, 59, 63, 62, 64]\n",
    "after = [58, 63, 61, 59, 58, 62, 66, 67, 60, 60, 63, 57, 59, 62, 60, 61, 63, 62, 60, 61, 60, 61, 61, 63, 60, 61, 59, 62, 61, 64]\n",
    "\n",
    "# Shapiro-Wilk Test\n",
    "shapiro_before = shapiro(before)\n",
    "shapiro_after = shapiro(after)\n",
    "\n",
    "# Paired Sample T-Test\n",
    "t_stat, p_value_ttest = ttest_rel(before, after)\n",
    "\n",
    "# Wilcoxon Signed-Rank Test\n",
    "stat_wilcoxon, p_value_wilcoxon = wilcoxon(before, after)\n",
    "\n",
    "# Output\n",
    "print(\"Before - Shapiro-Wilk Test:\")\n",
    "print(\"Statistic:\", shapiro_before.statistic)\n",
    "print(\"P-Value:\", shapiro_before.pvalue)\n",
    "print(\"Normality:\", \"정규 분포입니다.\" if shapiro_before.pvalue >= 0.05 else \"정규 분포가 아닙니다.\")\n",
    "\n",
    "print(\"\\nAfter Training - Shapiro-Wilk Test:\")\n",
    "print(\"Statistic:\", shapiro_after.statistic)\n",
    "print(\"P-Value:\", shapiro_after.pvalue)\n",
    "print(\"Normality:\", \"정규 분포입니다.\" if shapiro_after.pvalue >= 0.05 else \"정규 분포가 아닙니다.\")\n",
    "\n",
    "print(\"\\nPaired Sample T-Test:\")\n",
    "print(\"T-Statistic:\", t_stat)\n",
    "print(\"P-Value:\", p_value_ttest)\n",
    "print(\"Result:\", \"귀무가설 기각\" if p_value_ttest < 0.05 else \"귀무가설 채택\")\n",
    "\n",
    "print(\"\\nWilcoxon Signed-Rank Test:\")\n",
    "print(\"Statistic:\", stat_wilcoxon)\n",
    "print(\"P-Value:\", p_value_wilcoxon)\n",
    "print(\"Result:\", \"귀무가설 기각\" if p_value_wilcoxon < 0.05 else \"귀무가설 채택\")\n"
   ]
  },
  {
   "cell_type": "code",
   "execution_count": 8,
   "id": "1efe9389",
   "metadata": {},
   "outputs": [
    {
     "name": "stdout",
     "output_type": "stream",
     "text": [
      "운동 전 - 샤피로-윌크 테스트:\n",
      "통계량: 0.9570470452308655\n",
      "P-값: 0.25986433029174805\n",
      "정규성: 정규 분포입니다.\n",
      "\n",
      "운동 후 - 샤피로-윌크 테스트:\n",
      "통계량: 0.9117918014526367\n",
      "P-값: 0.01651665009558201\n",
      "정규성: 정규 분포가 아닙니다.\n",
      "\n",
      "대응표본 T-검정:\n",
      "T-통계량: -0.3703791302093131\n",
      "P-값: 0.7137915708184656\n",
      "결과: 귀무가설 채택\n",
      "\n",
      "윌콕슨 부호 순위 검정:\n",
      "통계량: 146.0\n",
      "P-값: 0.9077852148736522\n",
      "결과: 귀무가설 채택\n"
     ]
    }
   ],
   "source": [
    "import pandas as pd\n",
    "from scipy.stats import ttest_rel, wilcoxon, shapiro\n",
    "\n",
    "# 물리적 운동 훈련 전후의 체중 데이터 (정규성을 만족하지 않는 예시)\n",
    "before_training = [58, 60, 65, 59, 63, 61, 59, 63, 61, 60,\n",
    "                   62, 58, 60, 62, 63, 59, 60, 64, 61, 62,\n",
    "                   61, 59, 61, 64, 62, 63, 58, 61, 59, 62]\n",
    "\n",
    "after_training = [65, 60, 63, 61, 58, 60, 60, 64, 62, 60,\n",
    "                  61, 63, 60, 61, 62, 59, 60, 60, 61, 60,\n",
    "                  62, 60, 59, 62, 60, 64, 61, 60, 62, 65]\n",
    "\n",
    "# 정규성 검정\n",
    "shapiro_before = shapiro(before_training)\n",
    "shapiro_after = shapiro(after_training)\n",
    "\n",
    "print(\"운동 전 - 샤피로-윌크 테스트:\")\n",
    "print(\"통계량:\", shapiro_before.statistic)\n",
    "print(\"P-값:\", shapiro_before.pvalue)\n",
    "print(\"정규성:\", \"정규 분포입니다.\" if shapiro_before.pvalue >= 0.05 else \"정규 분포가 아닙니다.\")\n",
    "\n",
    "print(\"\\n운동 후 - 샤피로-윌크 테스트:\")\n",
    "print(\"통계량:\", shapiro_after.statistic)\n",
    "print(\"P-값:\", shapiro_after.pvalue)\n",
    "print(\"정규성:\", \"정규 분포입니다.\" if shapiro_after.pvalue >= 0.05 else \"정규 분포가 아닙니다.\")\n",
    "\n",
    "# 대응표본 T-검정\n",
    "t_stat, p_value_ttest = ttest_rel(before_training, after_training)\n",
    "\n",
    "# 윌콕슨 부호 순위 검정\n",
    "stat_wilcoxon, p_value_wilcoxon = wilcoxon(before_training, after_training)\n",
    "\n",
    "print(\"\\n대응표본 T-검정:\")\n",
    "print(\"T-통계량:\", t_stat)\n",
    "print(\"P-값:\", p_value_ttest)\n",
    "print(\"결과:\", \"귀무가설 기각\" if p_value_ttest < 0.05 else \"귀무가설 채택\")\n",
    "\n",
    "print(\"\\n윌콕슨 부호 순위 검정:\")\n",
    "print(\"통계량:\", stat_wilcoxon)\n",
    "print(\"P-값:\", p_value_wilcoxon)\n",
    "print(\"결과:\", \"귀무가설 기각\" if p_value_wilcoxon < 0.05 else \"귀무가설 채택\")\n"
   ]
  },
  {
   "cell_type": "code",
   "execution_count": null,
   "id": "4746161b",
   "metadata": {},
   "outputs": [],
   "source": []
  }
 ],
 "metadata": {
  "kernelspec": {
   "display_name": "Python 3 (ipykernel)",
   "language": "python",
   "name": "python3"
  },
  "language_info": {
   "codemirror_mode": {
    "name": "ipython",
    "version": 3
   },
   "file_extension": ".py",
   "mimetype": "text/x-python",
   "name": "python",
   "nbconvert_exporter": "python",
   "pygments_lexer": "ipython3",
   "version": "3.9.13"
  }
 },
 "nbformat": 4,
 "nbformat_minor": 5
}
