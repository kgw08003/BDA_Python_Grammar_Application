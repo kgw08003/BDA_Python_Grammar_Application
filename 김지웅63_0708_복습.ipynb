{
 "cells": [
  {
   "cell_type": "code",
   "execution_count": 4,
   "id": "40f3d401",
   "metadata": {
    "executionInfo": {
     "elapsed": 443,
     "status": "ok",
     "timestamp": 1688951647478,
     "user": {
      "displayName": "Dohyun Kim",
      "userId": "12978435108045949063"
     },
     "user_tz": -540
    },
    "id": "40f3d401"
   },
   "outputs": [],
   "source": [
    "import pandas as pd\n",
    "import numpy as np\n",
    "import matplotlib.pyplot as plt\n",
    "\n",
    "%matplotlib inline"
   ]
  },
  {
   "cell_type": "code",
   "execution_count": 5,
   "id": "111fa579",
   "metadata": {
    "executionInfo": {
     "elapsed": 410,
     "status": "ok",
     "timestamp": 1688951828842,
     "user": {
      "displayName": "Dohyun Kim",
      "userId": "12978435108045949063"
     },
     "user_tz": -540
    },
    "id": "111fa579"
   },
   "outputs": [],
   "source": [
    "df = pd.read_csv('scores400.csv')"
   ]
  },
  {
   "cell_type": "code",
   "execution_count": 6,
   "id": "6bdf7322",
   "metadata": {
    "colab": {
     "base_uri": "https://localhost:8080/",
     "height": 423
    },
    "executionInfo": {
     "elapsed": 542,
     "status": "ok",
     "timestamp": 1688951831531,
     "user": {
      "displayName": "Dohyun Kim",
      "userId": "12978435108045949063"
     },
     "user_tz": -540
    },
    "id": "6bdf7322",
    "outputId": "e83ec0b2-ee7f-481a-ad5d-dea1eea2e6a9"
   },
   "outputs": [
    {
     "data": {
      "text/html": [
       "<div>\n",
       "<style scoped>\n",
       "    .dataframe tbody tr th:only-of-type {\n",
       "        vertical-align: middle;\n",
       "    }\n",
       "\n",
       "    .dataframe tbody tr th {\n",
       "        vertical-align: top;\n",
       "    }\n",
       "\n",
       "    .dataframe thead th {\n",
       "        text-align: right;\n",
       "    }\n",
       "</style>\n",
       "<table border=\"1\" class=\"dataframe\">\n",
       "  <thead>\n",
       "    <tr style=\"text-align: right;\">\n",
       "      <th></th>\n",
       "      <th>score</th>\n",
       "    </tr>\n",
       "  </thead>\n",
       "  <tbody>\n",
       "    <tr>\n",
       "      <th>0</th>\n",
       "      <td>76</td>\n",
       "    </tr>\n",
       "    <tr>\n",
       "      <th>1</th>\n",
       "      <td>55</td>\n",
       "    </tr>\n",
       "    <tr>\n",
       "      <th>2</th>\n",
       "      <td>80</td>\n",
       "    </tr>\n",
       "    <tr>\n",
       "      <th>3</th>\n",
       "      <td>80</td>\n",
       "    </tr>\n",
       "    <tr>\n",
       "      <th>4</th>\n",
       "      <td>74</td>\n",
       "    </tr>\n",
       "    <tr>\n",
       "      <th>...</th>\n",
       "      <td>...</td>\n",
       "    </tr>\n",
       "    <tr>\n",
       "      <th>395</th>\n",
       "      <td>77</td>\n",
       "    </tr>\n",
       "    <tr>\n",
       "      <th>396</th>\n",
       "      <td>60</td>\n",
       "    </tr>\n",
       "    <tr>\n",
       "      <th>397</th>\n",
       "      <td>83</td>\n",
       "    </tr>\n",
       "    <tr>\n",
       "      <th>398</th>\n",
       "      <td>80</td>\n",
       "    </tr>\n",
       "    <tr>\n",
       "      <th>399</th>\n",
       "      <td>85</td>\n",
       "    </tr>\n",
       "  </tbody>\n",
       "</table>\n",
       "<p>400 rows × 1 columns</p>\n",
       "</div>"
      ],
      "text/plain": [
       "     score\n",
       "0       76\n",
       "1       55\n",
       "2       80\n",
       "3       80\n",
       "4       74\n",
       "..     ...\n",
       "395     77\n",
       "396     60\n",
       "397     83\n",
       "398     80\n",
       "399     85\n",
       "\n",
       "[400 rows x 1 columns]"
      ]
     },
     "execution_count": 6,
     "metadata": {},
     "output_type": "execute_result"
    }
   ],
   "source": [
    "df # 성적의 데이터 index 학생 수"
   ]
  },
  {
   "cell_type": "markdown",
   "id": "5b98da3b",
   "metadata": {
    "id": "5b98da3b"
   },
   "source": [
    "### 기술통계적인 것을 저번 시간에 배움\n",
    "\n",
    "### 추측통계를 통해 배울 것\n",
    "- 통계적인 성질을 추측하는 방식\n",
    "- 가설검정 통계적인 다양한 귀무가설, 대립가설 등\n",
    "- 그 전에 앞서 모집단과 표본, 확률, 확률분포 것들을 간단하게 확인하고 넘어가야 한다."
   ]
  },
  {
   "cell_type": "markdown",
   "id": "31d2b80e",
   "metadata": {
    "id": "31d2b80e"
   },
   "source": [
    "- 위의 데이터가 400명이 전교생이라함\n",
    "- 나는 2학년 1반\n",
    "- 400명은 2학년 반별 모든 데이터라 가정"
   ]
  },
  {
   "cell_type": "markdown",
   "id": "76e9710d",
   "metadata": {
    "id": "76e9710d"
   },
   "source": [
    "- 기말고사를 보고 바로 끝난 시점에서는 모든 점수를 알 순 없다.\n",
    "- 가채점-> 대략적인 점수를 확인한다.\n",
    "- 70점 시험이 잘 본 건가? 못 본건가? 감이 없다.\n",
    "- 주변에 같은 반 친구들한테 몇 점? 5~10명 점수를 물어봄 -> 평균이 60점 나는 70점인데 주변 친구들 점수 평균이 60점\n",
    "- 나는 생각보다 잘 봤다! 라고 판단\n",
    "\n",
    "- 우리 학년 우리 반 데이터보고 전체 평균을 가정할 순 없다.\n",
    "- 우리 반의 나와 친한 친구 -> 편향\n",
    "- 편향으로 이루진 데이터를 가지고 판단하면 안 된다."
   ]
  },
  {
   "cell_type": "code",
   "execution_count": 7,
   "id": "4d46e0ba",
   "metadata": {
    "executionInfo": {
     "elapsed": 414,
     "status": "ok",
     "timestamp": 1688951839822,
     "user": {
      "displayName": "Dohyun Kim",
      "userId": "12978435108045949063"
     },
     "user_tz": -540
    },
    "id": "4d46e0ba"
   },
   "outputs": [],
   "source": [
    "scores = np.array(df['score'])"
   ]
  },
  {
   "cell_type": "code",
   "execution_count": 8,
   "id": "77260d48",
   "metadata": {
    "colab": {
     "base_uri": "https://localhost:8080/"
    },
    "executionInfo": {
     "elapsed": 420,
     "status": "ok",
     "timestamp": 1688951842081,
     "user": {
      "displayName": "Dohyun Kim",
      "userId": "12978435108045949063"
     },
     "user_tz": -540
    },
    "id": "77260d48",
    "outputId": "54a45c4e-62ed-47f1-8db1-a5900d755e83"
   },
   "outputs": [
    {
     "data": {
      "text/plain": [
       "69.53"
      ]
     },
     "execution_count": 8,
     "metadata": {},
     "output_type": "execute_result"
    }
   ],
   "source": [
    "scores.mean()"
   ]
  },
  {
   "cell_type": "markdown",
   "id": "49c9861a",
   "metadata": {
    "id": "49c9861a"
   },
   "source": [
    "- 관측하고 싶은 전체 대상 모집단 ( 2학년 전체 )\n",
    "- 관측 대상에서 일부분을 뽑은 것이 표본 ( 우리 반 나의 친구 5~10명 )\n",
    "\n",
    "- 표본추출 -> 표본 추출에 근본은 어디냐면 모집단\n",
    "\n",
    "- 추측을 한다는 것은->?\n",
    "- 내가 점수가 70점인데 정말 잘 한 건가? 의문\n",
    "- 전체 모집단의 점수를 확인해서 이 부분을 보고 평가를 해야 한다.\n",
    "- 전체 모집단의 점수를 당장은 알 수 없으니 추측 -> 표본을 가지고 추측을 하게 된다.\n",
    "\n",
    "- 1. 표본에 대한 기준 필요하다.\n",
    "- 표본의 수 통계적으로는 30명 이상이 되어야함.\n",
    "- 표본의 크기를 구하는 공식 -> 최소 이 가설이 유의하려면 어느정도의 표본이 필요하다.\n",
    "- 2. 표본을 추츨하는 방법\n",
    "- 랜덤샘플링, 층화추출법.. 등등 표본을 추출하는 방법\n",
    "- 3. 복원, 비복원 추출\n",
    "- 표본을 조사하는데 한 명 물어보면 그 친구하는 중복으로 물어보지 않는 경우나, 중복으로 물어보는 경우\n",
    "- 뽑기 같은 경우 상자 안에 주머니 뭐가있는데 하나를 뽑으면 다시 넣지 않거나, 하나를 뽑으면 다시 넣는다.\n",
    "- 전체 표본자체가 동일하게 이뤄지는 것 복원"
   ]
  },
  {
   "cell_type": "code",
   "execution_count": 9,
   "id": "2b83addf",
   "metadata": {
    "colab": {
     "base_uri": "https://localhost:8080/"
    },
    "executionInfo": {
     "elapsed": 422,
     "status": "ok",
     "timestamp": 1688951850264,
     "user": {
      "displayName": "Dohyun Kim",
      "userId": "12978435108045949063"
     },
     "user_tz": -540
    },
    "id": "2b83addf",
    "outputId": "df774201-0187-4998-93db-13cd2c21403f"
   },
   "outputs": [
    {
     "data": {
      "text/plain": [
       "array([6, 3])"
      ]
     },
     "execution_count": 9,
     "metadata": {},
     "output_type": "execute_result"
    }
   ],
   "source": [
    "#무작위 추출\n",
    "np.random.choice([1,2,3,4,5,6],2)"
   ]
  },
  {
   "cell_type": "code",
   "execution_count": 10,
   "id": "2219c436",
   "metadata": {
    "colab": {
     "base_uri": "https://localhost:8080/"
    },
    "executionInfo": {
     "elapsed": 3,
     "status": "ok",
     "timestamp": 1688951953083,
     "user": {
      "displayName": "Dohyun Kim",
      "userId": "12978435108045949063"
     },
     "user_tz": -540
    },
    "id": "2219c436",
    "outputId": "26d00f20-c5e5-4850-f1b4-a4bb736e77b1"
   },
   "outputs": [
    {
     "data": {
      "text/plain": [
       "array([3, 1])"
      ]
     },
     "execution_count": 10,
     "metadata": {},
     "output_type": "execute_result"
    }
   ],
   "source": [
    "#replace : 중복 허용 / 허용안함\n",
    "np.random.choice([1,2,3,4,5,6],2, replace=True)"
   ]
  },
  {
   "cell_type": "code",
   "execution_count": 11,
   "id": "65827be8",
   "metadata": {
    "colab": {
     "base_uri": "https://localhost:8080/"
    },
    "executionInfo": {
     "elapsed": 823,
     "status": "ok",
     "timestamp": 1688952010116,
     "user": {
      "displayName": "Dohyun Kim",
      "userId": "12978435108045949063"
     },
     "user_tz": -540
    },
    "id": "65827be8",
    "outputId": "869d6ad4-da4b-4a2e-ec40-3e457982de0a"
   },
   "outputs": [
    {
     "data": {
      "text/plain": [
       "array([5, 5])"
      ]
     },
     "execution_count": 11,
     "metadata": {},
     "output_type": "execute_result"
    }
   ],
   "source": [
    "#무작위 추출하지만 계산 결과는 다를 수 있다.\n",
    "#난수를 만들 때, 난수에 대한 시드를 만들어서 매번 숫자가 동일한 난수를 얻게 만든다.\n",
    "np.random.seed(111)\n",
    "np.random.choice([1,2,3,4,5,6],2)\n",
    "\n",
    "#머신러닝-> 비교할 때 random.seed를 통해 무작위 추출 값을 고정할 수 있다."
   ]
  },
  {
   "cell_type": "code",
   "execution_count": 12,
   "id": "709d4e3d",
   "metadata": {
    "colab": {
     "base_uri": "https://localhost:8080/"
    },
    "executionInfo": {
     "elapsed": 3,
     "status": "ok",
     "timestamp": 1688952010689,
     "user": {
      "displayName": "Dohyun Kim",
      "userId": "12978435108045949063"
     },
     "user_tz": -540
    },
    "id": "709d4e3d",
    "outputId": "6549b272-6807-4958-f134-539cec46184e"
   },
   "outputs": [
    {
     "data": {
      "text/plain": [
       "67.0"
      ]
     },
     "execution_count": 12,
     "metadata": {},
     "output_type": "execute_result"
    }
   ],
   "source": [
    "np.random.seed(1111)\n",
    "sample = np.random.choice(df['score'],20)\n",
    "sample.mean()"
   ]
  },
  {
   "cell_type": "markdown",
   "id": "414bc960",
   "metadata": {
    "id": "414bc960"
   },
   "source": [
    "- 전체평균은 69.53 인데, 한 번 샘플을 통해서 확인한 결과는 67점이 나왔다.\n",
    "- 무작위추출을 여러번 하게 되면 어떤 결과가 나오나?"
   ]
  },
  {
   "cell_type": "code",
   "execution_count": 13,
   "id": "48f358f4",
   "metadata": {
    "colab": {
     "base_uri": "https://localhost:8080/"
    },
    "executionInfo": {
     "elapsed": 415,
     "status": "ok",
     "timestamp": 1688952018612,
     "user": {
      "displayName": "Dohyun Kim",
      "userId": "12978435108045949063"
     },
     "user_tz": -540
    },
    "id": "48f358f4",
    "outputId": "976d848f-5e02-4cdf-dc2f-00fa2e06f793"
   },
   "outputs": [
    {
     "name": "stdout",
     "output_type": "stream",
     "text": [
      "1번째 무작위로 추출한 표본평균 72.85\n",
      "2번째 무작위로 추출한 표본평균 69.2\n",
      "3번째 무작위로 추출한 표본평균 64.45\n",
      "4번째 무작위로 추출한 표본평균 72.65\n",
      "5번째 무작위로 추출한 표본평균 67.9\n",
      "6번째 무작위로 추출한 표본평균 66.95\n",
      "7번째 무작위로 추출한 표본평균 71.25\n",
      "8번째 무작위로 추출한 표본평균 72.05\n",
      "9번째 무작위로 추출한 표본평균 68.05\n",
      "10번째 무작위로 추출한 표본평균 63.85\n",
      "11번째 무작위로 추출한 표본평균 76.05\n",
      "12번째 무작위로 추출한 표본평균 67.3\n",
      "13번째 무작위로 추출한 표본평균 71.3\n",
      "14번째 무작위로 추출한 표본평균 66.25\n",
      "15번째 무작위로 추출한 표본평균 69.85\n",
      "16번째 무작위로 추출한 표본평균 69.35\n",
      "17번째 무작위로 추출한 표본평균 72.0\n",
      "18번째 무작위로 추출한 표본평균 72.85\n",
      "19번째 무작위로 추출한 표본평균 70.3\n",
      "20번째 무작위로 추출한 표본평균 66.1\n",
      "21번째 무작위로 추출한 표본평균 66.55\n",
      "22번째 무작위로 추출한 표본평균 70.1\n",
      "23번째 무작위로 추출한 표본평균 73.95\n",
      "24번째 무작위로 추출한 표본평균 69.15\n",
      "25번째 무작위로 추출한 표본평균 71.85\n",
      "26번째 무작위로 추출한 표본평균 75.15\n",
      "27번째 무작위로 추출한 표본평균 69.45\n",
      "28번째 무작위로 추출한 표본평균 71.4\n",
      "29번째 무작위로 추출한 표본평균 72.7\n",
      "30번째 무작위로 추출한 표본평균 68.6\n",
      "69.98166666666667\n"
     ]
    }
   ],
   "source": [
    "c =[]\n",
    "for i in range(30):\n",
    "    sample = np.random.choice(df['score'],20)\n",
    "    print(f'{i+1}번째 무작위로 추출한 표본평균', sample.mean())\n",
    "    c.append(sample)\n",
    "print(np.mean(c))"
   ]
  },
  {
   "cell_type": "markdown",
   "id": "fead8e84",
   "metadata": {
    "id": "fead8e84"
   },
   "source": [
    "- 불안정한 숫자들이 존재한다.\n",
    "- 이런 현상을 해석하기 위해서 확률을 사용해야한다.\n",
    "- ex) 주사위에서 1눈을  뽑는 확률은 1/6\n",
    "\n",
    "- 확률모형"
   ]
  },
  {
   "cell_type": "markdown",
   "id": "911b6a5e",
   "metadata": {
    "id": "911b6a5e"
   },
   "source": [
    "- 확률이라는 것은 -> 그 값들이 나올 확률이 결정되는 게 결국 확률변수\n",
    "- 주사위 눈 1~6\n",
    "- 내가 주사위를 돌릴 때 마다 항상 같은 값은 얻을 수 없다.\n",
    "- 확률로 생각을 하면 1/6\n",
    "- 확률로 접근해서 통계적으로 풀어보자!"
   ]
  },
  {
   "cell_type": "markdown",
   "id": "0b84d0c4",
   "metadata": {
    "id": "0b84d0c4"
   },
   "source": [
    "- 확률의 중요한 성질\n",
    "- ' 사건이 서로 배반이면, 그중에 적어도 하나 일어나는 사건의 각 사건의 확률의 합과 같다.'\n",
    "- ' 각 사건이 서로 상호배반이면 동시에 일어날 수 없다.'\n",
    "- 확률이 합이 1\n",
    "- 합이 1라는 것이"
   ]
  },
  {
   "cell_type": "markdown",
   "id": "08c0ce4a",
   "metadata": {
    "id": "08c0ce4a"
   },
   "source": [
    "- 확률분포\n",
    "- 확률분포란?- 확률변수가 어떻게 움직이는지를 나타내는 것\n",
    "- 전체확률 1 그 1을 가지고 확률변수가 어떤 분포를 나타나고 잇는지를 나타냄\n",
    "- 주사위 1 1/6 ... 6 1/6\n",
    "\n",
    "- 추측통계에서도 마찬가지로 해당 모집단을 가지고 표본을 추출하는 경우 ( 무작위로 추출하는 경우)  확률 모형으로 나타낼 수 있고, 무작위추출로 얻은 표본은 모집단의 확률분포를 따르는 확률변수로 간주할 수 있다."
   ]
  },
  {
   "cell_type": "code",
   "execution_count": 14,
   "id": "f5a3ce22",
   "metadata": {
    "colab": {
     "base_uri": "https://localhost:8080/",
     "height": 701
    },
    "executionInfo": {
     "elapsed": 608,
     "status": "ok",
     "timestamp": 1688952099278,
     "user": {
      "displayName": "Dohyun Kim",
      "userId": "12978435108045949063"
     },
     "user_tz": -540
    },
    "id": "f5a3ce22",
    "outputId": "73e88753-96aa-47e1-b2a3-ac18f739da92"
   },
   "outputs": [
    {
     "data": {
      "image/png": "[encoded data removed]",
      "text/plain": [
       "<Figure size 1000x800 with 1 Axes>"
      ]
     },
     "metadata": {},
     "output_type": "display_data"
    }
   ],
   "source": [
    "#전체 전교생 시험 점수 분포\n",
    "fig = plt.figure(figsize=(10,8))\n",
    "ax = fig.add_subplot(111)\n",
    "ax.hist(df['score'], bins=100, range=(1,100), density= True)\n",
    "ax.set_xlim(0,100)\n",
    "ax.set_ylim(0, 0.05)\n",
    "ax.set_xlabel('score')\n",
    "plt.show()\n",
    "#100 단위로 끊어서 히스토그램을 만든다.\n",
    "# density = True면 정규화시킨 후 그린다."
   ]
  },
  {
   "cell_type": "markdown",
   "id": "bd2b38f4",
   "metadata": {
    "id": "bd2b38f4"
   },
   "source": [
    "- 70점을 얻은 학생 전교생에서 0.04 정도 차지한다. 전체 4%를 차지한다.\n",
    "- 무작위추출로 수행하면 4%확률로 -> 70점이라는 표본 데이터를 얻을 수 있다."
   ]
  },
  {
   "cell_type": "markdown",
   "id": "c05da1c4",
   "metadata": {
    "id": "c05da1c4"
   },
   "source": [
    "### 중심극한정리\n",
    "- 통계학에서 중요한 키워드 이다.\n",
    "- 무작위로 추출을 진행하며, 표본의 크기도 커지고, 표본의 데이터가 커진다. -> 그것들이 실제의 확률 분포와 가까워진다."
   ]
  },
  {
   "cell_type": "code",
   "execution_count": 17,
   "id": "c740fc41",
   "metadata": {
    "colab": {
     "base_uri": "https://localhost:8080/",
     "height": 701
    },
    "executionInfo": {
     "elapsed": 613,
     "status": "ok",
     "timestamp": 1688952145870,
     "user": {
      "displayName": "Dohyun Kim",
      "userId": "12978435108045949063"
     },
     "user_tz": -540
    },
    "id": "c740fc41",
    "outputId": "bcfed321-6f53-4935-c1cb-8b4b0b534948"
   },
   "outputs": [
    {
     "data": {
      "image/png": "[encoded data removed]",
      "text/plain": [
       "<Figure size 1000x800 with 1 Axes>"
      ]
     },
     "metadata": {},
     "output_type": "display_data"
    }
   ],
   "source": [
    "# 1000번 랜덤으로 뽑은 샘플에 대한 그래프\n",
    "sample = np.random.choice(df['score'],1000)\n",
    "fig = plt.figure(figsize=(10,8))\n",
    "ax = fig.add_subplot(111)\n",
    "ax.hist(sample, bins=100, range=(1,100), density= True)\n",
    "ax.set_xlim(0,100)\n",
    "ax.set_ylim(0, 0.05)\n",
    "ax.set_xlabel('score')\n",
    "plt.show()"
   ]
  },
  {
   "cell_type": "markdown",
   "id": "77990752",
   "metadata": {
    "id": "77990752"
   },
   "source": [
    "- 표본 평균을 가지고 진행을 해보자\n",
    "- 표본을 뽑아서 표본에 대한 평균을 가지고 분포를 만들어 보면 어떤 식으로 그려지는지?"
   ]
  },
  {
   "cell_type": "code",
   "execution_count": 18,
   "id": "7ea0b709",
   "metadata": {
    "colab": {
     "base_uri": "https://localhost:8080/",
     "height": 696
    },
    "executionInfo": {
     "elapsed": 685,
     "status": "ok",
     "timestamp": 1688952224267,
     "user": {
      "displayName": "Dohyun Kim",
      "userId": "12978435108045949063"
     },
     "user_tz": -540
    },
    "id": "7ea0b709",
    "outputId": "7f78acb3-747a-48e9-f63f-2ab5d94e1a98"
   },
   "outputs": [
    {
     "data": {
      "image/png": "[encoded data removed]",
      "text/plain": [
       "<Figure size 1000x800 with 1 Axes>"
      ]
     },
     "metadata": {},
     "output_type": "display_data"
    }
   ],
   "source": [
    "sample_mean = [np.random.choice(df['score'],20).mean() for _ in range(1000)]\n",
    "fig = plt.figure(figsize=(10,8))\n",
    "ax = fig.add_subplot(111)\n",
    "ax.hist(sample_mean, bins=100, range=(1,100), density= True)\n",
    "ax.set_xlim(0,100)\n",
    "ax.set_ylim(0, 0.15)\n",
    "ax.set_xlabel('score')\n",
    "plt.show()\n",
    "# 20개씩 뽑은 샘플을 1000개 돌린 것에 대해 평균의 그래프"
   ]
  },
  {
   "cell_type": "code",
   "execution_count": 20,
   "id": "deb0985e",
   "metadata": {
    "colab": {
     "base_uri": "https://localhost:8080/",
     "height": 696
    },
    "executionInfo": {
     "elapsed": 1269,
     "status": "ok",
     "timestamp": 1688952356917,
     "user": {
      "displayName": "Dohyun Kim",
      "userId": "12978435108045949063"
     },
     "user_tz": -540
    },
    "id": "deb0985e",
    "outputId": "122800ca-acc1-42f6-a1a7-c7669aaebebc"
   },
   "outputs": [
    {
     "data": {
      "image/png": "[encoded data removed]",
      "text/plain": [
       "<Figure size 1000x800 with 1 Axes>"
      ]
     },
     "metadata": {},
     "output_type": "display_data"
    }
   ],
   "source": [
    "sample_mean = [np.random.choice(df['score'],20).mean() for _ in range(10000)]\n",
    "fig = plt.figure(figsize=(10,8))\n",
    "ax = fig.add_subplot(111)\n",
    "ax.hist(sample_mean, bins=100, range=(1,100), density= True)\n",
    "ax.vlines(np.mean(sample_mean),0,1,'grey')\n",
    "ax.set_xlim(0,100)\n",
    "ax.set_ylim(0, 0.15)\n",
    "ax.set_xlabel('score')\n",
    "plt.show()\n",
    "# 10000개 샘플\n",
    "# vlines(a,b,c) : b,c 사이에서 a인 곳에 수직선 표시"
   ]
  },
  {
   "cell_type": "markdown",
   "id": "380f9f84",
   "metadata": {
    "id": "380f9f84"
   },
   "source": [
    "- 무작위추출로 인한 표본평균으로 모평균 추측할 수 있는 것이 -> 실제로 10,000번 이상 진행해보니 분포자체가 모평균에 근처에 분포되어 있는 것 확인\n",
    "- 이 근거로 우리가 표본평균으로 모평균을 추측할 수 있다."
   ]
  },
  {
   "cell_type": "markdown",
   "id": "f4dae776",
   "metadata": {
    "id": "f4dae776"
   },
   "source": [
    "## 추측통계\n",
    "\n",
    "- 추정 : 모수를 추측하는 것, 하나의 것으로 추정하는 것, 점 추청, 구간 추정  \n",
    "- 검정 : 모집단의 통계적인 성질에 대해서 가설을 세우고, 그 가설이 옳은지 여부를 판단하는 것\n",
    "\n",
    "- 내 수학점수를 보고 주변 내친구의 점수를 가지고 -> 전체 학년 점수를 추측한다. 이게 정말 맞는가?"
   ]
  },
  {
   "cell_type": "code",
   "execution_count": null,
   "id": "57a7658a",
   "metadata": {
    "id": "57a7658a"
   },
   "outputs": [],
   "source": []
  }
 ],
 "metadata": {
  "colab": {
   "provenance": []
  },
  "kernelspec": {
   "display_name": "Python 3 (ipykernel)",
   "language": "python",
   "name": "python3"
  },
  "language_info": {
   "codemirror_mode": {
    "name": "ipython",
    "version": 3
   },
   "file_extension": ".py",
   "mimetype": "text/x-python",
   "name": "python",
   "nbconvert_exporter": "python",
   "pygments_lexer": "ipython3",
   "version": "3.9.13"
  }
 },
 "nbformat": 4,
 "nbformat_minor": 5
}
