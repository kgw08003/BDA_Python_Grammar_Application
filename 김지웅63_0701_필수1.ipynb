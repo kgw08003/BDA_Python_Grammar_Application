{
 "cells": [
  {
   "cell_type": "markdown",
   "id": "b30bdf3d",
   "metadata": {},
   "source": [
    "## 상대도수"
   ]
  },
  {
   "cell_type": "markdown",
   "id": "25d18d60",
   "metadata": {},
   "source": [
    "- 상대도수는 주어진 데이터 집합에서 특정 값 또는 범위의 발생 빈도를 나타내는 통계적 개념\n",
    "- 상대도수를 계산하기 위해서는 frequency(빈도) 를 total 전체 데이터의 개수로 나누면 된다.\n",
    "\n",
    "- 상대 도수를 사용하면 데이터 집합에서 각 값이 얼마나 흔하게 발생하는지를 비교할 수 있다.\n",
    "- 또한 데이터의 상대적인 분포와 패턴을 파악하는데 용이하여 특정 값들 간의 비교나 관계를 이해하는데 효과적이다."
   ]
  },
  {
   "cell_type": "code",
   "execution_count": 42,
   "id": "04586422",
   "metadata": {},
   "outputs": [],
   "source": [
    "import pandas as pd\n",
    "df = pd.read_csv('scores_em.csv')\n",
    "import numpy as np"
   ]
  },
  {
   "cell_type": "code",
   "execution_count": 43,
   "id": "bc411cb0",
   "metadata": {},
   "outputs": [],
   "source": [
    "freq, _ = np.histogram(df, bins=10, range=(0,100))"
   ]
  },
  {
   "cell_type": "code",
   "execution_count": 44,
   "id": "a993f726",
   "metadata": {},
   "outputs": [],
   "source": [
    "# 데이터프레임으로 만들기 \n",
    "fclass = [f'{i}-{i+10}' for i in range(0,100,10)]"
   ]
  },
  {
   "cell_type": "code",
   "execution_count": 45,
   "id": "6c9bf70d",
   "metadata": {},
   "outputs": [],
   "source": [
    "# 데이터프레임 만들기\n",
    "dffreq = pd.DataFrame({'frequency':freq},\n",
    "                      index = pd.Index(fclass,name='class'))"
   ]
  },
  {
   "cell_type": "code",
   "execution_count": 46,
   "id": "41da169c",
   "metadata": {},
   "outputs": [
    {
     "data": {
      "text/html": [
       "<div>\n",
       "<style scoped>\n",
       "    .dataframe tbody tr th:only-of-type {\n",
       "        vertical-align: middle;\n",
       "    }\n",
       "\n",
       "    .dataframe tbody tr th {\n",
       "        vertical-align: top;\n",
       "    }\n",
       "\n",
       "    .dataframe thead th {\n",
       "        text-align: right;\n",
       "    }\n",
       "</style>\n",
       "<table border=\"1\" class=\"dataframe\">\n",
       "  <thead>\n",
       "    <tr style=\"text-align: right;\">\n",
       "      <th></th>\n",
       "      <th>frequency</th>\n",
       "    </tr>\n",
       "    <tr>\n",
       "      <th>class</th>\n",
       "      <th></th>\n",
       "    </tr>\n",
       "  </thead>\n",
       "  <tbody>\n",
       "    <tr>\n",
       "      <th>0-10</th>\n",
       "      <td>9</td>\n",
       "    </tr>\n",
       "    <tr>\n",
       "      <th>10-20</th>\n",
       "      <td>10</td>\n",
       "    </tr>\n",
       "    <tr>\n",
       "      <th>20-30</th>\n",
       "      <td>10</td>\n",
       "    </tr>\n",
       "    <tr>\n",
       "      <th>30-40</th>\n",
       "      <td>12</td>\n",
       "    </tr>\n",
       "    <tr>\n",
       "      <th>40-50</th>\n",
       "      <td>18</td>\n",
       "    </tr>\n",
       "    <tr>\n",
       "      <th>50-60</th>\n",
       "      <td>18</td>\n",
       "    </tr>\n",
       "    <tr>\n",
       "      <th>60-70</th>\n",
       "      <td>24</td>\n",
       "    </tr>\n",
       "    <tr>\n",
       "      <th>70-80</th>\n",
       "      <td>22</td>\n",
       "    </tr>\n",
       "    <tr>\n",
       "      <th>80-90</th>\n",
       "      <td>23</td>\n",
       "    </tr>\n",
       "    <tr>\n",
       "      <th>90-100</th>\n",
       "      <td>4</td>\n",
       "    </tr>\n",
       "  </tbody>\n",
       "</table>\n",
       "</div>"
      ],
      "text/plain": [
       "        frequency\n",
       "class            \n",
       "0-10            9\n",
       "10-20          10\n",
       "20-30          10\n",
       "30-40          12\n",
       "40-50          18\n",
       "50-60          18\n",
       "60-70          24\n",
       "70-80          22\n",
       "80-90          23\n",
       "90-100          4"
      ]
     },
     "execution_count": 46,
     "metadata": {},
     "output_type": "execute_result"
    }
   ],
   "source": [
    "dffreq"
   ]
  },
  {
   "cell_type": "code",
   "execution_count": 47,
   "id": "475e2f84",
   "metadata": {},
   "outputs": [],
   "source": [
    "# 상대도수 공식 적용\n",
    "dffreq['relative_frequency'] = dffreq['frequency'] / sum(dffreq['frequency'])"
   ]
  },
  {
   "cell_type": "code",
   "execution_count": 48,
   "id": "db4658ff",
   "metadata": {},
   "outputs": [
    {
     "data": {
      "text/html": [
       "<div>\n",
       "<style scoped>\n",
       "    .dataframe tbody tr th:only-of-type {\n",
       "        vertical-align: middle;\n",
       "    }\n",
       "\n",
       "    .dataframe tbody tr th {\n",
       "        vertical-align: top;\n",
       "    }\n",
       "\n",
       "    .dataframe thead th {\n",
       "        text-align: right;\n",
       "    }\n",
       "</style>\n",
       "<table border=\"1\" class=\"dataframe\">\n",
       "  <thead>\n",
       "    <tr style=\"text-align: right;\">\n",
       "      <th></th>\n",
       "      <th>frequency</th>\n",
       "      <th>relative_frequency</th>\n",
       "    </tr>\n",
       "    <tr>\n",
       "      <th>class</th>\n",
       "      <th></th>\n",
       "      <th></th>\n",
       "    </tr>\n",
       "  </thead>\n",
       "  <tbody>\n",
       "    <tr>\n",
       "      <th>0-10</th>\n",
       "      <td>9</td>\n",
       "      <td>0.060000</td>\n",
       "    </tr>\n",
       "    <tr>\n",
       "      <th>10-20</th>\n",
       "      <td>10</td>\n",
       "      <td>0.066667</td>\n",
       "    </tr>\n",
       "    <tr>\n",
       "      <th>20-30</th>\n",
       "      <td>10</td>\n",
       "      <td>0.066667</td>\n",
       "    </tr>\n",
       "    <tr>\n",
       "      <th>30-40</th>\n",
       "      <td>12</td>\n",
       "      <td>0.080000</td>\n",
       "    </tr>\n",
       "    <tr>\n",
       "      <th>40-50</th>\n",
       "      <td>18</td>\n",
       "      <td>0.120000</td>\n",
       "    </tr>\n",
       "    <tr>\n",
       "      <th>50-60</th>\n",
       "      <td>18</td>\n",
       "      <td>0.120000</td>\n",
       "    </tr>\n",
       "    <tr>\n",
       "      <th>60-70</th>\n",
       "      <td>24</td>\n",
       "      <td>0.160000</td>\n",
       "    </tr>\n",
       "    <tr>\n",
       "      <th>70-80</th>\n",
       "      <td>22</td>\n",
       "      <td>0.146667</td>\n",
       "    </tr>\n",
       "    <tr>\n",
       "      <th>80-90</th>\n",
       "      <td>23</td>\n",
       "      <td>0.153333</td>\n",
       "    </tr>\n",
       "    <tr>\n",
       "      <th>90-100</th>\n",
       "      <td>4</td>\n",
       "      <td>0.026667</td>\n",
       "    </tr>\n",
       "  </tbody>\n",
       "</table>\n",
       "</div>"
      ],
      "text/plain": [
       "        frequency  relative_frequency\n",
       "class                                \n",
       "0-10            9            0.060000\n",
       "10-20          10            0.066667\n",
       "20-30          10            0.066667\n",
       "30-40          12            0.080000\n",
       "40-50          18            0.120000\n",
       "50-60          18            0.120000\n",
       "60-70          24            0.160000\n",
       "70-80          22            0.146667\n",
       "80-90          23            0.153333\n",
       "90-100          4            0.026667"
      ]
     },
     "execution_count": 48,
     "metadata": {},
     "output_type": "execute_result"
    }
   ],
   "source": [
    "dffreq"
   ]
  },
  {
   "cell_type": "markdown",
   "id": "01d76496",
   "metadata": {},
   "source": [
    "### 누적도수"
   ]
  },
  {
   "cell_type": "markdown",
   "id": "552e6537",
   "metadata": {},
   "source": [
    "- 누적도수는 주어진 데ㅣ터 집합에서 특정 값이나 범위보다 작거나 같은 값들의 발생 빈도를 누적시켜 계산한 값이다.\n",
    "- 누적도수는 그 계급의 도수 + 처음 계급부터 앞 계급까지의 도수의 합으로 계산\n",
    "- 또는 그 계급의 두수 + 앞 계급의 누적도수로 계산한다.\n",
    "- 해당 값 또는 값의 범위 이하의 값들이 데이터에서 차지하는 비율을 계산할 때 사용되며 누적도수를 계산하면 값들의 분포와 순서를 이해하는데 효과적이다."
   ]
  },
  {
   "cell_type": "code",
   "execution_count": 49,
   "id": "9a794bfe",
   "metadata": {},
   "outputs": [],
   "source": [
    "cumulative_frequency = [sum(dffreq['frequency'][:i+1]) for i in range(len(dffreq['frequency']))]\n"
   ]
  },
  {
   "cell_type": "code",
   "execution_count": 52,
   "id": "231718b6",
   "metadata": {},
   "outputs": [],
   "source": [
    "dffreq['cumulative_frequency'] = dffreq['frequency'].cumsum()\n"
   ]
  },
  {
   "cell_type": "code",
   "execution_count": 53,
   "id": "1d7e5a82",
   "metadata": {},
   "outputs": [
    {
     "data": {
      "text/html": [
       "<div>\n",
       "<style scoped>\n",
       "    .dataframe tbody tr th:only-of-type {\n",
       "        vertical-align: middle;\n",
       "    }\n",
       "\n",
       "    .dataframe tbody tr th {\n",
       "        vertical-align: top;\n",
       "    }\n",
       "\n",
       "    .dataframe thead th {\n",
       "        text-align: right;\n",
       "    }\n",
       "</style>\n",
       "<table border=\"1\" class=\"dataframe\">\n",
       "  <thead>\n",
       "    <tr style=\"text-align: right;\">\n",
       "      <th></th>\n",
       "      <th>frequency</th>\n",
       "      <th>relative_frequency</th>\n",
       "      <th>cum_freq</th>\n",
       "      <th>cumulative_frequency</th>\n",
       "    </tr>\n",
       "    <tr>\n",
       "      <th>class</th>\n",
       "      <th></th>\n",
       "      <th></th>\n",
       "      <th></th>\n",
       "      <th></th>\n",
       "    </tr>\n",
       "  </thead>\n",
       "  <tbody>\n",
       "    <tr>\n",
       "      <th>0-10</th>\n",
       "      <td>9</td>\n",
       "      <td>0.060000</td>\n",
       "      <td>9</td>\n",
       "      <td>9</td>\n",
       "    </tr>\n",
       "    <tr>\n",
       "      <th>10-20</th>\n",
       "      <td>10</td>\n",
       "      <td>0.066667</td>\n",
       "      <td>19</td>\n",
       "      <td>19</td>\n",
       "    </tr>\n",
       "    <tr>\n",
       "      <th>20-30</th>\n",
       "      <td>10</td>\n",
       "      <td>0.066667</td>\n",
       "      <td>29</td>\n",
       "      <td>29</td>\n",
       "    </tr>\n",
       "    <tr>\n",
       "      <th>30-40</th>\n",
       "      <td>12</td>\n",
       "      <td>0.080000</td>\n",
       "      <td>41</td>\n",
       "      <td>41</td>\n",
       "    </tr>\n",
       "    <tr>\n",
       "      <th>40-50</th>\n",
       "      <td>18</td>\n",
       "      <td>0.120000</td>\n",
       "      <td>59</td>\n",
       "      <td>59</td>\n",
       "    </tr>\n",
       "    <tr>\n",
       "      <th>50-60</th>\n",
       "      <td>18</td>\n",
       "      <td>0.120000</td>\n",
       "      <td>77</td>\n",
       "      <td>77</td>\n",
       "    </tr>\n",
       "    <tr>\n",
       "      <th>60-70</th>\n",
       "      <td>24</td>\n",
       "      <td>0.160000</td>\n",
       "      <td>101</td>\n",
       "      <td>101</td>\n",
       "    </tr>\n",
       "    <tr>\n",
       "      <th>70-80</th>\n",
       "      <td>22</td>\n",
       "      <td>0.146667</td>\n",
       "      <td>123</td>\n",
       "      <td>123</td>\n",
       "    </tr>\n",
       "    <tr>\n",
       "      <th>80-90</th>\n",
       "      <td>23</td>\n",
       "      <td>0.153333</td>\n",
       "      <td>146</td>\n",
       "      <td>146</td>\n",
       "    </tr>\n",
       "    <tr>\n",
       "      <th>90-100</th>\n",
       "      <td>4</td>\n",
       "      <td>0.026667</td>\n",
       "      <td>150</td>\n",
       "      <td>150</td>\n",
       "    </tr>\n",
       "  </tbody>\n",
       "</table>\n",
       "</div>"
      ],
      "text/plain": [
       "        frequency  relative_frequency  cum_freq  cumulative_frequency\n",
       "class                                                                \n",
       "0-10            9            0.060000         9                     9\n",
       "10-20          10            0.066667        19                    19\n",
       "20-30          10            0.066667        29                    29\n",
       "30-40          12            0.080000        41                    41\n",
       "40-50          18            0.120000        59                    59\n",
       "50-60          18            0.120000        77                    77\n",
       "60-70          24            0.160000       101                   101\n",
       "70-80          22            0.146667       123                   123\n",
       "80-90          23            0.153333       146                   146\n",
       "90-100          4            0.026667       150                   150"
      ]
     },
     "execution_count": 53,
     "metadata": {},
     "output_type": "execute_result"
    }
   ],
   "source": [
    "dffreq"
   ]
  },
  {
   "cell_type": "code",
   "execution_count": null,
   "id": "60e6f8c3",
   "metadata": {},
   "outputs": [],
   "source": []
  }
 ],
 "metadata": {
  "kernelspec": {
   "display_name": "Python 3 (ipykernel)",
   "language": "python",
   "name": "python3"
  },
  "language_info": {
   "codemirror_mode": {
    "name": "ipython",
    "version": 3
   },
   "file_extension": ".py",
   "mimetype": "text/x-python",
   "name": "python",
   "nbconvert_exporter": "python",
   "pygments_lexer": "ipython3",
   "version": "3.9.13"
  }
 },
 "nbformat": 4,
 "nbformat_minor": 5
}
