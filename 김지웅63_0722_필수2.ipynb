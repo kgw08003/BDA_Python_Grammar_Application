{
 "cells": [
  {
   "cell_type": "markdown",
   "id": "d117904d",
   "metadata": {},
   "source": [
    "## 필수과제 2\n",
    "- 30개 이상의 표본 생성해서 대응표본 t-test 진행\n",
    "- 정규성 검정과 함께 ttest, 윌콕슨 모두 검정 진행, 가설 채택 여부도 설명\n",
    "\n",
    "##### 훈련 전과 훈련 후 혈압 측정한 데이터\n",
    "- 코드의 각 데이터에 대한 정규성 검정을 수행\n",
    "- Shapiro-wilk 검정을 통해 혈압 데이터가 정규 분포를 따르는지 확인함.\n",
    "- 검정 결과 p-value가 0.05보다 클경우, 해당 데이터가 정규분포를 따른다 판단하면서 정규 분포라 출력"
   ]
  },
  {
   "cell_type": "code",
   "execution_count": 16,
   "id": "22309bba",
   "metadata": {},
   "outputs": [
    {
     "name": "stdout",
     "output_type": "stream",
     "text": [
      "before_training - Shapiro-Wilk Test:\n",
      "Statistic: 0.9447004199028015\n",
      "P-Value: 0.121768519282341\n",
      "Normality: 정규 분포입니다.\n",
      "\n",
      "after_training - Shapiro-Wilk Test:\n",
      "Statistic: 0.9527774453163147\n",
      "P-Value: 0.200534388422966\n",
      "Normality: 정규 분포입니다.\n"
     ]
    }
   ],
   "source": [
    "import pandas as pd\n",
    "from scipy.stats import ttest_rel, wilcoxon, shapiro\n",
    "\n",
    "# 훈련 전후의 혈압 데이터 \n",
    "before_training = [120, 125, 130, 122, 119, 121, 127, 124, 126, 128,\n",
    "                   130, 123, 122, 125, 119, 121, 123, 120, 129, 131,\n",
    "                   126, 123, 120, 129, 122, 124, 125, 126, 129, 130]\n",
    "\n",
    "after_training = [122, 119, 124, 121, 118, 120, 118, 122, 119, 125,\n",
    "                  118, 121, 119, 120, 120, 122, 120, 117, 123, 119,\n",
    "                  121, 119, 120, 120, 119, 123, 119, 120, 121, 122]\n",
    "\n",
    "# 정규성 검정\n",
    "shapiro_before = shapiro(before_training)\n",
    "shapiro_after = shapiro(after_training)\n",
    "\n",
    "print(\"before_training - Shapiro-Wilk Test:\")\n",
    "print(\"Statistic:\", shapiro_before.statistic)\n",
    "print(\"P-Value:\", shapiro_before.pvalue)\n",
    "print(\"Normality:\", \"정규 분포입니다.\" if shapiro_before.pvalue >= 0.05 else \"정규 분포가 아닙니다.\")\n",
    "\n",
    "print(\"\\nafter_training - Shapiro-Wilk Test:\")\n",
    "print(\"Statistic:\", shapiro_after.statistic)\n",
    "print(\"P-Value:\", shapiro_after.pvalue)\n",
    "print(\"Normality:\", \"정규 분포입니다.\" if shapiro_after.pvalue >= 0.05 else \"정규 분포가 아닙니다.\")\n"
   ]
  },
  {
   "cell_type": "markdown",
   "id": "b57d631a",
   "metadata": {},
   "source": [
    "- 대응 표본 T-검정과 윌콕슨 부호 순위 검정을 수행\n",
    "------------------\n",
    "- 대응 표본 T-검정은 두 개 관련 집단의 평균 차이를 검증하는데 사용\n",
    "- 윌콕슨 부호 순위 검정은 비모수적인 방법으로 두 집단의 중앙값 차이를 검증\n",
    "- 귀무가설은 운동 훈련 전후의 혈압 차이는 없다로 설정"
   ]
  },
  {
   "cell_type": "code",
   "execution_count": 17,
   "id": "89430494",
   "metadata": {},
   "outputs": [
    {
     "name": "stdout",
     "output_type": "stream",
     "text": [
      "Sample T-Test:\n",
      "T-Statistic: 6.373680491644989\n",
      "P-Value: 5.744554450005297e-07\n",
      "Result: 귀무가설 기각\n",
      "\n",
      "Signed-Rank Test:\n",
      "Statistic: 15.0\n",
      "P-Value: 1.136860514497281e-05\n",
      "Result: 귀무가설 기각\n"
     ]
    }
   ],
   "source": [
    "# 대응표본 T-검정\n",
    "t_stat, p_value_ttest = ttest_rel(before_training, after_training)\n",
    "\n",
    "# 윌콕슨 부호 순위 검정\n",
    "stat_wilcoxon, p_value_wilcoxon = wilcoxon(before_training, after_training)\n",
    "\n",
    "print(\"Sample T-Test:\")\n",
    "print(\"T-Statistic:\", t_stat)\n",
    "print(\"P-Value:\", p_value_ttest)\n",
    "print(\"Result:\", \"귀무가설 채택\" if p_value_ttest >= 0.05 else \"귀무가설 기각\")\n",
    "\n",
    "print(\"\\nSigned-Rank Test:\")\n",
    "print(\"Statistic:\", stat_wilcoxon)\n",
    "print(\"P-Value:\", p_value_wilcoxon)\n",
    "print(\"Result:\", \"귀무가설 채택\" if p_value_wilcoxon >= 0.05 else \"귀무가설 기각\")\n"
   ]
  },
  {
   "cell_type": "markdown",
   "id": "6401b55b",
   "metadata": {},
   "source": [
    "- 대응표본 T-검정의 p-value와 윌콕슨 부호 순위 검정의 p-value를 비교하여 유의수준 0.05와 비교하며, p-value가 유의수준보다 크거나 같으면 귀무가설을 채택하고, 작으면 귀무가설을 기각한다.\n",
    "- 귀무가설 기각이라는 결론이 나왔으므로, 운동 훈련이 혈압에 통계적으로 유의한 영향을 미치는 것으로 해석함.\n",
    "- 운동 훈련 후의 혈압이 운동 훈련 전보다 유의미 하게 변화했다는 의미\n"
   ]
  },
  {
   "cell_type": "code",
   "execution_count": null,
   "id": "d2624fd0",
   "metadata": {},
   "outputs": [],
   "source": []
  }
 ],
 "metadata": {
  "kernelspec": {
   "display_name": "Python 3 (ipykernel)",
   "language": "python",
   "name": "python3"
  },
  "language_info": {
   "codemirror_mode": {
    "name": "ipython",
    "version": 3
   },
   "file_extension": ".py",
   "mimetype": "text/x-python",
   "name": "python",
   "nbconvert_exporter": "python",
   "pygments_lexer": "ipython3",
   "version": "3.9.13"
  }
 },
 "nbformat": 4,
 "nbformat_minor": 5
}
