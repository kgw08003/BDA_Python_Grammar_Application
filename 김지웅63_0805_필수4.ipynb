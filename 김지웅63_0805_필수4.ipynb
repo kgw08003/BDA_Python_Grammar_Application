{
 "cells": [
  {
   "cell_type": "markdown",
   "id": "3094120f",
   "metadata": {},
   "source": [
    "### 필수과제 4\n",
    "- 스케일링을 진행할 때 \n",
    "- train과 test는 어떻게 나눠서 진행해야 하는가?\n",
    "- 한 번에 진행해야 하는가? 아니면 train 별로, test 별로 진행해야 하는가?\n",
    "- 만약 그렇다면 왜 그래야 하는지?"
   ]
  },
  {
   "cell_type": "markdown",
   "id": "754fbfce",
   "metadata": {},
   "source": [
    "- 데이터 스케일링을 진행할 때, 일반적으로는 train과 test 데이터를 따로 스케일링 하는 것이 좋다.\n",
    "- 이는 데이터 누설을 방지하기 위한 목적으로 사용한다. (데이터 누설은 모델이 훈련 데이터에 대해 너무 잘 작동하면서 테스트 데이터에는 일반화 되지 못하는 상황을 의미)\n",
    "- 이로인해 모델의 실제 성능을 정확하게 평가할 수 없게 된다."
   ]
  },
  {
   "cell_type": "markdown",
   "id": "0f5e0d7d",
   "metadata": {},
   "source": [
    "##### 데이터 분할: 먼저, 전체 데이터셋을 train과 test로 분할한다.\n",
    "- 일반적으로는 보통 70-80% 정도의 데이터를 훈련에 사용하고 나머지 20-30%를 테스트에 사용한다. \n",
    "- 분할은 무작위로 이루어져야 하며, 데이터의 특성과 분포를 고려하여 분할하는 것이 중요하다.\n",
    "\n",
    "##### 스케일링: 훈련 데이터셋에 대해서만 스케일링을 수행한다.\n",
    "- 스케일링은 데이터의 범위를 조정하여 모델이 빠르고 안정적으로 수렴하도록 도와준다. \n",
    "- 일반적인 스케일링 방법으로는 Standard Scaling (평균 0, 표준편차 1로 스케일링)이나 Min-Max Scaling (특정 범위로 스케일링) 등이 있다.\n",
    "\n",
    "##### 모델 훈련 및 평가: 스케일링된 훈련 데이터를 사용하여 모델을 훈련시키고, 테스트 데이터를 사용하여 모델의 성능을 평가합니다. \n",
    "- 이때, 테스트 데이터에 대해서는 어떠한 스케일링도 수행하지 않아야 한다. \n",
    "- 테스트 데이터에 대해서 스케일링을 수행하게 되면, 테스트 데이터의 정보가 모델 훈련에 누설되어 모델의 성능 평가가 편향될 수 있다.\n",
    "\n",
    "##### 새로운 데이터: 만약 모델을 실전에서 사용하려면, 새로운 데이터가 들어올 때에도 해당 데이터를 훈련 데이터와 동일한 스케일링 방식으로 처리해야 합니다. \n",
    "- 이는 모델이 훈련 데이터와 유사한 분포에서 동작하기 위해서이다."
   ]
  },
  {
   "cell_type": "code",
   "execution_count": null,
   "id": "47aca430",
   "metadata": {},
   "outputs": [],
   "source": []
  }
 ],
 "metadata": {
  "kernelspec": {
   "display_name": "Python 3 (ipykernel)",
   "language": "python",
   "name": "python3"
  },
  "language_info": {
   "codemirror_mode": {
    "name": "ipython",
    "version": 3
   },
   "file_extension": ".py",
   "mimetype": "text/x-python",
   "name": "python",
   "nbconvert_exporter": "python",
   "pygments_lexer": "ipython3",
   "version": "3.9.13"
  }
 },
 "nbformat": 4,
 "nbformat_minor": 5
}
