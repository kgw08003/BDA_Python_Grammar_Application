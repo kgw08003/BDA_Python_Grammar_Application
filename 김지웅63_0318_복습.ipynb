{
 "cells": [
  {
   "cell_type": "markdown",
   "id": "31e9cb53",
   "metadata": {},
   "source": [
    "### for 문은 range()함수와 함께 사용되는 경우가 많다.\n",
    "\n",
    "#### range()함수는 특정 범위의 정수 값을 가진다.\n",
    "\n",
    "##### range()함수의 4가지 유형\n",
    "\n",
    "- for 변수 in range(종료값):\n",
    "    문장 1\n",
    "    문장 2\n",
    "    ...\n",
    "    \n",
    "0 ~ 종료값-1 의 정수 범위(1씩 증가)의 값을 가진다.\n",
    "변수는 각 반복 루프에서 range() 범위에 잇는 각각의 값을 가진다.\n",
    "\n",
    "- for 변수 in range(시작값, 종료값):\n",
    "    문장 1\n",
    "    문장 2\n",
    "    ...\n",
    "    \n",
    "시작값에서 종료값-1의 정수 범위(1씩 증가)의 값을 가진다.\n",
    "\n",
    "- for 변수 in range(시작값, 종료값, 증가값):\n",
    "    문장 1\n",
    "    문장 2\n",
    "    ...\n",
    "    \n",
    "시작값 ~ 종료값-1의 정수 범위를 갖는데, 각 정수 사이의 간격은 증가값에 의해 결정된다.\n",
    "\n",
    "- for 변수 in range(시작값, 종료값, 감소값):\n",
    "    문장 1\n",
    "    문장 2\n",
    "    ...\n",
    "    \n",
    "감소값, 음수의 값을 가지는 경우 범위는 시작값 ~ 종료값 + 1 이 된다."
   ]
  },
  {
   "cell_type": "code",
   "execution_count": 1,
   "id": "1110e6c0",
   "metadata": {},
   "outputs": [
    {
     "name": "stdout",
     "output_type": "stream",
     "text": [
      "2\n",
      "4\n",
      "6\n",
      "8\n",
      "10\n",
      "12\n",
      "14\n",
      "16\n",
      "18\n",
      "20\n"
     ]
    }
   ],
   "source": [
    "for i in range (1,21):\n",
    "    if i % 2 == 0:\n",
    "        print(i)\n",
    "# 1부터 21까지의 숫자 중 짝수(2로 나누어 떨어지는 수)를 출력함"
   ]
  },
  {
   "cell_type": "code",
   "execution_count": 2,
   "id": "f699a8bf",
   "metadata": {},
   "outputs": [
    {
     "name": "stdout",
     "output_type": "stream",
     "text": [
      "2\n",
      "4\n",
      "6\n",
      "8\n",
      "10\n",
      "12\n",
      "14\n",
      "16\n",
      "18\n",
      "20\n"
     ]
    }
   ],
   "source": [
    "for i in range(2,21,2):\n",
    "    print(i)\n",
    "# 2부터 21까지 숫자를 2 간격으로 출력"
   ]
  },
  {
   "cell_type": "code",
   "execution_count": 3,
   "id": "155a5b8b",
   "metadata": {},
   "outputs": [
    {
     "name": "stdout",
     "output_type": "stream",
     "text": [
      "2\n",
      "4\n",
      "6\n",
      "8\n",
      "10\n",
      "12\n",
      "14\n",
      "16\n",
      "18\n",
      "20\n"
     ]
    }
   ],
   "source": [
    "for i in range(1,11,1):\n",
    "    z = i*2\n",
    "    print(z)"
   ]
  },
  {
   "cell_type": "markdown",
   "id": "25c434e6",
   "metadata": {},
   "source": [
    "### 2차원 리스트\n",
    "- 2차원 행과 열 두 가지로 이루어 진것\n",
    "- 행은 index 열은 column 두 가지로 이루어 진것\n",
    "- 데이터프레임 df또한 2차원으로 이루어진 형태"
   ]
  },
  {
   "cell_type": "code",
   "execution_count": 4,
   "id": "08f26093",
   "metadata": {},
   "outputs": [],
   "source": [
    "a = [[1,2],[3,4],[4,5]]"
   ]
  },
  {
   "cell_type": "code",
   "execution_count": 5,
   "id": "b660d9f6",
   "metadata": {},
   "outputs": [
    {
     "data": {
      "text/plain": [
       "[[1, 2], [3, 4], [4, 5]]"
      ]
     },
     "execution_count": 5,
     "metadata": {},
     "output_type": "execute_result"
    }
   ],
   "source": [
    "a"
   ]
  },
  {
   "cell_type": "code",
   "execution_count": 6,
   "id": "213c487b",
   "metadata": {},
   "outputs": [],
   "source": [
    "c = [[6,7],[8,9],[10,11]]"
   ]
  },
  {
   "cell_type": "code",
   "execution_count": 7,
   "id": "8daa73b9",
   "metadata": {},
   "outputs": [
    {
     "data": {
      "text/plain": [
       "[[6, 7], [8, 9], [10, 11]]"
      ]
     },
     "execution_count": 7,
     "metadata": {},
     "output_type": "execute_result"
    }
   ],
   "source": [
    "c"
   ]
  },
  {
   "cell_type": "markdown",
   "id": "e5a01b5b",
   "metadata": {},
   "source": [
    "### 파이썬에서 결국 담는 주머니 다르고 그 주머니를 불러오는 방법이 다르다.\n",
    "- 리스트에 담아도 그 리스트를 가지고 바로 값을 접근 할 수 없다.\n",
    "- 데이터프레임이면 담는 그릇 데이터프레임이더라도 이 값을 바꾸거나 계산하려면 값에 바로 접근할 수 없다.\n",
    "\n",
    "- 그 값을 접근하려면 접근 방식을 알아야 한다.\n",
    "- 접근방식으로 모르고 진행하면 답답하다.\n",
    "\n",
    "- 값 접근하려면? how to?\n",
    "- 인덱스로 접근한다."
   ]
  },
  {
   "cell_type": "code",
   "execution_count": 8,
   "id": "970ef7f5",
   "metadata": {},
   "outputs": [
    {
     "name": "stdout",
     "output_type": "stream",
     "text": [
      "반복문 쉬워!\n",
      "반복문 쉬워!\n",
      "반복문 쉬워!\n",
      "반복문 쉬워!\n",
      "반복문 쉬워!\n",
      "반복문 쉬워!\n",
      "반복문 쉬워!\n",
      "반복문 쉬워!\n",
      "반복문 쉬워!\n",
      "반복문 쉬워!\n"
     ]
    }
   ],
   "source": [
    "for i in range(10): # i 루프인덱스로 10번 반복\n",
    "    print('반복문 쉬워!')"
   ]
  },
  {
   "cell_type": "code",
   "execution_count": 9,
   "id": "0fa39178",
   "metadata": {},
   "outputs": [
    {
     "data": {
      "text/plain": [
       "[[1, 2], [3, 4], [4, 5]]"
      ]
     },
     "execution_count": 9,
     "metadata": {},
     "output_type": "execute_result"
    }
   ],
   "source": [
    "a"
   ]
  },
  {
   "cell_type": "code",
   "execution_count": 10,
   "id": "925752a0",
   "metadata": {},
   "outputs": [
    {
     "data": {
      "text/plain": [
       "5"
      ]
     },
     "execution_count": 10,
     "metadata": {},
     "output_type": "execute_result"
    }
   ],
   "source": [
    "#인덱스로 접근\n",
    "a[2][1]"
   ]
  },
  {
   "cell_type": "code",
   "execution_count": 11,
   "id": "a81ab0e6",
   "metadata": {},
   "outputs": [
    {
     "data": {
      "text/plain": [
       "7"
      ]
     },
     "execution_count": 11,
     "metadata": {},
     "output_type": "execute_result"
    }
   ],
   "source": [
    "c[0][1]"
   ]
  },
  {
   "cell_type": "code",
   "execution_count": 12,
   "id": "2b3a4b27",
   "metadata": {},
   "outputs": [],
   "source": [
    "#1차원 접근\n",
    "b = ['a','b','c','d','e']"
   ]
  },
  {
   "cell_type": "markdown",
   "id": "9bde051e",
   "metadata": {},
   "source": [
    "### b의 요소를 다 불러오는 반복문을 만들어 주세요!"
   ]
  },
  {
   "cell_type": "code",
   "execution_count": 13,
   "id": "5ada4448",
   "metadata": {},
   "outputs": [
    {
     "name": "stdout",
     "output_type": "stream",
     "text": [
      "0\n",
      "1\n",
      "2\n",
      "3\n",
      "4\n",
      "5\n",
      "6\n",
      "7\n",
      "8\n",
      "9\n"
     ]
    }
   ],
   "source": [
    "for i in range(10):\n",
    "    print(i) #0,1,2,3,4,5,6,7,8,9 반복"
   ]
  },
  {
   "cell_type": "code",
   "execution_count": 14,
   "id": "a1cf8bcc",
   "metadata": {},
   "outputs": [
    {
     "name": "stdout",
     "output_type": "stream",
     "text": [
      "a\n",
      "b\n",
      "c\n",
      "d\n",
      "e\n"
     ]
    }
   ],
   "source": [
    "for i in b:\n",
    "    print(i) # 시퀀스객체 "
   ]
  },
  {
   "cell_type": "markdown",
   "id": "2f0bdde8",
   "metadata": {},
   "source": [
    "Q2. b = ['a','b','c','d','e'] for i in b 사용하지 말고 다르게 표현해 주세요! 반복문 만들어 주세요!"
   ]
  },
  {
   "cell_type": "code",
   "execution_count": 15,
   "id": "bdcfe17f",
   "metadata": {},
   "outputs": [
    {
     "name": "stdout",
     "output_type": "stream",
     "text": [
      "a\n",
      "b\n",
      "c\n",
      "d\n",
      "e\n"
     ]
    }
   ],
   "source": [
    "for i in range(len(b)):\n",
    "    print(b[i])"
   ]
  },
  {
   "cell_type": "code",
   "execution_count": 16,
   "id": "fb13928f",
   "metadata": {},
   "outputs": [
    {
     "data": {
      "text/plain": [
       "5"
      ]
     },
     "execution_count": 16,
     "metadata": {},
     "output_type": "execute_result"
    }
   ],
   "source": [
    "len(b)"
   ]
  },
  {
   "cell_type": "code",
   "execution_count": 17,
   "id": "b7e697ea",
   "metadata": {},
   "outputs": [
    {
     "name": "stdout",
     "output_type": "stream",
     "text": [
      "a\n",
      "b\n",
      "c\n",
      "d\n",
      "e\n"
     ]
    }
   ],
   "source": [
    "for i in range(5):\n",
    "    print(b[i]) # 사실 같은 얘기"
   ]
  },
  {
   "cell_type": "markdown",
   "id": "22579315",
   "metadata": {},
   "source": [
    "### 내가 추출하고 싶은 주머니에 대해서 그 값을 어떻게 접근할 수 있는지 정확히 알면 된다.\n",
    "- Q3\n",
    "a = [[1,2], [3,4], [4,5]]\n",
    "- []리스트를 다 빼고 값만 출력 "
   ]
  },
  {
   "cell_type": "code",
   "execution_count": 18,
   "id": "edea3e53",
   "metadata": {},
   "outputs": [
    {
     "name": "stdout",
     "output_type": "stream",
     "text": [
      "[1, 2]\n",
      "[3, 4]\n",
      "[4, 5]\n"
     ]
    }
   ],
   "source": [
    "for i in a:\n",
    "    print(i)"
   ]
  },
  {
   "cell_type": "code",
   "execution_count": 19,
   "id": "3787a9d5",
   "metadata": {},
   "outputs": [
    {
     "name": "stdout",
     "output_type": "stream",
     "text": [
      "1\n",
      "2\n",
      "3\n",
      "4\n",
      "4\n",
      "5\n"
     ]
    }
   ],
   "source": [
    "for i in a: # \n",
    "    for j in i:\n",
    "        print(j)"
   ]
  },
  {
   "cell_type": "code",
   "execution_count": 20,
   "id": "c33e28ea",
   "metadata": {},
   "outputs": [
    {
     "name": "stdout",
     "output_type": "stream",
     "text": [
      "1\n",
      "2\n",
      "3\n",
      "4\n",
      "4\n",
      "5\n"
     ]
    }
   ],
   "source": [
    "for i in range(3):\n",
    "    for j in range(2):\n",
    "        print(a[i][j])"
   ]
  },
  {
   "cell_type": "markdown",
   "id": "6a11a22f",
   "metadata": {},
   "source": [
    "- [1,2] 0,0 0,1\n",
    "- [3,4] 1,0 1,1\n",
    "- [5,6] 2,0 2,1"
   ]
  },
  {
   "cell_type": "code",
   "execution_count": 21,
   "id": "0d116f87",
   "metadata": {},
   "outputs": [
    {
     "data": {
      "text/plain": [
       "2"
      ]
     },
     "execution_count": 21,
     "metadata": {},
     "output_type": "execute_result"
    }
   ],
   "source": [
    "a[0][1]"
   ]
  },
  {
   "cell_type": "code",
   "execution_count": 22,
   "id": "dffc4a2a",
   "metadata": {},
   "outputs": [
    {
     "name": "stdout",
     "output_type": "stream",
     "text": [
      "[[6, 7], [8, 9], [10, 11]]\n",
      "[[6, 7], [8, 9], [10, 11]]\n",
      "[[6, 7], [8, 9], [10, 11]]\n"
     ]
    }
   ],
   "source": [
    "for i in c:\n",
    "    print(c)"
   ]
  },
  {
   "cell_type": "code",
   "execution_count": 23,
   "id": "659ea3d9",
   "metadata": {},
   "outputs": [
    {
     "name": "stdout",
     "output_type": "stream",
     "text": [
      "[6, 7]\n",
      "[8, 9]\n",
      "[10, 11]\n"
     ]
    }
   ],
   "source": [
    "for i in c:\n",
    "    print(i)"
   ]
  },
  {
   "cell_type": "markdown",
   "id": "61d6a226",
   "metadata": {},
   "source": [
    "### 빈 리스트를 만들어서 그 리스트에 요소를 추가한다.\n",
    "- q4. 빈 리스트를 만들고 1부터 20중 짝수 값만 빈 리스트에 넣어주세요!"
   ]
  },
  {
   "cell_type": "code",
   "execution_count": 32,
   "id": "ea35d3c1",
   "metadata": {},
   "outputs": [
    {
     "name": "stdout",
     "output_type": "stream",
     "text": [
      "[1, 3, 5, 7, 9, 11, 13, 15, 17, 19]\n"
     ]
    }
   ],
   "source": [
    "#홀수를 담기\n",
    "hol = []\n",
    "for i in range(1,21,2):\n",
    "    hol.append(i)\n",
    "print(hol)"
   ]
  },
  {
   "cell_type": "code",
   "execution_count": 25,
   "id": "fb0df3e2",
   "metadata": {},
   "outputs": [
    {
     "name": "stdout",
     "output_type": "stream",
     "text": [
      "[2, 4, 6, 8, 10, 12, 14, 16, 18, 20]\n"
     ]
    }
   ],
   "source": [
    "#짝수를 담기\n",
    "list_1 = []\n",
    "for i in range(1,21):\n",
    "    if i % 2 == 0:\n",
    "        list_1.append(i)\n",
    "    \n",
    "print(list_1)"
   ]
  },
  {
   "cell_type": "code",
   "execution_count": 33,
   "id": "1ca122a5",
   "metadata": {},
   "outputs": [
    {
     "name": "stdout",
     "output_type": "stream",
     "text": [
      "[1, 2, 3, 4, 5, 6, 7, 8, 9, 10, 11, 12, 13, 14, 15, 16, 17, 18, 19, 20]\n"
     ]
    }
   ],
   "source": [
    "# 전체 담기\n",
    "list_2 = []\n",
    "for i in range(1,21):\n",
    "    list_2.append(i)\n",
    "    \n",
    "print(list_2)"
   ]
  },
  {
   "cell_type": "markdown",
   "id": "df1786d7",
   "metadata": {},
   "source": [
    "Q5. [[0,0] [0,1],[1,0],[1,1]] \n",
    "2차원 리스트를 만들어 주세요! 위의 값이 들어간 2차원 리스트를 만들어 주세요!"
   ]
  },
  {
   "cell_type": "code",
   "execution_count": 27,
   "id": "31ea2337",
   "metadata": {},
   "outputs": [
    {
     "name": "stdout",
     "output_type": "stream",
     "text": [
      "[[0, 0], [0, 1], [1, 0], [1, 1]]\n"
     ]
    }
   ],
   "source": [
    "abc=[]\n",
    "for i in range(2): #0 1\n",
    "    for j in range(2): #0 1 \n",
    "        abc.append([i,j])\n",
    "print(abc)"
   ]
  },
  {
   "cell_type": "code",
   "execution_count": 30,
   "id": "280c6433",
   "metadata": {},
   "outputs": [
    {
     "name": "stdout",
     "output_type": "stream",
     "text": [
      "[[0, 1], [0, 1]]\n"
     ]
    }
   ],
   "source": [
    "a = []\n",
    "for i in range(2):\n",
    "    b = []\n",
    "    for j in range(2):\n",
    "        b.append(j)\n",
    "    a.append(b)\n",
    "print(a)"
   ]
  },
  {
   "cell_type": "code",
   "execution_count": 45,
   "id": "a0cffbe3",
   "metadata": {},
   "outputs": [
    {
     "name": "stdout",
     "output_type": "stream",
     "text": [
      "0123456789"
     ]
    }
   ],
   "source": [
    "for i in range(10):\n",
    "    print(i, end ='')\n"
   ]
  },
  {
   "cell_type": "code",
   "execution_count": 46,
   "id": "41e3d575",
   "metadata": {},
   "outputs": [
    {
     "name": "stdout",
     "output_type": "stream",
     "text": [
      "12345678910"
     ]
    }
   ],
   "source": [
    "for i in range(1,11):\n",
    "    print(i,end ='')\n"
   ]
  },
  {
   "cell_type": "code",
   "execution_count": 47,
   "id": "304fc53f",
   "metadata": {},
   "outputs": [
    {
     "name": "stdout",
     "output_type": "stream",
     "text": [
      "13579"
     ]
    }
   ],
   "source": [
    "for i in range(1,10,2):\n",
    "    print(i, end ='')\n"
   ]
  },
  {
   "cell_type": "code",
   "execution_count": 48,
   "id": "76becc7c",
   "metadata": {},
   "outputs": [
    {
     "name": "stdout",
     "output_type": "stream",
     "text": [
      "2018161412108642"
     ]
    }
   ],
   "source": [
    "for i in range(20,0,-2):\n",
    "    print(i,end ='')"
   ]
  },
  {
   "cell_type": "code",
   "execution_count": 1,
   "id": "b80b6d12",
   "metadata": {},
   "outputs": [
    {
     "name": "stdout",
     "output_type": "stream",
     "text": [
      "2 x 1 = 2\n",
      "2 x 2 = 4\n",
      "2 x 3 = 6\n",
      "2 x 4 = 8\n",
      "2 x 5 = 10\n",
      "2 x 6 = 12\n",
      "2 x 7 = 14\n",
      "2 x 8 = 16\n",
      "2 x 9 = 18\n"
     ]
    }
   ],
   "source": [
    "a = 2\n",
    "\n",
    "for b in range(1,10):\n",
    "    c = a * b\n",
    "    print('%d x %d = %d'%(a,b,c))"
   ]
  },
  {
   "cell_type": "code",
   "execution_count": null,
   "id": "0d43cc0d",
   "metadata": {},
   "outputs": [],
   "source": []
  }
 ],
 "metadata": {
  "kernelspec": {
   "display_name": "Python 3 (ipykernel)",
   "language": "python",
   "name": "python3"
  },
  "language_info": {
   "codemirror_mode": {
    "name": "ipython",
    "version": 3
   },
   "file_extension": ".py",
   "mimetype": "text/x-python",
   "name": "python",
   "nbconvert_exporter": "python",
   "pygments_lexer": "ipython3",
   "version": "3.9.13"
  }
 },
 "nbformat": 4,
 "nbformat_minor": 5
}
