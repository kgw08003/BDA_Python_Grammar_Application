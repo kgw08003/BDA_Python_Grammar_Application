{
 "cells": [
  {
   "cell_type": "markdown",
   "id": "655b62fe",
   "metadata": {
    "toc": true
   },
   "source": [
    "<h1>Table of Contents<span class=\"tocSkip\"></span></h1>\n",
    "<div class=\"toc\"><ul class=\"toc-item\"><li><span><a href=\"#필수과제\" data-toc-modified-id=\"필수과제-1\"><span class=\"toc-item-num\">1&nbsp;&nbsp;</span>필수과제</a></span></li><li><span><a href=\"#결측치-전처리\" data-toc-modified-id=\"결측치-전처리-2\"><span class=\"toc-item-num\">2&nbsp;&nbsp;</span>결측치 전처리</a></span><ul class=\"toc-item\"><li><span><a href=\"#중간정리\" data-toc-modified-id=\"중간정리-2.1\"><span class=\"toc-item-num\">2.1&nbsp;&nbsp;</span>중간정리</a></span></li><li><span><a href=\"#workclass의-결측치-채워주기\" data-toc-modified-id=\"workclass의-결측치-채워주기-2.2\"><span class=\"toc-item-num\">2.2&nbsp;&nbsp;</span>workclass의 결측치 채워주기</a></span></li><li><span><a href=\"#occupation의-결측치-채워주기\" data-toc-modified-id=\"occupation의-결측치-채워주기-2.3\"><span class=\"toc-item-num\">2.3&nbsp;&nbsp;</span>occupation의 결측치 채워주기</a></span></li><li><span><a href=\"#native-country컬럼의-결측치-전처리\" data-toc-modified-id=\"native-country컬럼의-결측치-전처리-2.4\"><span class=\"toc-item-num\">2.4&nbsp;&nbsp;</span>native-country컬럼의 결측치 전처리</a></span></li></ul></li><li><span><a href=\"#문자형-->-수치형-변경-및-범주-간소화\" data-toc-modified-id=\"문자형-->-수치형-변경-및-범주-간소화-3\"><span class=\"toc-item-num\">3&nbsp;&nbsp;</span>문자형 -&gt; 수치형 변경 및 범주 간소화</a></span><ul class=\"toc-item\"><li><span><a href=\"#이미-인코딩-된-중복-문자형-컬럼-유무-확인\" data-toc-modified-id=\"이미-인코딩-된-중복-문자형-컬럼-유무-확인-3.1\"><span class=\"toc-item-num\">3.1&nbsp;&nbsp;</span>이미 인코딩 된 중복 문자형 컬럼 유무 확인</a></span></li><li><span><a href=\"#수치형-데이터\" data-toc-modified-id=\"수치형-데이터-3.2\"><span class=\"toc-item-num\">3.2&nbsp;&nbsp;</span>수치형 데이터</a></span><ul class=\"toc-item\"><li><span><a href=\"#age-컬럼\" data-toc-modified-id=\"age-컬럼-3.2.1\"><span class=\"toc-item-num\">3.2.1&nbsp;&nbsp;</span>age 컬럼</a></span></li><li><span><a href=\"#education_num-컬럼\" data-toc-modified-id=\"education_num-컬럼-3.2.2\"><span class=\"toc-item-num\">3.2.2&nbsp;&nbsp;</span>education_num 컬럼</a></span></li><li><span><a href=\"#capital-gain-컬럼\" data-toc-modified-id=\"capital-gain-컬럼-3.2.3\"><span class=\"toc-item-num\">3.2.3&nbsp;&nbsp;</span>capital-gain 컬럼</a></span></li><li><span><a href=\"#capital-loss-컬럼\" data-toc-modified-id=\"capital-loss-컬럼-3.2.4\"><span class=\"toc-item-num\">3.2.4&nbsp;&nbsp;</span>capital-loss 컬럼</a></span></li><li><span><a href=\"#hours-per-week-컬럼\" data-toc-modified-id=\"hours-per-week-컬럼-3.2.5\"><span class=\"toc-item-num\">3.2.5&nbsp;&nbsp;</span>hours-per-week 컬럼</a></span></li></ul></li><li><span><a href=\"#문자형-데이터\" data-toc-modified-id=\"문자형-데이터-3.3\"><span class=\"toc-item-num\">3.3&nbsp;&nbsp;</span>문자형 데이터</a></span><ul class=\"toc-item\"><li><span><a href=\"#workclass-컬럼\" data-toc-modified-id=\"workclass-컬럼-3.3.1\"><span class=\"toc-item-num\">3.3.1&nbsp;&nbsp;</span>workclass 컬럼</a></span></li><li><span><a href=\"#marital-status-컬럼\" data-toc-modified-id=\"marital-status-컬럼-3.3.2\"><span class=\"toc-item-num\">3.3.2&nbsp;&nbsp;</span>marital-status 컬럼</a></span></li><li><span><a href=\"#occupation-컬럼\" data-toc-modified-id=\"occupation-컬럼-3.3.3\"><span class=\"toc-item-num\">3.3.3&nbsp;&nbsp;</span>occupation 컬럼</a></span></li><li><span><a href=\"#relationship-컬럼\" data-toc-modified-id=\"relationship-컬럼-3.3.4\"><span class=\"toc-item-num\">3.3.4&nbsp;&nbsp;</span>relationship 컬럼</a></span></li><li><span><a href=\"#race-컬럼\" data-toc-modified-id=\"race-컬럼-3.3.5\"><span class=\"toc-item-num\">3.3.5&nbsp;&nbsp;</span>race 컬럼</a></span></li><li><span><a href=\"#sex-컬럼\" data-toc-modified-id=\"sex-컬럼-3.3.6\"><span class=\"toc-item-num\">3.3.6&nbsp;&nbsp;</span>sex 컬럼</a></span></li><li><span><a href=\"#native-country-컬럼\" data-toc-modified-id=\"native-country-컬럼-3.3.7\"><span class=\"toc-item-num\">3.3.7&nbsp;&nbsp;</span>native-country 컬럼</a></span></li></ul></li></ul></li><li><span><a href=\"#x-데이터-y-데이터-병합-및-분할\" data-toc-modified-id=\"x-데이터-y-데이터-병합-및-분할-4\"><span class=\"toc-item-num\">4&nbsp;&nbsp;</span>x 데이터 y 데이터 병합 및 분할</a></span></li><li><span><a href=\"#데이터-전처리-완료!\" data-toc-modified-id=\"데이터-전처리-완료!-5\"><span class=\"toc-item-num\">5&nbsp;&nbsp;</span>데이터 전처리 완료!</a></span></li></ul></div>"
   ]
  },
  {
   "cell_type": "markdown",
   "id": "1f55279a",
   "metadata": {},
   "source": [
    "# 필수과제 \n",
    "\n",
    "- 기존 salary 과제를 다시 검토해 주시고\n",
    "- 전처리를 진행해 주세요!"
   ]
  },
  {
   "cell_type": "code",
   "execution_count": 1,
   "id": "22e69b2d",
   "metadata": {},
   "outputs": [],
   "source": [
    "import pandas as pd\n",
    "import numpy as np\n",
    "import seaborn as sns\n",
    "import matplotlib.pyplot as plt"
   ]
  },
  {
   "cell_type": "code",
   "execution_count": 2,
   "id": "989c40d0",
   "metadata": {},
   "outputs": [],
   "source": [
    "df = pd.read_csv('salary_class.csv')"
   ]
  },
  {
   "cell_type": "code",
   "execution_count": 3,
   "id": "392fba67",
   "metadata": {},
   "outputs": [
    {
     "data": {
      "text/html": [
       "<div>\n",
       "<style scoped>\n",
       "    .dataframe tbody tr th:only-of-type {\n",
       "        vertical-align: middle;\n",
       "    }\n",
       "\n",
       "    .dataframe tbody tr th {\n",
       "        vertical-align: top;\n",
       "    }\n",
       "\n",
       "    .dataframe thead th {\n",
       "        text-align: right;\n",
       "    }\n",
       "</style>\n",
       "<table border=\"1\" class=\"dataframe\">\n",
       "  <thead>\n",
       "    <tr style=\"text-align: right;\">\n",
       "      <th></th>\n",
       "      <th>Unnamed: 0</th>\n",
       "      <th>age</th>\n",
       "      <th>workclass</th>\n",
       "      <th>education</th>\n",
       "      <th>education-num</th>\n",
       "      <th>marital-status</th>\n",
       "      <th>occupation</th>\n",
       "      <th>relationship</th>\n",
       "      <th>race</th>\n",
       "      <th>sex</th>\n",
       "      <th>capital-gain</th>\n",
       "      <th>capital-loss</th>\n",
       "      <th>hours-per-week</th>\n",
       "      <th>native-country</th>\n",
       "      <th>class</th>\n",
       "    </tr>\n",
       "  </thead>\n",
       "  <tbody>\n",
       "    <tr>\n",
       "      <th>0</th>\n",
       "      <td>0</td>\n",
       "      <td>25</td>\n",
       "      <td>Private</td>\n",
       "      <td>11th</td>\n",
       "      <td>7</td>\n",
       "      <td>Never-married</td>\n",
       "      <td>Machine-op-inspct</td>\n",
       "      <td>Own-child</td>\n",
       "      <td>Black</td>\n",
       "      <td>Male</td>\n",
       "      <td>0</td>\n",
       "      <td>0</td>\n",
       "      <td>40</td>\n",
       "      <td>United-States</td>\n",
       "      <td>0</td>\n",
       "    </tr>\n",
       "    <tr>\n",
       "      <th>1</th>\n",
       "      <td>1</td>\n",
       "      <td>38</td>\n",
       "      <td>Private</td>\n",
       "      <td>HS-grad</td>\n",
       "      <td>9</td>\n",
       "      <td>Married-civ-spouse</td>\n",
       "      <td>Farming-fishing</td>\n",
       "      <td>Husband</td>\n",
       "      <td>White</td>\n",
       "      <td>Male</td>\n",
       "      <td>0</td>\n",
       "      <td>0</td>\n",
       "      <td>50</td>\n",
       "      <td>United-States</td>\n",
       "      <td>0</td>\n",
       "    </tr>\n",
       "    <tr>\n",
       "      <th>2</th>\n",
       "      <td>2</td>\n",
       "      <td>28</td>\n",
       "      <td>Local-gov</td>\n",
       "      <td>Assoc-acdm</td>\n",
       "      <td>12</td>\n",
       "      <td>Married-civ-spouse</td>\n",
       "      <td>Protective-serv</td>\n",
       "      <td>Husband</td>\n",
       "      <td>White</td>\n",
       "      <td>Male</td>\n",
       "      <td>0</td>\n",
       "      <td>0</td>\n",
       "      <td>40</td>\n",
       "      <td>United-States</td>\n",
       "      <td>1</td>\n",
       "    </tr>\n",
       "    <tr>\n",
       "      <th>3</th>\n",
       "      <td>3</td>\n",
       "      <td>44</td>\n",
       "      <td>Private</td>\n",
       "      <td>Some-college</td>\n",
       "      <td>10</td>\n",
       "      <td>Married-civ-spouse</td>\n",
       "      <td>Machine-op-inspct</td>\n",
       "      <td>Husband</td>\n",
       "      <td>Black</td>\n",
       "      <td>Male</td>\n",
       "      <td>7688</td>\n",
       "      <td>0</td>\n",
       "      <td>40</td>\n",
       "      <td>United-States</td>\n",
       "      <td>1</td>\n",
       "    </tr>\n",
       "    <tr>\n",
       "      <th>4</th>\n",
       "      <td>4</td>\n",
       "      <td>18</td>\n",
       "      <td>NaN</td>\n",
       "      <td>Some-college</td>\n",
       "      <td>10</td>\n",
       "      <td>Never-married</td>\n",
       "      <td>NaN</td>\n",
       "      <td>Own-child</td>\n",
       "      <td>White</td>\n",
       "      <td>Female</td>\n",
       "      <td>0</td>\n",
       "      <td>0</td>\n",
       "      <td>30</td>\n",
       "      <td>United-States</td>\n",
       "      <td>0</td>\n",
       "    </tr>\n",
       "    <tr>\n",
       "      <th>...</th>\n",
       "      <td>...</td>\n",
       "      <td>...</td>\n",
       "      <td>...</td>\n",
       "      <td>...</td>\n",
       "      <td>...</td>\n",
       "      <td>...</td>\n",
       "      <td>...</td>\n",
       "      <td>...</td>\n",
       "      <td>...</td>\n",
       "      <td>...</td>\n",
       "      <td>...</td>\n",
       "      <td>...</td>\n",
       "      <td>...</td>\n",
       "      <td>...</td>\n",
       "      <td>...</td>\n",
       "    </tr>\n",
       "    <tr>\n",
       "      <th>48837</th>\n",
       "      <td>48837</td>\n",
       "      <td>27</td>\n",
       "      <td>Private</td>\n",
       "      <td>Assoc-acdm</td>\n",
       "      <td>12</td>\n",
       "      <td>Married-civ-spouse</td>\n",
       "      <td>Tech-support</td>\n",
       "      <td>Wife</td>\n",
       "      <td>White</td>\n",
       "      <td>Female</td>\n",
       "      <td>0</td>\n",
       "      <td>0</td>\n",
       "      <td>38</td>\n",
       "      <td>United-States</td>\n",
       "      <td>0</td>\n",
       "    </tr>\n",
       "    <tr>\n",
       "      <th>48838</th>\n",
       "      <td>48838</td>\n",
       "      <td>40</td>\n",
       "      <td>Private</td>\n",
       "      <td>HS-grad</td>\n",
       "      <td>9</td>\n",
       "      <td>Married-civ-spouse</td>\n",
       "      <td>Machine-op-inspct</td>\n",
       "      <td>Husband</td>\n",
       "      <td>White</td>\n",
       "      <td>Male</td>\n",
       "      <td>0</td>\n",
       "      <td>0</td>\n",
       "      <td>40</td>\n",
       "      <td>United-States</td>\n",
       "      <td>1</td>\n",
       "    </tr>\n",
       "    <tr>\n",
       "      <th>48839</th>\n",
       "      <td>48839</td>\n",
       "      <td>58</td>\n",
       "      <td>Private</td>\n",
       "      <td>HS-grad</td>\n",
       "      <td>9</td>\n",
       "      <td>Widowed</td>\n",
       "      <td>Adm-clerical</td>\n",
       "      <td>Unmarried</td>\n",
       "      <td>White</td>\n",
       "      <td>Female</td>\n",
       "      <td>0</td>\n",
       "      <td>0</td>\n",
       "      <td>40</td>\n",
       "      <td>United-States</td>\n",
       "      <td>0</td>\n",
       "    </tr>\n",
       "    <tr>\n",
       "      <th>48840</th>\n",
       "      <td>48840</td>\n",
       "      <td>22</td>\n",
       "      <td>Private</td>\n",
       "      <td>HS-grad</td>\n",
       "      <td>9</td>\n",
       "      <td>Never-married</td>\n",
       "      <td>Adm-clerical</td>\n",
       "      <td>Own-child</td>\n",
       "      <td>White</td>\n",
       "      <td>Male</td>\n",
       "      <td>0</td>\n",
       "      <td>0</td>\n",
       "      <td>20</td>\n",
       "      <td>United-States</td>\n",
       "      <td>0</td>\n",
       "    </tr>\n",
       "    <tr>\n",
       "      <th>48841</th>\n",
       "      <td>48841</td>\n",
       "      <td>52</td>\n",
       "      <td>Self-emp-inc</td>\n",
       "      <td>HS-grad</td>\n",
       "      <td>9</td>\n",
       "      <td>Married-civ-spouse</td>\n",
       "      <td>Exec-managerial</td>\n",
       "      <td>Wife</td>\n",
       "      <td>White</td>\n",
       "      <td>Female</td>\n",
       "      <td>15024</td>\n",
       "      <td>0</td>\n",
       "      <td>40</td>\n",
       "      <td>United-States</td>\n",
       "      <td>1</td>\n",
       "    </tr>\n",
       "  </tbody>\n",
       "</table>\n",
       "<p>48842 rows × 15 columns</p>\n",
       "</div>"
      ],
      "text/plain": [
       "       Unnamed: 0  age     workclass     education  education-num  \\\n",
       "0               0   25       Private          11th              7   \n",
       "1               1   38       Private       HS-grad              9   \n",
       "2               2   28     Local-gov    Assoc-acdm             12   \n",
       "3               3   44       Private  Some-college             10   \n",
       "4               4   18           NaN  Some-college             10   \n",
       "...           ...  ...           ...           ...            ...   \n",
       "48837       48837   27       Private    Assoc-acdm             12   \n",
       "48838       48838   40       Private       HS-grad              9   \n",
       "48839       48839   58       Private       HS-grad              9   \n",
       "48840       48840   22       Private       HS-grad              9   \n",
       "48841       48841   52  Self-emp-inc       HS-grad              9   \n",
       "\n",
       "           marital-status         occupation relationship   race     sex  \\\n",
       "0           Never-married  Machine-op-inspct    Own-child  Black    Male   \n",
       "1      Married-civ-spouse    Farming-fishing      Husband  White    Male   \n",
       "2      Married-civ-spouse    Protective-serv      Husband  White    Male   \n",
       "3      Married-civ-spouse  Machine-op-inspct      Husband  Black    Male   \n",
       "4           Never-married                NaN    Own-child  White  Female   \n",
       "...                   ...                ...          ...    ...     ...   \n",
       "48837  Married-civ-spouse       Tech-support         Wife  White  Female   \n",
       "48838  Married-civ-spouse  Machine-op-inspct      Husband  White    Male   \n",
       "48839             Widowed       Adm-clerical    Unmarried  White  Female   \n",
       "48840       Never-married       Adm-clerical    Own-child  White    Male   \n",
       "48841  Married-civ-spouse    Exec-managerial         Wife  White  Female   \n",
       "\n",
       "       capital-gain  capital-loss  hours-per-week native-country  class  \n",
       "0                 0             0              40  United-States      0  \n",
       "1                 0             0              50  United-States      0  \n",
       "2                 0             0              40  United-States      1  \n",
       "3              7688             0              40  United-States      1  \n",
       "4                 0             0              30  United-States      0  \n",
       "...             ...           ...             ...            ...    ...  \n",
       "48837             0             0              38  United-States      0  \n",
       "48838             0             0              40  United-States      1  \n",
       "48839             0             0              40  United-States      0  \n",
       "48840             0             0              20  United-States      0  \n",
       "48841         15024             0              40  United-States      1  \n",
       "\n",
       "[48842 rows x 15 columns]"
      ]
     },
     "execution_count": 3,
     "metadata": {},
     "output_type": "execute_result"
    }
   ],
   "source": [
    "df"
   ]
  },
  {
   "cell_type": "markdown",
   "id": "ff496f7f",
   "metadata": {},
   "source": [
    "# 결측치 전처리"
   ]
  },
  {
   "cell_type": "code",
   "execution_count": 4,
   "id": "33b1f18a",
   "metadata": {},
   "outputs": [
    {
     "data": {
      "text/plain": [
       "Unnamed: 0           0\n",
       "age                  0\n",
       "workclass         2799\n",
       "education            0\n",
       "education-num        0\n",
       "marital-status       0\n",
       "occupation        2809\n",
       "relationship         0\n",
       "race                 0\n",
       "sex                  0\n",
       "capital-gain         0\n",
       "capital-loss         0\n",
       "hours-per-week       0\n",
       "native-country     857\n",
       "class                0\n",
       "dtype: int64"
      ]
     },
     "execution_count": 4,
     "metadata": {},
     "output_type": "execute_result"
    }
   ],
   "source": [
    "df.isna().sum()"
   ]
  },
  {
   "cell_type": "markdown",
   "id": "84dc7dca",
   "metadata": {},
   "source": [
    "- 결측치 있는 컬럼 -> workclass, occupation, native-country "
   ]
  },
  {
   "cell_type": "code",
   "execution_count": 5,
   "id": "3ae9ceab",
   "metadata": {},
   "outputs": [
    {
     "data": {
      "text/plain": [
       "4        NaN\n",
       "6        NaN\n",
       "13       NaN\n",
       "22       NaN\n",
       "35       NaN\n",
       "        ... \n",
       "48811    NaN\n",
       "48812    NaN\n",
       "48820    NaN\n",
       "48822    NaN\n",
       "48823    NaN\n",
       "Name: occupation, Length: 2799, dtype: object"
      ]
     },
     "execution_count": 5,
     "metadata": {},
     "output_type": "execute_result"
    }
   ],
   "source": [
    "df[df['workclass'].isna() == True].occupation"
   ]
  },
  {
   "cell_type": "markdown",
   "id": "07439a84",
   "metadata": {},
   "source": [
    "- workclass 컬럼에 결측치가 있는 경우 occupation 컬럼의 동일한 행에도 결측치가 있음\n",
    "- 즉, occupation 컬럼의 결측치 2809개 중 10개 제외하고 모두 workclass 컬럼과 같은 인스턴스에 결측치를 보유"
   ]
  },
  {
   "cell_type": "code",
   "execution_count": 6,
   "id": "b2acd4a0",
   "metadata": {},
   "outputs": [
    {
     "data": {
      "text/plain": [
       "Never-worked    10\n",
       "Name: workclass, dtype: int64"
      ]
     },
     "execution_count": 6,
     "metadata": {},
     "output_type": "execute_result"
    }
   ],
   "source": [
    "df[df['occupation'].isna() == True].workclass.value_counts()"
   ]
  },
  {
   "cell_type": "markdown",
   "id": "864ebef4",
   "metadata": {},
   "source": [
    "- 2799개를 제외한 나머지 10개의 결측치의 경우 workclass가 'Never-worked'인 데이터"
   ]
  },
  {
   "cell_type": "code",
   "execution_count": 7,
   "id": "7950ece9",
   "metadata": {},
   "outputs": [
    {
     "data": {
      "text/plain": [
       "0    10\n",
       "Name: class, dtype: int64"
      ]
     },
     "execution_count": 7,
     "metadata": {},
     "output_type": "execute_result"
    }
   ],
   "source": [
    "df[df['workclass'] == 'Never-worked']['class'].value_counts()"
   ]
  },
  {
   "cell_type": "markdown",
   "id": "bea8e5c4",
   "metadata": {},
   "source": [
    "- 나머지 10개의 결측치를 보유한 데이터의 클래스는 모두 0임"
   ]
  },
  {
   "cell_type": "code",
   "execution_count": 8,
   "id": "ad9f6081",
   "metadata": {},
   "outputs": [
    {
     "data": {
      "text/plain": [
       "array([ 1,  2,  3,  4,  5,  6,  7,  8,  9, 10, 11, 12, 13, 14, 15, 16, 17,\n",
       "       18, 19, 20, 21, 22, 23, 24, 25, 26, 27, 28, 29, 30, 31, 32, 33, 34,\n",
       "       35, 36, 37, 38, 39, 40, 41, 42, 43, 44, 45, 46, 47, 48, 49, 50, 51,\n",
       "       52, 53, 54, 55, 56, 57, 58, 59, 60, 61, 62, 63, 64, 65, 66, 67, 68,\n",
       "       69, 70, 72, 73, 74, 75, 76, 77, 78, 79, 80, 81, 82, 84, 85, 86, 87,\n",
       "       88, 89, 90, 91, 92, 94, 95, 96, 97, 98, 99], dtype=int64)"
      ]
     },
     "execution_count": 8,
     "metadata": {},
     "output_type": "execute_result"
    }
   ],
   "source": [
    "np.sort(df['hours-per-week'].unique())"
   ]
  },
  {
   "cell_type": "code",
   "execution_count": 9,
   "id": "5a8dfe5b",
   "metadata": {},
   "outputs": [
    {
     "data": {
      "text/plain": [
       "46"
      ]
     },
     "execution_count": 9,
     "metadata": {},
     "output_type": "execute_result"
    }
   ],
   "source": [
    "df[df['native-country'].isna() == True].occupation.isna().sum()"
   ]
  },
  {
   "cell_type": "code",
   "execution_count": 10,
   "id": "acc49ffd",
   "metadata": {},
   "outputs": [
    {
     "data": {
      "text/plain": [
       "46"
      ]
     },
     "execution_count": 10,
     "metadata": {},
     "output_type": "execute_result"
    }
   ],
   "source": [
    "df[df['native-country'].isna() == True].workclass.isna().sum()"
   ]
  },
  {
   "cell_type": "markdown",
   "id": "b135dbd2",
   "metadata": {},
   "source": [
    "- native-country 컬럼의 결측치는 workclass, occupation 컬럼과 큰 연관성을 보이지 않음"
   ]
  },
  {
   "cell_type": "markdown",
   "id": "1876b802",
   "metadata": {},
   "source": [
    "## 중간정리 \n",
    "\n",
    "- workclass, occupation의 결측치는 occupation 컬럼의 결측치 10개를 제외하고 모두 동일한 행에 결측치(2799개)를 보유\n",
    "- occupation 컬럼의 나머지 결측치에 해당하는 인스턴스의 workclass는 'Never-worked'이고 class는 '0'\n",
    "- native-country의 결측치는 앞선 두 컬럼과 큰 연관성을 보이지 않음"
   ]
  },
  {
   "cell_type": "markdown",
   "id": "7e29a4aa",
   "metadata": {},
   "source": [
    "## workclass의 결측치 채워주기\n",
    "\n",
    "- 위에서 정리한대로, workclass컬럼의 결측치는 occupation의 결측치와 분포를 공유하고 있고 \n",
    "- occupation 컬럼의 잔여 결측치 10개의 workclass는 모두 'Never-worked' 였으므로 \n",
    "- workclass컬럼의 결측치는 'Never-worked'로 채우기"
   ]
  },
  {
   "cell_type": "code",
   "execution_count": 11,
   "id": "4c6c9ad9",
   "metadata": {},
   "outputs": [
    {
     "data": {
      "text/plain": [
       "0    2534\n",
       "1     265\n",
       "Name: class, dtype: int64"
      ]
     },
     "execution_count": 11,
     "metadata": {},
     "output_type": "execute_result"
    }
   ],
   "source": [
    "df[df['workclass'].isna() == True ]['class'].value_counts()"
   ]
  },
  {
   "cell_type": "markdown",
   "id": "0a2bef2f",
   "metadata": {},
   "source": [
    "- workclass 컬럼에 결측치를 포함한 클래스의 분포 역시 0에 치중 -> 'Never-worked' 로 채우는 것은 적합할 듯"
   ]
  },
  {
   "cell_type": "code",
   "execution_count": 12,
   "id": "08b902f0",
   "metadata": {},
   "outputs": [],
   "source": [
    "df['workclass'] = df['workclass'].fillna('Never-worked')"
   ]
  },
  {
   "cell_type": "code",
   "execution_count": 13,
   "id": "cc05d178",
   "metadata": {},
   "outputs": [
    {
     "data": {
      "text/plain": [
       "0"
      ]
     },
     "execution_count": 13,
     "metadata": {},
     "output_type": "execute_result"
    }
   ],
   "source": [
    "df['workclass'].isna().sum()"
   ]
  },
  {
   "cell_type": "markdown",
   "id": "9b5e69aa",
   "metadata": {},
   "source": [
    "- 완료"
   ]
  },
  {
   "cell_type": "markdown",
   "id": "3624a58b",
   "metadata": {},
   "source": [
    "## occupation의 결측치 채워주기"
   ]
  },
  {
   "cell_type": "code",
   "execution_count": 14,
   "id": "f2e15b77",
   "metadata": {},
   "outputs": [
    {
     "data": {
      "text/plain": [
       "Prof-specialty       6172\n",
       "Craft-repair         6112\n",
       "Exec-managerial      6086\n",
       "Adm-clerical         5611\n",
       "Sales                5504\n",
       "Other-service        4923\n",
       "Machine-op-inspct    3022\n",
       "Transport-moving     2355\n",
       "Handlers-cleaners    2072\n",
       "Farming-fishing      1490\n",
       "Tech-support         1446\n",
       "Protective-serv       983\n",
       "Priv-house-serv       242\n",
       "Armed-Forces           15\n",
       "Name: occupation, dtype: int64"
      ]
     },
     "execution_count": 14,
     "metadata": {},
     "output_type": "execute_result"
    }
   ],
   "source": [
    "df['occupation'].value_counts()"
   ]
  },
  {
   "cell_type": "code",
   "execution_count": 15,
   "id": "b972042d",
   "metadata": {},
   "outputs": [
    {
     "data": {
      "text/plain": [
       "<Axes: xlabel='occupation', ylabel='Count'>"
      ]
     },
     "execution_count": 15,
     "metadata": {},
     "output_type": "execute_result"
    },
    {
     "data": {
      "image/png": "[encoded data removed]",
      "text/plain": [
       "<Figure size 3000x1000 with 1 Axes>"
      ]
     },
     "metadata": {},
     "output_type": "display_data"
    }
   ],
   "source": [
    "plt.figure(figsize=(30,10))\n",
    "sns.histplot(data=df, x=\"occupation\", hue=\"class\", multiple=\"dodge\")"
   ]
  },
  {
   "cell_type": "code",
   "execution_count": 16,
   "id": "b32843f9",
   "metadata": {},
   "outputs": [
    {
     "data": {
      "text/plain": [
       "0    2544\n",
       "1     265\n",
       "Name: class, dtype: int64"
      ]
     },
     "execution_count": 16,
     "metadata": {},
     "output_type": "execute_result"
    }
   ],
   "source": [
    "df[df['occupation'].isna() == True ]['class'].value_counts()"
   ]
  },
  {
   "cell_type": "code",
   "execution_count": 17,
   "id": "8d61e416",
   "metadata": {},
   "outputs": [],
   "source": [
    "df_op=df[['occupation','class']]"
   ]
  },
  {
   "cell_type": "code",
   "execution_count": 18,
   "id": "569f43d9",
   "metadata": {},
   "outputs": [
    {
     "data": {
      "text/html": [
       "<div>\n",
       "<style scoped>\n",
       "    .dataframe tbody tr th:only-of-type {\n",
       "        vertical-align: middle;\n",
       "    }\n",
       "\n",
       "    .dataframe tbody tr th {\n",
       "        vertical-align: top;\n",
       "    }\n",
       "\n",
       "    .dataframe thead th {\n",
       "        text-align: right;\n",
       "    }\n",
       "</style>\n",
       "<table border=\"1\" class=\"dataframe\">\n",
       "  <thead>\n",
       "    <tr style=\"text-align: right;\">\n",
       "      <th></th>\n",
       "      <th>class</th>\n",
       "    </tr>\n",
       "    <tr>\n",
       "      <th>occupation</th>\n",
       "      <th></th>\n",
       "    </tr>\n",
       "  </thead>\n",
       "  <tbody>\n",
       "    <tr>\n",
       "      <th>Adm-clerical</th>\n",
       "      <td>0.136874</td>\n",
       "    </tr>\n",
       "    <tr>\n",
       "      <th>Armed-Forces</th>\n",
       "      <td>0.333333</td>\n",
       "    </tr>\n",
       "    <tr>\n",
       "      <th>Craft-repair</th>\n",
       "      <td>0.226276</td>\n",
       "    </tr>\n",
       "    <tr>\n",
       "      <th>Exec-managerial</th>\n",
       "      <td>0.477818</td>\n",
       "    </tr>\n",
       "    <tr>\n",
       "      <th>Farming-fishing</th>\n",
       "      <td>0.116107</td>\n",
       "    </tr>\n",
       "    <tr>\n",
       "      <th>Handlers-cleaners</th>\n",
       "      <td>0.066602</td>\n",
       "    </tr>\n",
       "    <tr>\n",
       "      <th>Machine-op-inspct</th>\n",
       "      <td>0.123097</td>\n",
       "    </tr>\n",
       "    <tr>\n",
       "      <th>Other-service</th>\n",
       "      <td>0.041438</td>\n",
       "    </tr>\n",
       "    <tr>\n",
       "      <th>Priv-house-serv</th>\n",
       "      <td>0.012397</td>\n",
       "    </tr>\n",
       "    <tr>\n",
       "      <th>Prof-specialty</th>\n",
       "      <td>0.451069</td>\n",
       "    </tr>\n",
       "    <tr>\n",
       "      <th>Protective-serv</th>\n",
       "      <td>0.313327</td>\n",
       "    </tr>\n",
       "    <tr>\n",
       "      <th>Sales</th>\n",
       "      <td>0.267987</td>\n",
       "    </tr>\n",
       "    <tr>\n",
       "      <th>Tech-support</th>\n",
       "      <td>0.290456</td>\n",
       "    </tr>\n",
       "    <tr>\n",
       "      <th>Transport-moving</th>\n",
       "      <td>0.204246</td>\n",
       "    </tr>\n",
       "  </tbody>\n",
       "</table>\n",
       "</div>"
      ],
      "text/plain": [
       "                      class\n",
       "occupation                 \n",
       "Adm-clerical       0.136874\n",
       "Armed-Forces       0.333333\n",
       "Craft-repair       0.226276\n",
       "Exec-managerial    0.477818\n",
       "Farming-fishing    0.116107\n",
       "Handlers-cleaners  0.066602\n",
       "Machine-op-inspct  0.123097\n",
       "Other-service      0.041438\n",
       "Priv-house-serv    0.012397\n",
       "Prof-specialty     0.451069\n",
       "Protective-serv    0.313327\n",
       "Sales              0.267987\n",
       "Tech-support       0.290456\n",
       "Transport-moving   0.204246"
      ]
     },
     "execution_count": 18,
     "metadata": {},
     "output_type": "execute_result"
    }
   ],
   "source": [
    "df_op.groupby('occupation').mean()"
   ]
  },
  {
   "cell_type": "markdown",
   "id": "063af439",
   "metadata": {},
   "source": [
    "- 0의 클래스를 가지고 있는 결측치는 0의 분포가 가장 많은 'Priv-house-serv'로 채우고 \n",
    "- 1의 클래스를 가지고 있는 결측치는 1의 분포가 가장 많은 'Exec-managerial'로 채우자"
   ]
  },
  {
   "cell_type": "code",
   "execution_count": 19,
   "id": "bd74879a",
   "metadata": {},
   "outputs": [],
   "source": [
    "df_occupation = df['occupation']\n",
    "df_class = df['class']\n",
    "\n",
    "df_occupation = df_occupation.fillna('n')"
   ]
  },
  {
   "cell_type": "code",
   "execution_count": 20,
   "id": "455ac1f4",
   "metadata": {},
   "outputs": [
    {
     "data": {
      "text/plain": [
       "0        0\n",
       "1        0\n",
       "2        1\n",
       "3        1\n",
       "4        0\n",
       "        ..\n",
       "48837    0\n",
       "48838    1\n",
       "48839    0\n",
       "48840    0\n",
       "48841    1\n",
       "Name: class, Length: 48842, dtype: int64"
      ]
     },
     "execution_count": 20,
     "metadata": {},
     "output_type": "execute_result"
    }
   ],
   "source": [
    "df_class"
   ]
  },
  {
   "cell_type": "code",
   "execution_count": 21,
   "id": "66ac029f",
   "metadata": {},
   "outputs": [
    {
     "data": {
      "text/plain": [
       "True"
      ]
     },
     "execution_count": 21,
     "metadata": {},
     "output_type": "execute_result"
    }
   ],
   "source": [
    "df_occupation[4] == 'n'"
   ]
  },
  {
   "cell_type": "code",
   "execution_count": 22,
   "id": "dd466a0c",
   "metadata": {},
   "outputs": [
    {
     "data": {
      "text/plain": [
       "0        Machine-op-inspct\n",
       "1          Farming-fishing\n",
       "2          Protective-serv\n",
       "3        Machine-op-inspct\n",
       "4                        n\n",
       "               ...        \n",
       "48837         Tech-support\n",
       "48838    Machine-op-inspct\n",
       "48839         Adm-clerical\n",
       "48840         Adm-clerical\n",
       "48841      Exec-managerial\n",
       "Name: occupation, Length: 48842, dtype: object"
      ]
     },
     "execution_count": 22,
     "metadata": {},
     "output_type": "execute_result"
    }
   ],
   "source": [
    "df_occupation"
   ]
  },
  {
   "cell_type": "code",
   "execution_count": 23,
   "id": "463ab933",
   "metadata": {},
   "outputs": [
    {
     "data": {
      "text/plain": [
       "48842"
      ]
     },
     "execution_count": 23,
     "metadata": {},
     "output_type": "execute_result"
    }
   ],
   "source": [
    "num = len(df_occupation)\n",
    "num"
   ]
  },
  {
   "cell_type": "code",
   "execution_count": 24,
   "id": "519b1c85",
   "metadata": {},
   "outputs": [
    {
     "data": {
      "text/plain": [
       "range(0, 48841)"
      ]
     },
     "execution_count": 24,
     "metadata": {},
     "output_type": "execute_result"
    }
   ],
   "source": [
    "range(0,48841)"
   ]
  },
  {
   "cell_type": "code",
   "execution_count": 25,
   "id": "6a514fac",
   "metadata": {},
   "outputs": [],
   "source": [
    "for i in range(0,48842):\n",
    "    if df_occupation[i] == 'n':\n",
    "        if df_class[i] == 0:\n",
    "            df_occupation[i] = 'Priv-house-serv'\n",
    "        elif df_class[i] == 1:\n",
    "            df_occupation[i] = 'Exec-managerial'"
   ]
  },
  {
   "cell_type": "code",
   "execution_count": 26,
   "id": "5fbaecaa",
   "metadata": {},
   "outputs": [],
   "source": [
    "df['occupation'] = df_occupation"
   ]
  },
  {
   "cell_type": "code",
   "execution_count": 27,
   "id": "0faec800",
   "metadata": {},
   "outputs": [
    {
     "data": {
      "text/plain": [
       "Unnamed: 0          0\n",
       "age                 0\n",
       "workclass           0\n",
       "education           0\n",
       "education-num       0\n",
       "marital-status      0\n",
       "occupation          0\n",
       "relationship        0\n",
       "race                0\n",
       "sex                 0\n",
       "capital-gain        0\n",
       "capital-loss        0\n",
       "hours-per-week      0\n",
       "native-country    857\n",
       "class               0\n",
       "dtype: int64"
      ]
     },
     "execution_count": 27,
     "metadata": {},
     "output_type": "execute_result"
    }
   ],
   "source": [
    "df.isna().sum()"
   ]
  },
  {
   "cell_type": "markdown",
   "id": "6d1c24e6",
   "metadata": {},
   "source": [
    "- 완료"
   ]
  },
  {
   "cell_type": "markdown",
   "id": "ec8c5d8f",
   "metadata": {},
   "source": [
    "## native-country컬럼의 결측치 전처리"
   ]
  },
  {
   "cell_type": "code",
   "execution_count": 28,
   "id": "c2ca15fe",
   "metadata": {
    "scrolled": false
   },
   "outputs": [
    {
     "data": {
      "text/plain": [
       "United-States                 43832\n",
       "Mexico                          951\n",
       "Philippines                     295\n",
       "Germany                         206\n",
       "Puerto-Rico                     184\n",
       "Canada                          182\n",
       "El-Salvador                     155\n",
       "India                           151\n",
       "Cuba                            138\n",
       "England                         127\n",
       "China                           122\n",
       "South                           115\n",
       "Jamaica                         106\n",
       "Italy                           105\n",
       "Dominican-Republic              103\n",
       "Japan                            92\n",
       "Guatemala                        88\n",
       "Poland                           87\n",
       "Vietnam                          86\n",
       "Columbia                         85\n",
       "Haiti                            75\n",
       "Portugal                         67\n",
       "Taiwan                           65\n",
       "Iran                             59\n",
       "Greece                           49\n",
       "Nicaragua                        49\n",
       "Peru                             46\n",
       "Ecuador                          45\n",
       "France                           38\n",
       "Ireland                          37\n",
       "Hong                             30\n",
       "Thailand                         30\n",
       "Cambodia                         28\n",
       "Trinadad&Tobago                  27\n",
       "Yugoslavia                       23\n",
       "Outlying-US(Guam-USVI-etc)       23\n",
       "Laos                             23\n",
       "Scotland                         21\n",
       "Honduras                         20\n",
       "Hungary                          19\n",
       "Holand-Netherlands                1\n",
       "Name: native-country, dtype: int64"
      ]
     },
     "execution_count": 28,
     "metadata": {},
     "output_type": "execute_result"
    }
   ],
   "source": [
    "df['native-country'].value_counts()"
   ]
  },
  {
   "cell_type": "markdown",
   "id": "cc11032c",
   "metadata": {},
   "source": [
    "- native-country 컬럼은 대부분 'United-States'로 이루어져 있고 나머지를 합해도 얼마 안되기 때문에\n",
    "- 나중에 0, 1로 이진 범주화 할 예정\n",
    "- 따라서 native-country 컬럼의 결측치는 두 이진 범주 중 class의 분포가 더 가까운 쪽으로 채워줄 예정"
   ]
  },
  {
   "cell_type": "code",
   "execution_count": 29,
   "id": "38a63220",
   "metadata": {},
   "outputs": [
    {
     "data": {
      "text/plain": [
       "0.25670945157526254"
      ]
     },
     "execution_count": 29,
     "metadata": {},
     "output_type": "execute_result"
    }
   ],
   "source": [
    "df[df['native-country'].isna() == True]['class'].mean()"
   ]
  },
  {
   "cell_type": "code",
   "execution_count": 30,
   "id": "e4f30d2e",
   "metadata": {},
   "outputs": [
    {
     "data": {
      "text/plain": [
       "0.19820359281437125"
      ]
     },
     "execution_count": 30,
     "metadata": {},
     "output_type": "execute_result"
    }
   ],
   "source": [
    "df[df['native-country'] != 'United-States']['class'].mean()"
   ]
  },
  {
   "cell_type": "code",
   "execution_count": 31,
   "id": "484efa80",
   "metadata": {},
   "outputs": [
    {
     "data": {
      "text/plain": [
       "0.24397700310275597"
      ]
     },
     "execution_count": 31,
     "metadata": {},
     "output_type": "execute_result"
    }
   ],
   "source": [
    "df[df['native-country'] == 'United-States']['class'].mean()"
   ]
  },
  {
   "cell_type": "markdown",
   "id": "152b616d",
   "metadata": {},
   "source": [
    "- 결측치의 클래스 분포가  'United-States' 에 가까움"
   ]
  },
  {
   "cell_type": "markdown",
   "id": "963aabd9",
   "metadata": {},
   "source": [
    "- 결측치 채우기"
   ]
  },
  {
   "cell_type": "code",
   "execution_count": 32,
   "id": "a8680f30",
   "metadata": {},
   "outputs": [],
   "source": [
    "df['native-country'] = df['native-country'].fillna('United-States')"
   ]
  },
  {
   "cell_type": "code",
   "execution_count": 33,
   "id": "24b40840",
   "metadata": {},
   "outputs": [
    {
     "data": {
      "text/html": [
       "<div>\n",
       "<style scoped>\n",
       "    .dataframe tbody tr th:only-of-type {\n",
       "        vertical-align: middle;\n",
       "    }\n",
       "\n",
       "    .dataframe tbody tr th {\n",
       "        vertical-align: top;\n",
       "    }\n",
       "\n",
       "    .dataframe thead th {\n",
       "        text-align: right;\n",
       "    }\n",
       "</style>\n",
       "<table border=\"1\" class=\"dataframe\">\n",
       "  <thead>\n",
       "    <tr style=\"text-align: right;\">\n",
       "      <th></th>\n",
       "      <th>Unnamed: 0</th>\n",
       "      <th>age</th>\n",
       "      <th>workclass</th>\n",
       "      <th>education</th>\n",
       "      <th>education-num</th>\n",
       "      <th>marital-status</th>\n",
       "      <th>occupation</th>\n",
       "      <th>relationship</th>\n",
       "      <th>race</th>\n",
       "      <th>sex</th>\n",
       "      <th>capital-gain</th>\n",
       "      <th>capital-loss</th>\n",
       "      <th>hours-per-week</th>\n",
       "      <th>native-country</th>\n",
       "      <th>class</th>\n",
       "    </tr>\n",
       "  </thead>\n",
       "  <tbody>\n",
       "    <tr>\n",
       "      <th>0</th>\n",
       "      <td>0</td>\n",
       "      <td>25</td>\n",
       "      <td>Private</td>\n",
       "      <td>11th</td>\n",
       "      <td>7</td>\n",
       "      <td>Never-married</td>\n",
       "      <td>Machine-op-inspct</td>\n",
       "      <td>Own-child</td>\n",
       "      <td>Black</td>\n",
       "      <td>Male</td>\n",
       "      <td>0</td>\n",
       "      <td>0</td>\n",
       "      <td>40</td>\n",
       "      <td>United-States</td>\n",
       "      <td>0</td>\n",
       "    </tr>\n",
       "    <tr>\n",
       "      <th>1</th>\n",
       "      <td>1</td>\n",
       "      <td>38</td>\n",
       "      <td>Private</td>\n",
       "      <td>HS-grad</td>\n",
       "      <td>9</td>\n",
       "      <td>Married-civ-spouse</td>\n",
       "      <td>Farming-fishing</td>\n",
       "      <td>Husband</td>\n",
       "      <td>White</td>\n",
       "      <td>Male</td>\n",
       "      <td>0</td>\n",
       "      <td>0</td>\n",
       "      <td>50</td>\n",
       "      <td>United-States</td>\n",
       "      <td>0</td>\n",
       "    </tr>\n",
       "    <tr>\n",
       "      <th>2</th>\n",
       "      <td>2</td>\n",
       "      <td>28</td>\n",
       "      <td>Local-gov</td>\n",
       "      <td>Assoc-acdm</td>\n",
       "      <td>12</td>\n",
       "      <td>Married-civ-spouse</td>\n",
       "      <td>Protective-serv</td>\n",
       "      <td>Husband</td>\n",
       "      <td>White</td>\n",
       "      <td>Male</td>\n",
       "      <td>0</td>\n",
       "      <td>0</td>\n",
       "      <td>40</td>\n",
       "      <td>United-States</td>\n",
       "      <td>1</td>\n",
       "    </tr>\n",
       "    <tr>\n",
       "      <th>3</th>\n",
       "      <td>3</td>\n",
       "      <td>44</td>\n",
       "      <td>Private</td>\n",
       "      <td>Some-college</td>\n",
       "      <td>10</td>\n",
       "      <td>Married-civ-spouse</td>\n",
       "      <td>Machine-op-inspct</td>\n",
       "      <td>Husband</td>\n",
       "      <td>Black</td>\n",
       "      <td>Male</td>\n",
       "      <td>7688</td>\n",
       "      <td>0</td>\n",
       "      <td>40</td>\n",
       "      <td>United-States</td>\n",
       "      <td>1</td>\n",
       "    </tr>\n",
       "    <tr>\n",
       "      <th>4</th>\n",
       "      <td>4</td>\n",
       "      <td>18</td>\n",
       "      <td>Never-worked</td>\n",
       "      <td>Some-college</td>\n",
       "      <td>10</td>\n",
       "      <td>Never-married</td>\n",
       "      <td>Priv-house-serv</td>\n",
       "      <td>Own-child</td>\n",
       "      <td>White</td>\n",
       "      <td>Female</td>\n",
       "      <td>0</td>\n",
       "      <td>0</td>\n",
       "      <td>30</td>\n",
       "      <td>United-States</td>\n",
       "      <td>0</td>\n",
       "    </tr>\n",
       "    <tr>\n",
       "      <th>...</th>\n",
       "      <td>...</td>\n",
       "      <td>...</td>\n",
       "      <td>...</td>\n",
       "      <td>...</td>\n",
       "      <td>...</td>\n",
       "      <td>...</td>\n",
       "      <td>...</td>\n",
       "      <td>...</td>\n",
       "      <td>...</td>\n",
       "      <td>...</td>\n",
       "      <td>...</td>\n",
       "      <td>...</td>\n",
       "      <td>...</td>\n",
       "      <td>...</td>\n",
       "      <td>...</td>\n",
       "    </tr>\n",
       "    <tr>\n",
       "      <th>48837</th>\n",
       "      <td>48837</td>\n",
       "      <td>27</td>\n",
       "      <td>Private</td>\n",
       "      <td>Assoc-acdm</td>\n",
       "      <td>12</td>\n",
       "      <td>Married-civ-spouse</td>\n",
       "      <td>Tech-support</td>\n",
       "      <td>Wife</td>\n",
       "      <td>White</td>\n",
       "      <td>Female</td>\n",
       "      <td>0</td>\n",
       "      <td>0</td>\n",
       "      <td>38</td>\n",
       "      <td>United-States</td>\n",
       "      <td>0</td>\n",
       "    </tr>\n",
       "    <tr>\n",
       "      <th>48838</th>\n",
       "      <td>48838</td>\n",
       "      <td>40</td>\n",
       "      <td>Private</td>\n",
       "      <td>HS-grad</td>\n",
       "      <td>9</td>\n",
       "      <td>Married-civ-spouse</td>\n",
       "      <td>Machine-op-inspct</td>\n",
       "      <td>Husband</td>\n",
       "      <td>White</td>\n",
       "      <td>Male</td>\n",
       "      <td>0</td>\n",
       "      <td>0</td>\n",
       "      <td>40</td>\n",
       "      <td>United-States</td>\n",
       "      <td>1</td>\n",
       "    </tr>\n",
       "    <tr>\n",
       "      <th>48839</th>\n",
       "      <td>48839</td>\n",
       "      <td>58</td>\n",
       "      <td>Private</td>\n",
       "      <td>HS-grad</td>\n",
       "      <td>9</td>\n",
       "      <td>Widowed</td>\n",
       "      <td>Adm-clerical</td>\n",
       "      <td>Unmarried</td>\n",
       "      <td>White</td>\n",
       "      <td>Female</td>\n",
       "      <td>0</td>\n",
       "      <td>0</td>\n",
       "      <td>40</td>\n",
       "      <td>United-States</td>\n",
       "      <td>0</td>\n",
       "    </tr>\n",
       "    <tr>\n",
       "      <th>48840</th>\n",
       "      <td>48840</td>\n",
       "      <td>22</td>\n",
       "      <td>Private</td>\n",
       "      <td>HS-grad</td>\n",
       "      <td>9</td>\n",
       "      <td>Never-married</td>\n",
       "      <td>Adm-clerical</td>\n",
       "      <td>Own-child</td>\n",
       "      <td>White</td>\n",
       "      <td>Male</td>\n",
       "      <td>0</td>\n",
       "      <td>0</td>\n",
       "      <td>20</td>\n",
       "      <td>United-States</td>\n",
       "      <td>0</td>\n",
       "    </tr>\n",
       "    <tr>\n",
       "      <th>48841</th>\n",
       "      <td>48841</td>\n",
       "      <td>52</td>\n",
       "      <td>Self-emp-inc</td>\n",
       "      <td>HS-grad</td>\n",
       "      <td>9</td>\n",
       "      <td>Married-civ-spouse</td>\n",
       "      <td>Exec-managerial</td>\n",
       "      <td>Wife</td>\n",
       "      <td>White</td>\n",
       "      <td>Female</td>\n",
       "      <td>15024</td>\n",
       "      <td>0</td>\n",
       "      <td>40</td>\n",
       "      <td>United-States</td>\n",
       "      <td>1</td>\n",
       "    </tr>\n",
       "  </tbody>\n",
       "</table>\n",
       "<p>48842 rows × 15 columns</p>\n",
       "</div>"
      ],
      "text/plain": [
       "       Unnamed: 0  age     workclass     education  education-num  \\\n",
       "0               0   25       Private          11th              7   \n",
       "1               1   38       Private       HS-grad              9   \n",
       "2               2   28     Local-gov    Assoc-acdm             12   \n",
       "3               3   44       Private  Some-college             10   \n",
       "4               4   18  Never-worked  Some-college             10   \n",
       "...           ...  ...           ...           ...            ...   \n",
       "48837       48837   27       Private    Assoc-acdm             12   \n",
       "48838       48838   40       Private       HS-grad              9   \n",
       "48839       48839   58       Private       HS-grad              9   \n",
       "48840       48840   22       Private       HS-grad              9   \n",
       "48841       48841   52  Self-emp-inc       HS-grad              9   \n",
       "\n",
       "           marital-status         occupation relationship   race     sex  \\\n",
       "0           Never-married  Machine-op-inspct    Own-child  Black    Male   \n",
       "1      Married-civ-spouse    Farming-fishing      Husband  White    Male   \n",
       "2      Married-civ-spouse    Protective-serv      Husband  White    Male   \n",
       "3      Married-civ-spouse  Machine-op-inspct      Husband  Black    Male   \n",
       "4           Never-married    Priv-house-serv    Own-child  White  Female   \n",
       "...                   ...                ...          ...    ...     ...   \n",
       "48837  Married-civ-spouse       Tech-support         Wife  White  Female   \n",
       "48838  Married-civ-spouse  Machine-op-inspct      Husband  White    Male   \n",
       "48839             Widowed       Adm-clerical    Unmarried  White  Female   \n",
       "48840       Never-married       Adm-clerical    Own-child  White    Male   \n",
       "48841  Married-civ-spouse    Exec-managerial         Wife  White  Female   \n",
       "\n",
       "       capital-gain  capital-loss  hours-per-week native-country  class  \n",
       "0                 0             0              40  United-States      0  \n",
       "1                 0             0              50  United-States      0  \n",
       "2                 0             0              40  United-States      1  \n",
       "3              7688             0              40  United-States      1  \n",
       "4                 0             0              30  United-States      0  \n",
       "...             ...           ...             ...            ...    ...  \n",
       "48837             0             0              38  United-States      0  \n",
       "48838             0             0              40  United-States      1  \n",
       "48839             0             0              40  United-States      0  \n",
       "48840             0             0              20  United-States      0  \n",
       "48841         15024             0              40  United-States      1  \n",
       "\n",
       "[48842 rows x 15 columns]"
      ]
     },
     "execution_count": 33,
     "metadata": {},
     "output_type": "execute_result"
    }
   ],
   "source": [
    "df"
   ]
  },
  {
   "cell_type": "code",
   "execution_count": 34,
   "id": "f06c1f38",
   "metadata": {},
   "outputs": [
    {
     "data": {
      "text/plain": [
       "Unnamed: 0        0\n",
       "age               0\n",
       "workclass         0\n",
       "education         0\n",
       "education-num     0\n",
       "marital-status    0\n",
       "occupation        0\n",
       "relationship      0\n",
       "race              0\n",
       "sex               0\n",
       "capital-gain      0\n",
       "capital-loss      0\n",
       "hours-per-week    0\n",
       "native-country    0\n",
       "class             0\n",
       "dtype: int64"
      ]
     },
     "execution_count": 34,
     "metadata": {},
     "output_type": "execute_result"
    }
   ],
   "source": [
    "df.isna().sum()"
   ]
  },
  {
   "cell_type": "markdown",
   "id": "fda7f533",
   "metadata": {},
   "source": [
    "- 완료"
   ]
  },
  {
   "cell_type": "markdown",
   "id": "d052a231",
   "metadata": {},
   "source": [
    "# 문자형 -> 수치형 변경 및 범주 간소화 "
   ]
  },
  {
   "cell_type": "code",
   "execution_count": 35,
   "id": "48481ce5",
   "metadata": {},
   "outputs": [
    {
     "data": {
      "text/plain": [
       "Unnamed: 0         int64\n",
       "age                int64\n",
       "workclass         object\n",
       "education         object\n",
       "education-num      int64\n",
       "marital-status    object\n",
       "occupation        object\n",
       "relationship      object\n",
       "race              object\n",
       "sex               object\n",
       "capital-gain       int64\n",
       "capital-loss       int64\n",
       "hours-per-week     int64\n",
       "native-country    object\n",
       "class              int64\n",
       "dtype: object"
      ]
     },
     "execution_count": 35,
     "metadata": {},
     "output_type": "execute_result"
    }
   ],
   "source": [
    "df.dtypes"
   ]
  },
  {
   "cell_type": "markdown",
   "id": "9e555029",
   "metadata": {},
   "source": [
    "- int64(수치형), object, 두 가지 형태의 데이터 컬럼"
   ]
  },
  {
   "cell_type": "markdown",
   "id": "09e31a25",
   "metadata": {},
   "source": [
    "## 이미 인코딩 된 중복 문자형 컬럼 유무 확인"
   ]
  },
  {
   "cell_type": "code",
   "execution_count": 36,
   "id": "2791a738",
   "metadata": {
    "scrolled": true
   },
   "outputs": [
    {
     "data": {
      "text/html": [
       "<div>\n",
       "<style scoped>\n",
       "    .dataframe tbody tr th:only-of-type {\n",
       "        vertical-align: middle;\n",
       "    }\n",
       "\n",
       "    .dataframe tbody tr th {\n",
       "        vertical-align: top;\n",
       "    }\n",
       "\n",
       "    .dataframe thead th {\n",
       "        text-align: right;\n",
       "    }\n",
       "</style>\n",
       "<table border=\"1\" class=\"dataframe\">\n",
       "  <thead>\n",
       "    <tr style=\"text-align: right;\">\n",
       "      <th></th>\n",
       "      <th>Unnamed: 0</th>\n",
       "      <th>age</th>\n",
       "      <th>workclass</th>\n",
       "      <th>education</th>\n",
       "      <th>education-num</th>\n",
       "      <th>marital-status</th>\n",
       "      <th>occupation</th>\n",
       "      <th>relationship</th>\n",
       "      <th>race</th>\n",
       "      <th>sex</th>\n",
       "      <th>capital-gain</th>\n",
       "      <th>capital-loss</th>\n",
       "      <th>hours-per-week</th>\n",
       "      <th>native-country</th>\n",
       "      <th>class</th>\n",
       "    </tr>\n",
       "  </thead>\n",
       "  <tbody>\n",
       "    <tr>\n",
       "      <th>0</th>\n",
       "      <td>0</td>\n",
       "      <td>25</td>\n",
       "      <td>Private</td>\n",
       "      <td>11th</td>\n",
       "      <td>7</td>\n",
       "      <td>Never-married</td>\n",
       "      <td>Machine-op-inspct</td>\n",
       "      <td>Own-child</td>\n",
       "      <td>Black</td>\n",
       "      <td>Male</td>\n",
       "      <td>0</td>\n",
       "      <td>0</td>\n",
       "      <td>40</td>\n",
       "      <td>United-States</td>\n",
       "      <td>0</td>\n",
       "    </tr>\n",
       "    <tr>\n",
       "      <th>1</th>\n",
       "      <td>1</td>\n",
       "      <td>38</td>\n",
       "      <td>Private</td>\n",
       "      <td>HS-grad</td>\n",
       "      <td>9</td>\n",
       "      <td>Married-civ-spouse</td>\n",
       "      <td>Farming-fishing</td>\n",
       "      <td>Husband</td>\n",
       "      <td>White</td>\n",
       "      <td>Male</td>\n",
       "      <td>0</td>\n",
       "      <td>0</td>\n",
       "      <td>50</td>\n",
       "      <td>United-States</td>\n",
       "      <td>0</td>\n",
       "    </tr>\n",
       "    <tr>\n",
       "      <th>2</th>\n",
       "      <td>2</td>\n",
       "      <td>28</td>\n",
       "      <td>Local-gov</td>\n",
       "      <td>Assoc-acdm</td>\n",
       "      <td>12</td>\n",
       "      <td>Married-civ-spouse</td>\n",
       "      <td>Protective-serv</td>\n",
       "      <td>Husband</td>\n",
       "      <td>White</td>\n",
       "      <td>Male</td>\n",
       "      <td>0</td>\n",
       "      <td>0</td>\n",
       "      <td>40</td>\n",
       "      <td>United-States</td>\n",
       "      <td>1</td>\n",
       "    </tr>\n",
       "    <tr>\n",
       "      <th>3</th>\n",
       "      <td>3</td>\n",
       "      <td>44</td>\n",
       "      <td>Private</td>\n",
       "      <td>Some-college</td>\n",
       "      <td>10</td>\n",
       "      <td>Married-civ-spouse</td>\n",
       "      <td>Machine-op-inspct</td>\n",
       "      <td>Husband</td>\n",
       "      <td>Black</td>\n",
       "      <td>Male</td>\n",
       "      <td>7688</td>\n",
       "      <td>0</td>\n",
       "      <td>40</td>\n",
       "      <td>United-States</td>\n",
       "      <td>1</td>\n",
       "    </tr>\n",
       "    <tr>\n",
       "      <th>4</th>\n",
       "      <td>4</td>\n",
       "      <td>18</td>\n",
       "      <td>Never-worked</td>\n",
       "      <td>Some-college</td>\n",
       "      <td>10</td>\n",
       "      <td>Never-married</td>\n",
       "      <td>Priv-house-serv</td>\n",
       "      <td>Own-child</td>\n",
       "      <td>White</td>\n",
       "      <td>Female</td>\n",
       "      <td>0</td>\n",
       "      <td>0</td>\n",
       "      <td>30</td>\n",
       "      <td>United-States</td>\n",
       "      <td>0</td>\n",
       "    </tr>\n",
       "    <tr>\n",
       "      <th>...</th>\n",
       "      <td>...</td>\n",
       "      <td>...</td>\n",
       "      <td>...</td>\n",
       "      <td>...</td>\n",
       "      <td>...</td>\n",
       "      <td>...</td>\n",
       "      <td>...</td>\n",
       "      <td>...</td>\n",
       "      <td>...</td>\n",
       "      <td>...</td>\n",
       "      <td>...</td>\n",
       "      <td>...</td>\n",
       "      <td>...</td>\n",
       "      <td>...</td>\n",
       "      <td>...</td>\n",
       "    </tr>\n",
       "    <tr>\n",
       "      <th>48837</th>\n",
       "      <td>48837</td>\n",
       "      <td>27</td>\n",
       "      <td>Private</td>\n",
       "      <td>Assoc-acdm</td>\n",
       "      <td>12</td>\n",
       "      <td>Married-civ-spouse</td>\n",
       "      <td>Tech-support</td>\n",
       "      <td>Wife</td>\n",
       "      <td>White</td>\n",
       "      <td>Female</td>\n",
       "      <td>0</td>\n",
       "      <td>0</td>\n",
       "      <td>38</td>\n",
       "      <td>United-States</td>\n",
       "      <td>0</td>\n",
       "    </tr>\n",
       "    <tr>\n",
       "      <th>48838</th>\n",
       "      <td>48838</td>\n",
       "      <td>40</td>\n",
       "      <td>Private</td>\n",
       "      <td>HS-grad</td>\n",
       "      <td>9</td>\n",
       "      <td>Married-civ-spouse</td>\n",
       "      <td>Machine-op-inspct</td>\n",
       "      <td>Husband</td>\n",
       "      <td>White</td>\n",
       "      <td>Male</td>\n",
       "      <td>0</td>\n",
       "      <td>0</td>\n",
       "      <td>40</td>\n",
       "      <td>United-States</td>\n",
       "      <td>1</td>\n",
       "    </tr>\n",
       "    <tr>\n",
       "      <th>48839</th>\n",
       "      <td>48839</td>\n",
       "      <td>58</td>\n",
       "      <td>Private</td>\n",
       "      <td>HS-grad</td>\n",
       "      <td>9</td>\n",
       "      <td>Widowed</td>\n",
       "      <td>Adm-clerical</td>\n",
       "      <td>Unmarried</td>\n",
       "      <td>White</td>\n",
       "      <td>Female</td>\n",
       "      <td>0</td>\n",
       "      <td>0</td>\n",
       "      <td>40</td>\n",
       "      <td>United-States</td>\n",
       "      <td>0</td>\n",
       "    </tr>\n",
       "    <tr>\n",
       "      <th>48840</th>\n",
       "      <td>48840</td>\n",
       "      <td>22</td>\n",
       "      <td>Private</td>\n",
       "      <td>HS-grad</td>\n",
       "      <td>9</td>\n",
       "      <td>Never-married</td>\n",
       "      <td>Adm-clerical</td>\n",
       "      <td>Own-child</td>\n",
       "      <td>White</td>\n",
       "      <td>Male</td>\n",
       "      <td>0</td>\n",
       "      <td>0</td>\n",
       "      <td>20</td>\n",
       "      <td>United-States</td>\n",
       "      <td>0</td>\n",
       "    </tr>\n",
       "    <tr>\n",
       "      <th>48841</th>\n",
       "      <td>48841</td>\n",
       "      <td>52</td>\n",
       "      <td>Self-emp-inc</td>\n",
       "      <td>HS-grad</td>\n",
       "      <td>9</td>\n",
       "      <td>Married-civ-spouse</td>\n",
       "      <td>Exec-managerial</td>\n",
       "      <td>Wife</td>\n",
       "      <td>White</td>\n",
       "      <td>Female</td>\n",
       "      <td>15024</td>\n",
       "      <td>0</td>\n",
       "      <td>40</td>\n",
       "      <td>United-States</td>\n",
       "      <td>1</td>\n",
       "    </tr>\n",
       "  </tbody>\n",
       "</table>\n",
       "<p>48842 rows × 15 columns</p>\n",
       "</div>"
      ],
      "text/plain": [
       "       Unnamed: 0  age     workclass     education  education-num  \\\n",
       "0               0   25       Private          11th              7   \n",
       "1               1   38       Private       HS-grad              9   \n",
       "2               2   28     Local-gov    Assoc-acdm             12   \n",
       "3               3   44       Private  Some-college             10   \n",
       "4               4   18  Never-worked  Some-college             10   \n",
       "...           ...  ...           ...           ...            ...   \n",
       "48837       48837   27       Private    Assoc-acdm             12   \n",
       "48838       48838   40       Private       HS-grad              9   \n",
       "48839       48839   58       Private       HS-grad              9   \n",
       "48840       48840   22       Private       HS-grad              9   \n",
       "48841       48841   52  Self-emp-inc       HS-grad              9   \n",
       "\n",
       "           marital-status         occupation relationship   race     sex  \\\n",
       "0           Never-married  Machine-op-inspct    Own-child  Black    Male   \n",
       "1      Married-civ-spouse    Farming-fishing      Husband  White    Male   \n",
       "2      Married-civ-spouse    Protective-serv      Husband  White    Male   \n",
       "3      Married-civ-spouse  Machine-op-inspct      Husband  Black    Male   \n",
       "4           Never-married    Priv-house-serv    Own-child  White  Female   \n",
       "...                   ...                ...          ...    ...     ...   \n",
       "48837  Married-civ-spouse       Tech-support         Wife  White  Female   \n",
       "48838  Married-civ-spouse  Machine-op-inspct      Husband  White    Male   \n",
       "48839             Widowed       Adm-clerical    Unmarried  White  Female   \n",
       "48840       Never-married       Adm-clerical    Own-child  White    Male   \n",
       "48841  Married-civ-spouse    Exec-managerial         Wife  White  Female   \n",
       "\n",
       "       capital-gain  capital-loss  hours-per-week native-country  class  \n",
       "0                 0             0              40  United-States      0  \n",
       "1                 0             0              50  United-States      0  \n",
       "2                 0             0              40  United-States      1  \n",
       "3              7688             0              40  United-States      1  \n",
       "4                 0             0              30  United-States      0  \n",
       "...             ...           ...             ...            ...    ...  \n",
       "48837             0             0              38  United-States      0  \n",
       "48838             0             0              40  United-States      1  \n",
       "48839             0             0              40  United-States      0  \n",
       "48840             0             0              20  United-States      0  \n",
       "48841         15024             0              40  United-States      1  \n",
       "\n",
       "[48842 rows x 15 columns]"
      ]
     },
     "execution_count": 36,
     "metadata": {},
     "output_type": "execute_result"
    }
   ],
   "source": [
    "df"
   ]
  },
  {
   "cell_type": "code",
   "execution_count": 37,
   "id": "1a554c48",
   "metadata": {},
   "outputs": [
    {
     "data": {
      "text/html": [
       "<div>\n",
       "<style scoped>\n",
       "    .dataframe tbody tr th:only-of-type {\n",
       "        vertical-align: middle;\n",
       "    }\n",
       "\n",
       "    .dataframe tbody tr th {\n",
       "        vertical-align: top;\n",
       "    }\n",
       "\n",
       "    .dataframe thead th {\n",
       "        text-align: right;\n",
       "    }\n",
       "</style>\n",
       "<table border=\"1\" class=\"dataframe\">\n",
       "  <thead>\n",
       "    <tr style=\"text-align: right;\">\n",
       "      <th></th>\n",
       "      <th>Unnamed: 0</th>\n",
       "      <th>age</th>\n",
       "      <th>workclass</th>\n",
       "      <th>education</th>\n",
       "      <th>education-num</th>\n",
       "      <th>marital-status</th>\n",
       "      <th>occupation</th>\n",
       "      <th>relationship</th>\n",
       "      <th>race</th>\n",
       "      <th>sex</th>\n",
       "      <th>capital-gain</th>\n",
       "      <th>capital-loss</th>\n",
       "      <th>hours-per-week</th>\n",
       "      <th>native-country</th>\n",
       "      <th>class</th>\n",
       "    </tr>\n",
       "  </thead>\n",
       "  <tbody>\n",
       "    <tr>\n",
       "      <th>count</th>\n",
       "      <td>48842.000000</td>\n",
       "      <td>48842.000000</td>\n",
       "      <td>48842</td>\n",
       "      <td>48842</td>\n",
       "      <td>48842.000000</td>\n",
       "      <td>48842</td>\n",
       "      <td>48842</td>\n",
       "      <td>48842</td>\n",
       "      <td>48842</td>\n",
       "      <td>48842</td>\n",
       "      <td>48842.000000</td>\n",
       "      <td>48842.000000</td>\n",
       "      <td>48842.000000</td>\n",
       "      <td>48842</td>\n",
       "      <td>48842.000000</td>\n",
       "    </tr>\n",
       "    <tr>\n",
       "      <th>unique</th>\n",
       "      <td>NaN</td>\n",
       "      <td>NaN</td>\n",
       "      <td>8</td>\n",
       "      <td>16</td>\n",
       "      <td>NaN</td>\n",
       "      <td>7</td>\n",
       "      <td>14</td>\n",
       "      <td>6</td>\n",
       "      <td>5</td>\n",
       "      <td>2</td>\n",
       "      <td>NaN</td>\n",
       "      <td>NaN</td>\n",
       "      <td>NaN</td>\n",
       "      <td>41</td>\n",
       "      <td>NaN</td>\n",
       "    </tr>\n",
       "    <tr>\n",
       "      <th>top</th>\n",
       "      <td>NaN</td>\n",
       "      <td>NaN</td>\n",
       "      <td>Private</td>\n",
       "      <td>HS-grad</td>\n",
       "      <td>NaN</td>\n",
       "      <td>Married-civ-spouse</td>\n",
       "      <td>Exec-managerial</td>\n",
       "      <td>Husband</td>\n",
       "      <td>White</td>\n",
       "      <td>Male</td>\n",
       "      <td>NaN</td>\n",
       "      <td>NaN</td>\n",
       "      <td>NaN</td>\n",
       "      <td>United-States</td>\n",
       "      <td>NaN</td>\n",
       "    </tr>\n",
       "    <tr>\n",
       "      <th>freq</th>\n",
       "      <td>NaN</td>\n",
       "      <td>NaN</td>\n",
       "      <td>33906</td>\n",
       "      <td>15784</td>\n",
       "      <td>NaN</td>\n",
       "      <td>22379</td>\n",
       "      <td>6351</td>\n",
       "      <td>19716</td>\n",
       "      <td>41762</td>\n",
       "      <td>32650</td>\n",
       "      <td>NaN</td>\n",
       "      <td>NaN</td>\n",
       "      <td>NaN</td>\n",
       "      <td>44689</td>\n",
       "      <td>NaN</td>\n",
       "    </tr>\n",
       "    <tr>\n",
       "      <th>mean</th>\n",
       "      <td>24420.500000</td>\n",
       "      <td>38.643585</td>\n",
       "      <td>NaN</td>\n",
       "      <td>NaN</td>\n",
       "      <td>10.078089</td>\n",
       "      <td>NaN</td>\n",
       "      <td>NaN</td>\n",
       "      <td>NaN</td>\n",
       "      <td>NaN</td>\n",
       "      <td>NaN</td>\n",
       "      <td>1079.067626</td>\n",
       "      <td>87.502314</td>\n",
       "      <td>40.422382</td>\n",
       "      <td>NaN</td>\n",
       "      <td>0.239282</td>\n",
       "    </tr>\n",
       "    <tr>\n",
       "      <th>std</th>\n",
       "      <td>14099.615261</td>\n",
       "      <td>13.710510</td>\n",
       "      <td>NaN</td>\n",
       "      <td>NaN</td>\n",
       "      <td>2.570973</td>\n",
       "      <td>NaN</td>\n",
       "      <td>NaN</td>\n",
       "      <td>NaN</td>\n",
       "      <td>NaN</td>\n",
       "      <td>NaN</td>\n",
       "      <td>7452.019058</td>\n",
       "      <td>403.004552</td>\n",
       "      <td>12.391444</td>\n",
       "      <td>NaN</td>\n",
       "      <td>0.426649</td>\n",
       "    </tr>\n",
       "    <tr>\n",
       "      <th>min</th>\n",
       "      <td>0.000000</td>\n",
       "      <td>17.000000</td>\n",
       "      <td>NaN</td>\n",
       "      <td>NaN</td>\n",
       "      <td>1.000000</td>\n",
       "      <td>NaN</td>\n",
       "      <td>NaN</td>\n",
       "      <td>NaN</td>\n",
       "      <td>NaN</td>\n",
       "      <td>NaN</td>\n",
       "      <td>0.000000</td>\n",
       "      <td>0.000000</td>\n",
       "      <td>1.000000</td>\n",
       "      <td>NaN</td>\n",
       "      <td>0.000000</td>\n",
       "    </tr>\n",
       "    <tr>\n",
       "      <th>25%</th>\n",
       "      <td>12210.250000</td>\n",
       "      <td>28.000000</td>\n",
       "      <td>NaN</td>\n",
       "      <td>NaN</td>\n",
       "      <td>9.000000</td>\n",
       "      <td>NaN</td>\n",
       "      <td>NaN</td>\n",
       "      <td>NaN</td>\n",
       "      <td>NaN</td>\n",
       "      <td>NaN</td>\n",
       "      <td>0.000000</td>\n",
       "      <td>0.000000</td>\n",
       "      <td>40.000000</td>\n",
       "      <td>NaN</td>\n",
       "      <td>0.000000</td>\n",
       "    </tr>\n",
       "    <tr>\n",
       "      <th>50%</th>\n",
       "      <td>24420.500000</td>\n",
       "      <td>37.000000</td>\n",
       "      <td>NaN</td>\n",
       "      <td>NaN</td>\n",
       "      <td>10.000000</td>\n",
       "      <td>NaN</td>\n",
       "      <td>NaN</td>\n",
       "      <td>NaN</td>\n",
       "      <td>NaN</td>\n",
       "      <td>NaN</td>\n",
       "      <td>0.000000</td>\n",
       "      <td>0.000000</td>\n",
       "      <td>40.000000</td>\n",
       "      <td>NaN</td>\n",
       "      <td>0.000000</td>\n",
       "    </tr>\n",
       "    <tr>\n",
       "      <th>75%</th>\n",
       "      <td>36630.750000</td>\n",
       "      <td>48.000000</td>\n",
       "      <td>NaN</td>\n",
       "      <td>NaN</td>\n",
       "      <td>12.000000</td>\n",
       "      <td>NaN</td>\n",
       "      <td>NaN</td>\n",
       "      <td>NaN</td>\n",
       "      <td>NaN</td>\n",
       "      <td>NaN</td>\n",
       "      <td>0.000000</td>\n",
       "      <td>0.000000</td>\n",
       "      <td>45.000000</td>\n",
       "      <td>NaN</td>\n",
       "      <td>0.000000</td>\n",
       "    </tr>\n",
       "    <tr>\n",
       "      <th>max</th>\n",
       "      <td>48841.000000</td>\n",
       "      <td>90.000000</td>\n",
       "      <td>NaN</td>\n",
       "      <td>NaN</td>\n",
       "      <td>16.000000</td>\n",
       "      <td>NaN</td>\n",
       "      <td>NaN</td>\n",
       "      <td>NaN</td>\n",
       "      <td>NaN</td>\n",
       "      <td>NaN</td>\n",
       "      <td>99999.000000</td>\n",
       "      <td>4356.000000</td>\n",
       "      <td>99.000000</td>\n",
       "      <td>NaN</td>\n",
       "      <td>1.000000</td>\n",
       "    </tr>\n",
       "  </tbody>\n",
       "</table>\n",
       "</div>"
      ],
      "text/plain": [
       "          Unnamed: 0           age workclass education  education-num  \\\n",
       "count   48842.000000  48842.000000     48842     48842   48842.000000   \n",
       "unique           NaN           NaN         8        16            NaN   \n",
       "top              NaN           NaN   Private   HS-grad            NaN   \n",
       "freq             NaN           NaN     33906     15784            NaN   \n",
       "mean    24420.500000     38.643585       NaN       NaN      10.078089   \n",
       "std     14099.615261     13.710510       NaN       NaN       2.570973   \n",
       "min         0.000000     17.000000       NaN       NaN       1.000000   \n",
       "25%     12210.250000     28.000000       NaN       NaN       9.000000   \n",
       "50%     24420.500000     37.000000       NaN       NaN      10.000000   \n",
       "75%     36630.750000     48.000000       NaN       NaN      12.000000   \n",
       "max     48841.000000     90.000000       NaN       NaN      16.000000   \n",
       "\n",
       "            marital-status       occupation relationship   race    sex  \\\n",
       "count                48842            48842        48842  48842  48842   \n",
       "unique                   7               14            6      5      2   \n",
       "top     Married-civ-spouse  Exec-managerial      Husband  White   Male   \n",
       "freq                 22379             6351        19716  41762  32650   \n",
       "mean                   NaN              NaN          NaN    NaN    NaN   \n",
       "std                    NaN              NaN          NaN    NaN    NaN   \n",
       "min                    NaN              NaN          NaN    NaN    NaN   \n",
       "25%                    NaN              NaN          NaN    NaN    NaN   \n",
       "50%                    NaN              NaN          NaN    NaN    NaN   \n",
       "75%                    NaN              NaN          NaN    NaN    NaN   \n",
       "max                    NaN              NaN          NaN    NaN    NaN   \n",
       "\n",
       "        capital-gain  capital-loss  hours-per-week native-country  \\\n",
       "count   48842.000000  48842.000000    48842.000000          48842   \n",
       "unique           NaN           NaN             NaN             41   \n",
       "top              NaN           NaN             NaN  United-States   \n",
       "freq             NaN           NaN             NaN          44689   \n",
       "mean     1079.067626     87.502314       40.422382            NaN   \n",
       "std      7452.019058    403.004552       12.391444            NaN   \n",
       "min         0.000000      0.000000        1.000000            NaN   \n",
       "25%         0.000000      0.000000       40.000000            NaN   \n",
       "50%         0.000000      0.000000       40.000000            NaN   \n",
       "75%         0.000000      0.000000       45.000000            NaN   \n",
       "max     99999.000000   4356.000000       99.000000            NaN   \n",
       "\n",
       "               class  \n",
       "count   48842.000000  \n",
       "unique           NaN  \n",
       "top              NaN  \n",
       "freq             NaN  \n",
       "mean        0.239282  \n",
       "std         0.426649  \n",
       "min         0.000000  \n",
       "25%         0.000000  \n",
       "50%         0.000000  \n",
       "75%         0.000000  \n",
       "max         1.000000  "
      ]
     },
     "execution_count": 37,
     "metadata": {},
     "output_type": "execute_result"
    }
   ],
   "source": [
    "df.describe(include='all')"
   ]
  },
  {
   "cell_type": "code",
   "execution_count": 38,
   "id": "8baf0a4d",
   "metadata": {},
   "outputs": [
    {
     "name": "stdout",
     "output_type": "stream",
     "text": [
      "[25 38 28 44 18 34 29 63 24 55 65 36 26 58 48 43 20 37 40 72 45 22 23 54\n",
      " 32 46 56 17 39 52 21 42 33 30 47 41 19 69 50 31 59 49 51 27 57 61 64 79\n",
      " 73 53 77 80 62 35 68 66 75 60 67 71 70 90 81 74 78 82 83 85 76 84 89 88\n",
      " 87 86]\n",
      "-----------------------\n",
      "[ 7  9 12 10  6 15  4 13 14 16  3 11  5  8  2  1]\n",
      "-----------------------\n",
      "[    0  7688  3103  6418  7298  3908 14084  5178 15024 99999  2597  2907\n",
      "  4650  6497  1055  5013 27828  4934  4064  3674  2174 10605  3418   114\n",
      "  2580  3411  4508  4386  8614 13550  6849  2463  3137  2885  2964  1471\n",
      " 10566  2354  1424  1455  3325  4416 25236   594  2105  4787  2829   401\n",
      "  4865  1264  1506 10520  3464  2653 20051  4101  1797  2407  3471  1086\n",
      "  1848 14344  1151  2993  2290 15020  9386  2202  3818  2176  5455 11678\n",
      "  7978  7262  6514 41310  3456  7430  2414  2062 34095  1831  6723  5060\n",
      " 15831  2977  2346  3273  2329  9562  2635  4931  1731  6097   914  7896\n",
      "  5556  1409  3781  3942  2538  3887 25124  7443  5721  1173  4687  6612\n",
      "  6767  2961   991  2036  2936  2050  1111  2228 22040  3432  6360  2009\n",
      "  1639 18481  2387]\n",
      "-----------------------\n",
      "[   0 1721 1876 2415 1887  625 1977 2057 1429 1590 1485 2051 2377 1672\n",
      " 1628 1902 1602 1741 2444 1408 2001 2042 1740 1825 1848 1719 3004 2179\n",
      " 1573 2205 1258 2339 1726 2258 1340 1504 2559 1668 1974 1980 1564 2547\n",
      " 2002 1669 1617  323 3175 2472 2174 1579 2129 1510 1735 2282 1870 1411\n",
      " 1911 1651 1092 1762 2457 2231 2238  653 1138 2246 2603 2392 1944 1380\n",
      " 2465 1421 3770 1594  213 2149 2824 1844 2467 2163 1816 1648 2206 2352\n",
      "  419 1539  880  810  974 4356 2489 1755 3683 2267 2080  155 3900 2201\n",
      " 2754]\n",
      "-----------------------\n",
      "[40 50 30 32 10 39 35 48 25 20 45 47  6 43 90 54 60 38 36 18 24 44 56 28\n",
      " 16 41 22 55 14 33 37  8 12 70 15 75 52 84 42 80 68 99 65  5 17 72 53 29\n",
      " 96 21 46  3  1 23 49 67 76  7  2 58 26 34  4 51 78 63 31 92 77 27 85 13\n",
      " 19 98 62 66 57 11 86 59  9 64 73 61 88 79 89 74 69 87 97 94 82 91 81 95]\n"
     ]
    }
   ],
   "source": [
    "print((df['age']).unique())\n",
    "print('-----------------------')\n",
    "print(df['education-num'].unique())\n",
    "print('-----------------------')\n",
    "print(df['capital-gain'].unique())\n",
    "print('-----------------------')\n",
    "print(df['capital-loss'].unique())\n",
    "print('-----------------------')\n",
    "print(df['hours-per-week'].unique())\n"
   ]
  },
  {
   "cell_type": "markdown",
   "id": "9778e3e8",
   "metadata": {},
   "source": [
    "- education 컬럼과 education-num 컬럼의 unique 개수가 같음 \n",
    "- 컬럼 이름도 비슷하고, 이미 인코딩 된 중복 컬럼이 아닐까?\n",
    "- 확인해보기"
   ]
  },
  {
   "cell_type": "code",
   "execution_count": 39,
   "id": "2f38157f",
   "metadata": {
    "scrolled": true
   },
   "outputs": [
    {
     "data": {
      "text/plain": [
       "9     15784\n",
       "10    10878\n",
       "13     8025\n",
       "14     2657\n",
       "11     2061\n",
       "7      1812\n",
       "12     1601\n",
       "6      1389\n",
       "4       955\n",
       "15      834\n",
       "5       756\n",
       "8       657\n",
       "16      594\n",
       "3       509\n",
       "2       247\n",
       "1        83\n",
       "Name: education-num, dtype: int64"
      ]
     },
     "execution_count": 39,
     "metadata": {},
     "output_type": "execute_result"
    }
   ],
   "source": [
    "df['education-num'].value_counts()"
   ]
  },
  {
   "cell_type": "code",
   "execution_count": 40,
   "id": "6fee5b23",
   "metadata": {},
   "outputs": [
    {
     "data": {
      "text/plain": [
       "HS-grad         15784\n",
       "Some-college    10878\n",
       "Bachelors        8025\n",
       "Masters          2657\n",
       "Assoc-voc        2061\n",
       "11th             1812\n",
       "Assoc-acdm       1601\n",
       "10th             1389\n",
       "7th-8th           955\n",
       "Prof-school       834\n",
       "9th               756\n",
       "12th              657\n",
       "Doctorate         594\n",
       "5th-6th           509\n",
       "1st-4th           247\n",
       "Preschool          83\n",
       "Name: education, dtype: int64"
      ]
     },
     "execution_count": 40,
     "metadata": {},
     "output_type": "execute_result"
    }
   ],
   "source": [
    "df['education'].value_counts()"
   ]
  },
  {
   "cell_type": "code",
   "execution_count": 41,
   "id": "1aa0f557",
   "metadata": {
    "scrolled": true
   },
   "outputs": [
    {
     "name": "stdout",
     "output_type": "stream",
     "text": [
      "1 ['Preschool']\n",
      "2 ['1st-4th']\n",
      "3 ['5th-6th']\n",
      "4 ['7th-8th']\n",
      "5 ['9th']\n",
      "6 ['10th']\n",
      "7 ['11th']\n",
      "8 ['12th']\n",
      "9 ['HS-grad']\n",
      "10 ['Some-college']\n",
      "11 ['Assoc-voc']\n",
      "12 ['Assoc-acdm']\n",
      "13 ['Bachelors']\n",
      "14 ['Masters']\n",
      "15 ['Prof-school']\n",
      "16 ['Doctorate']\n"
     ]
    }
   ],
   "source": [
    "for i in np.sort(df['education-num'].unique()):\n",
    "    print(i, df[df['education-num']==i]['education'].unique())"
   ]
  },
  {
   "cell_type": "markdown",
   "id": "9b801dc3",
   "metadata": {},
   "source": [
    "- 이미 인코딩 된 컬럼 education-num 컬럼 삭제"
   ]
  },
  {
   "cell_type": "code",
   "execution_count": 42,
   "id": "aa4042ca",
   "metadata": {},
   "outputs": [],
   "source": [
    "df = df.drop(columns = 'education', axis=1)"
   ]
  },
  {
   "cell_type": "code",
   "execution_count": 43,
   "id": "ff4b9600",
   "metadata": {},
   "outputs": [
    {
     "data": {
      "text/html": [
       "<div>\n",
       "<style scoped>\n",
       "    .dataframe tbody tr th:only-of-type {\n",
       "        vertical-align: middle;\n",
       "    }\n",
       "\n",
       "    .dataframe tbody tr th {\n",
       "        vertical-align: top;\n",
       "    }\n",
       "\n",
       "    .dataframe thead th {\n",
       "        text-align: right;\n",
       "    }\n",
       "</style>\n",
       "<table border=\"1\" class=\"dataframe\">\n",
       "  <thead>\n",
       "    <tr style=\"text-align: right;\">\n",
       "      <th></th>\n",
       "      <th>Unnamed: 0</th>\n",
       "      <th>age</th>\n",
       "      <th>workclass</th>\n",
       "      <th>education-num</th>\n",
       "      <th>marital-status</th>\n",
       "      <th>occupation</th>\n",
       "      <th>relationship</th>\n",
       "      <th>race</th>\n",
       "      <th>sex</th>\n",
       "      <th>capital-gain</th>\n",
       "      <th>capital-loss</th>\n",
       "      <th>hours-per-week</th>\n",
       "      <th>native-country</th>\n",
       "      <th>class</th>\n",
       "    </tr>\n",
       "  </thead>\n",
       "  <tbody>\n",
       "    <tr>\n",
       "      <th>0</th>\n",
       "      <td>0</td>\n",
       "      <td>25</td>\n",
       "      <td>Private</td>\n",
       "      <td>7</td>\n",
       "      <td>Never-married</td>\n",
       "      <td>Machine-op-inspct</td>\n",
       "      <td>Own-child</td>\n",
       "      <td>Black</td>\n",
       "      <td>Male</td>\n",
       "      <td>0</td>\n",
       "      <td>0</td>\n",
       "      <td>40</td>\n",
       "      <td>United-States</td>\n",
       "      <td>0</td>\n",
       "    </tr>\n",
       "    <tr>\n",
       "      <th>1</th>\n",
       "      <td>1</td>\n",
       "      <td>38</td>\n",
       "      <td>Private</td>\n",
       "      <td>9</td>\n",
       "      <td>Married-civ-spouse</td>\n",
       "      <td>Farming-fishing</td>\n",
       "      <td>Husband</td>\n",
       "      <td>White</td>\n",
       "      <td>Male</td>\n",
       "      <td>0</td>\n",
       "      <td>0</td>\n",
       "      <td>50</td>\n",
       "      <td>United-States</td>\n",
       "      <td>0</td>\n",
       "    </tr>\n",
       "    <tr>\n",
       "      <th>2</th>\n",
       "      <td>2</td>\n",
       "      <td>28</td>\n",
       "      <td>Local-gov</td>\n",
       "      <td>12</td>\n",
       "      <td>Married-civ-spouse</td>\n",
       "      <td>Protective-serv</td>\n",
       "      <td>Husband</td>\n",
       "      <td>White</td>\n",
       "      <td>Male</td>\n",
       "      <td>0</td>\n",
       "      <td>0</td>\n",
       "      <td>40</td>\n",
       "      <td>United-States</td>\n",
       "      <td>1</td>\n",
       "    </tr>\n",
       "    <tr>\n",
       "      <th>3</th>\n",
       "      <td>3</td>\n",
       "      <td>44</td>\n",
       "      <td>Private</td>\n",
       "      <td>10</td>\n",
       "      <td>Married-civ-spouse</td>\n",
       "      <td>Machine-op-inspct</td>\n",
       "      <td>Husband</td>\n",
       "      <td>Black</td>\n",
       "      <td>Male</td>\n",
       "      <td>7688</td>\n",
       "      <td>0</td>\n",
       "      <td>40</td>\n",
       "      <td>United-States</td>\n",
       "      <td>1</td>\n",
       "    </tr>\n",
       "    <tr>\n",
       "      <th>4</th>\n",
       "      <td>4</td>\n",
       "      <td>18</td>\n",
       "      <td>Never-worked</td>\n",
       "      <td>10</td>\n",
       "      <td>Never-married</td>\n",
       "      <td>Priv-house-serv</td>\n",
       "      <td>Own-child</td>\n",
       "      <td>White</td>\n",
       "      <td>Female</td>\n",
       "      <td>0</td>\n",
       "      <td>0</td>\n",
       "      <td>30</td>\n",
       "      <td>United-States</td>\n",
       "      <td>0</td>\n",
       "    </tr>\n",
       "    <tr>\n",
       "      <th>...</th>\n",
       "      <td>...</td>\n",
       "      <td>...</td>\n",
       "      <td>...</td>\n",
       "      <td>...</td>\n",
       "      <td>...</td>\n",
       "      <td>...</td>\n",
       "      <td>...</td>\n",
       "      <td>...</td>\n",
       "      <td>...</td>\n",
       "      <td>...</td>\n",
       "      <td>...</td>\n",
       "      <td>...</td>\n",
       "      <td>...</td>\n",
       "      <td>...</td>\n",
       "    </tr>\n",
       "    <tr>\n",
       "      <th>48837</th>\n",
       "      <td>48837</td>\n",
       "      <td>27</td>\n",
       "      <td>Private</td>\n",
       "      <td>12</td>\n",
       "      <td>Married-civ-spouse</td>\n",
       "      <td>Tech-support</td>\n",
       "      <td>Wife</td>\n",
       "      <td>White</td>\n",
       "      <td>Female</td>\n",
       "      <td>0</td>\n",
       "      <td>0</td>\n",
       "      <td>38</td>\n",
       "      <td>United-States</td>\n",
       "      <td>0</td>\n",
       "    </tr>\n",
       "    <tr>\n",
       "      <th>48838</th>\n",
       "      <td>48838</td>\n",
       "      <td>40</td>\n",
       "      <td>Private</td>\n",
       "      <td>9</td>\n",
       "      <td>Married-civ-spouse</td>\n",
       "      <td>Machine-op-inspct</td>\n",
       "      <td>Husband</td>\n",
       "      <td>White</td>\n",
       "      <td>Male</td>\n",
       "      <td>0</td>\n",
       "      <td>0</td>\n",
       "      <td>40</td>\n",
       "      <td>United-States</td>\n",
       "      <td>1</td>\n",
       "    </tr>\n",
       "    <tr>\n",
       "      <th>48839</th>\n",
       "      <td>48839</td>\n",
       "      <td>58</td>\n",
       "      <td>Private</td>\n",
       "      <td>9</td>\n",
       "      <td>Widowed</td>\n",
       "      <td>Adm-clerical</td>\n",
       "      <td>Unmarried</td>\n",
       "      <td>White</td>\n",
       "      <td>Female</td>\n",
       "      <td>0</td>\n",
       "      <td>0</td>\n",
       "      <td>40</td>\n",
       "      <td>United-States</td>\n",
       "      <td>0</td>\n",
       "    </tr>\n",
       "    <tr>\n",
       "      <th>48840</th>\n",
       "      <td>48840</td>\n",
       "      <td>22</td>\n",
       "      <td>Private</td>\n",
       "      <td>9</td>\n",
       "      <td>Never-married</td>\n",
       "      <td>Adm-clerical</td>\n",
       "      <td>Own-child</td>\n",
       "      <td>White</td>\n",
       "      <td>Male</td>\n",
       "      <td>0</td>\n",
       "      <td>0</td>\n",
       "      <td>20</td>\n",
       "      <td>United-States</td>\n",
       "      <td>0</td>\n",
       "    </tr>\n",
       "    <tr>\n",
       "      <th>48841</th>\n",
       "      <td>48841</td>\n",
       "      <td>52</td>\n",
       "      <td>Self-emp-inc</td>\n",
       "      <td>9</td>\n",
       "      <td>Married-civ-spouse</td>\n",
       "      <td>Exec-managerial</td>\n",
       "      <td>Wife</td>\n",
       "      <td>White</td>\n",
       "      <td>Female</td>\n",
       "      <td>15024</td>\n",
       "      <td>0</td>\n",
       "      <td>40</td>\n",
       "      <td>United-States</td>\n",
       "      <td>1</td>\n",
       "    </tr>\n",
       "  </tbody>\n",
       "</table>\n",
       "<p>48842 rows × 14 columns</p>\n",
       "</div>"
      ],
      "text/plain": [
       "       Unnamed: 0  age     workclass  education-num      marital-status  \\\n",
       "0               0   25       Private              7       Never-married   \n",
       "1               1   38       Private              9  Married-civ-spouse   \n",
       "2               2   28     Local-gov             12  Married-civ-spouse   \n",
       "3               3   44       Private             10  Married-civ-spouse   \n",
       "4               4   18  Never-worked             10       Never-married   \n",
       "...           ...  ...           ...            ...                 ...   \n",
       "48837       48837   27       Private             12  Married-civ-spouse   \n",
       "48838       48838   40       Private              9  Married-civ-spouse   \n",
       "48839       48839   58       Private              9             Widowed   \n",
       "48840       48840   22       Private              9       Never-married   \n",
       "48841       48841   52  Self-emp-inc              9  Married-civ-spouse   \n",
       "\n",
       "              occupation relationship   race     sex  capital-gain  \\\n",
       "0      Machine-op-inspct    Own-child  Black    Male             0   \n",
       "1        Farming-fishing      Husband  White    Male             0   \n",
       "2        Protective-serv      Husband  White    Male             0   \n",
       "3      Machine-op-inspct      Husband  Black    Male          7688   \n",
       "4        Priv-house-serv    Own-child  White  Female             0   \n",
       "...                  ...          ...    ...     ...           ...   \n",
       "48837       Tech-support         Wife  White  Female             0   \n",
       "48838  Machine-op-inspct      Husband  White    Male             0   \n",
       "48839       Adm-clerical    Unmarried  White  Female             0   \n",
       "48840       Adm-clerical    Own-child  White    Male             0   \n",
       "48841    Exec-managerial         Wife  White  Female         15024   \n",
       "\n",
       "       capital-loss  hours-per-week native-country  class  \n",
       "0                 0              40  United-States      0  \n",
       "1                 0              50  United-States      0  \n",
       "2                 0              40  United-States      1  \n",
       "3                 0              40  United-States      1  \n",
       "4                 0              30  United-States      0  \n",
       "...             ...             ...            ...    ...  \n",
       "48837             0              38  United-States      0  \n",
       "48838             0              40  United-States      1  \n",
       "48839             0              40  United-States      0  \n",
       "48840             0              20  United-States      0  \n",
       "48841             0              40  United-States      1  \n",
       "\n",
       "[48842 rows x 14 columns]"
      ]
     },
     "execution_count": 43,
     "metadata": {},
     "output_type": "execute_result"
    }
   ],
   "source": [
    "df"
   ]
  },
  {
   "cell_type": "markdown",
   "id": "934d904f",
   "metadata": {},
   "source": [
    "- 수치형, 문자형 데이터 따로 처리하기"
   ]
  },
  {
   "cell_type": "markdown",
   "id": "b60f2893",
   "metadata": {},
   "source": [
    "## 수치형 데이터"
   ]
  },
  {
   "cell_type": "code",
   "execution_count": 44,
   "id": "533e5e42",
   "metadata": {},
   "outputs": [],
   "source": [
    "int_columns = []\n",
    "\n",
    "for i in df.columns:\n",
    "    if df[i].dtype == 'int64':\n",
    "        int_columns.append(i)"
   ]
  },
  {
   "cell_type": "code",
   "execution_count": 45,
   "id": "24e63d30",
   "metadata": {},
   "outputs": [
    {
     "data": {
      "text/plain": [
       "['Unnamed: 0',\n",
       " 'age',\n",
       " 'education-num',\n",
       " 'capital-gain',\n",
       " 'capital-loss',\n",
       " 'hours-per-week',\n",
       " 'class']"
      ]
     },
     "execution_count": 45,
     "metadata": {},
     "output_type": "execute_result"
    }
   ],
   "source": [
    "int_columns"
   ]
  },
  {
   "cell_type": "code",
   "execution_count": 46,
   "id": "7076fbf7",
   "metadata": {},
   "outputs": [],
   "source": [
    "df_int = df[int_columns]"
   ]
  },
  {
   "cell_type": "code",
   "execution_count": 47,
   "id": "450ae539",
   "metadata": {},
   "outputs": [
    {
     "data": {
      "text/html": [
       "<div>\n",
       "<style scoped>\n",
       "    .dataframe tbody tr th:only-of-type {\n",
       "        vertical-align: middle;\n",
       "    }\n",
       "\n",
       "    .dataframe tbody tr th {\n",
       "        vertical-align: top;\n",
       "    }\n",
       "\n",
       "    .dataframe thead th {\n",
       "        text-align: right;\n",
       "    }\n",
       "</style>\n",
       "<table border=\"1\" class=\"dataframe\">\n",
       "  <thead>\n",
       "    <tr style=\"text-align: right;\">\n",
       "      <th></th>\n",
       "      <th>Unnamed: 0</th>\n",
       "      <th>age</th>\n",
       "      <th>education-num</th>\n",
       "      <th>capital-gain</th>\n",
       "      <th>capital-loss</th>\n",
       "      <th>hours-per-week</th>\n",
       "      <th>class</th>\n",
       "    </tr>\n",
       "  </thead>\n",
       "  <tbody>\n",
       "    <tr>\n",
       "      <th>0</th>\n",
       "      <td>0</td>\n",
       "      <td>25</td>\n",
       "      <td>7</td>\n",
       "      <td>0</td>\n",
       "      <td>0</td>\n",
       "      <td>40</td>\n",
       "      <td>0</td>\n",
       "    </tr>\n",
       "    <tr>\n",
       "      <th>1</th>\n",
       "      <td>1</td>\n",
       "      <td>38</td>\n",
       "      <td>9</td>\n",
       "      <td>0</td>\n",
       "      <td>0</td>\n",
       "      <td>50</td>\n",
       "      <td>0</td>\n",
       "    </tr>\n",
       "    <tr>\n",
       "      <th>2</th>\n",
       "      <td>2</td>\n",
       "      <td>28</td>\n",
       "      <td>12</td>\n",
       "      <td>0</td>\n",
       "      <td>0</td>\n",
       "      <td>40</td>\n",
       "      <td>1</td>\n",
       "    </tr>\n",
       "    <tr>\n",
       "      <th>3</th>\n",
       "      <td>3</td>\n",
       "      <td>44</td>\n",
       "      <td>10</td>\n",
       "      <td>7688</td>\n",
       "      <td>0</td>\n",
       "      <td>40</td>\n",
       "      <td>1</td>\n",
       "    </tr>\n",
       "    <tr>\n",
       "      <th>4</th>\n",
       "      <td>4</td>\n",
       "      <td>18</td>\n",
       "      <td>10</td>\n",
       "      <td>0</td>\n",
       "      <td>0</td>\n",
       "      <td>30</td>\n",
       "      <td>0</td>\n",
       "    </tr>\n",
       "    <tr>\n",
       "      <th>...</th>\n",
       "      <td>...</td>\n",
       "      <td>...</td>\n",
       "      <td>...</td>\n",
       "      <td>...</td>\n",
       "      <td>...</td>\n",
       "      <td>...</td>\n",
       "      <td>...</td>\n",
       "    </tr>\n",
       "    <tr>\n",
       "      <th>48837</th>\n",
       "      <td>48837</td>\n",
       "      <td>27</td>\n",
       "      <td>12</td>\n",
       "      <td>0</td>\n",
       "      <td>0</td>\n",
       "      <td>38</td>\n",
       "      <td>0</td>\n",
       "    </tr>\n",
       "    <tr>\n",
       "      <th>48838</th>\n",
       "      <td>48838</td>\n",
       "      <td>40</td>\n",
       "      <td>9</td>\n",
       "      <td>0</td>\n",
       "      <td>0</td>\n",
       "      <td>40</td>\n",
       "      <td>1</td>\n",
       "    </tr>\n",
       "    <tr>\n",
       "      <th>48839</th>\n",
       "      <td>48839</td>\n",
       "      <td>58</td>\n",
       "      <td>9</td>\n",
       "      <td>0</td>\n",
       "      <td>0</td>\n",
       "      <td>40</td>\n",
       "      <td>0</td>\n",
       "    </tr>\n",
       "    <tr>\n",
       "      <th>48840</th>\n",
       "      <td>48840</td>\n",
       "      <td>22</td>\n",
       "      <td>9</td>\n",
       "      <td>0</td>\n",
       "      <td>0</td>\n",
       "      <td>20</td>\n",
       "      <td>0</td>\n",
       "    </tr>\n",
       "    <tr>\n",
       "      <th>48841</th>\n",
       "      <td>48841</td>\n",
       "      <td>52</td>\n",
       "      <td>9</td>\n",
       "      <td>15024</td>\n",
       "      <td>0</td>\n",
       "      <td>40</td>\n",
       "      <td>1</td>\n",
       "    </tr>\n",
       "  </tbody>\n",
       "</table>\n",
       "<p>48842 rows × 7 columns</p>\n",
       "</div>"
      ],
      "text/plain": [
       "       Unnamed: 0  age  education-num  capital-gain  capital-loss  \\\n",
       "0               0   25              7             0             0   \n",
       "1               1   38              9             0             0   \n",
       "2               2   28             12             0             0   \n",
       "3               3   44             10          7688             0   \n",
       "4               4   18             10             0             0   \n",
       "...           ...  ...            ...           ...           ...   \n",
       "48837       48837   27             12             0             0   \n",
       "48838       48838   40              9             0             0   \n",
       "48839       48839   58              9             0             0   \n",
       "48840       48840   22              9             0             0   \n",
       "48841       48841   52              9         15024             0   \n",
       "\n",
       "       hours-per-week  class  \n",
       "0                  40      0  \n",
       "1                  50      0  \n",
       "2                  40      1  \n",
       "3                  40      1  \n",
       "4                  30      0  \n",
       "...               ...    ...  \n",
       "48837              38      0  \n",
       "48838              40      1  \n",
       "48839              40      0  \n",
       "48840              20      0  \n",
       "48841              40      1  \n",
       "\n",
       "[48842 rows x 7 columns]"
      ]
     },
     "execution_count": 47,
     "metadata": {},
     "output_type": "execute_result"
    }
   ],
   "source": [
    "df_int"
   ]
  },
  {
   "cell_type": "markdown",
   "id": "e19f6579",
   "metadata": {},
   "source": [
    "### age 컬럼"
   ]
  },
  {
   "cell_type": "code",
   "execution_count": 48,
   "id": "a1fa67d5",
   "metadata": {},
   "outputs": [
    {
     "data": {
      "text/plain": [
       "array([17, 18, 19, 20, 21, 22, 23, 24, 25, 26, 27, 28, 29, 30, 31, 32, 33,\n",
       "       34, 35, 36, 37, 38, 39, 40, 41, 42, 43, 44, 45, 46, 47, 48, 49, 50,\n",
       "       51, 52, 53, 54, 55, 56, 57, 58, 59, 60, 61, 62, 63, 64, 65, 66, 67,\n",
       "       68, 69, 70, 71, 72, 73, 74, 75, 76, 77, 78, 79, 80, 81, 82, 83, 84,\n",
       "       85, 86, 87, 88, 89, 90], dtype=int64)"
      ]
     },
     "execution_count": 48,
     "metadata": {},
     "output_type": "execute_result"
    }
   ],
   "source": [
    "np.sort(df_int.age.unique())"
   ]
  },
  {
   "cell_type": "code",
   "execution_count": 49,
   "id": "de5ecc9a",
   "metadata": {},
   "outputs": [
    {
     "data": {
      "text/plain": [
       "36    1348\n",
       "35    1337\n",
       "33    1335\n",
       "23    1329\n",
       "31    1325\n",
       "      ... \n",
       "88       6\n",
       "85       5\n",
       "87       3\n",
       "89       2\n",
       "86       1\n",
       "Name: age, Length: 74, dtype: int64"
      ]
     },
     "execution_count": 49,
     "metadata": {},
     "output_type": "execute_result"
    }
   ],
   "source": [
    "df_int.age.value_counts()"
   ]
  },
  {
   "cell_type": "code",
   "execution_count": 50,
   "id": "8d2d5eba",
   "metadata": {},
   "outputs": [
    {
     "data": {
      "text/plain": [
       "<Axes: xlabel='age', ylabel='Count'>"
      ]
     },
     "execution_count": 50,
     "metadata": {},
     "output_type": "execute_result"
    },
    {
     "data": {
      "image/png": "[encoded data removed]",
      "text/plain": [
       "<Figure size 2000x1000 with 1 Axes>"
      ]
     },
     "metadata": {},
     "output_type": "display_data"
    }
   ],
   "source": [
    "plt.figure(figsize=(20,10))\n",
    "sns.histplot(data=df_int, x=\"age\", hue=\"class\", multiple=\"dodge\")"
   ]
  },
  {
   "cell_type": "markdown",
   "id": "a921703a",
   "metadata": {},
   "source": [
    "- 연령별 소득 분포를 함께 보니, \n",
    "- 20세 이하, 21세~30세, ... , 71세 이상 이런 식으로 범주를 나누면 될 듯하다\n",
    "\n",
    "- 인코딩\n",
    "- 20세 이하 -> 0\n",
    "- 21세~30세 -> 1\n",
    "- 31세~40세 -> 2\n",
    "- 41세~50세 -> 3\n",
    "- 51세~60세 -> 4\n",
    "- 61세~70세 -> 5\n",
    "- 71세 이상 -> 6"
   ]
  },
  {
   "cell_type": "code",
   "execution_count": 51,
   "id": "43dd1013",
   "metadata": {},
   "outputs": [],
   "source": [
    "df_int_age = []\n",
    "\n",
    "for i in range(0,48842):\n",
    "    if df_int.age[i] <= 20:\n",
    "        df_int_age.append(0)\n",
    "    elif df_int.age[i] <= 30:\n",
    "        df_int_age.append(1)\n",
    "    elif df_int.age[i] <= 40:\n",
    "        df_int_age.append(2)\n",
    "    elif df_int.age[i] <= 50:\n",
    "        df_int_age.append(3)\n",
    "    elif df_int.age[i] <= 60:\n",
    "        df_int_age.append(4)\n",
    "    elif df_int.age[i] <=70:\n",
    "        df_int_age.append(5)\n",
    "    elif df_int.age[i] > 70:\n",
    "        df_int_age.append(6)\n",
    "        "
   ]
  },
  {
   "cell_type": "code",
   "execution_count": 52,
   "id": "cfc55b89",
   "metadata": {
    "scrolled": true
   },
   "outputs": [
    {
     "name": "stderr",
     "output_type": "stream",
     "text": [
      "C:\\Users\\dkdlg\\AppData\\Local\\Temp\\ipykernel_14868\\1303311365.py:1: SettingWithCopyWarning: \n",
      "A value is trying to be set on a copy of a slice from a DataFrame.\n",
      "Try using .loc[row_indexer,col_indexer] = value instead\n",
      "\n",
      "See the caveats in the documentation: https://pandas.pydata.org/pandas-docs/stable/user_guide/indexing.html#returning-a-view-versus-a-copy\n",
      "  df_int['age'] = df_int_age\n"
     ]
    }
   ],
   "source": [
    "df_int['age'] = df_int_age"
   ]
  },
  {
   "cell_type": "code",
   "execution_count": 53,
   "id": "a5e67cc9",
   "metadata": {},
   "outputs": [
    {
     "data": {
      "text/html": [
       "<div>\n",
       "<style scoped>\n",
       "    .dataframe tbody tr th:only-of-type {\n",
       "        vertical-align: middle;\n",
       "    }\n",
       "\n",
       "    .dataframe tbody tr th {\n",
       "        vertical-align: top;\n",
       "    }\n",
       "\n",
       "    .dataframe thead th {\n",
       "        text-align: right;\n",
       "    }\n",
       "</style>\n",
       "<table border=\"1\" class=\"dataframe\">\n",
       "  <thead>\n",
       "    <tr style=\"text-align: right;\">\n",
       "      <th></th>\n",
       "      <th>Unnamed: 0</th>\n",
       "      <th>age</th>\n",
       "      <th>education-num</th>\n",
       "      <th>capital-gain</th>\n",
       "      <th>capital-loss</th>\n",
       "      <th>hours-per-week</th>\n",
       "      <th>class</th>\n",
       "    </tr>\n",
       "  </thead>\n",
       "  <tbody>\n",
       "    <tr>\n",
       "      <th>0</th>\n",
       "      <td>0</td>\n",
       "      <td>1</td>\n",
       "      <td>7</td>\n",
       "      <td>0</td>\n",
       "      <td>0</td>\n",
       "      <td>40</td>\n",
       "      <td>0</td>\n",
       "    </tr>\n",
       "    <tr>\n",
       "      <th>1</th>\n",
       "      <td>1</td>\n",
       "      <td>2</td>\n",
       "      <td>9</td>\n",
       "      <td>0</td>\n",
       "      <td>0</td>\n",
       "      <td>50</td>\n",
       "      <td>0</td>\n",
       "    </tr>\n",
       "    <tr>\n",
       "      <th>2</th>\n",
       "      <td>2</td>\n",
       "      <td>1</td>\n",
       "      <td>12</td>\n",
       "      <td>0</td>\n",
       "      <td>0</td>\n",
       "      <td>40</td>\n",
       "      <td>1</td>\n",
       "    </tr>\n",
       "    <tr>\n",
       "      <th>3</th>\n",
       "      <td>3</td>\n",
       "      <td>3</td>\n",
       "      <td>10</td>\n",
       "      <td>7688</td>\n",
       "      <td>0</td>\n",
       "      <td>40</td>\n",
       "      <td>1</td>\n",
       "    </tr>\n",
       "    <tr>\n",
       "      <th>4</th>\n",
       "      <td>4</td>\n",
       "      <td>0</td>\n",
       "      <td>10</td>\n",
       "      <td>0</td>\n",
       "      <td>0</td>\n",
       "      <td>30</td>\n",
       "      <td>0</td>\n",
       "    </tr>\n",
       "    <tr>\n",
       "      <th>...</th>\n",
       "      <td>...</td>\n",
       "      <td>...</td>\n",
       "      <td>...</td>\n",
       "      <td>...</td>\n",
       "      <td>...</td>\n",
       "      <td>...</td>\n",
       "      <td>...</td>\n",
       "    </tr>\n",
       "    <tr>\n",
       "      <th>48837</th>\n",
       "      <td>48837</td>\n",
       "      <td>1</td>\n",
       "      <td>12</td>\n",
       "      <td>0</td>\n",
       "      <td>0</td>\n",
       "      <td>38</td>\n",
       "      <td>0</td>\n",
       "    </tr>\n",
       "    <tr>\n",
       "      <th>48838</th>\n",
       "      <td>48838</td>\n",
       "      <td>2</td>\n",
       "      <td>9</td>\n",
       "      <td>0</td>\n",
       "      <td>0</td>\n",
       "      <td>40</td>\n",
       "      <td>1</td>\n",
       "    </tr>\n",
       "    <tr>\n",
       "      <th>48839</th>\n",
       "      <td>48839</td>\n",
       "      <td>4</td>\n",
       "      <td>9</td>\n",
       "      <td>0</td>\n",
       "      <td>0</td>\n",
       "      <td>40</td>\n",
       "      <td>0</td>\n",
       "    </tr>\n",
       "    <tr>\n",
       "      <th>48840</th>\n",
       "      <td>48840</td>\n",
       "      <td>1</td>\n",
       "      <td>9</td>\n",
       "      <td>0</td>\n",
       "      <td>0</td>\n",
       "      <td>20</td>\n",
       "      <td>0</td>\n",
       "    </tr>\n",
       "    <tr>\n",
       "      <th>48841</th>\n",
       "      <td>48841</td>\n",
       "      <td>4</td>\n",
       "      <td>9</td>\n",
       "      <td>15024</td>\n",
       "      <td>0</td>\n",
       "      <td>40</td>\n",
       "      <td>1</td>\n",
       "    </tr>\n",
       "  </tbody>\n",
       "</table>\n",
       "<p>48842 rows × 7 columns</p>\n",
       "</div>"
      ],
      "text/plain": [
       "       Unnamed: 0  age  education-num  capital-gain  capital-loss  \\\n",
       "0               0    1              7             0             0   \n",
       "1               1    2              9             0             0   \n",
       "2               2    1             12             0             0   \n",
       "3               3    3             10          7688             0   \n",
       "4               4    0             10             0             0   \n",
       "...           ...  ...            ...           ...           ...   \n",
       "48837       48837    1             12             0             0   \n",
       "48838       48838    2              9             0             0   \n",
       "48839       48839    4              9             0             0   \n",
       "48840       48840    1              9             0             0   \n",
       "48841       48841    4              9         15024             0   \n",
       "\n",
       "       hours-per-week  class  \n",
       "0                  40      0  \n",
       "1                  50      0  \n",
       "2                  40      1  \n",
       "3                  40      1  \n",
       "4                  30      0  \n",
       "...               ...    ...  \n",
       "48837              38      0  \n",
       "48838              40      1  \n",
       "48839              40      0  \n",
       "48840              20      0  \n",
       "48841              40      1  \n",
       "\n",
       "[48842 rows x 7 columns]"
      ]
     },
     "execution_count": 53,
     "metadata": {},
     "output_type": "execute_result"
    }
   ],
   "source": [
    "df_int"
   ]
  },
  {
   "cell_type": "markdown",
   "id": "4eeb398d",
   "metadata": {},
   "source": [
    "- 완료"
   ]
  },
  {
   "cell_type": "markdown",
   "id": "2cb4b6df",
   "metadata": {},
   "source": [
    "### education_num 컬럼"
   ]
  },
  {
   "cell_type": "code",
   "execution_count": 54,
   "id": "b88d4bd8",
   "metadata": {},
   "outputs": [
    {
     "data": {
      "text/plain": [
       "<Axes: xlabel='education-num', ylabel='Count'>"
      ]
     },
     "execution_count": 54,
     "metadata": {},
     "output_type": "execute_result"
    },
    {
     "data": {
      "image/png": "[encoded data removed]",
      "text/plain": [
       "<Figure size 2000x1000 with 1 Axes>"
      ]
     },
     "metadata": {},
     "output_type": "display_data"
    }
   ],
   "source": [
    "plt.figure(figsize=(20,10))\n",
    "sns.histplot(data=df_int, x=\"education-num\", hue=\"class\", multiple=\"dodge\")"
   ]
  },
  {
   "cell_type": "markdown",
   "id": "9755fad5",
   "metadata": {},
   "source": [
    "- 인코딩 전 문자형 데이터를 확인하여 범주 간소화를 노려보자"
   ]
  },
  {
   "cell_type": "code",
   "execution_count": 55,
   "id": "da4b604f",
   "metadata": {},
   "outputs": [],
   "source": [
    "df_edu = pd.read_csv('salary_class.csv')"
   ]
  },
  {
   "cell_type": "code",
   "execution_count": 56,
   "id": "34a7ff2b",
   "metadata": {},
   "outputs": [
    {
     "name": "stdout",
     "output_type": "stream",
     "text": [
      "1 ['Preschool']\n",
      "2 ['1st-4th']\n",
      "3 ['5th-6th']\n",
      "4 ['7th-8th']\n",
      "5 ['9th']\n",
      "6 ['10th']\n",
      "7 ['11th']\n",
      "8 ['12th']\n",
      "9 ['HS-grad']\n",
      "10 ['Some-college']\n",
      "11 ['Assoc-voc']\n",
      "12 ['Assoc-acdm']\n",
      "13 ['Bachelors']\n",
      "14 ['Masters']\n",
      "15 ['Prof-school']\n",
      "16 ['Doctorate']\n"
     ]
    }
   ],
   "source": [
    "for i in np.sort(df_edu['education-num'].unique()):\n",
    "    print(i, df_edu[df_edu['education-num']==i]['education'].unique())"
   ]
  },
  {
   "cell_type": "markdown",
   "id": "256bed81",
   "metadata": {},
   "source": [
    "- 1~8로 인코딩 된 educaion 컬럼의 데이터는 모두 사회 진출 전 미성년자들 -> 하나로 묶어도 될 듯\n",
    "\n",
    "- 'Preschool','1st-4th','5th-6th','7th-8th','9th','10th','11th','12th' -> 0\n",
    "- 'HS-grad' -> 1\n",
    "- 'Some-college' -> 2\n",
    "- 'Assoc-voc' -> 3\n",
    "- 'Assoc-acdm' -> 4\n",
    "- 'Bachelors' -> 5\n",
    "- 'Masters' -> 6\n",
    "- 'Prof-school' -> 7\n",
    "- 'Doctorate' -> 8"
   ]
  },
  {
   "cell_type": "code",
   "execution_count": 57,
   "id": "d06900bf",
   "metadata": {},
   "outputs": [],
   "source": [
    "df_int_edu = []\n",
    "\n",
    "for i in range(0,48842):\n",
    "    if df_int['education-num'][i] <= 8:\n",
    "        df_int_edu.append(0)\n",
    "    elif df_int['education-num'][i] == 9:\n",
    "        df_int_edu.append(1)\n",
    "    elif df_int['education-num'][i] == 10:\n",
    "        df_int_edu.append(2)\n",
    "    elif df_int['education-num'][i] == 11:\n",
    "        df_int_edu.append(3)\n",
    "    elif df_int['education-num'][i] == 12:\n",
    "        df_int_edu.append(4)\n",
    "    elif df_int['education-num'][i] == 13:\n",
    "        df_int_edu.append(5)\n",
    "    elif df_int['education-num'][i] == 14:\n",
    "        df_int_edu.append(6)\n",
    "    elif df_int['education-num'][i] == 15:\n",
    "        df_int_edu.append(7)\n",
    "    elif df_int['education-num'][i] == 16:\n",
    "        df_int_edu.append(8)"
   ]
  },
  {
   "cell_type": "code",
   "execution_count": 58,
   "id": "c295804d",
   "metadata": {},
   "outputs": [
    {
     "name": "stderr",
     "output_type": "stream",
     "text": [
      "C:\\Users\\dkdlg\\AppData\\Local\\Temp\\ipykernel_14868\\582530839.py:1: SettingWithCopyWarning: \n",
      "A value is trying to be set on a copy of a slice from a DataFrame.\n",
      "Try using .loc[row_indexer,col_indexer] = value instead\n",
      "\n",
      "See the caveats in the documentation: https://pandas.pydata.org/pandas-docs/stable/user_guide/indexing.html#returning-a-view-versus-a-copy\n",
      "  df_int['education-num'] = df_int_edu\n"
     ]
    }
   ],
   "source": [
    "df_int['education-num'] = df_int_edu"
   ]
  },
  {
   "cell_type": "code",
   "execution_count": 59,
   "id": "52b26600",
   "metadata": {},
   "outputs": [
    {
     "data": {
      "text/html": [
       "<div>\n",
       "<style scoped>\n",
       "    .dataframe tbody tr th:only-of-type {\n",
       "        vertical-align: middle;\n",
       "    }\n",
       "\n",
       "    .dataframe tbody tr th {\n",
       "        vertical-align: top;\n",
       "    }\n",
       "\n",
       "    .dataframe thead th {\n",
       "        text-align: right;\n",
       "    }\n",
       "</style>\n",
       "<table border=\"1\" class=\"dataframe\">\n",
       "  <thead>\n",
       "    <tr style=\"text-align: right;\">\n",
       "      <th></th>\n",
       "      <th>Unnamed: 0</th>\n",
       "      <th>age</th>\n",
       "      <th>education-num</th>\n",
       "      <th>capital-gain</th>\n",
       "      <th>capital-loss</th>\n",
       "      <th>hours-per-week</th>\n",
       "      <th>class</th>\n",
       "    </tr>\n",
       "  </thead>\n",
       "  <tbody>\n",
       "    <tr>\n",
       "      <th>0</th>\n",
       "      <td>0</td>\n",
       "      <td>1</td>\n",
       "      <td>0</td>\n",
       "      <td>0</td>\n",
       "      <td>0</td>\n",
       "      <td>40</td>\n",
       "      <td>0</td>\n",
       "    </tr>\n",
       "    <tr>\n",
       "      <th>1</th>\n",
       "      <td>1</td>\n",
       "      <td>2</td>\n",
       "      <td>1</td>\n",
       "      <td>0</td>\n",
       "      <td>0</td>\n",
       "      <td>50</td>\n",
       "      <td>0</td>\n",
       "    </tr>\n",
       "    <tr>\n",
       "      <th>2</th>\n",
       "      <td>2</td>\n",
       "      <td>1</td>\n",
       "      <td>4</td>\n",
       "      <td>0</td>\n",
       "      <td>0</td>\n",
       "      <td>40</td>\n",
       "      <td>1</td>\n",
       "    </tr>\n",
       "    <tr>\n",
       "      <th>3</th>\n",
       "      <td>3</td>\n",
       "      <td>3</td>\n",
       "      <td>2</td>\n",
       "      <td>7688</td>\n",
       "      <td>0</td>\n",
       "      <td>40</td>\n",
       "      <td>1</td>\n",
       "    </tr>\n",
       "    <tr>\n",
       "      <th>4</th>\n",
       "      <td>4</td>\n",
       "      <td>0</td>\n",
       "      <td>2</td>\n",
       "      <td>0</td>\n",
       "      <td>0</td>\n",
       "      <td>30</td>\n",
       "      <td>0</td>\n",
       "    </tr>\n",
       "    <tr>\n",
       "      <th>...</th>\n",
       "      <td>...</td>\n",
       "      <td>...</td>\n",
       "      <td>...</td>\n",
       "      <td>...</td>\n",
       "      <td>...</td>\n",
       "      <td>...</td>\n",
       "      <td>...</td>\n",
       "    </tr>\n",
       "    <tr>\n",
       "      <th>48837</th>\n",
       "      <td>48837</td>\n",
       "      <td>1</td>\n",
       "      <td>4</td>\n",
       "      <td>0</td>\n",
       "      <td>0</td>\n",
       "      <td>38</td>\n",
       "      <td>0</td>\n",
       "    </tr>\n",
       "    <tr>\n",
       "      <th>48838</th>\n",
       "      <td>48838</td>\n",
       "      <td>2</td>\n",
       "      <td>1</td>\n",
       "      <td>0</td>\n",
       "      <td>0</td>\n",
       "      <td>40</td>\n",
       "      <td>1</td>\n",
       "    </tr>\n",
       "    <tr>\n",
       "      <th>48839</th>\n",
       "      <td>48839</td>\n",
       "      <td>4</td>\n",
       "      <td>1</td>\n",
       "      <td>0</td>\n",
       "      <td>0</td>\n",
       "      <td>40</td>\n",
       "      <td>0</td>\n",
       "    </tr>\n",
       "    <tr>\n",
       "      <th>48840</th>\n",
       "      <td>48840</td>\n",
       "      <td>1</td>\n",
       "      <td>1</td>\n",
       "      <td>0</td>\n",
       "      <td>0</td>\n",
       "      <td>20</td>\n",
       "      <td>0</td>\n",
       "    </tr>\n",
       "    <tr>\n",
       "      <th>48841</th>\n",
       "      <td>48841</td>\n",
       "      <td>4</td>\n",
       "      <td>1</td>\n",
       "      <td>15024</td>\n",
       "      <td>0</td>\n",
       "      <td>40</td>\n",
       "      <td>1</td>\n",
       "    </tr>\n",
       "  </tbody>\n",
       "</table>\n",
       "<p>48842 rows × 7 columns</p>\n",
       "</div>"
      ],
      "text/plain": [
       "       Unnamed: 0  age  education-num  capital-gain  capital-loss  \\\n",
       "0               0    1              0             0             0   \n",
       "1               1    2              1             0             0   \n",
       "2               2    1              4             0             0   \n",
       "3               3    3              2          7688             0   \n",
       "4               4    0              2             0             0   \n",
       "...           ...  ...            ...           ...           ...   \n",
       "48837       48837    1              4             0             0   \n",
       "48838       48838    2              1             0             0   \n",
       "48839       48839    4              1             0             0   \n",
       "48840       48840    1              1             0             0   \n",
       "48841       48841    4              1         15024             0   \n",
       "\n",
       "       hours-per-week  class  \n",
       "0                  40      0  \n",
       "1                  50      0  \n",
       "2                  40      1  \n",
       "3                  40      1  \n",
       "4                  30      0  \n",
       "...               ...    ...  \n",
       "48837              38      0  \n",
       "48838              40      1  \n",
       "48839              40      0  \n",
       "48840              20      0  \n",
       "48841              40      1  \n",
       "\n",
       "[48842 rows x 7 columns]"
      ]
     },
     "execution_count": 59,
     "metadata": {},
     "output_type": "execute_result"
    }
   ],
   "source": [
    "df_int"
   ]
  },
  {
   "cell_type": "markdown",
   "id": "a7cb7ee4",
   "metadata": {},
   "source": [
    "- 완료"
   ]
  },
  {
   "cell_type": "markdown",
   "id": "447f3cb0",
   "metadata": {},
   "source": [
    "### capital-gain 컬럼"
   ]
  },
  {
   "cell_type": "code",
   "execution_count": 60,
   "id": "900fafca",
   "metadata": {},
   "outputs": [
    {
     "data": {
      "text/plain": [
       "0        44807\n",
       "15024      513\n",
       "7688       410\n",
       "7298       364\n",
       "99999      244\n",
       "         ...  \n",
       "1111         1\n",
       "7262         1\n",
       "22040        1\n",
       "1639         1\n",
       "2387         1\n",
       "Name: capital-gain, Length: 123, dtype: int64"
      ]
     },
     "execution_count": 60,
     "metadata": {},
     "output_type": "execute_result"
    }
   ],
   "source": [
    "df_int['capital-gain'].value_counts()"
   ]
  },
  {
   "cell_type": "markdown",
   "id": "a1555818",
   "metadata": {},
   "source": [
    "- 자산 소득이 있고 없고로 인코딩 하면 될 듯\n",
    "- 자산 소득이 0인 경우 -> 그대로 0\n",
    "- 자산 소득이 있는 경우 -> 1"
   ]
  },
  {
   "cell_type": "code",
   "execution_count": 61,
   "id": "c97259a3",
   "metadata": {},
   "outputs": [],
   "source": [
    "df_cap_gain = []\n",
    "\n",
    "for i in range(0,48842):\n",
    "    if df_int['capital-gain'][i] == 0:\n",
    "        df_cap_gain.append(0)\n",
    "    else:\n",
    "        df_cap_gain.append(1)"
   ]
  },
  {
   "cell_type": "code",
   "execution_count": 62,
   "id": "b103fb52",
   "metadata": {},
   "outputs": [
    {
     "name": "stderr",
     "output_type": "stream",
     "text": [
      "C:\\Users\\dkdlg\\AppData\\Local\\Temp\\ipykernel_14868\\1655661561.py:1: SettingWithCopyWarning: \n",
      "A value is trying to be set on a copy of a slice from a DataFrame.\n",
      "Try using .loc[row_indexer,col_indexer] = value instead\n",
      "\n",
      "See the caveats in the documentation: https://pandas.pydata.org/pandas-docs/stable/user_guide/indexing.html#returning-a-view-versus-a-copy\n",
      "  df_int['capital-gain'] = df_cap_gain\n"
     ]
    }
   ],
   "source": [
    "df_int['capital-gain'] = df_cap_gain"
   ]
  },
  {
   "cell_type": "code",
   "execution_count": 63,
   "id": "d78d5301",
   "metadata": {},
   "outputs": [
    {
     "data": {
      "text/html": [
       "<div>\n",
       "<style scoped>\n",
       "    .dataframe tbody tr th:only-of-type {\n",
       "        vertical-align: middle;\n",
       "    }\n",
       "\n",
       "    .dataframe tbody tr th {\n",
       "        vertical-align: top;\n",
       "    }\n",
       "\n",
       "    .dataframe thead th {\n",
       "        text-align: right;\n",
       "    }\n",
       "</style>\n",
       "<table border=\"1\" class=\"dataframe\">\n",
       "  <thead>\n",
       "    <tr style=\"text-align: right;\">\n",
       "      <th></th>\n",
       "      <th>Unnamed: 0</th>\n",
       "      <th>age</th>\n",
       "      <th>education-num</th>\n",
       "      <th>capital-gain</th>\n",
       "      <th>capital-loss</th>\n",
       "      <th>hours-per-week</th>\n",
       "      <th>class</th>\n",
       "    </tr>\n",
       "  </thead>\n",
       "  <tbody>\n",
       "    <tr>\n",
       "      <th>0</th>\n",
       "      <td>0</td>\n",
       "      <td>1</td>\n",
       "      <td>0</td>\n",
       "      <td>0</td>\n",
       "      <td>0</td>\n",
       "      <td>40</td>\n",
       "      <td>0</td>\n",
       "    </tr>\n",
       "    <tr>\n",
       "      <th>1</th>\n",
       "      <td>1</td>\n",
       "      <td>2</td>\n",
       "      <td>1</td>\n",
       "      <td>0</td>\n",
       "      <td>0</td>\n",
       "      <td>50</td>\n",
       "      <td>0</td>\n",
       "    </tr>\n",
       "    <tr>\n",
       "      <th>2</th>\n",
       "      <td>2</td>\n",
       "      <td>1</td>\n",
       "      <td>4</td>\n",
       "      <td>0</td>\n",
       "      <td>0</td>\n",
       "      <td>40</td>\n",
       "      <td>1</td>\n",
       "    </tr>\n",
       "    <tr>\n",
       "      <th>3</th>\n",
       "      <td>3</td>\n",
       "      <td>3</td>\n",
       "      <td>2</td>\n",
       "      <td>1</td>\n",
       "      <td>0</td>\n",
       "      <td>40</td>\n",
       "      <td>1</td>\n",
       "    </tr>\n",
       "    <tr>\n",
       "      <th>4</th>\n",
       "      <td>4</td>\n",
       "      <td>0</td>\n",
       "      <td>2</td>\n",
       "      <td>0</td>\n",
       "      <td>0</td>\n",
       "      <td>30</td>\n",
       "      <td>0</td>\n",
       "    </tr>\n",
       "    <tr>\n",
       "      <th>...</th>\n",
       "      <td>...</td>\n",
       "      <td>...</td>\n",
       "      <td>...</td>\n",
       "      <td>...</td>\n",
       "      <td>...</td>\n",
       "      <td>...</td>\n",
       "      <td>...</td>\n",
       "    </tr>\n",
       "    <tr>\n",
       "      <th>48837</th>\n",
       "      <td>48837</td>\n",
       "      <td>1</td>\n",
       "      <td>4</td>\n",
       "      <td>0</td>\n",
       "      <td>0</td>\n",
       "      <td>38</td>\n",
       "      <td>0</td>\n",
       "    </tr>\n",
       "    <tr>\n",
       "      <th>48838</th>\n",
       "      <td>48838</td>\n",
       "      <td>2</td>\n",
       "      <td>1</td>\n",
       "      <td>0</td>\n",
       "      <td>0</td>\n",
       "      <td>40</td>\n",
       "      <td>1</td>\n",
       "    </tr>\n",
       "    <tr>\n",
       "      <th>48839</th>\n",
       "      <td>48839</td>\n",
       "      <td>4</td>\n",
       "      <td>1</td>\n",
       "      <td>0</td>\n",
       "      <td>0</td>\n",
       "      <td>40</td>\n",
       "      <td>0</td>\n",
       "    </tr>\n",
       "    <tr>\n",
       "      <th>48840</th>\n",
       "      <td>48840</td>\n",
       "      <td>1</td>\n",
       "      <td>1</td>\n",
       "      <td>0</td>\n",
       "      <td>0</td>\n",
       "      <td>20</td>\n",
       "      <td>0</td>\n",
       "    </tr>\n",
       "    <tr>\n",
       "      <th>48841</th>\n",
       "      <td>48841</td>\n",
       "      <td>4</td>\n",
       "      <td>1</td>\n",
       "      <td>1</td>\n",
       "      <td>0</td>\n",
       "      <td>40</td>\n",
       "      <td>1</td>\n",
       "    </tr>\n",
       "  </tbody>\n",
       "</table>\n",
       "<p>48842 rows × 7 columns</p>\n",
       "</div>"
      ],
      "text/plain": [
       "       Unnamed: 0  age  education-num  capital-gain  capital-loss  \\\n",
       "0               0    1              0             0             0   \n",
       "1               1    2              1             0             0   \n",
       "2               2    1              4             0             0   \n",
       "3               3    3              2             1             0   \n",
       "4               4    0              2             0             0   \n",
       "...           ...  ...            ...           ...           ...   \n",
       "48837       48837    1              4             0             0   \n",
       "48838       48838    2              1             0             0   \n",
       "48839       48839    4              1             0             0   \n",
       "48840       48840    1              1             0             0   \n",
       "48841       48841    4              1             1             0   \n",
       "\n",
       "       hours-per-week  class  \n",
       "0                  40      0  \n",
       "1                  50      0  \n",
       "2                  40      1  \n",
       "3                  40      1  \n",
       "4                  30      0  \n",
       "...               ...    ...  \n",
       "48837              38      0  \n",
       "48838              40      1  \n",
       "48839              40      0  \n",
       "48840              20      0  \n",
       "48841              40      1  \n",
       "\n",
       "[48842 rows x 7 columns]"
      ]
     },
     "execution_count": 63,
     "metadata": {},
     "output_type": "execute_result"
    }
   ],
   "source": [
    "df_int"
   ]
  },
  {
   "cell_type": "markdown",
   "id": "610a1698",
   "metadata": {},
   "source": [
    "- 완료"
   ]
  },
  {
   "cell_type": "markdown",
   "id": "9cc0c595",
   "metadata": {},
   "source": [
    "### capital-loss 컬럼"
   ]
  },
  {
   "cell_type": "code",
   "execution_count": 64,
   "id": "dc84cb40",
   "metadata": {},
   "outputs": [
    {
     "data": {
      "text/plain": [
       "0       46560\n",
       "1902      304\n",
       "1977      253\n",
       "1887      233\n",
       "2415       72\n",
       "        ...  \n",
       "2465        1\n",
       "2080        1\n",
       "155         1\n",
       "1911        1\n",
       "2201        1\n",
       "Name: capital-loss, Length: 99, dtype: int64"
      ]
     },
     "execution_count": 64,
     "metadata": {},
     "output_type": "execute_result"
    }
   ],
   "source": [
    "df_int['capital-loss'].value_counts()"
   ]
  },
  {
   "cell_type": "markdown",
   "id": "fd394bde",
   "metadata": {},
   "source": [
    "- capital-gain 컬럼과 마찬가지로 인코딩\n",
    "- 자산 손실이 없는 경우 -> 0\n",
    "- 자산 손실이 있는 경우 -> 1"
   ]
  },
  {
   "cell_type": "code",
   "execution_count": 65,
   "id": "728a2ace",
   "metadata": {},
   "outputs": [],
   "source": [
    "df_cap_loss = []\n",
    "\n",
    "for i in range(0,48842):\n",
    "    if df_int['capital-loss'][i] == 0:\n",
    "        df_cap_loss.append(0)\n",
    "    else:\n",
    "        df_cap_loss.append(1)"
   ]
  },
  {
   "cell_type": "code",
   "execution_count": 66,
   "id": "a794ccc1",
   "metadata": {},
   "outputs": [
    {
     "name": "stderr",
     "output_type": "stream",
     "text": [
      "C:\\Users\\dkdlg\\AppData\\Local\\Temp\\ipykernel_14868\\196945753.py:1: SettingWithCopyWarning: \n",
      "A value is trying to be set on a copy of a slice from a DataFrame.\n",
      "Try using .loc[row_indexer,col_indexer] = value instead\n",
      "\n",
      "See the caveats in the documentation: https://pandas.pydata.org/pandas-docs/stable/user_guide/indexing.html#returning-a-view-versus-a-copy\n",
      "  df_int['capital-loss'] = df_cap_loss\n"
     ]
    }
   ],
   "source": [
    "df_int['capital-loss'] = df_cap_loss"
   ]
  },
  {
   "cell_type": "code",
   "execution_count": 67,
   "id": "3638595e",
   "metadata": {},
   "outputs": [
    {
     "data": {
      "text/html": [
       "<div>\n",
       "<style scoped>\n",
       "    .dataframe tbody tr th:only-of-type {\n",
       "        vertical-align: middle;\n",
       "    }\n",
       "\n",
       "    .dataframe tbody tr th {\n",
       "        vertical-align: top;\n",
       "    }\n",
       "\n",
       "    .dataframe thead th {\n",
       "        text-align: right;\n",
       "    }\n",
       "</style>\n",
       "<table border=\"1\" class=\"dataframe\">\n",
       "  <thead>\n",
       "    <tr style=\"text-align: right;\">\n",
       "      <th></th>\n",
       "      <th>Unnamed: 0</th>\n",
       "      <th>age</th>\n",
       "      <th>education-num</th>\n",
       "      <th>capital-gain</th>\n",
       "      <th>capital-loss</th>\n",
       "      <th>hours-per-week</th>\n",
       "      <th>class</th>\n",
       "    </tr>\n",
       "  </thead>\n",
       "  <tbody>\n",
       "    <tr>\n",
       "      <th>0</th>\n",
       "      <td>0</td>\n",
       "      <td>1</td>\n",
       "      <td>0</td>\n",
       "      <td>0</td>\n",
       "      <td>0</td>\n",
       "      <td>40</td>\n",
       "      <td>0</td>\n",
       "    </tr>\n",
       "    <tr>\n",
       "      <th>1</th>\n",
       "      <td>1</td>\n",
       "      <td>2</td>\n",
       "      <td>1</td>\n",
       "      <td>0</td>\n",
       "      <td>0</td>\n",
       "      <td>50</td>\n",
       "      <td>0</td>\n",
       "    </tr>\n",
       "    <tr>\n",
       "      <th>2</th>\n",
       "      <td>2</td>\n",
       "      <td>1</td>\n",
       "      <td>4</td>\n",
       "      <td>0</td>\n",
       "      <td>0</td>\n",
       "      <td>40</td>\n",
       "      <td>1</td>\n",
       "    </tr>\n",
       "    <tr>\n",
       "      <th>3</th>\n",
       "      <td>3</td>\n",
       "      <td>3</td>\n",
       "      <td>2</td>\n",
       "      <td>1</td>\n",
       "      <td>0</td>\n",
       "      <td>40</td>\n",
       "      <td>1</td>\n",
       "    </tr>\n",
       "    <tr>\n",
       "      <th>4</th>\n",
       "      <td>4</td>\n",
       "      <td>0</td>\n",
       "      <td>2</td>\n",
       "      <td>0</td>\n",
       "      <td>0</td>\n",
       "      <td>30</td>\n",
       "      <td>0</td>\n",
       "    </tr>\n",
       "    <tr>\n",
       "      <th>...</th>\n",
       "      <td>...</td>\n",
       "      <td>...</td>\n",
       "      <td>...</td>\n",
       "      <td>...</td>\n",
       "      <td>...</td>\n",
       "      <td>...</td>\n",
       "      <td>...</td>\n",
       "    </tr>\n",
       "    <tr>\n",
       "      <th>48837</th>\n",
       "      <td>48837</td>\n",
       "      <td>1</td>\n",
       "      <td>4</td>\n",
       "      <td>0</td>\n",
       "      <td>0</td>\n",
       "      <td>38</td>\n",
       "      <td>0</td>\n",
       "    </tr>\n",
       "    <tr>\n",
       "      <th>48838</th>\n",
       "      <td>48838</td>\n",
       "      <td>2</td>\n",
       "      <td>1</td>\n",
       "      <td>0</td>\n",
       "      <td>0</td>\n",
       "      <td>40</td>\n",
       "      <td>1</td>\n",
       "    </tr>\n",
       "    <tr>\n",
       "      <th>48839</th>\n",
       "      <td>48839</td>\n",
       "      <td>4</td>\n",
       "      <td>1</td>\n",
       "      <td>0</td>\n",
       "      <td>0</td>\n",
       "      <td>40</td>\n",
       "      <td>0</td>\n",
       "    </tr>\n",
       "    <tr>\n",
       "      <th>48840</th>\n",
       "      <td>48840</td>\n",
       "      <td>1</td>\n",
       "      <td>1</td>\n",
       "      <td>0</td>\n",
       "      <td>0</td>\n",
       "      <td>20</td>\n",
       "      <td>0</td>\n",
       "    </tr>\n",
       "    <tr>\n",
       "      <th>48841</th>\n",
       "      <td>48841</td>\n",
       "      <td>4</td>\n",
       "      <td>1</td>\n",
       "      <td>1</td>\n",
       "      <td>0</td>\n",
       "      <td>40</td>\n",
       "      <td>1</td>\n",
       "    </tr>\n",
       "  </tbody>\n",
       "</table>\n",
       "<p>48842 rows × 7 columns</p>\n",
       "</div>"
      ],
      "text/plain": [
       "       Unnamed: 0  age  education-num  capital-gain  capital-loss  \\\n",
       "0               0    1              0             0             0   \n",
       "1               1    2              1             0             0   \n",
       "2               2    1              4             0             0   \n",
       "3               3    3              2             1             0   \n",
       "4               4    0              2             0             0   \n",
       "...           ...  ...            ...           ...           ...   \n",
       "48837       48837    1              4             0             0   \n",
       "48838       48838    2              1             0             0   \n",
       "48839       48839    4              1             0             0   \n",
       "48840       48840    1              1             0             0   \n",
       "48841       48841    4              1             1             0   \n",
       "\n",
       "       hours-per-week  class  \n",
       "0                  40      0  \n",
       "1                  50      0  \n",
       "2                  40      1  \n",
       "3                  40      1  \n",
       "4                  30      0  \n",
       "...               ...    ...  \n",
       "48837              38      0  \n",
       "48838              40      1  \n",
       "48839              40      0  \n",
       "48840              20      0  \n",
       "48841              40      1  \n",
       "\n",
       "[48842 rows x 7 columns]"
      ]
     },
     "execution_count": 67,
     "metadata": {},
     "output_type": "execute_result"
    }
   ],
   "source": [
    "df_int"
   ]
  },
  {
   "cell_type": "code",
   "execution_count": 68,
   "id": "823bb681",
   "metadata": {},
   "outputs": [
    {
     "data": {
      "text/plain": [
       "array([0, 1], dtype=int64)"
      ]
     },
     "execution_count": 68,
     "metadata": {},
     "output_type": "execute_result"
    }
   ],
   "source": [
    "df_int['capital-gain'].unique()"
   ]
  },
  {
   "cell_type": "code",
   "execution_count": 69,
   "id": "e25d4684",
   "metadata": {},
   "outputs": [
    {
     "data": {
      "text/plain": [
       "array([0, 1], dtype=int64)"
      ]
     },
     "execution_count": 69,
     "metadata": {},
     "output_type": "execute_result"
    }
   ],
   "source": [
    "df_int['capital-loss'].unique()"
   ]
  },
  {
   "cell_type": "markdown",
   "id": "222014c9",
   "metadata": {},
   "source": [
    "### hours-per-week 컬럼 "
   ]
  },
  {
   "cell_type": "code",
   "execution_count": 70,
   "id": "20fc430d",
   "metadata": {
    "scrolled": true
   },
   "outputs": [
    {
     "data": {
      "text/plain": [
       "array([ 1,  2,  3,  4,  5,  6,  7,  8,  9, 10, 11, 12, 13, 14, 15, 16, 17,\n",
       "       18, 19, 20, 21, 22, 23, 24, 25, 26, 27, 28, 29, 30, 31, 32, 33, 34,\n",
       "       35, 36, 37, 38, 39, 40, 41, 42, 43, 44, 45, 46, 47, 48, 49, 50, 51,\n",
       "       52, 53, 54, 55, 56, 57, 58, 59, 60, 61, 62, 63, 64, 65, 66, 67, 68,\n",
       "       69, 70, 72, 73, 74, 75, 76, 77, 78, 79, 80, 81, 82, 84, 85, 86, 87,\n",
       "       88, 89, 90, 91, 92, 94, 95, 96, 97, 98, 99], dtype=int64)"
      ]
     },
     "execution_count": 70,
     "metadata": {},
     "output_type": "execute_result"
    }
   ],
   "source": [
    "np.sort(df['hours-per-week'].unique())"
   ]
  },
  {
   "cell_type": "code",
   "execution_count": 71,
   "id": "1945013c",
   "metadata": {},
   "outputs": [
    {
     "data": {
      "text/plain": [
       "40    22803\n",
       "50     4246\n",
       "45     2717\n",
       "60     2177\n",
       "35     1937\n",
       "      ...  \n",
       "69        1\n",
       "87        1\n",
       "94        1\n",
       "82        1\n",
       "79        1\n",
       "Name: hours-per-week, Length: 96, dtype: int64"
      ]
     },
     "execution_count": 71,
     "metadata": {},
     "output_type": "execute_result"
    }
   ],
   "source": [
    "df['hours-per-week'].value_counts()"
   ]
  },
  {
   "cell_type": "code",
   "execution_count": 72,
   "id": "10f22c74",
   "metadata": {},
   "outputs": [
    {
     "name": "stderr",
     "output_type": "stream",
     "text": [
      "C:\\Users\\dkdlg\\AppData\\Local\\Temp\\ipykernel_14868\\4040783802.py:1: UserWarning: \n",
      "\n",
      "`distplot` is a deprecated function and will be removed in seaborn v0.14.0.\n",
      "\n",
      "Please adapt your code to use either `displot` (a figure-level function with\n",
      "similar flexibility) or `histplot` (an axes-level function for histograms).\n",
      "\n",
      "For a guide to updating your code to use the new functions, please see\n",
      "https://gist.github.com/mwaskom/de44147ed2974457ad6372750bbe5751\n",
      "\n",
      "  sns.distplot(df['hours-per-week'], bins=100, kde=False)\n"
     ]
    },
    {
     "data": {
      "text/plain": [
       "<Axes: xlabel='hours-per-week'>"
      ]
     },
     "execution_count": 72,
     "metadata": {},
     "output_type": "execute_result"
    },
    {
     "data": {
      "image/png": "[encoded data removed]",
      "text/plain": [
       "<Figure size 640x480 with 1 Axes>"
      ]
     },
     "metadata": {},
     "output_type": "display_data"
    }
   ],
   "source": [
    "sns.distplot(df['hours-per-week'], bins=100, kde=False)"
   ]
  },
  {
   "cell_type": "markdown",
   "id": "da4b01e0",
   "metadata": {},
   "source": [
    "- 40시간이 압도적으로 많고 나머지 합한 것은 얼마 안됨\n",
    "- 40시간을 기준으로, 40시간 미만, 40시간, 40시간 초과 3개 범주로 나누자\n",
    "\n",
    "- 40시간 미만 -> 0 \n",
    "- 40시간 -> 1\n",
    "- 40시간 초관 -> 2"
   ]
  },
  {
   "cell_type": "code",
   "execution_count": 73,
   "id": "4299f58f",
   "metadata": {},
   "outputs": [],
   "source": [
    "df_int_hours = []\n",
    "\n",
    "for i in range(0,48842):\n",
    "    if df_int['hours-per-week'][i] < 40:\n",
    "        df_int_hours.append(0)\n",
    "    elif df_int['hours-per-week'][i] == 40:\n",
    "        df_int_hours.append(1)\n",
    "    elif df_int['hours-per-week'][i] > 40:\n",
    "        df_int_hours.append(2)"
   ]
  },
  {
   "cell_type": "code",
   "execution_count": 74,
   "id": "7d169e8f",
   "metadata": {},
   "outputs": [
    {
     "name": "stderr",
     "output_type": "stream",
     "text": [
      "C:\\Users\\dkdlg\\AppData\\Local\\Temp\\ipykernel_14868\\4288451772.py:1: SettingWithCopyWarning: \n",
      "A value is trying to be set on a copy of a slice from a DataFrame.\n",
      "Try using .loc[row_indexer,col_indexer] = value instead\n",
      "\n",
      "See the caveats in the documentation: https://pandas.pydata.org/pandas-docs/stable/user_guide/indexing.html#returning-a-view-versus-a-copy\n",
      "  df_int['hours-per-week'] = df_int_hours\n"
     ]
    }
   ],
   "source": [
    "df_int['hours-per-week'] = df_int_hours"
   ]
  },
  {
   "cell_type": "code",
   "execution_count": 75,
   "id": "e0464c84",
   "metadata": {},
   "outputs": [
    {
     "data": {
      "text/html": [
       "<div>\n",
       "<style scoped>\n",
       "    .dataframe tbody tr th:only-of-type {\n",
       "        vertical-align: middle;\n",
       "    }\n",
       "\n",
       "    .dataframe tbody tr th {\n",
       "        vertical-align: top;\n",
       "    }\n",
       "\n",
       "    .dataframe thead th {\n",
       "        text-align: right;\n",
       "    }\n",
       "</style>\n",
       "<table border=\"1\" class=\"dataframe\">\n",
       "  <thead>\n",
       "    <tr style=\"text-align: right;\">\n",
       "      <th></th>\n",
       "      <th>Unnamed: 0</th>\n",
       "      <th>age</th>\n",
       "      <th>education-num</th>\n",
       "      <th>capital-gain</th>\n",
       "      <th>capital-loss</th>\n",
       "      <th>hours-per-week</th>\n",
       "      <th>class</th>\n",
       "    </tr>\n",
       "  </thead>\n",
       "  <tbody>\n",
       "    <tr>\n",
       "      <th>0</th>\n",
       "      <td>0</td>\n",
       "      <td>1</td>\n",
       "      <td>0</td>\n",
       "      <td>0</td>\n",
       "      <td>0</td>\n",
       "      <td>1</td>\n",
       "      <td>0</td>\n",
       "    </tr>\n",
       "    <tr>\n",
       "      <th>1</th>\n",
       "      <td>1</td>\n",
       "      <td>2</td>\n",
       "      <td>1</td>\n",
       "      <td>0</td>\n",
       "      <td>0</td>\n",
       "      <td>2</td>\n",
       "      <td>0</td>\n",
       "    </tr>\n",
       "    <tr>\n",
       "      <th>2</th>\n",
       "      <td>2</td>\n",
       "      <td>1</td>\n",
       "      <td>4</td>\n",
       "      <td>0</td>\n",
       "      <td>0</td>\n",
       "      <td>1</td>\n",
       "      <td>1</td>\n",
       "    </tr>\n",
       "    <tr>\n",
       "      <th>3</th>\n",
       "      <td>3</td>\n",
       "      <td>3</td>\n",
       "      <td>2</td>\n",
       "      <td>1</td>\n",
       "      <td>0</td>\n",
       "      <td>1</td>\n",
       "      <td>1</td>\n",
       "    </tr>\n",
       "    <tr>\n",
       "      <th>4</th>\n",
       "      <td>4</td>\n",
       "      <td>0</td>\n",
       "      <td>2</td>\n",
       "      <td>0</td>\n",
       "      <td>0</td>\n",
       "      <td>0</td>\n",
       "      <td>0</td>\n",
       "    </tr>\n",
       "    <tr>\n",
       "      <th>...</th>\n",
       "      <td>...</td>\n",
       "      <td>...</td>\n",
       "      <td>...</td>\n",
       "      <td>...</td>\n",
       "      <td>...</td>\n",
       "      <td>...</td>\n",
       "      <td>...</td>\n",
       "    </tr>\n",
       "    <tr>\n",
       "      <th>48837</th>\n",
       "      <td>48837</td>\n",
       "      <td>1</td>\n",
       "      <td>4</td>\n",
       "      <td>0</td>\n",
       "      <td>0</td>\n",
       "      <td>0</td>\n",
       "      <td>0</td>\n",
       "    </tr>\n",
       "    <tr>\n",
       "      <th>48838</th>\n",
       "      <td>48838</td>\n",
       "      <td>2</td>\n",
       "      <td>1</td>\n",
       "      <td>0</td>\n",
       "      <td>0</td>\n",
       "      <td>1</td>\n",
       "      <td>1</td>\n",
       "    </tr>\n",
       "    <tr>\n",
       "      <th>48839</th>\n",
       "      <td>48839</td>\n",
       "      <td>4</td>\n",
       "      <td>1</td>\n",
       "      <td>0</td>\n",
       "      <td>0</td>\n",
       "      <td>1</td>\n",
       "      <td>0</td>\n",
       "    </tr>\n",
       "    <tr>\n",
       "      <th>48840</th>\n",
       "      <td>48840</td>\n",
       "      <td>1</td>\n",
       "      <td>1</td>\n",
       "      <td>0</td>\n",
       "      <td>0</td>\n",
       "      <td>0</td>\n",
       "      <td>0</td>\n",
       "    </tr>\n",
       "    <tr>\n",
       "      <th>48841</th>\n",
       "      <td>48841</td>\n",
       "      <td>4</td>\n",
       "      <td>1</td>\n",
       "      <td>1</td>\n",
       "      <td>0</td>\n",
       "      <td>1</td>\n",
       "      <td>1</td>\n",
       "    </tr>\n",
       "  </tbody>\n",
       "</table>\n",
       "<p>48842 rows × 7 columns</p>\n",
       "</div>"
      ],
      "text/plain": [
       "       Unnamed: 0  age  education-num  capital-gain  capital-loss  \\\n",
       "0               0    1              0             0             0   \n",
       "1               1    2              1             0             0   \n",
       "2               2    1              4             0             0   \n",
       "3               3    3              2             1             0   \n",
       "4               4    0              2             0             0   \n",
       "...           ...  ...            ...           ...           ...   \n",
       "48837       48837    1              4             0             0   \n",
       "48838       48838    2              1             0             0   \n",
       "48839       48839    4              1             0             0   \n",
       "48840       48840    1              1             0             0   \n",
       "48841       48841    4              1             1             0   \n",
       "\n",
       "       hours-per-week  class  \n",
       "0                   1      0  \n",
       "1                   2      0  \n",
       "2                   1      1  \n",
       "3                   1      1  \n",
       "4                   0      0  \n",
       "...               ...    ...  \n",
       "48837               0      0  \n",
       "48838               1      1  \n",
       "48839               1      0  \n",
       "48840               0      0  \n",
       "48841               1      1  \n",
       "\n",
       "[48842 rows x 7 columns]"
      ]
     },
     "execution_count": 75,
     "metadata": {},
     "output_type": "execute_result"
    }
   ],
   "source": [
    "df_int"
   ]
  },
  {
   "cell_type": "markdown",
   "id": "4e52df7a",
   "metadata": {},
   "source": [
    "- 완료"
   ]
  },
  {
   "cell_type": "markdown",
   "id": "7ab13161",
   "metadata": {},
   "source": [
    "## 문자형 데이터"
   ]
  },
  {
   "cell_type": "code",
   "execution_count": 76,
   "id": "e9aedb85",
   "metadata": {},
   "outputs": [],
   "source": [
    "obj_columns = []\n",
    "\n",
    "for i in df.columns:\n",
    "    if df[i].dtype == 'object':\n",
    "        obj_columns.append(i)"
   ]
  },
  {
   "cell_type": "code",
   "execution_count": 77,
   "id": "f3ac4cd7",
   "metadata": {},
   "outputs": [],
   "source": [
    "df_obj = df[obj_columns]"
   ]
  },
  {
   "cell_type": "code",
   "execution_count": 78,
   "id": "b09baab7",
   "metadata": {},
   "outputs": [
    {
     "data": {
      "text/html": [
       "<div>\n",
       "<style scoped>\n",
       "    .dataframe tbody tr th:only-of-type {\n",
       "        vertical-align: middle;\n",
       "    }\n",
       "\n",
       "    .dataframe tbody tr th {\n",
       "        vertical-align: top;\n",
       "    }\n",
       "\n",
       "    .dataframe thead th {\n",
       "        text-align: right;\n",
       "    }\n",
       "</style>\n",
       "<table border=\"1\" class=\"dataframe\">\n",
       "  <thead>\n",
       "    <tr style=\"text-align: right;\">\n",
       "      <th></th>\n",
       "      <th>workclass</th>\n",
       "      <th>marital-status</th>\n",
       "      <th>occupation</th>\n",
       "      <th>relationship</th>\n",
       "      <th>race</th>\n",
       "      <th>sex</th>\n",
       "      <th>native-country</th>\n",
       "    </tr>\n",
       "  </thead>\n",
       "  <tbody>\n",
       "    <tr>\n",
       "      <th>0</th>\n",
       "      <td>Private</td>\n",
       "      <td>Never-married</td>\n",
       "      <td>Machine-op-inspct</td>\n",
       "      <td>Own-child</td>\n",
       "      <td>Black</td>\n",
       "      <td>Male</td>\n",
       "      <td>United-States</td>\n",
       "    </tr>\n",
       "    <tr>\n",
       "      <th>1</th>\n",
       "      <td>Private</td>\n",
       "      <td>Married-civ-spouse</td>\n",
       "      <td>Farming-fishing</td>\n",
       "      <td>Husband</td>\n",
       "      <td>White</td>\n",
       "      <td>Male</td>\n",
       "      <td>United-States</td>\n",
       "    </tr>\n",
       "    <tr>\n",
       "      <th>2</th>\n",
       "      <td>Local-gov</td>\n",
       "      <td>Married-civ-spouse</td>\n",
       "      <td>Protective-serv</td>\n",
       "      <td>Husband</td>\n",
       "      <td>White</td>\n",
       "      <td>Male</td>\n",
       "      <td>United-States</td>\n",
       "    </tr>\n",
       "    <tr>\n",
       "      <th>3</th>\n",
       "      <td>Private</td>\n",
       "      <td>Married-civ-spouse</td>\n",
       "      <td>Machine-op-inspct</td>\n",
       "      <td>Husband</td>\n",
       "      <td>Black</td>\n",
       "      <td>Male</td>\n",
       "      <td>United-States</td>\n",
       "    </tr>\n",
       "    <tr>\n",
       "      <th>4</th>\n",
       "      <td>Never-worked</td>\n",
       "      <td>Never-married</td>\n",
       "      <td>Priv-house-serv</td>\n",
       "      <td>Own-child</td>\n",
       "      <td>White</td>\n",
       "      <td>Female</td>\n",
       "      <td>United-States</td>\n",
       "    </tr>\n",
       "    <tr>\n",
       "      <th>...</th>\n",
       "      <td>...</td>\n",
       "      <td>...</td>\n",
       "      <td>...</td>\n",
       "      <td>...</td>\n",
       "      <td>...</td>\n",
       "      <td>...</td>\n",
       "      <td>...</td>\n",
       "    </tr>\n",
       "    <tr>\n",
       "      <th>48837</th>\n",
       "      <td>Private</td>\n",
       "      <td>Married-civ-spouse</td>\n",
       "      <td>Tech-support</td>\n",
       "      <td>Wife</td>\n",
       "      <td>White</td>\n",
       "      <td>Female</td>\n",
       "      <td>United-States</td>\n",
       "    </tr>\n",
       "    <tr>\n",
       "      <th>48838</th>\n",
       "      <td>Private</td>\n",
       "      <td>Married-civ-spouse</td>\n",
       "      <td>Machine-op-inspct</td>\n",
       "      <td>Husband</td>\n",
       "      <td>White</td>\n",
       "      <td>Male</td>\n",
       "      <td>United-States</td>\n",
       "    </tr>\n",
       "    <tr>\n",
       "      <th>48839</th>\n",
       "      <td>Private</td>\n",
       "      <td>Widowed</td>\n",
       "      <td>Adm-clerical</td>\n",
       "      <td>Unmarried</td>\n",
       "      <td>White</td>\n",
       "      <td>Female</td>\n",
       "      <td>United-States</td>\n",
       "    </tr>\n",
       "    <tr>\n",
       "      <th>48840</th>\n",
       "      <td>Private</td>\n",
       "      <td>Never-married</td>\n",
       "      <td>Adm-clerical</td>\n",
       "      <td>Own-child</td>\n",
       "      <td>White</td>\n",
       "      <td>Male</td>\n",
       "      <td>United-States</td>\n",
       "    </tr>\n",
       "    <tr>\n",
       "      <th>48841</th>\n",
       "      <td>Self-emp-inc</td>\n",
       "      <td>Married-civ-spouse</td>\n",
       "      <td>Exec-managerial</td>\n",
       "      <td>Wife</td>\n",
       "      <td>White</td>\n",
       "      <td>Female</td>\n",
       "      <td>United-States</td>\n",
       "    </tr>\n",
       "  </tbody>\n",
       "</table>\n",
       "<p>48842 rows × 7 columns</p>\n",
       "</div>"
      ],
      "text/plain": [
       "          workclass      marital-status         occupation relationship  \\\n",
       "0           Private       Never-married  Machine-op-inspct    Own-child   \n",
       "1           Private  Married-civ-spouse    Farming-fishing      Husband   \n",
       "2         Local-gov  Married-civ-spouse    Protective-serv      Husband   \n",
       "3           Private  Married-civ-spouse  Machine-op-inspct      Husband   \n",
       "4      Never-worked       Never-married    Priv-house-serv    Own-child   \n",
       "...             ...                 ...                ...          ...   \n",
       "48837       Private  Married-civ-spouse       Tech-support         Wife   \n",
       "48838       Private  Married-civ-spouse  Machine-op-inspct      Husband   \n",
       "48839       Private             Widowed       Adm-clerical    Unmarried   \n",
       "48840       Private       Never-married       Adm-clerical    Own-child   \n",
       "48841  Self-emp-inc  Married-civ-spouse    Exec-managerial         Wife   \n",
       "\n",
       "        race     sex native-country  \n",
       "0      Black    Male  United-States  \n",
       "1      White    Male  United-States  \n",
       "2      White    Male  United-States  \n",
       "3      Black    Male  United-States  \n",
       "4      White  Female  United-States  \n",
       "...      ...     ...            ...  \n",
       "48837  White  Female  United-States  \n",
       "48838  White    Male  United-States  \n",
       "48839  White  Female  United-States  \n",
       "48840  White    Male  United-States  \n",
       "48841  White  Female  United-States  \n",
       "\n",
       "[48842 rows x 7 columns]"
      ]
     },
     "execution_count": 78,
     "metadata": {},
     "output_type": "execute_result"
    }
   ],
   "source": [
    "df_obj"
   ]
  },
  {
   "cell_type": "markdown",
   "id": "b9121ada",
   "metadata": {},
   "source": [
    "### workclass 컬럼"
   ]
  },
  {
   "cell_type": "code",
   "execution_count": 79,
   "id": "8592b9c6",
   "metadata": {},
   "outputs": [
    {
     "data": {
      "text/plain": [
       "array(['Private', 'Local-gov', 'Never-worked', 'Self-emp-not-inc',\n",
       "       'Federal-gov', 'State-gov', 'Self-emp-inc', 'Without-pay'],\n",
       "      dtype=object)"
      ]
     },
     "execution_count": 79,
     "metadata": {},
     "output_type": "execute_result"
    }
   ],
   "source": [
    "df_obj['workclass'].unique()"
   ]
  },
  {
   "cell_type": "code",
   "execution_count": 80,
   "id": "e3732554",
   "metadata": {},
   "outputs": [
    {
     "data": {
      "text/plain": [
       "<Axes: xlabel='workclass', ylabel='Count'>"
      ]
     },
     "execution_count": 80,
     "metadata": {},
     "output_type": "execute_result"
    },
    {
     "data": {
      "image/png": "[encoded data removed]",
      "text/plain": [
       "<Figure size 2000x1000 with 1 Axes>"
      ]
     },
     "metadata": {},
     "output_type": "display_data"
    }
   ],
   "source": [
    "plt.figure(figsize=(20,10))\n",
    "sns.histplot(data=df, x=\"workclass\", hue=\"class\", multiple=\"dodge\")"
   ]
  },
  {
   "cell_type": "markdown",
   "id": "d436f34f",
   "metadata": {},
   "source": [
    "- 문자형 -> 수치형 인코딩\n",
    "\n",
    "- 'Private' -> 0\n",
    "- 'Local-gov'-> 1\n",
    "- 'Never-worked'-> 2\n",
    "- 'Self-emp-not-inc' -> 3\n",
    "- 'Federal-gov' -> 4 \n",
    "- 'State-gov'-> 5 \n",
    "- 'Self-emp-inc' -> 6 \n",
    "- 'Without-pay' -> 7"
   ]
  },
  {
   "cell_type": "code",
   "execution_count": 81,
   "id": "c8e08a0d",
   "metadata": {},
   "outputs": [],
   "source": [
    "df_obj_work = []\n",
    "\n",
    "for i in range(0,48842):\n",
    "    if df_obj.workclass[i] == 'Private':\n",
    "        df_obj_work.append(0)\n",
    "    elif df_obj.workclass[i] == 'Local-gov':\n",
    "        df_obj_work.append(1)\n",
    "    elif df_obj.workclass[i] == 'Never-worked':\n",
    "        df_obj_work.append(2)\n",
    "    elif df_obj.workclass[i] == 'Self-emp-not-inc':\n",
    "        df_obj_work.append(3)\n",
    "    elif df_obj.workclass[i] == 'Federal-gov':\n",
    "        df_obj_work.append(4)\n",
    "    elif df_obj.workclass[i] == 'State-gov':\n",
    "        df_obj_work.append(5)\n",
    "    elif df_obj.workclass[i] == 'Self-emp-inc' :\n",
    "        df_obj_work.append(6)\n",
    "    elif df_obj.workclass[i] == 'Without-pay'  :\n",
    "        df_obj_work.append(7)\n",
    "\n"
   ]
  },
  {
   "cell_type": "code",
   "execution_count": 82,
   "id": "b6cbfe67",
   "metadata": {},
   "outputs": [
    {
     "name": "stderr",
     "output_type": "stream",
     "text": [
      "C:\\Users\\dkdlg\\AppData\\Local\\Temp\\ipykernel_14868\\2316072835.py:1: SettingWithCopyWarning: \n",
      "A value is trying to be set on a copy of a slice from a DataFrame.\n",
      "Try using .loc[row_indexer,col_indexer] = value instead\n",
      "\n",
      "See the caveats in the documentation: https://pandas.pydata.org/pandas-docs/stable/user_guide/indexing.html#returning-a-view-versus-a-copy\n",
      "  df_obj['workclass'] = df_obj_work\n"
     ]
    }
   ],
   "source": [
    "df_obj['workclass'] = df_obj_work"
   ]
  },
  {
   "cell_type": "code",
   "execution_count": 83,
   "id": "0ff50aa8",
   "metadata": {},
   "outputs": [
    {
     "data": {
      "text/plain": [
       "array([0, 1, 2, 3, 4, 5, 6, 7], dtype=int64)"
      ]
     },
     "execution_count": 83,
     "metadata": {},
     "output_type": "execute_result"
    }
   ],
   "source": [
    "df_obj['workclass'].unique()"
   ]
  },
  {
   "cell_type": "markdown",
   "id": "2a4eaf61",
   "metadata": {},
   "source": [
    "- 완료"
   ]
  },
  {
   "cell_type": "markdown",
   "id": "35b01c0a",
   "metadata": {},
   "source": [
    "### marital-status 컬럼"
   ]
  },
  {
   "cell_type": "code",
   "execution_count": 84,
   "id": "bc86fa58",
   "metadata": {},
   "outputs": [
    {
     "data": {
      "text/plain": [
       "array(['Never-married', 'Married-civ-spouse', 'Widowed', 'Divorced',\n",
       "       'Separated', 'Married-spouse-absent', 'Married-AF-spouse'],\n",
       "      dtype=object)"
      ]
     },
     "execution_count": 84,
     "metadata": {},
     "output_type": "execute_result"
    }
   ],
   "source": [
    "df_obj['marital-status'].unique()"
   ]
  },
  {
   "cell_type": "markdown",
   "id": "d94cce41",
   "metadata": {},
   "source": [
    "- 문자형 -> 수치형 인코딩\n",
    "- 'Never-married' -> 0\n",
    "- 'Married-civ-spouse' -> 1\n",
    "- 'Widowed' -> 2\n",
    "- 'Divorced' -> 3\n",
    "- 'Separated -> 4 \n",
    "- 'Married-spouse-absent' -> 5 \n",
    "- 'Married-AF-spouse' -> 6"
   ]
  },
  {
   "cell_type": "code",
   "execution_count": 85,
   "id": "a7e2a2fa",
   "metadata": {},
   "outputs": [],
   "source": [
    "df_obj_ms = []\n",
    "\n",
    "for i in range(0,48842):\n",
    "    if df_obj['marital-status'][i] == 'Never-married' :\n",
    "        df_obj_ms.append(0)\n",
    "    elif df_obj['marital-status'][i] == 'Married-civ-spouse' :\n",
    "        df_obj_ms.append(1)\n",
    "    elif df_obj['marital-status'][i] == 'Widowed' :\n",
    "        df_obj_ms.append(2)\n",
    "    elif df_obj['marital-status'][i] == 'Divorced' :\n",
    "        df_obj_ms.append(3)\n",
    "    elif df_obj['marital-status'][i]== 'Separated':\n",
    "        df_obj_ms.append(4)\n",
    "    elif df_obj['marital-status'][i] == 'Married-spouse-absent' :\n",
    "        df_obj_ms.append(5)\n",
    "    elif df_obj['marital-status'][i] == 'Married-AF-spouse'  :\n",
    "        df_obj_ms.append(6)\n",
    "    \n"
   ]
  },
  {
   "cell_type": "code",
   "execution_count": 86,
   "id": "beeafc1d",
   "metadata": {},
   "outputs": [
    {
     "name": "stderr",
     "output_type": "stream",
     "text": [
      "C:\\Users\\dkdlg\\AppData\\Local\\Temp\\ipykernel_14868\\1699219551.py:1: SettingWithCopyWarning: \n",
      "A value is trying to be set on a copy of a slice from a DataFrame.\n",
      "Try using .loc[row_indexer,col_indexer] = value instead\n",
      "\n",
      "See the caveats in the documentation: https://pandas.pydata.org/pandas-docs/stable/user_guide/indexing.html#returning-a-view-versus-a-copy\n",
      "  df_obj['marital-status'] = df_obj_ms\n"
     ]
    }
   ],
   "source": [
    "df_obj['marital-status'] = df_obj_ms"
   ]
  },
  {
   "cell_type": "code",
   "execution_count": 87,
   "id": "111c360a",
   "metadata": {},
   "outputs": [
    {
     "data": {
      "text/html": [
       "<div>\n",
       "<style scoped>\n",
       "    .dataframe tbody tr th:only-of-type {\n",
       "        vertical-align: middle;\n",
       "    }\n",
       "\n",
       "    .dataframe tbody tr th {\n",
       "        vertical-align: top;\n",
       "    }\n",
       "\n",
       "    .dataframe thead th {\n",
       "        text-align: right;\n",
       "    }\n",
       "</style>\n",
       "<table border=\"1\" class=\"dataframe\">\n",
       "  <thead>\n",
       "    <tr style=\"text-align: right;\">\n",
       "      <th></th>\n",
       "      <th>workclass</th>\n",
       "      <th>marital-status</th>\n",
       "      <th>occupation</th>\n",
       "      <th>relationship</th>\n",
       "      <th>race</th>\n",
       "      <th>sex</th>\n",
       "      <th>native-country</th>\n",
       "    </tr>\n",
       "  </thead>\n",
       "  <tbody>\n",
       "    <tr>\n",
       "      <th>0</th>\n",
       "      <td>0</td>\n",
       "      <td>0</td>\n",
       "      <td>Machine-op-inspct</td>\n",
       "      <td>Own-child</td>\n",
       "      <td>Black</td>\n",
       "      <td>Male</td>\n",
       "      <td>United-States</td>\n",
       "    </tr>\n",
       "    <tr>\n",
       "      <th>1</th>\n",
       "      <td>0</td>\n",
       "      <td>1</td>\n",
       "      <td>Farming-fishing</td>\n",
       "      <td>Husband</td>\n",
       "      <td>White</td>\n",
       "      <td>Male</td>\n",
       "      <td>United-States</td>\n",
       "    </tr>\n",
       "    <tr>\n",
       "      <th>2</th>\n",
       "      <td>1</td>\n",
       "      <td>1</td>\n",
       "      <td>Protective-serv</td>\n",
       "      <td>Husband</td>\n",
       "      <td>White</td>\n",
       "      <td>Male</td>\n",
       "      <td>United-States</td>\n",
       "    </tr>\n",
       "    <tr>\n",
       "      <th>3</th>\n",
       "      <td>0</td>\n",
       "      <td>1</td>\n",
       "      <td>Machine-op-inspct</td>\n",
       "      <td>Husband</td>\n",
       "      <td>Black</td>\n",
       "      <td>Male</td>\n",
       "      <td>United-States</td>\n",
       "    </tr>\n",
       "    <tr>\n",
       "      <th>4</th>\n",
       "      <td>2</td>\n",
       "      <td>0</td>\n",
       "      <td>Priv-house-serv</td>\n",
       "      <td>Own-child</td>\n",
       "      <td>White</td>\n",
       "      <td>Female</td>\n",
       "      <td>United-States</td>\n",
       "    </tr>\n",
       "    <tr>\n",
       "      <th>...</th>\n",
       "      <td>...</td>\n",
       "      <td>...</td>\n",
       "      <td>...</td>\n",
       "      <td>...</td>\n",
       "      <td>...</td>\n",
       "      <td>...</td>\n",
       "      <td>...</td>\n",
       "    </tr>\n",
       "    <tr>\n",
       "      <th>48837</th>\n",
       "      <td>0</td>\n",
       "      <td>1</td>\n",
       "      <td>Tech-support</td>\n",
       "      <td>Wife</td>\n",
       "      <td>White</td>\n",
       "      <td>Female</td>\n",
       "      <td>United-States</td>\n",
       "    </tr>\n",
       "    <tr>\n",
       "      <th>48838</th>\n",
       "      <td>0</td>\n",
       "      <td>1</td>\n",
       "      <td>Machine-op-inspct</td>\n",
       "      <td>Husband</td>\n",
       "      <td>White</td>\n",
       "      <td>Male</td>\n",
       "      <td>United-States</td>\n",
       "    </tr>\n",
       "    <tr>\n",
       "      <th>48839</th>\n",
       "      <td>0</td>\n",
       "      <td>2</td>\n",
       "      <td>Adm-clerical</td>\n",
       "      <td>Unmarried</td>\n",
       "      <td>White</td>\n",
       "      <td>Female</td>\n",
       "      <td>United-States</td>\n",
       "    </tr>\n",
       "    <tr>\n",
       "      <th>48840</th>\n",
       "      <td>0</td>\n",
       "      <td>0</td>\n",
       "      <td>Adm-clerical</td>\n",
       "      <td>Own-child</td>\n",
       "      <td>White</td>\n",
       "      <td>Male</td>\n",
       "      <td>United-States</td>\n",
       "    </tr>\n",
       "    <tr>\n",
       "      <th>48841</th>\n",
       "      <td>6</td>\n",
       "      <td>1</td>\n",
       "      <td>Exec-managerial</td>\n",
       "      <td>Wife</td>\n",
       "      <td>White</td>\n",
       "      <td>Female</td>\n",
       "      <td>United-States</td>\n",
       "    </tr>\n",
       "  </tbody>\n",
       "</table>\n",
       "<p>48842 rows × 7 columns</p>\n",
       "</div>"
      ],
      "text/plain": [
       "       workclass  marital-status         occupation relationship   race  \\\n",
       "0              0               0  Machine-op-inspct    Own-child  Black   \n",
       "1              0               1    Farming-fishing      Husband  White   \n",
       "2              1               1    Protective-serv      Husband  White   \n",
       "3              0               1  Machine-op-inspct      Husband  Black   \n",
       "4              2               0    Priv-house-serv    Own-child  White   \n",
       "...          ...             ...                ...          ...    ...   \n",
       "48837          0               1       Tech-support         Wife  White   \n",
       "48838          0               1  Machine-op-inspct      Husband  White   \n",
       "48839          0               2       Adm-clerical    Unmarried  White   \n",
       "48840          0               0       Adm-clerical    Own-child  White   \n",
       "48841          6               1    Exec-managerial         Wife  White   \n",
       "\n",
       "          sex native-country  \n",
       "0        Male  United-States  \n",
       "1        Male  United-States  \n",
       "2        Male  United-States  \n",
       "3        Male  United-States  \n",
       "4      Female  United-States  \n",
       "...       ...            ...  \n",
       "48837  Female  United-States  \n",
       "48838    Male  United-States  \n",
       "48839  Female  United-States  \n",
       "48840    Male  United-States  \n",
       "48841  Female  United-States  \n",
       "\n",
       "[48842 rows x 7 columns]"
      ]
     },
     "execution_count": 87,
     "metadata": {},
     "output_type": "execute_result"
    }
   ],
   "source": [
    "df_obj"
   ]
  },
  {
   "cell_type": "code",
   "execution_count": 88,
   "id": "eda4125a",
   "metadata": {},
   "outputs": [
    {
     "data": {
      "text/plain": [
       "array([0, 1, 2, 3, 4, 5, 6], dtype=int64)"
      ]
     },
     "execution_count": 88,
     "metadata": {},
     "output_type": "execute_result"
    }
   ],
   "source": [
    "df_obj['marital-status'].unique()"
   ]
  },
  {
   "cell_type": "markdown",
   "id": "28f133b5",
   "metadata": {},
   "source": [
    "- 완료"
   ]
  },
  {
   "cell_type": "markdown",
   "id": "345a3870",
   "metadata": {},
   "source": [
    "### occupation 컬럼"
   ]
  },
  {
   "cell_type": "code",
   "execution_count": 89,
   "id": "9ea12312",
   "metadata": {},
   "outputs": [
    {
     "data": {
      "text/plain": [
       "array(['Machine-op-inspct', 'Farming-fishing', 'Protective-serv',\n",
       "       'Priv-house-serv', 'Other-service', 'Prof-specialty',\n",
       "       'Craft-repair', 'Adm-clerical', 'Exec-managerial', 'Tech-support',\n",
       "       'Sales', 'Transport-moving', 'Handlers-cleaners', 'Armed-Forces'],\n",
       "      dtype=object)"
      ]
     },
     "execution_count": 89,
     "metadata": {},
     "output_type": "execute_result"
    }
   ],
   "source": [
    "df['occupation'].unique()"
   ]
  },
  {
   "cell_type": "code",
   "execution_count": 90,
   "id": "d4382fdb",
   "metadata": {},
   "outputs": [
    {
     "data": {
      "text/plain": [
       "Exec-managerial      6351\n",
       "Prof-specialty       6172\n",
       "Craft-repair         6112\n",
       "Adm-clerical         5611\n",
       "Sales                5504\n",
       "Other-service        4923\n",
       "Machine-op-inspct    3022\n",
       "Priv-house-serv      2786\n",
       "Transport-moving     2355\n",
       "Handlers-cleaners    2072\n",
       "Farming-fishing      1490\n",
       "Tech-support         1446\n",
       "Protective-serv       983\n",
       "Armed-Forces           15\n",
       "Name: occupation, dtype: int64"
      ]
     },
     "execution_count": 90,
     "metadata": {},
     "output_type": "execute_result"
    }
   ],
   "source": [
    "df['occupation'].value_counts()"
   ]
  },
  {
   "cell_type": "markdown",
   "id": "d907ab52",
   "metadata": {},
   "source": [
    "- 범주가 꽤 많음 -> 간소화 할 수 있을까?"
   ]
  },
  {
   "cell_type": "code",
   "execution_count": 91,
   "id": "dbc0f55b",
   "metadata": {},
   "outputs": [
    {
     "data": {
      "text/plain": [
       "<Axes: xlabel='occupation', ylabel='Count'>"
      ]
     },
     "execution_count": 91,
     "metadata": {},
     "output_type": "execute_result"
    },
    {
     "data": {
      "image/png": "[encoded data removed]",
      "text/plain": [
       "<Figure size 3000x1000 with 1 Axes>"
      ]
     },
     "metadata": {},
     "output_type": "display_data"
    }
   ],
   "source": [
    "plt.figure(figsize=(30,10))\n",
    "sns.histplot(data=df, x='occupation', hue=\"class\", multiple=\"dodge\")"
   ]
  },
  {
   "cell_type": "code",
   "execution_count": 92,
   "id": "00f871db",
   "metadata": {},
   "outputs": [
    {
     "data": {
      "text/plain": [
       "0.23928176569346055"
      ]
     },
     "execution_count": 92,
     "metadata": {},
     "output_type": "execute_result"
    }
   ],
   "source": [
    "df['class'].mean()"
   ]
  },
  {
   "cell_type": "code",
   "execution_count": 93,
   "id": "c1984a27",
   "metadata": {},
   "outputs": [],
   "source": [
    "df_oc = df[['occupation','class']]"
   ]
  },
  {
   "cell_type": "code",
   "execution_count": 94,
   "id": "558c6e22",
   "metadata": {},
   "outputs": [
    {
     "data": {
      "text/html": [
       "<div>\n",
       "<style scoped>\n",
       "    .dataframe tbody tr th:only-of-type {\n",
       "        vertical-align: middle;\n",
       "    }\n",
       "\n",
       "    .dataframe tbody tr th {\n",
       "        vertical-align: top;\n",
       "    }\n",
       "\n",
       "    .dataframe thead th {\n",
       "        text-align: right;\n",
       "    }\n",
       "</style>\n",
       "<table border=\"1\" class=\"dataframe\">\n",
       "  <thead>\n",
       "    <tr style=\"text-align: right;\">\n",
       "      <th></th>\n",
       "      <th>class</th>\n",
       "    </tr>\n",
       "    <tr>\n",
       "      <th>occupation</th>\n",
       "      <th></th>\n",
       "    </tr>\n",
       "  </thead>\n",
       "  <tbody>\n",
       "    <tr>\n",
       "      <th>Adm-clerical</th>\n",
       "      <td>0.136874</td>\n",
       "    </tr>\n",
       "    <tr>\n",
       "      <th>Armed-Forces</th>\n",
       "      <td>0.333333</td>\n",
       "    </tr>\n",
       "    <tr>\n",
       "      <th>Craft-repair</th>\n",
       "      <td>0.226276</td>\n",
       "    </tr>\n",
       "    <tr>\n",
       "      <th>Exec-managerial</th>\n",
       "      <td>0.499606</td>\n",
       "    </tr>\n",
       "    <tr>\n",
       "      <th>Farming-fishing</th>\n",
       "      <td>0.116107</td>\n",
       "    </tr>\n",
       "    <tr>\n",
       "      <th>Handlers-cleaners</th>\n",
       "      <td>0.066602</td>\n",
       "    </tr>\n",
       "    <tr>\n",
       "      <th>Machine-op-inspct</th>\n",
       "      <td>0.123097</td>\n",
       "    </tr>\n",
       "    <tr>\n",
       "      <th>Other-service</th>\n",
       "      <td>0.041438</td>\n",
       "    </tr>\n",
       "    <tr>\n",
       "      <th>Priv-house-serv</th>\n",
       "      <td>0.001077</td>\n",
       "    </tr>\n",
       "    <tr>\n",
       "      <th>Prof-specialty</th>\n",
       "      <td>0.451069</td>\n",
       "    </tr>\n",
       "    <tr>\n",
       "      <th>Protective-serv</th>\n",
       "      <td>0.313327</td>\n",
       "    </tr>\n",
       "    <tr>\n",
       "      <th>Sales</th>\n",
       "      <td>0.267987</td>\n",
       "    </tr>\n",
       "    <tr>\n",
       "      <th>Tech-support</th>\n",
       "      <td>0.290456</td>\n",
       "    </tr>\n",
       "    <tr>\n",
       "      <th>Transport-moving</th>\n",
       "      <td>0.204246</td>\n",
       "    </tr>\n",
       "  </tbody>\n",
       "</table>\n",
       "</div>"
      ],
      "text/plain": [
       "                      class\n",
       "occupation                 \n",
       "Adm-clerical       0.136874\n",
       "Armed-Forces       0.333333\n",
       "Craft-repair       0.226276\n",
       "Exec-managerial    0.499606\n",
       "Farming-fishing    0.116107\n",
       "Handlers-cleaners  0.066602\n",
       "Machine-op-inspct  0.123097\n",
       "Other-service      0.041438\n",
       "Priv-house-serv    0.001077\n",
       "Prof-specialty     0.451069\n",
       "Protective-serv    0.313327\n",
       "Sales              0.267987\n",
       "Tech-support       0.290456\n",
       "Transport-moving   0.204246"
      ]
     },
     "execution_count": 94,
     "metadata": {},
     "output_type": "execute_result"
    }
   ],
   "source": [
    "df_oc.groupby('occupation').mean()"
   ]
  },
  {
   "cell_type": "markdown",
   "id": "b61729db",
   "metadata": {},
   "source": [
    "- occupation 각 level별 class의 평균을 기준으로 범주 간소화 진행\n",
    "- class 평균이 0.1 미만 -> 0 (Handlers-cleaners , Other-service , Priv-house-serv)\n",
    "- class 평균이 0.1 이상 0.2 미만 -> 1 (Adm-clerical , Farming-fishing , Machine-op-inspct)\n",
    "- class 평균이 0.2 이상 0.3 미만 -> 2 (Craft-repair , Sales , Tech-support , Transport-moving)\n",
    "- class 평균이 0.3 이상 0.4 미만 -> 3 (Armed-Forces , Protective-serv)\n",
    "- class 평균이 0.4 이상 -> 4 (Exec-managerial , Prof-specialty)"
   ]
  },
  {
   "cell_type": "code",
   "execution_count": 95,
   "id": "55dd7f8f",
   "metadata": {},
   "outputs": [],
   "source": [
    "df_obj_oc = []\n",
    "\n",
    "for i in range(0,48842):\n",
    "    if (df_obj['occupation'][i] == 'Handlers-cleaners' or df_obj['occupation'][i] ==  'Other-service' \n",
    "        or df_obj['occupation'][i] == 'Priv-house-serv'):\n",
    "        df_obj_oc.append(0)\n",
    "    elif (df_obj['occupation'][i] == 'Adm-clerical' or df_obj['occupation'][i] ==  'Farming-fishing' \n",
    "          or df_obj['occupation'][i] ==  'Machine-op-inspct'):\n",
    "        df_obj_oc.append(1)\n",
    "    elif (df_obj['occupation'][i] == 'Craft-repair' or df_obj['occupation'][i] ==  'Sales' \n",
    "          or df_obj['occupation'][i] ==  'Tech-support' or df_obj['occupation'][i] ==  'Transport-moving'):\n",
    "        df_obj_oc.append(2)\n",
    "    elif (df_obj['occupation'][i] == 'Armed-Forces' or df_obj['occupation'][i] ==  'Protective-serv'):\n",
    "        df_obj_oc.append(3)\n",
    "    elif (df_obj['occupation'][i] == 'Exec-managerial' or df_obj['occupation'][i] ==  'Prof-specialty'):\n",
    "        df_obj_oc.append(4)"
   ]
  },
  {
   "cell_type": "code",
   "execution_count": 96,
   "id": "edc4038e",
   "metadata": {},
   "outputs": [
    {
     "name": "stderr",
     "output_type": "stream",
     "text": [
      "C:\\Users\\dkdlg\\AppData\\Local\\Temp\\ipykernel_14868\\342493816.py:1: SettingWithCopyWarning: \n",
      "A value is trying to be set on a copy of a slice from a DataFrame.\n",
      "Try using .loc[row_indexer,col_indexer] = value instead\n",
      "\n",
      "See the caveats in the documentation: https://pandas.pydata.org/pandas-docs/stable/user_guide/indexing.html#returning-a-view-versus-a-copy\n",
      "  df_obj['occupation'] = df_obj_oc\n"
     ]
    }
   ],
   "source": [
    "df_obj['occupation'] = df_obj_oc"
   ]
  },
  {
   "cell_type": "code",
   "execution_count": 97,
   "id": "0d4950ad",
   "metadata": {},
   "outputs": [
    {
     "data": {
      "text/html": [
       "<div>\n",
       "<style scoped>\n",
       "    .dataframe tbody tr th:only-of-type {\n",
       "        vertical-align: middle;\n",
       "    }\n",
       "\n",
       "    .dataframe tbody tr th {\n",
       "        vertical-align: top;\n",
       "    }\n",
       "\n",
       "    .dataframe thead th {\n",
       "        text-align: right;\n",
       "    }\n",
       "</style>\n",
       "<table border=\"1\" class=\"dataframe\">\n",
       "  <thead>\n",
       "    <tr style=\"text-align: right;\">\n",
       "      <th></th>\n",
       "      <th>workclass</th>\n",
       "      <th>marital-status</th>\n",
       "      <th>occupation</th>\n",
       "      <th>relationship</th>\n",
       "      <th>race</th>\n",
       "      <th>sex</th>\n",
       "      <th>native-country</th>\n",
       "    </tr>\n",
       "  </thead>\n",
       "  <tbody>\n",
       "    <tr>\n",
       "      <th>0</th>\n",
       "      <td>0</td>\n",
       "      <td>0</td>\n",
       "      <td>1</td>\n",
       "      <td>Own-child</td>\n",
       "      <td>Black</td>\n",
       "      <td>Male</td>\n",
       "      <td>United-States</td>\n",
       "    </tr>\n",
       "    <tr>\n",
       "      <th>1</th>\n",
       "      <td>0</td>\n",
       "      <td>1</td>\n",
       "      <td>1</td>\n",
       "      <td>Husband</td>\n",
       "      <td>White</td>\n",
       "      <td>Male</td>\n",
       "      <td>United-States</td>\n",
       "    </tr>\n",
       "    <tr>\n",
       "      <th>2</th>\n",
       "      <td>1</td>\n",
       "      <td>1</td>\n",
       "      <td>3</td>\n",
       "      <td>Husband</td>\n",
       "      <td>White</td>\n",
       "      <td>Male</td>\n",
       "      <td>United-States</td>\n",
       "    </tr>\n",
       "    <tr>\n",
       "      <th>3</th>\n",
       "      <td>0</td>\n",
       "      <td>1</td>\n",
       "      <td>1</td>\n",
       "      <td>Husband</td>\n",
       "      <td>Black</td>\n",
       "      <td>Male</td>\n",
       "      <td>United-States</td>\n",
       "    </tr>\n",
       "    <tr>\n",
       "      <th>4</th>\n",
       "      <td>2</td>\n",
       "      <td>0</td>\n",
       "      <td>0</td>\n",
       "      <td>Own-child</td>\n",
       "      <td>White</td>\n",
       "      <td>Female</td>\n",
       "      <td>United-States</td>\n",
       "    </tr>\n",
       "    <tr>\n",
       "      <th>...</th>\n",
       "      <td>...</td>\n",
       "      <td>...</td>\n",
       "      <td>...</td>\n",
       "      <td>...</td>\n",
       "      <td>...</td>\n",
       "      <td>...</td>\n",
       "      <td>...</td>\n",
       "    </tr>\n",
       "    <tr>\n",
       "      <th>48837</th>\n",
       "      <td>0</td>\n",
       "      <td>1</td>\n",
       "      <td>2</td>\n",
       "      <td>Wife</td>\n",
       "      <td>White</td>\n",
       "      <td>Female</td>\n",
       "      <td>United-States</td>\n",
       "    </tr>\n",
       "    <tr>\n",
       "      <th>48838</th>\n",
       "      <td>0</td>\n",
       "      <td>1</td>\n",
       "      <td>1</td>\n",
       "      <td>Husband</td>\n",
       "      <td>White</td>\n",
       "      <td>Male</td>\n",
       "      <td>United-States</td>\n",
       "    </tr>\n",
       "    <tr>\n",
       "      <th>48839</th>\n",
       "      <td>0</td>\n",
       "      <td>2</td>\n",
       "      <td>1</td>\n",
       "      <td>Unmarried</td>\n",
       "      <td>White</td>\n",
       "      <td>Female</td>\n",
       "      <td>United-States</td>\n",
       "    </tr>\n",
       "    <tr>\n",
       "      <th>48840</th>\n",
       "      <td>0</td>\n",
       "      <td>0</td>\n",
       "      <td>1</td>\n",
       "      <td>Own-child</td>\n",
       "      <td>White</td>\n",
       "      <td>Male</td>\n",
       "      <td>United-States</td>\n",
       "    </tr>\n",
       "    <tr>\n",
       "      <th>48841</th>\n",
       "      <td>6</td>\n",
       "      <td>1</td>\n",
       "      <td>4</td>\n",
       "      <td>Wife</td>\n",
       "      <td>White</td>\n",
       "      <td>Female</td>\n",
       "      <td>United-States</td>\n",
       "    </tr>\n",
       "  </tbody>\n",
       "</table>\n",
       "<p>48842 rows × 7 columns</p>\n",
       "</div>"
      ],
      "text/plain": [
       "       workclass  marital-status  occupation relationship   race     sex  \\\n",
       "0              0               0           1    Own-child  Black    Male   \n",
       "1              0               1           1      Husband  White    Male   \n",
       "2              1               1           3      Husband  White    Male   \n",
       "3              0               1           1      Husband  Black    Male   \n",
       "4              2               0           0    Own-child  White  Female   \n",
       "...          ...             ...         ...          ...    ...     ...   \n",
       "48837          0               1           2         Wife  White  Female   \n",
       "48838          0               1           1      Husband  White    Male   \n",
       "48839          0               2           1    Unmarried  White  Female   \n",
       "48840          0               0           1    Own-child  White    Male   \n",
       "48841          6               1           4         Wife  White  Female   \n",
       "\n",
       "      native-country  \n",
       "0      United-States  \n",
       "1      United-States  \n",
       "2      United-States  \n",
       "3      United-States  \n",
       "4      United-States  \n",
       "...              ...  \n",
       "48837  United-States  \n",
       "48838  United-States  \n",
       "48839  United-States  \n",
       "48840  United-States  \n",
       "48841  United-States  \n",
       "\n",
       "[48842 rows x 7 columns]"
      ]
     },
     "execution_count": 97,
     "metadata": {},
     "output_type": "execute_result"
    }
   ],
   "source": [
    "df_obj"
   ]
  },
  {
   "cell_type": "code",
   "execution_count": 98,
   "id": "d9e09cca",
   "metadata": {},
   "outputs": [
    {
     "data": {
      "text/plain": [
       "array([1, 3, 0, 4, 2], dtype=int64)"
      ]
     },
     "execution_count": 98,
     "metadata": {},
     "output_type": "execute_result"
    }
   ],
   "source": [
    "df_obj['occupation'].unique()"
   ]
  },
  {
   "cell_type": "markdown",
   "id": "8d7fd059",
   "metadata": {},
   "source": [
    "- 완료"
   ]
  },
  {
   "cell_type": "markdown",
   "id": "7c17a132",
   "metadata": {},
   "source": [
    "### relationship 컬럼 "
   ]
  },
  {
   "cell_type": "code",
   "execution_count": 99,
   "id": "22aab384",
   "metadata": {},
   "outputs": [
    {
     "data": {
      "text/plain": [
       "array(['Own-child', 'Husband', 'Not-in-family', 'Unmarried', 'Wife',\n",
       "       'Other-relative'], dtype=object)"
      ]
     },
     "execution_count": 99,
     "metadata": {},
     "output_type": "execute_result"
    }
   ],
   "source": [
    "df_obj['relationship'].unique()"
   ]
  },
  {
   "cell_type": "markdown",
   "id": "92bf67cc",
   "metadata": {},
   "source": [
    "- 문자형 -> 수치형 인코딩\n",
    "\n",
    "- 'Own-child' -> 0\n",
    "- 'Husband' -> 1\n",
    "- 'Not-in-family' -> 2\n",
    "- 'Unmarried'-> 3\n",
    "- 'Wife' -> 4       \n",
    "- 'Other-relative' -> 5"
   ]
  },
  {
   "cell_type": "code",
   "execution_count": 100,
   "id": "02ffa17d",
   "metadata": {},
   "outputs": [],
   "source": [
    "df_obj_rel = []\n",
    "\n",
    "for i in range(0,48842):\n",
    "    if df_obj.relationship[i] == 'Own-child':\n",
    "        df_obj_rel.append(0)\n",
    "    elif df_obj.relationship[i] == 'Husband':\n",
    "        df_obj_rel.append(1) \n",
    "    elif df_obj.relationship[i] == 'Not-in-family' :\n",
    "        df_obj_rel.append(2) \n",
    "    elif df_obj.relationship[i] == 'Unmarried' :\n",
    "        df_obj_rel.append(3)\n",
    "    elif df_obj.relationship[i] == 'Wife' :\n",
    "        df_obj_rel.append(4)\n",
    "    elif df_obj.relationship[i] == 'Other-relative' :\n",
    "        df_obj_rel.append(5)\n",
    "        "
   ]
  },
  {
   "cell_type": "code",
   "execution_count": 101,
   "id": "1741b765",
   "metadata": {},
   "outputs": [
    {
     "name": "stderr",
     "output_type": "stream",
     "text": [
      "C:\\Users\\dkdlg\\AppData\\Local\\Temp\\ipykernel_14868\\2871549493.py:1: SettingWithCopyWarning: \n",
      "A value is trying to be set on a copy of a slice from a DataFrame.\n",
      "Try using .loc[row_indexer,col_indexer] = value instead\n",
      "\n",
      "See the caveats in the documentation: https://pandas.pydata.org/pandas-docs/stable/user_guide/indexing.html#returning-a-view-versus-a-copy\n",
      "  df_obj['relationship'] = df_obj_rel\n"
     ]
    }
   ],
   "source": [
    "df_obj['relationship'] = df_obj_rel"
   ]
  },
  {
   "cell_type": "code",
   "execution_count": 102,
   "id": "d0953116",
   "metadata": {},
   "outputs": [
    {
     "data": {
      "text/html": [
       "<div>\n",
       "<style scoped>\n",
       "    .dataframe tbody tr th:only-of-type {\n",
       "        vertical-align: middle;\n",
       "    }\n",
       "\n",
       "    .dataframe tbody tr th {\n",
       "        vertical-align: top;\n",
       "    }\n",
       "\n",
       "    .dataframe thead th {\n",
       "        text-align: right;\n",
       "    }\n",
       "</style>\n",
       "<table border=\"1\" class=\"dataframe\">\n",
       "  <thead>\n",
       "    <tr style=\"text-align: right;\">\n",
       "      <th></th>\n",
       "      <th>workclass</th>\n",
       "      <th>marital-status</th>\n",
       "      <th>occupation</th>\n",
       "      <th>relationship</th>\n",
       "      <th>race</th>\n",
       "      <th>sex</th>\n",
       "      <th>native-country</th>\n",
       "    </tr>\n",
       "  </thead>\n",
       "  <tbody>\n",
       "    <tr>\n",
       "      <th>0</th>\n",
       "      <td>0</td>\n",
       "      <td>0</td>\n",
       "      <td>1</td>\n",
       "      <td>0</td>\n",
       "      <td>Black</td>\n",
       "      <td>Male</td>\n",
       "      <td>United-States</td>\n",
       "    </tr>\n",
       "    <tr>\n",
       "      <th>1</th>\n",
       "      <td>0</td>\n",
       "      <td>1</td>\n",
       "      <td>1</td>\n",
       "      <td>1</td>\n",
       "      <td>White</td>\n",
       "      <td>Male</td>\n",
       "      <td>United-States</td>\n",
       "    </tr>\n",
       "    <tr>\n",
       "      <th>2</th>\n",
       "      <td>1</td>\n",
       "      <td>1</td>\n",
       "      <td>3</td>\n",
       "      <td>1</td>\n",
       "      <td>White</td>\n",
       "      <td>Male</td>\n",
       "      <td>United-States</td>\n",
       "    </tr>\n",
       "    <tr>\n",
       "      <th>3</th>\n",
       "      <td>0</td>\n",
       "      <td>1</td>\n",
       "      <td>1</td>\n",
       "      <td>1</td>\n",
       "      <td>Black</td>\n",
       "      <td>Male</td>\n",
       "      <td>United-States</td>\n",
       "    </tr>\n",
       "    <tr>\n",
       "      <th>4</th>\n",
       "      <td>2</td>\n",
       "      <td>0</td>\n",
       "      <td>0</td>\n",
       "      <td>0</td>\n",
       "      <td>White</td>\n",
       "      <td>Female</td>\n",
       "      <td>United-States</td>\n",
       "    </tr>\n",
       "    <tr>\n",
       "      <th>...</th>\n",
       "      <td>...</td>\n",
       "      <td>...</td>\n",
       "      <td>...</td>\n",
       "      <td>...</td>\n",
       "      <td>...</td>\n",
       "      <td>...</td>\n",
       "      <td>...</td>\n",
       "    </tr>\n",
       "    <tr>\n",
       "      <th>48837</th>\n",
       "      <td>0</td>\n",
       "      <td>1</td>\n",
       "      <td>2</td>\n",
       "      <td>4</td>\n",
       "      <td>White</td>\n",
       "      <td>Female</td>\n",
       "      <td>United-States</td>\n",
       "    </tr>\n",
       "    <tr>\n",
       "      <th>48838</th>\n",
       "      <td>0</td>\n",
       "      <td>1</td>\n",
       "      <td>1</td>\n",
       "      <td>1</td>\n",
       "      <td>White</td>\n",
       "      <td>Male</td>\n",
       "      <td>United-States</td>\n",
       "    </tr>\n",
       "    <tr>\n",
       "      <th>48839</th>\n",
       "      <td>0</td>\n",
       "      <td>2</td>\n",
       "      <td>1</td>\n",
       "      <td>3</td>\n",
       "      <td>White</td>\n",
       "      <td>Female</td>\n",
       "      <td>United-States</td>\n",
       "    </tr>\n",
       "    <tr>\n",
       "      <th>48840</th>\n",
       "      <td>0</td>\n",
       "      <td>0</td>\n",
       "      <td>1</td>\n",
       "      <td>0</td>\n",
       "      <td>White</td>\n",
       "      <td>Male</td>\n",
       "      <td>United-States</td>\n",
       "    </tr>\n",
       "    <tr>\n",
       "      <th>48841</th>\n",
       "      <td>6</td>\n",
       "      <td>1</td>\n",
       "      <td>4</td>\n",
       "      <td>4</td>\n",
       "      <td>White</td>\n",
       "      <td>Female</td>\n",
       "      <td>United-States</td>\n",
       "    </tr>\n",
       "  </tbody>\n",
       "</table>\n",
       "<p>48842 rows × 7 columns</p>\n",
       "</div>"
      ],
      "text/plain": [
       "       workclass  marital-status  occupation  relationship   race     sex  \\\n",
       "0              0               0           1             0  Black    Male   \n",
       "1              0               1           1             1  White    Male   \n",
       "2              1               1           3             1  White    Male   \n",
       "3              0               1           1             1  Black    Male   \n",
       "4              2               0           0             0  White  Female   \n",
       "...          ...             ...         ...           ...    ...     ...   \n",
       "48837          0               1           2             4  White  Female   \n",
       "48838          0               1           1             1  White    Male   \n",
       "48839          0               2           1             3  White  Female   \n",
       "48840          0               0           1             0  White    Male   \n",
       "48841          6               1           4             4  White  Female   \n",
       "\n",
       "      native-country  \n",
       "0      United-States  \n",
       "1      United-States  \n",
       "2      United-States  \n",
       "3      United-States  \n",
       "4      United-States  \n",
       "...              ...  \n",
       "48837  United-States  \n",
       "48838  United-States  \n",
       "48839  United-States  \n",
       "48840  United-States  \n",
       "48841  United-States  \n",
       "\n",
       "[48842 rows x 7 columns]"
      ]
     },
     "execution_count": 102,
     "metadata": {},
     "output_type": "execute_result"
    }
   ],
   "source": [
    "df_obj"
   ]
  },
  {
   "cell_type": "code",
   "execution_count": 103,
   "id": "f33b8bb5",
   "metadata": {},
   "outputs": [
    {
     "data": {
      "text/plain": [
       "array([0, 1, 2, 3, 4, 5], dtype=int64)"
      ]
     },
     "execution_count": 103,
     "metadata": {},
     "output_type": "execute_result"
    }
   ],
   "source": [
    "df_obj['relationship'].unique()"
   ]
  },
  {
   "cell_type": "markdown",
   "id": "7ffb7221",
   "metadata": {},
   "source": [
    "- 완료"
   ]
  },
  {
   "cell_type": "markdown",
   "id": "e0b897ae",
   "metadata": {},
   "source": [
    "### race 컬럼"
   ]
  },
  {
   "cell_type": "code",
   "execution_count": 104,
   "id": "fc421cba",
   "metadata": {},
   "outputs": [
    {
     "data": {
      "text/plain": [
       "array(['Black', 'White', 'Asian-Pac-Islander', 'Other',\n",
       "       'Amer-Indian-Eskimo'], dtype=object)"
      ]
     },
     "execution_count": 104,
     "metadata": {},
     "output_type": "execute_result"
    }
   ],
   "source": [
    "df_obj['race'].unique()"
   ]
  },
  {
   "cell_type": "code",
   "execution_count": 105,
   "id": "87c9e324",
   "metadata": {},
   "outputs": [
    {
     "data": {
      "text/plain": [
       "White                 41762\n",
       "Black                  4685\n",
       "Asian-Pac-Islander     1519\n",
       "Amer-Indian-Eskimo      470\n",
       "Other                   406\n",
       "Name: race, dtype: int64"
      ]
     },
     "execution_count": 105,
     "metadata": {},
     "output_type": "execute_result"
    }
   ],
   "source": [
    "df_obj['race'].value_counts()"
   ]
  },
  {
   "cell_type": "code",
   "execution_count": 106,
   "id": "d88abbf2",
   "metadata": {},
   "outputs": [
    {
     "data": {
      "text/plain": [
       "<Axes: xlabel='race', ylabel='Count'>"
      ]
     },
     "execution_count": 106,
     "metadata": {},
     "output_type": "execute_result"
    },
    {
     "data": {
      "image/png": "[encoded data removed]",
      "text/plain": [
       "<Figure size 2000x1000 with 1 Axes>"
      ]
     },
     "metadata": {},
     "output_type": "display_data"
    }
   ],
   "source": [
    "plt.figure(figsize=(20,10))\n",
    "sns.histplot(data=df, x='race', hue=\"class\", multiple=\"dodge\")"
   ]
  },
  {
   "cell_type": "code",
   "execution_count": 107,
   "id": "bdcec909",
   "metadata": {},
   "outputs": [
    {
     "data": {
      "text/html": [
       "<div>\n",
       "<style scoped>\n",
       "    .dataframe tbody tr th:only-of-type {\n",
       "        vertical-align: middle;\n",
       "    }\n",
       "\n",
       "    .dataframe tbody tr th {\n",
       "        vertical-align: top;\n",
       "    }\n",
       "\n",
       "    .dataframe thead th {\n",
       "        text-align: right;\n",
       "    }\n",
       "</style>\n",
       "<table border=\"1\" class=\"dataframe\">\n",
       "  <thead>\n",
       "    <tr style=\"text-align: right;\">\n",
       "      <th></th>\n",
       "      <th>class</th>\n",
       "    </tr>\n",
       "    <tr>\n",
       "      <th>race</th>\n",
       "      <th></th>\n",
       "    </tr>\n",
       "  </thead>\n",
       "  <tbody>\n",
       "    <tr>\n",
       "      <th>Amer-Indian-Eskimo</th>\n",
       "      <td>0.117021</td>\n",
       "    </tr>\n",
       "    <tr>\n",
       "      <th>Asian-Pac-Islander</th>\n",
       "      <td>0.269256</td>\n",
       "    </tr>\n",
       "    <tr>\n",
       "      <th>Black</th>\n",
       "      <td>0.120811</td>\n",
       "    </tr>\n",
       "    <tr>\n",
       "      <th>Other</th>\n",
       "      <td>0.123153</td>\n",
       "    </tr>\n",
       "    <tr>\n",
       "      <th>White</th>\n",
       "      <td>0.253987</td>\n",
       "    </tr>\n",
       "  </tbody>\n",
       "</table>\n",
       "</div>"
      ],
      "text/plain": [
       "                       class\n",
       "race                        \n",
       "Amer-Indian-Eskimo  0.117021\n",
       "Asian-Pac-Islander  0.269256\n",
       "Black               0.120811\n",
       "Other               0.123153\n",
       "White               0.253987"
      ]
     },
     "execution_count": 107,
     "metadata": {},
     "output_type": "execute_result"
    }
   ],
   "source": [
    "df_race = df[['race','class']]\n",
    "df_race.groupby('race').mean()"
   ]
  },
  {
   "cell_type": "markdown",
   "id": "22bfe9b1",
   "metadata": {},
   "source": [
    "- White와 Asian-Pac-Islander\t의 클래스 분포가 비슷\n",
    "- 나머지 3개 level의 클래스 분포가 비슷\n",
    "- White, Asian-Pac-Islander -> 0\n",
    "- Amer-Indian-Eskimo, Black, Other -> 1\n",
    "\n",
    "- 이렇게 이진 범주화 할 것"
   ]
  },
  {
   "cell_type": "code",
   "execution_count": 108,
   "id": "5f0e74e7",
   "metadata": {},
   "outputs": [],
   "source": [
    "df_obj_race = []\n",
    "\n",
    "for i in range(0,48842):\n",
    "    if (df_obj['race'][i] == 'White'):\n",
    "        df_obj_race.append(0)\n",
    "    elif (df_obj['race'][i] ==  'Asian-Pac-Islander'):\n",
    "        df_obj_race.append(0)\n",
    "    elif (df_obj['race'][i] == 'Amer-Indian-Eskimo'):\n",
    "        df_obj_race.append(1)\n",
    "    elif (df_obj['race'][i] == 'Black'):\n",
    "        df_obj_race.append(1)\n",
    "    elif (df_obj['race'][i] == 'Other'):\n",
    "        df_obj_race.append(1)"
   ]
  },
  {
   "cell_type": "code",
   "execution_count": 109,
   "id": "48b63c8f",
   "metadata": {
    "scrolled": true
   },
   "outputs": [
    {
     "name": "stderr",
     "output_type": "stream",
     "text": [
      "C:\\Users\\dkdlg\\AppData\\Local\\Temp\\ipykernel_14868\\2401908677.py:1: SettingWithCopyWarning: \n",
      "A value is trying to be set on a copy of a slice from a DataFrame.\n",
      "Try using .loc[row_indexer,col_indexer] = value instead\n",
      "\n",
      "See the caveats in the documentation: https://pandas.pydata.org/pandas-docs/stable/user_guide/indexing.html#returning-a-view-versus-a-copy\n",
      "  df_obj['race'] = df_obj_race\n"
     ]
    }
   ],
   "source": [
    "df_obj['race'] = df_obj_race"
   ]
  },
  {
   "cell_type": "code",
   "execution_count": 110,
   "id": "2c3808f3",
   "metadata": {},
   "outputs": [
    {
     "data": {
      "text/html": [
       "<div>\n",
       "<style scoped>\n",
       "    .dataframe tbody tr th:only-of-type {\n",
       "        vertical-align: middle;\n",
       "    }\n",
       "\n",
       "    .dataframe tbody tr th {\n",
       "        vertical-align: top;\n",
       "    }\n",
       "\n",
       "    .dataframe thead th {\n",
       "        text-align: right;\n",
       "    }\n",
       "</style>\n",
       "<table border=\"1\" class=\"dataframe\">\n",
       "  <thead>\n",
       "    <tr style=\"text-align: right;\">\n",
       "      <th></th>\n",
       "      <th>workclass</th>\n",
       "      <th>marital-status</th>\n",
       "      <th>occupation</th>\n",
       "      <th>relationship</th>\n",
       "      <th>race</th>\n",
       "      <th>sex</th>\n",
       "      <th>native-country</th>\n",
       "    </tr>\n",
       "  </thead>\n",
       "  <tbody>\n",
       "    <tr>\n",
       "      <th>0</th>\n",
       "      <td>0</td>\n",
       "      <td>0</td>\n",
       "      <td>1</td>\n",
       "      <td>0</td>\n",
       "      <td>1</td>\n",
       "      <td>Male</td>\n",
       "      <td>United-States</td>\n",
       "    </tr>\n",
       "    <tr>\n",
       "      <th>1</th>\n",
       "      <td>0</td>\n",
       "      <td>1</td>\n",
       "      <td>1</td>\n",
       "      <td>1</td>\n",
       "      <td>0</td>\n",
       "      <td>Male</td>\n",
       "      <td>United-States</td>\n",
       "    </tr>\n",
       "    <tr>\n",
       "      <th>2</th>\n",
       "      <td>1</td>\n",
       "      <td>1</td>\n",
       "      <td>3</td>\n",
       "      <td>1</td>\n",
       "      <td>0</td>\n",
       "      <td>Male</td>\n",
       "      <td>United-States</td>\n",
       "    </tr>\n",
       "    <tr>\n",
       "      <th>3</th>\n",
       "      <td>0</td>\n",
       "      <td>1</td>\n",
       "      <td>1</td>\n",
       "      <td>1</td>\n",
       "      <td>1</td>\n",
       "      <td>Male</td>\n",
       "      <td>United-States</td>\n",
       "    </tr>\n",
       "    <tr>\n",
       "      <th>4</th>\n",
       "      <td>2</td>\n",
       "      <td>0</td>\n",
       "      <td>0</td>\n",
       "      <td>0</td>\n",
       "      <td>0</td>\n",
       "      <td>Female</td>\n",
       "      <td>United-States</td>\n",
       "    </tr>\n",
       "    <tr>\n",
       "      <th>...</th>\n",
       "      <td>...</td>\n",
       "      <td>...</td>\n",
       "      <td>...</td>\n",
       "      <td>...</td>\n",
       "      <td>...</td>\n",
       "      <td>...</td>\n",
       "      <td>...</td>\n",
       "    </tr>\n",
       "    <tr>\n",
       "      <th>48837</th>\n",
       "      <td>0</td>\n",
       "      <td>1</td>\n",
       "      <td>2</td>\n",
       "      <td>4</td>\n",
       "      <td>0</td>\n",
       "      <td>Female</td>\n",
       "      <td>United-States</td>\n",
       "    </tr>\n",
       "    <tr>\n",
       "      <th>48838</th>\n",
       "      <td>0</td>\n",
       "      <td>1</td>\n",
       "      <td>1</td>\n",
       "      <td>1</td>\n",
       "      <td>0</td>\n",
       "      <td>Male</td>\n",
       "      <td>United-States</td>\n",
       "    </tr>\n",
       "    <tr>\n",
       "      <th>48839</th>\n",
       "      <td>0</td>\n",
       "      <td>2</td>\n",
       "      <td>1</td>\n",
       "      <td>3</td>\n",
       "      <td>0</td>\n",
       "      <td>Female</td>\n",
       "      <td>United-States</td>\n",
       "    </tr>\n",
       "    <tr>\n",
       "      <th>48840</th>\n",
       "      <td>0</td>\n",
       "      <td>0</td>\n",
       "      <td>1</td>\n",
       "      <td>0</td>\n",
       "      <td>0</td>\n",
       "      <td>Male</td>\n",
       "      <td>United-States</td>\n",
       "    </tr>\n",
       "    <tr>\n",
       "      <th>48841</th>\n",
       "      <td>6</td>\n",
       "      <td>1</td>\n",
       "      <td>4</td>\n",
       "      <td>4</td>\n",
       "      <td>0</td>\n",
       "      <td>Female</td>\n",
       "      <td>United-States</td>\n",
       "    </tr>\n",
       "  </tbody>\n",
       "</table>\n",
       "<p>48842 rows × 7 columns</p>\n",
       "</div>"
      ],
      "text/plain": [
       "       workclass  marital-status  occupation  relationship  race     sex  \\\n",
       "0              0               0           1             0     1    Male   \n",
       "1              0               1           1             1     0    Male   \n",
       "2              1               1           3             1     0    Male   \n",
       "3              0               1           1             1     1    Male   \n",
       "4              2               0           0             0     0  Female   \n",
       "...          ...             ...         ...           ...   ...     ...   \n",
       "48837          0               1           2             4     0  Female   \n",
       "48838          0               1           1             1     0    Male   \n",
       "48839          0               2           1             3     0  Female   \n",
       "48840          0               0           1             0     0    Male   \n",
       "48841          6               1           4             4     0  Female   \n",
       "\n",
       "      native-country  \n",
       "0      United-States  \n",
       "1      United-States  \n",
       "2      United-States  \n",
       "3      United-States  \n",
       "4      United-States  \n",
       "...              ...  \n",
       "48837  United-States  \n",
       "48838  United-States  \n",
       "48839  United-States  \n",
       "48840  United-States  \n",
       "48841  United-States  \n",
       "\n",
       "[48842 rows x 7 columns]"
      ]
     },
     "execution_count": 110,
     "metadata": {},
     "output_type": "execute_result"
    }
   ],
   "source": [
    "df_obj"
   ]
  },
  {
   "cell_type": "code",
   "execution_count": 111,
   "id": "20b1d7b6",
   "metadata": {},
   "outputs": [
    {
     "data": {
      "text/plain": [
       "0    43281\n",
       "1     5561\n",
       "Name: race, dtype: int64"
      ]
     },
     "execution_count": 111,
     "metadata": {},
     "output_type": "execute_result"
    }
   ],
   "source": [
    "df_obj['race'].value_counts()"
   ]
  },
  {
   "cell_type": "markdown",
   "id": "0b565d47",
   "metadata": {},
   "source": [
    "- 완료"
   ]
  },
  {
   "cell_type": "markdown",
   "id": "87c98bbf",
   "metadata": {},
   "source": [
    "### sex 컬럼"
   ]
  },
  {
   "cell_type": "code",
   "execution_count": 112,
   "id": "cfa79494",
   "metadata": {},
   "outputs": [
    {
     "data": {
      "text/plain": [
       "array(['Male', 'Female'], dtype=object)"
      ]
     },
     "execution_count": 112,
     "metadata": {},
     "output_type": "execute_result"
    }
   ],
   "source": [
    "df_obj['sex'].unique()"
   ]
  },
  {
   "cell_type": "markdown",
   "id": "36a4ce65",
   "metadata": {},
   "source": [
    "- Male -> 0\n",
    "- Female -> 1 \n",
    "\n",
    "- 인코딩"
   ]
  },
  {
   "cell_type": "code",
   "execution_count": 113,
   "id": "600d3717",
   "metadata": {},
   "outputs": [],
   "source": [
    "df_obj_sex = []\n",
    "\n",
    "for i in range(0, 48842):\n",
    "    if df_obj['sex'][i] == 'Male':\n",
    "        df_obj_sex.append(0)\n",
    "    elif df_obj['sex'][i] == 'Female':\n",
    "        df_obj_sex.append(1)"
   ]
  },
  {
   "cell_type": "code",
   "execution_count": 114,
   "id": "3a021d99",
   "metadata": {},
   "outputs": [
    {
     "name": "stderr",
     "output_type": "stream",
     "text": [
      "C:\\Users\\dkdlg\\AppData\\Local\\Temp\\ipykernel_14868\\2297773369.py:1: SettingWithCopyWarning: \n",
      "A value is trying to be set on a copy of a slice from a DataFrame.\n",
      "Try using .loc[row_indexer,col_indexer] = value instead\n",
      "\n",
      "See the caveats in the documentation: https://pandas.pydata.org/pandas-docs/stable/user_guide/indexing.html#returning-a-view-versus-a-copy\n",
      "  df_obj['sex'] = df_obj_sex\n"
     ]
    }
   ],
   "source": [
    "df_obj['sex'] = df_obj_sex"
   ]
  },
  {
   "cell_type": "code",
   "execution_count": 115,
   "id": "94578568",
   "metadata": {},
   "outputs": [
    {
     "data": {
      "text/html": [
       "<div>\n",
       "<style scoped>\n",
       "    .dataframe tbody tr th:only-of-type {\n",
       "        vertical-align: middle;\n",
       "    }\n",
       "\n",
       "    .dataframe tbody tr th {\n",
       "        vertical-align: top;\n",
       "    }\n",
       "\n",
       "    .dataframe thead th {\n",
       "        text-align: right;\n",
       "    }\n",
       "</style>\n",
       "<table border=\"1\" class=\"dataframe\">\n",
       "  <thead>\n",
       "    <tr style=\"text-align: right;\">\n",
       "      <th></th>\n",
       "      <th>workclass</th>\n",
       "      <th>marital-status</th>\n",
       "      <th>occupation</th>\n",
       "      <th>relationship</th>\n",
       "      <th>race</th>\n",
       "      <th>sex</th>\n",
       "      <th>native-country</th>\n",
       "    </tr>\n",
       "  </thead>\n",
       "  <tbody>\n",
       "    <tr>\n",
       "      <th>0</th>\n",
       "      <td>0</td>\n",
       "      <td>0</td>\n",
       "      <td>1</td>\n",
       "      <td>0</td>\n",
       "      <td>1</td>\n",
       "      <td>0</td>\n",
       "      <td>United-States</td>\n",
       "    </tr>\n",
       "    <tr>\n",
       "      <th>1</th>\n",
       "      <td>0</td>\n",
       "      <td>1</td>\n",
       "      <td>1</td>\n",
       "      <td>1</td>\n",
       "      <td>0</td>\n",
       "      <td>0</td>\n",
       "      <td>United-States</td>\n",
       "    </tr>\n",
       "    <tr>\n",
       "      <th>2</th>\n",
       "      <td>1</td>\n",
       "      <td>1</td>\n",
       "      <td>3</td>\n",
       "      <td>1</td>\n",
       "      <td>0</td>\n",
       "      <td>0</td>\n",
       "      <td>United-States</td>\n",
       "    </tr>\n",
       "    <tr>\n",
       "      <th>3</th>\n",
       "      <td>0</td>\n",
       "      <td>1</td>\n",
       "      <td>1</td>\n",
       "      <td>1</td>\n",
       "      <td>1</td>\n",
       "      <td>0</td>\n",
       "      <td>United-States</td>\n",
       "    </tr>\n",
       "    <tr>\n",
       "      <th>4</th>\n",
       "      <td>2</td>\n",
       "      <td>0</td>\n",
       "      <td>0</td>\n",
       "      <td>0</td>\n",
       "      <td>0</td>\n",
       "      <td>1</td>\n",
       "      <td>United-States</td>\n",
       "    </tr>\n",
       "    <tr>\n",
       "      <th>...</th>\n",
       "      <td>...</td>\n",
       "      <td>...</td>\n",
       "      <td>...</td>\n",
       "      <td>...</td>\n",
       "      <td>...</td>\n",
       "      <td>...</td>\n",
       "      <td>...</td>\n",
       "    </tr>\n",
       "    <tr>\n",
       "      <th>48837</th>\n",
       "      <td>0</td>\n",
       "      <td>1</td>\n",
       "      <td>2</td>\n",
       "      <td>4</td>\n",
       "      <td>0</td>\n",
       "      <td>1</td>\n",
       "      <td>United-States</td>\n",
       "    </tr>\n",
       "    <tr>\n",
       "      <th>48838</th>\n",
       "      <td>0</td>\n",
       "      <td>1</td>\n",
       "      <td>1</td>\n",
       "      <td>1</td>\n",
       "      <td>0</td>\n",
       "      <td>0</td>\n",
       "      <td>United-States</td>\n",
       "    </tr>\n",
       "    <tr>\n",
       "      <th>48839</th>\n",
       "      <td>0</td>\n",
       "      <td>2</td>\n",
       "      <td>1</td>\n",
       "      <td>3</td>\n",
       "      <td>0</td>\n",
       "      <td>1</td>\n",
       "      <td>United-States</td>\n",
       "    </tr>\n",
       "    <tr>\n",
       "      <th>48840</th>\n",
       "      <td>0</td>\n",
       "      <td>0</td>\n",
       "      <td>1</td>\n",
       "      <td>0</td>\n",
       "      <td>0</td>\n",
       "      <td>0</td>\n",
       "      <td>United-States</td>\n",
       "    </tr>\n",
       "    <tr>\n",
       "      <th>48841</th>\n",
       "      <td>6</td>\n",
       "      <td>1</td>\n",
       "      <td>4</td>\n",
       "      <td>4</td>\n",
       "      <td>0</td>\n",
       "      <td>1</td>\n",
       "      <td>United-States</td>\n",
       "    </tr>\n",
       "  </tbody>\n",
       "</table>\n",
       "<p>48842 rows × 7 columns</p>\n",
       "</div>"
      ],
      "text/plain": [
       "       workclass  marital-status  occupation  relationship  race  sex  \\\n",
       "0              0               0           1             0     1    0   \n",
       "1              0               1           1             1     0    0   \n",
       "2              1               1           3             1     0    0   \n",
       "3              0               1           1             1     1    0   \n",
       "4              2               0           0             0     0    1   \n",
       "...          ...             ...         ...           ...   ...  ...   \n",
       "48837          0               1           2             4     0    1   \n",
       "48838          0               1           1             1     0    0   \n",
       "48839          0               2           1             3     0    1   \n",
       "48840          0               0           1             0     0    0   \n",
       "48841          6               1           4             4     0    1   \n",
       "\n",
       "      native-country  \n",
       "0      United-States  \n",
       "1      United-States  \n",
       "2      United-States  \n",
       "3      United-States  \n",
       "4      United-States  \n",
       "...              ...  \n",
       "48837  United-States  \n",
       "48838  United-States  \n",
       "48839  United-States  \n",
       "48840  United-States  \n",
       "48841  United-States  \n",
       "\n",
       "[48842 rows x 7 columns]"
      ]
     },
     "execution_count": 115,
     "metadata": {},
     "output_type": "execute_result"
    }
   ],
   "source": [
    "df_obj"
   ]
  },
  {
   "cell_type": "code",
   "execution_count": 116,
   "id": "f9b511f7",
   "metadata": {},
   "outputs": [
    {
     "data": {
      "text/plain": [
       "array([0, 1], dtype=int64)"
      ]
     },
     "execution_count": 116,
     "metadata": {},
     "output_type": "execute_result"
    }
   ],
   "source": [
    "df_obj['sex'].unique()"
   ]
  },
  {
   "cell_type": "markdown",
   "id": "fb5a53d7",
   "metadata": {},
   "source": [
    "- 완료"
   ]
  },
  {
   "cell_type": "markdown",
   "id": "f981eb74",
   "metadata": {},
   "source": [
    "### native-country 컬럼"
   ]
  },
  {
   "cell_type": "code",
   "execution_count": 117,
   "id": "17e26b2e",
   "metadata": {},
   "outputs": [
    {
     "data": {
      "text/plain": [
       "array(['United-States', 'Peru', 'Guatemala', 'Mexico',\n",
       "       'Dominican-Republic', 'Ireland', 'Germany', 'Philippines',\n",
       "       'Thailand', 'Haiti', 'El-Salvador', 'Puerto-Rico', 'Vietnam',\n",
       "       'South', 'Columbia', 'Japan', 'India', 'Cambodia', 'Poland',\n",
       "       'Laos', 'England', 'Cuba', 'Taiwan', 'Italy', 'Canada', 'Portugal',\n",
       "       'China', 'Nicaragua', 'Honduras', 'Iran', 'Scotland', 'Jamaica',\n",
       "       'Ecuador', 'Yugoslavia', 'Hungary', 'Hong', 'Greece',\n",
       "       'Trinadad&Tobago', 'Outlying-US(Guam-USVI-etc)', 'France',\n",
       "       'Holand-Netherlands'], dtype=object)"
      ]
     },
     "execution_count": 117,
     "metadata": {},
     "output_type": "execute_result"
    }
   ],
   "source": [
    "df_obj['native-country'].unique()"
   ]
  },
  {
   "cell_type": "code",
   "execution_count": 118,
   "id": "7ae9ba42",
   "metadata": {},
   "outputs": [
    {
     "data": {
      "text/plain": [
       "United-States                 44689\n",
       "Mexico                          951\n",
       "Philippines                     295\n",
       "Germany                         206\n",
       "Puerto-Rico                     184\n",
       "Canada                          182\n",
       "El-Salvador                     155\n",
       "India                           151\n",
       "Cuba                            138\n",
       "England                         127\n",
       "China                           122\n",
       "South                           115\n",
       "Jamaica                         106\n",
       "Italy                           105\n",
       "Dominican-Republic              103\n",
       "Japan                            92\n",
       "Guatemala                        88\n",
       "Poland                           87\n",
       "Vietnam                          86\n",
       "Columbia                         85\n",
       "Haiti                            75\n",
       "Portugal                         67\n",
       "Taiwan                           65\n",
       "Iran                             59\n",
       "Greece                           49\n",
       "Nicaragua                        49\n",
       "Peru                             46\n",
       "Ecuador                          45\n",
       "France                           38\n",
       "Ireland                          37\n",
       "Hong                             30\n",
       "Thailand                         30\n",
       "Cambodia                         28\n",
       "Trinadad&Tobago                  27\n",
       "Yugoslavia                       23\n",
       "Outlying-US(Guam-USVI-etc)       23\n",
       "Laos                             23\n",
       "Scotland                         21\n",
       "Honduras                         20\n",
       "Hungary                          19\n",
       "Holand-Netherlands                1\n",
       "Name: native-country, dtype: int64"
      ]
     },
     "execution_count": 118,
     "metadata": {},
     "output_type": "execute_result"
    }
   ],
   "source": [
    "df_obj['native-country'].value_counts()"
   ]
  },
  {
   "cell_type": "markdown",
   "id": "fce0422d",
   "metadata": {},
   "source": [
    "- United-States -> 0\n",
    "- 나머지 -> 1\n",
    "\n",
    "- 인코딩"
   ]
  },
  {
   "cell_type": "code",
   "execution_count": 122,
   "id": "febe1ee8",
   "metadata": {},
   "outputs": [],
   "source": [
    "df_obj_native = []\n",
    "\n",
    "for i in range(0, 48842):\n",
    "    if df_obj['native-country'][i] == 'United-States':\n",
    "        df_obj_native.append(0)\n",
    "    elif df_obj['native-country'][i] != 'United-States':\n",
    "        df_obj_native.append(1)"
   ]
  },
  {
   "cell_type": "code",
   "execution_count": 123,
   "id": "b5bad703",
   "metadata": {},
   "outputs": [
    {
     "name": "stderr",
     "output_type": "stream",
     "text": [
      "C:\\Users\\dkdlg\\AppData\\Local\\Temp\\ipykernel_14868\\3554707254.py:1: SettingWithCopyWarning: \n",
      "A value is trying to be set on a copy of a slice from a DataFrame.\n",
      "Try using .loc[row_indexer,col_indexer] = value instead\n",
      "\n",
      "See the caveats in the documentation: https://pandas.pydata.org/pandas-docs/stable/user_guide/indexing.html#returning-a-view-versus-a-copy\n",
      "  df_obj['native-country'] = df_obj_native\n"
     ]
    }
   ],
   "source": [
    "df_obj['native-country'] = df_obj_native"
   ]
  },
  {
   "cell_type": "code",
   "execution_count": 124,
   "id": "1d29da35",
   "metadata": {},
   "outputs": [
    {
     "data": {
      "text/html": [
       "<div>\n",
       "<style scoped>\n",
       "    .dataframe tbody tr th:only-of-type {\n",
       "        vertical-align: middle;\n",
       "    }\n",
       "\n",
       "    .dataframe tbody tr th {\n",
       "        vertical-align: top;\n",
       "    }\n",
       "\n",
       "    .dataframe thead th {\n",
       "        text-align: right;\n",
       "    }\n",
       "</style>\n",
       "<table border=\"1\" class=\"dataframe\">\n",
       "  <thead>\n",
       "    <tr style=\"text-align: right;\">\n",
       "      <th></th>\n",
       "      <th>workclass</th>\n",
       "      <th>marital-status</th>\n",
       "      <th>occupation</th>\n",
       "      <th>relationship</th>\n",
       "      <th>race</th>\n",
       "      <th>sex</th>\n",
       "      <th>native-country</th>\n",
       "    </tr>\n",
       "  </thead>\n",
       "  <tbody>\n",
       "    <tr>\n",
       "      <th>0</th>\n",
       "      <td>0</td>\n",
       "      <td>0</td>\n",
       "      <td>1</td>\n",
       "      <td>0</td>\n",
       "      <td>1</td>\n",
       "      <td>0</td>\n",
       "      <td>0</td>\n",
       "    </tr>\n",
       "    <tr>\n",
       "      <th>1</th>\n",
       "      <td>0</td>\n",
       "      <td>1</td>\n",
       "      <td>1</td>\n",
       "      <td>1</td>\n",
       "      <td>0</td>\n",
       "      <td>0</td>\n",
       "      <td>0</td>\n",
       "    </tr>\n",
       "    <tr>\n",
       "      <th>2</th>\n",
       "      <td>1</td>\n",
       "      <td>1</td>\n",
       "      <td>3</td>\n",
       "      <td>1</td>\n",
       "      <td>0</td>\n",
       "      <td>0</td>\n",
       "      <td>0</td>\n",
       "    </tr>\n",
       "    <tr>\n",
       "      <th>3</th>\n",
       "      <td>0</td>\n",
       "      <td>1</td>\n",
       "      <td>1</td>\n",
       "      <td>1</td>\n",
       "      <td>1</td>\n",
       "      <td>0</td>\n",
       "      <td>0</td>\n",
       "    </tr>\n",
       "    <tr>\n",
       "      <th>4</th>\n",
       "      <td>2</td>\n",
       "      <td>0</td>\n",
       "      <td>0</td>\n",
       "      <td>0</td>\n",
       "      <td>0</td>\n",
       "      <td>1</td>\n",
       "      <td>0</td>\n",
       "    </tr>\n",
       "    <tr>\n",
       "      <th>...</th>\n",
       "      <td>...</td>\n",
       "      <td>...</td>\n",
       "      <td>...</td>\n",
       "      <td>...</td>\n",
       "      <td>...</td>\n",
       "      <td>...</td>\n",
       "      <td>...</td>\n",
       "    </tr>\n",
       "    <tr>\n",
       "      <th>48837</th>\n",
       "      <td>0</td>\n",
       "      <td>1</td>\n",
       "      <td>2</td>\n",
       "      <td>4</td>\n",
       "      <td>0</td>\n",
       "      <td>1</td>\n",
       "      <td>0</td>\n",
       "    </tr>\n",
       "    <tr>\n",
       "      <th>48838</th>\n",
       "      <td>0</td>\n",
       "      <td>1</td>\n",
       "      <td>1</td>\n",
       "      <td>1</td>\n",
       "      <td>0</td>\n",
       "      <td>0</td>\n",
       "      <td>0</td>\n",
       "    </tr>\n",
       "    <tr>\n",
       "      <th>48839</th>\n",
       "      <td>0</td>\n",
       "      <td>2</td>\n",
       "      <td>1</td>\n",
       "      <td>3</td>\n",
       "      <td>0</td>\n",
       "      <td>1</td>\n",
       "      <td>0</td>\n",
       "    </tr>\n",
       "    <tr>\n",
       "      <th>48840</th>\n",
       "      <td>0</td>\n",
       "      <td>0</td>\n",
       "      <td>1</td>\n",
       "      <td>0</td>\n",
       "      <td>0</td>\n",
       "      <td>0</td>\n",
       "      <td>0</td>\n",
       "    </tr>\n",
       "    <tr>\n",
       "      <th>48841</th>\n",
       "      <td>6</td>\n",
       "      <td>1</td>\n",
       "      <td>4</td>\n",
       "      <td>4</td>\n",
       "      <td>0</td>\n",
       "      <td>1</td>\n",
       "      <td>0</td>\n",
       "    </tr>\n",
       "  </tbody>\n",
       "</table>\n",
       "<p>48842 rows × 7 columns</p>\n",
       "</div>"
      ],
      "text/plain": [
       "       workclass  marital-status  occupation  relationship  race  sex  \\\n",
       "0              0               0           1             0     1    0   \n",
       "1              0               1           1             1     0    0   \n",
       "2              1               1           3             1     0    0   \n",
       "3              0               1           1             1     1    0   \n",
       "4              2               0           0             0     0    1   \n",
       "...          ...             ...         ...           ...   ...  ...   \n",
       "48837          0               1           2             4     0    1   \n",
       "48838          0               1           1             1     0    0   \n",
       "48839          0               2           1             3     0    1   \n",
       "48840          0               0           1             0     0    0   \n",
       "48841          6               1           4             4     0    1   \n",
       "\n",
       "       native-country  \n",
       "0                   0  \n",
       "1                   0  \n",
       "2                   0  \n",
       "3                   0  \n",
       "4                   0  \n",
       "...               ...  \n",
       "48837               0  \n",
       "48838               0  \n",
       "48839               0  \n",
       "48840               0  \n",
       "48841               0  \n",
       "\n",
       "[48842 rows x 7 columns]"
      ]
     },
     "execution_count": 124,
     "metadata": {},
     "output_type": "execute_result"
    }
   ],
   "source": [
    "df_obj"
   ]
  },
  {
   "cell_type": "code",
   "execution_count": 125,
   "id": "a087505c",
   "metadata": {},
   "outputs": [
    {
     "data": {
      "text/plain": [
       "array([0, 1], dtype=int64)"
      ]
     },
     "execution_count": 125,
     "metadata": {},
     "output_type": "execute_result"
    }
   ],
   "source": [
    "df_obj['native-country'].unique()"
   ]
  },
  {
   "cell_type": "markdown",
   "id": "698a08d2",
   "metadata": {},
   "source": [
    "- 완료"
   ]
  },
  {
   "cell_type": "markdown",
   "id": "30d7f127",
   "metadata": {},
   "source": [
    "# x 데이터 y 데이터 병합 및 분할"
   ]
  },
  {
   "cell_type": "code",
   "execution_count": 127,
   "id": "8f62e1f6",
   "metadata": {},
   "outputs": [],
   "source": [
    "x = df_int.drop(columns = 'class' , axis = 1)"
   ]
  },
  {
   "cell_type": "code",
   "execution_count": 130,
   "id": "0436eab9",
   "metadata": {},
   "outputs": [],
   "source": [
    "x = pd.concat([x , df_obj] , axis = 1)"
   ]
  },
  {
   "cell_type": "code",
   "execution_count": 131,
   "id": "7220a9b0",
   "metadata": {
    "scrolled": false
   },
   "outputs": [
    {
     "data": {
      "text/html": [
       "<div>\n",
       "<style scoped>\n",
       "    .dataframe tbody tr th:only-of-type {\n",
       "        vertical-align: middle;\n",
       "    }\n",
       "\n",
       "    .dataframe tbody tr th {\n",
       "        vertical-align: top;\n",
       "    }\n",
       "\n",
       "    .dataframe thead th {\n",
       "        text-align: right;\n",
       "    }\n",
       "</style>\n",
       "<table border=\"1\" class=\"dataframe\">\n",
       "  <thead>\n",
       "    <tr style=\"text-align: right;\">\n",
       "      <th></th>\n",
       "      <th>Unnamed: 0</th>\n",
       "      <th>age</th>\n",
       "      <th>education-num</th>\n",
       "      <th>capital-gain</th>\n",
       "      <th>capital-loss</th>\n",
       "      <th>hours-per-week</th>\n",
       "      <th>workclass</th>\n",
       "      <th>marital-status</th>\n",
       "      <th>occupation</th>\n",
       "      <th>relationship</th>\n",
       "      <th>race</th>\n",
       "      <th>sex</th>\n",
       "      <th>native-country</th>\n",
       "    </tr>\n",
       "  </thead>\n",
       "  <tbody>\n",
       "    <tr>\n",
       "      <th>0</th>\n",
       "      <td>0</td>\n",
       "      <td>1</td>\n",
       "      <td>0</td>\n",
       "      <td>0</td>\n",
       "      <td>0</td>\n",
       "      <td>1</td>\n",
       "      <td>0</td>\n",
       "      <td>0</td>\n",
       "      <td>1</td>\n",
       "      <td>0</td>\n",
       "      <td>1</td>\n",
       "      <td>0</td>\n",
       "      <td>0</td>\n",
       "    </tr>\n",
       "    <tr>\n",
       "      <th>1</th>\n",
       "      <td>1</td>\n",
       "      <td>2</td>\n",
       "      <td>1</td>\n",
       "      <td>0</td>\n",
       "      <td>0</td>\n",
       "      <td>2</td>\n",
       "      <td>0</td>\n",
       "      <td>1</td>\n",
       "      <td>1</td>\n",
       "      <td>1</td>\n",
       "      <td>0</td>\n",
       "      <td>0</td>\n",
       "      <td>0</td>\n",
       "    </tr>\n",
       "    <tr>\n",
       "      <th>2</th>\n",
       "      <td>2</td>\n",
       "      <td>1</td>\n",
       "      <td>4</td>\n",
       "      <td>0</td>\n",
       "      <td>0</td>\n",
       "      <td>1</td>\n",
       "      <td>1</td>\n",
       "      <td>1</td>\n",
       "      <td>3</td>\n",
       "      <td>1</td>\n",
       "      <td>0</td>\n",
       "      <td>0</td>\n",
       "      <td>0</td>\n",
       "    </tr>\n",
       "    <tr>\n",
       "      <th>3</th>\n",
       "      <td>3</td>\n",
       "      <td>3</td>\n",
       "      <td>2</td>\n",
       "      <td>1</td>\n",
       "      <td>0</td>\n",
       "      <td>1</td>\n",
       "      <td>0</td>\n",
       "      <td>1</td>\n",
       "      <td>1</td>\n",
       "      <td>1</td>\n",
       "      <td>1</td>\n",
       "      <td>0</td>\n",
       "      <td>0</td>\n",
       "    </tr>\n",
       "    <tr>\n",
       "      <th>4</th>\n",
       "      <td>4</td>\n",
       "      <td>0</td>\n",
       "      <td>2</td>\n",
       "      <td>0</td>\n",
       "      <td>0</td>\n",
       "      <td>0</td>\n",
       "      <td>2</td>\n",
       "      <td>0</td>\n",
       "      <td>0</td>\n",
       "      <td>0</td>\n",
       "      <td>0</td>\n",
       "      <td>1</td>\n",
       "      <td>0</td>\n",
       "    </tr>\n",
       "    <tr>\n",
       "      <th>...</th>\n",
       "      <td>...</td>\n",
       "      <td>...</td>\n",
       "      <td>...</td>\n",
       "      <td>...</td>\n",
       "      <td>...</td>\n",
       "      <td>...</td>\n",
       "      <td>...</td>\n",
       "      <td>...</td>\n",
       "      <td>...</td>\n",
       "      <td>...</td>\n",
       "      <td>...</td>\n",
       "      <td>...</td>\n",
       "      <td>...</td>\n",
       "    </tr>\n",
       "    <tr>\n",
       "      <th>48837</th>\n",
       "      <td>48837</td>\n",
       "      <td>1</td>\n",
       "      <td>4</td>\n",
       "      <td>0</td>\n",
       "      <td>0</td>\n",
       "      <td>0</td>\n",
       "      <td>0</td>\n",
       "      <td>1</td>\n",
       "      <td>2</td>\n",
       "      <td>4</td>\n",
       "      <td>0</td>\n",
       "      <td>1</td>\n",
       "      <td>0</td>\n",
       "    </tr>\n",
       "    <tr>\n",
       "      <th>48838</th>\n",
       "      <td>48838</td>\n",
       "      <td>2</td>\n",
       "      <td>1</td>\n",
       "      <td>0</td>\n",
       "      <td>0</td>\n",
       "      <td>1</td>\n",
       "      <td>0</td>\n",
       "      <td>1</td>\n",
       "      <td>1</td>\n",
       "      <td>1</td>\n",
       "      <td>0</td>\n",
       "      <td>0</td>\n",
       "      <td>0</td>\n",
       "    </tr>\n",
       "    <tr>\n",
       "      <th>48839</th>\n",
       "      <td>48839</td>\n",
       "      <td>4</td>\n",
       "      <td>1</td>\n",
       "      <td>0</td>\n",
       "      <td>0</td>\n",
       "      <td>1</td>\n",
       "      <td>0</td>\n",
       "      <td>2</td>\n",
       "      <td>1</td>\n",
       "      <td>3</td>\n",
       "      <td>0</td>\n",
       "      <td>1</td>\n",
       "      <td>0</td>\n",
       "    </tr>\n",
       "    <tr>\n",
       "      <th>48840</th>\n",
       "      <td>48840</td>\n",
       "      <td>1</td>\n",
       "      <td>1</td>\n",
       "      <td>0</td>\n",
       "      <td>0</td>\n",
       "      <td>0</td>\n",
       "      <td>0</td>\n",
       "      <td>0</td>\n",
       "      <td>1</td>\n",
       "      <td>0</td>\n",
       "      <td>0</td>\n",
       "      <td>0</td>\n",
       "      <td>0</td>\n",
       "    </tr>\n",
       "    <tr>\n",
       "      <th>48841</th>\n",
       "      <td>48841</td>\n",
       "      <td>4</td>\n",
       "      <td>1</td>\n",
       "      <td>1</td>\n",
       "      <td>0</td>\n",
       "      <td>1</td>\n",
       "      <td>6</td>\n",
       "      <td>1</td>\n",
       "      <td>4</td>\n",
       "      <td>4</td>\n",
       "      <td>0</td>\n",
       "      <td>1</td>\n",
       "      <td>0</td>\n",
       "    </tr>\n",
       "  </tbody>\n",
       "</table>\n",
       "<p>48842 rows × 13 columns</p>\n",
       "</div>"
      ],
      "text/plain": [
       "       Unnamed: 0  age  education-num  capital-gain  capital-loss  \\\n",
       "0               0    1              0             0             0   \n",
       "1               1    2              1             0             0   \n",
       "2               2    1              4             0             0   \n",
       "3               3    3              2             1             0   \n",
       "4               4    0              2             0             0   \n",
       "...           ...  ...            ...           ...           ...   \n",
       "48837       48837    1              4             0             0   \n",
       "48838       48838    2              1             0             0   \n",
       "48839       48839    4              1             0             0   \n",
       "48840       48840    1              1             0             0   \n",
       "48841       48841    4              1             1             0   \n",
       "\n",
       "       hours-per-week  workclass  marital-status  occupation  relationship  \\\n",
       "0                   1          0               0           1             0   \n",
       "1                   2          0               1           1             1   \n",
       "2                   1          1               1           3             1   \n",
       "3                   1          0               1           1             1   \n",
       "4                   0          2               0           0             0   \n",
       "...               ...        ...             ...         ...           ...   \n",
       "48837               0          0               1           2             4   \n",
       "48838               1          0               1           1             1   \n",
       "48839               1          0               2           1             3   \n",
       "48840               0          0               0           1             0   \n",
       "48841               1          6               1           4             4   \n",
       "\n",
       "       race  sex  native-country  \n",
       "0         1    0               0  \n",
       "1         0    0               0  \n",
       "2         0    0               0  \n",
       "3         1    0               0  \n",
       "4         0    1               0  \n",
       "...     ...  ...             ...  \n",
       "48837     0    1               0  \n",
       "48838     0    0               0  \n",
       "48839     0    1               0  \n",
       "48840     0    0               0  \n",
       "48841     0    1               0  \n",
       "\n",
       "[48842 rows x 13 columns]"
      ]
     },
     "execution_count": 131,
     "metadata": {},
     "output_type": "execute_result"
    }
   ],
   "source": [
    "x"
   ]
  },
  {
   "cell_type": "code",
   "execution_count": 134,
   "id": "bdd97c34",
   "metadata": {
    "scrolled": true
   },
   "outputs": [
    {
     "data": {
      "text/html": [
       "<div>\n",
       "<style scoped>\n",
       "    .dataframe tbody tr th:only-of-type {\n",
       "        vertical-align: middle;\n",
       "    }\n",
       "\n",
       "    .dataframe tbody tr th {\n",
       "        vertical-align: top;\n",
       "    }\n",
       "\n",
       "    .dataframe thead th {\n",
       "        text-align: right;\n",
       "    }\n",
       "</style>\n",
       "<table border=\"1\" class=\"dataframe\">\n",
       "  <thead>\n",
       "    <tr style=\"text-align: right;\">\n",
       "      <th></th>\n",
       "      <th>Unnamed: 0</th>\n",
       "      <th>age</th>\n",
       "      <th>education-num</th>\n",
       "      <th>capital-gain</th>\n",
       "      <th>capital-loss</th>\n",
       "      <th>hours-per-week</th>\n",
       "      <th>workclass</th>\n",
       "      <th>marital-status</th>\n",
       "      <th>occupation</th>\n",
       "      <th>relationship</th>\n",
       "      <th>race</th>\n",
       "      <th>sex</th>\n",
       "      <th>native-country</th>\n",
       "    </tr>\n",
       "  </thead>\n",
       "  <tbody>\n",
       "    <tr>\n",
       "      <th>count</th>\n",
       "      <td>48842.000000</td>\n",
       "      <td>48842.000000</td>\n",
       "      <td>48842.000000</td>\n",
       "      <td>48842.000000</td>\n",
       "      <td>48842.000000</td>\n",
       "      <td>48842.000000</td>\n",
       "      <td>48842.000000</td>\n",
       "      <td>48842.000000</td>\n",
       "      <td>48842.000000</td>\n",
       "      <td>48842.000000</td>\n",
       "      <td>48842.000000</td>\n",
       "      <td>48842.000000</td>\n",
       "      <td>48842.000000</td>\n",
       "    </tr>\n",
       "    <tr>\n",
       "      <th>mean</th>\n",
       "      <td>24420.500000</td>\n",
       "      <td>2.308689</td>\n",
       "      <td>2.391057</td>\n",
       "      <td>0.082613</td>\n",
       "      <td>0.046722</td>\n",
       "      <td>1.054564</td>\n",
       "      <td>0.947750</td>\n",
       "      <td>1.121903</td>\n",
       "      <td>1.925454</td>\n",
       "      <td>1.578785</td>\n",
       "      <td>0.113857</td>\n",
       "      <td>0.331518</td>\n",
       "      <td>0.085029</td>\n",
       "    </tr>\n",
       "    <tr>\n",
       "      <th>std</th>\n",
       "      <td>14099.615261</td>\n",
       "      <td>1.400150</td>\n",
       "      <td>2.020466</td>\n",
       "      <td>0.275300</td>\n",
       "      <td>0.211045</td>\n",
       "      <td>0.728121</td>\n",
       "      <td>1.691513</td>\n",
       "      <td>1.181543</td>\n",
       "      <td>1.431364</td>\n",
       "      <td>1.191836</td>\n",
       "      <td>0.317641</td>\n",
       "      <td>0.470764</td>\n",
       "      <td>0.278928</td>\n",
       "    </tr>\n",
       "    <tr>\n",
       "      <th>min</th>\n",
       "      <td>0.000000</td>\n",
       "      <td>0.000000</td>\n",
       "      <td>0.000000</td>\n",
       "      <td>0.000000</td>\n",
       "      <td>0.000000</td>\n",
       "      <td>0.000000</td>\n",
       "      <td>0.000000</td>\n",
       "      <td>0.000000</td>\n",
       "      <td>0.000000</td>\n",
       "      <td>0.000000</td>\n",
       "      <td>0.000000</td>\n",
       "      <td>0.000000</td>\n",
       "      <td>0.000000</td>\n",
       "    </tr>\n",
       "    <tr>\n",
       "      <th>25%</th>\n",
       "      <td>12210.250000</td>\n",
       "      <td>1.000000</td>\n",
       "      <td>1.000000</td>\n",
       "      <td>0.000000</td>\n",
       "      <td>0.000000</td>\n",
       "      <td>1.000000</td>\n",
       "      <td>0.000000</td>\n",
       "      <td>0.000000</td>\n",
       "      <td>1.000000</td>\n",
       "      <td>1.000000</td>\n",
       "      <td>0.000000</td>\n",
       "      <td>0.000000</td>\n",
       "      <td>0.000000</td>\n",
       "    </tr>\n",
       "    <tr>\n",
       "      <th>50%</th>\n",
       "      <td>24420.500000</td>\n",
       "      <td>2.000000</td>\n",
       "      <td>2.000000</td>\n",
       "      <td>0.000000</td>\n",
       "      <td>0.000000</td>\n",
       "      <td>1.000000</td>\n",
       "      <td>0.000000</td>\n",
       "      <td>1.000000</td>\n",
       "      <td>2.000000</td>\n",
       "      <td>1.000000</td>\n",
       "      <td>0.000000</td>\n",
       "      <td>0.000000</td>\n",
       "      <td>0.000000</td>\n",
       "    </tr>\n",
       "    <tr>\n",
       "      <th>75%</th>\n",
       "      <td>36630.750000</td>\n",
       "      <td>3.000000</td>\n",
       "      <td>4.000000</td>\n",
       "      <td>0.000000</td>\n",
       "      <td>0.000000</td>\n",
       "      <td>2.000000</td>\n",
       "      <td>1.000000</td>\n",
       "      <td>1.000000</td>\n",
       "      <td>4.000000</td>\n",
       "      <td>2.000000</td>\n",
       "      <td>0.000000</td>\n",
       "      <td>1.000000</td>\n",
       "      <td>0.000000</td>\n",
       "    </tr>\n",
       "    <tr>\n",
       "      <th>max</th>\n",
       "      <td>48841.000000</td>\n",
       "      <td>6.000000</td>\n",
       "      <td>8.000000</td>\n",
       "      <td>1.000000</td>\n",
       "      <td>1.000000</td>\n",
       "      <td>2.000000</td>\n",
       "      <td>7.000000</td>\n",
       "      <td>6.000000</td>\n",
       "      <td>4.000000</td>\n",
       "      <td>5.000000</td>\n",
       "      <td>1.000000</td>\n",
       "      <td>1.000000</td>\n",
       "      <td>1.000000</td>\n",
       "    </tr>\n",
       "  </tbody>\n",
       "</table>\n",
       "</div>"
      ],
      "text/plain": [
       "         Unnamed: 0           age  education-num  capital-gain  capital-loss  \\\n",
       "count  48842.000000  48842.000000   48842.000000  48842.000000  48842.000000   \n",
       "mean   24420.500000      2.308689       2.391057      0.082613      0.046722   \n",
       "std    14099.615261      1.400150       2.020466      0.275300      0.211045   \n",
       "min        0.000000      0.000000       0.000000      0.000000      0.000000   \n",
       "25%    12210.250000      1.000000       1.000000      0.000000      0.000000   \n",
       "50%    24420.500000      2.000000       2.000000      0.000000      0.000000   \n",
       "75%    36630.750000      3.000000       4.000000      0.000000      0.000000   \n",
       "max    48841.000000      6.000000       8.000000      1.000000      1.000000   \n",
       "\n",
       "       hours-per-week     workclass  marital-status    occupation  \\\n",
       "count    48842.000000  48842.000000    48842.000000  48842.000000   \n",
       "mean         1.054564      0.947750        1.121903      1.925454   \n",
       "std          0.728121      1.691513        1.181543      1.431364   \n",
       "min          0.000000      0.000000        0.000000      0.000000   \n",
       "25%          1.000000      0.000000        0.000000      1.000000   \n",
       "50%          1.000000      0.000000        1.000000      2.000000   \n",
       "75%          2.000000      1.000000        1.000000      4.000000   \n",
       "max          2.000000      7.000000        6.000000      4.000000   \n",
       "\n",
       "       relationship          race           sex  native-country  \n",
       "count  48842.000000  48842.000000  48842.000000    48842.000000  \n",
       "mean       1.578785      0.113857      0.331518        0.085029  \n",
       "std        1.191836      0.317641      0.470764        0.278928  \n",
       "min        0.000000      0.000000      0.000000        0.000000  \n",
       "25%        1.000000      0.000000      0.000000        0.000000  \n",
       "50%        1.000000      0.000000      0.000000        0.000000  \n",
       "75%        2.000000      0.000000      1.000000        0.000000  \n",
       "max        5.000000      1.000000      1.000000        1.000000  "
      ]
     },
     "execution_count": 134,
     "metadata": {},
     "output_type": "execute_result"
    }
   ],
   "source": [
    "x.describe()"
   ]
  },
  {
   "cell_type": "code",
   "execution_count": 132,
   "id": "e225db47",
   "metadata": {},
   "outputs": [],
   "source": [
    "y = df_int['class']"
   ]
  },
  {
   "cell_type": "code",
   "execution_count": 133,
   "id": "5ced2602",
   "metadata": {},
   "outputs": [
    {
     "data": {
      "text/plain": [
       "0        0\n",
       "1        0\n",
       "2        1\n",
       "3        1\n",
       "4        0\n",
       "        ..\n",
       "48837    0\n",
       "48838    1\n",
       "48839    0\n",
       "48840    0\n",
       "48841    1\n",
       "Name: class, Length: 48842, dtype: int64"
      ]
     },
     "execution_count": 133,
     "metadata": {},
     "output_type": "execute_result"
    }
   ],
   "source": [
    "y"
   ]
  },
  {
   "cell_type": "markdown",
   "id": "8c99c66e",
   "metadata": {},
   "source": [
    "# 데이터 전처리 완료! \n",
    "- 컬럼별 인코딩 전 정보는 각 목차에 정리했음"
   ]
  },
  {
   "cell_type": "code",
   "execution_count": null,
   "id": "3e8c4fe2",
   "metadata": {},
   "outputs": [],
   "source": []
  }
 ],
 "metadata": {
  "hide_input": false,
  "kernelspec": {
   "display_name": "Python 3 (ipykernel)",
   "language": "python",
   "name": "python3"
  },
  "language_info": {
   "codemirror_mode": {
    "name": "ipython",
    "version": 3
   },
   "file_extension": ".py",
   "mimetype": "text/x-python",
   "name": "python",
   "nbconvert_exporter": "python",
   "pygments_lexer": "ipython3",
   "version": "3.9.13"
  },
  "toc": {
   "base_numbering": 1,
   "nav_menu": {},
   "number_sections": true,
   "sideBar": true,
   "skip_h1_title": false,
   "title_cell": "Table of Contents",
   "title_sidebar": "Contents",
   "toc_cell": true,
   "toc_position": {
    "height": "calc(100% - 180px)",
    "left": "10px",
    "top": "150px",
    "width": "168.635px"
   },
   "toc_section_display": true,
   "toc_window_display": true
  }
 },
 "nbformat": 4,
 "nbformat_minor": 5
}
