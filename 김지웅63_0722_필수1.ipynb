{
 "cells": [
  {
   "cell_type": "code",
   "execution_count": 21,
   "id": "6b1c9c94",
   "metadata": {},
   "outputs": [],
   "source": [
    "import pandas as pd\n",
    "import numpy as np\n",
    "import scipy.stats as stats\n",
    "from scipy.stats import shapiro #정규성 검정\n",
    "\n",
    "cat = pd.read_csv('cats.csv')"
   ]
  },
  {
   "cell_type": "code",
   "execution_count": 22,
   "id": "7f9fc44f",
   "metadata": {},
   "outputs": [
    {
     "data": {
      "text/html": [
       "<div>\n",
       "<style scoped>\n",
       "    .dataframe tbody tr th:only-of-type {\n",
       "        vertical-align: middle;\n",
       "    }\n",
       "\n",
       "    .dataframe tbody tr th {\n",
       "        vertical-align: top;\n",
       "    }\n",
       "\n",
       "    .dataframe thead th {\n",
       "        text-align: right;\n",
       "    }\n",
       "</style>\n",
       "<table border=\"1\" class=\"dataframe\">\n",
       "  <thead>\n",
       "    <tr style=\"text-align: right;\">\n",
       "      <th></th>\n",
       "      <th>Sex</th>\n",
       "      <th>Bwt</th>\n",
       "      <th>Hwt</th>\n",
       "    </tr>\n",
       "  </thead>\n",
       "  <tbody>\n",
       "    <tr>\n",
       "      <th>0</th>\n",
       "      <td>F</td>\n",
       "      <td>2.0</td>\n",
       "      <td>7.0</td>\n",
       "    </tr>\n",
       "    <tr>\n",
       "      <th>1</th>\n",
       "      <td>F</td>\n",
       "      <td>2.0</td>\n",
       "      <td>7.4</td>\n",
       "    </tr>\n",
       "    <tr>\n",
       "      <th>2</th>\n",
       "      <td>F</td>\n",
       "      <td>2.0</td>\n",
       "      <td>9.5</td>\n",
       "    </tr>\n",
       "    <tr>\n",
       "      <th>3</th>\n",
       "      <td>F</td>\n",
       "      <td>2.1</td>\n",
       "      <td>7.2</td>\n",
       "    </tr>\n",
       "    <tr>\n",
       "      <th>4</th>\n",
       "      <td>F</td>\n",
       "      <td>2.1</td>\n",
       "      <td>7.3</td>\n",
       "    </tr>\n",
       "    <tr>\n",
       "      <th>...</th>\n",
       "      <td>...</td>\n",
       "      <td>...</td>\n",
       "      <td>...</td>\n",
       "    </tr>\n",
       "    <tr>\n",
       "      <th>139</th>\n",
       "      <td>M</td>\n",
       "      <td>3.7</td>\n",
       "      <td>11.0</td>\n",
       "    </tr>\n",
       "    <tr>\n",
       "      <th>140</th>\n",
       "      <td>M</td>\n",
       "      <td>3.8</td>\n",
       "      <td>14.8</td>\n",
       "    </tr>\n",
       "    <tr>\n",
       "      <th>141</th>\n",
       "      <td>M</td>\n",
       "      <td>3.8</td>\n",
       "      <td>16.8</td>\n",
       "    </tr>\n",
       "    <tr>\n",
       "      <th>142</th>\n",
       "      <td>M</td>\n",
       "      <td>3.9</td>\n",
       "      <td>14.4</td>\n",
       "    </tr>\n",
       "    <tr>\n",
       "      <th>143</th>\n",
       "      <td>M</td>\n",
       "      <td>3.9</td>\n",
       "      <td>20.5</td>\n",
       "    </tr>\n",
       "  </tbody>\n",
       "</table>\n",
       "<p>144 rows × 3 columns</p>\n",
       "</div>"
      ],
      "text/plain": [
       "    Sex  Bwt   Hwt\n",
       "0     F  2.0   7.0\n",
       "1     F  2.0   7.4\n",
       "2     F  2.0   9.5\n",
       "3     F  2.1   7.2\n",
       "4     F  2.1   7.3\n",
       "..   ..  ...   ...\n",
       "139   M  3.7  11.0\n",
       "140   M  3.8  14.8\n",
       "141   M  3.8  16.8\n",
       "142   M  3.9  14.4\n",
       "143   M  3.9  20.5\n",
       "\n",
       "[144 rows x 3 columns]"
      ]
     },
     "execution_count": 22,
     "metadata": {},
     "output_type": "execute_result"
    }
   ],
   "source": [
    "cat"
   ]
  },
  {
   "cell_type": "markdown",
   "id": "39f43636",
   "metadata": {},
   "source": [
    "- 모평균 2.5\n",
    "- 귀무가설 : 고양이의 몸무게가 2.5이다.\n",
    "- 대립가설 : 고양이의 몸무게가 2.5가 아니다."
   ]
  },
  {
   "cell_type": "code",
   "execution_count": 28,
   "id": "23349b61",
   "metadata": {},
   "outputs": [
    {
     "name": "stdout",
     "output_type": "stream",
     "text": [
      "T-통계량: 5.529150278304015\n",
      "p-값: 1.4837910357254216e-07\n",
      "귀무가설 기각\n"
     ]
    }
   ],
   "source": [
    "# 판다스 라이브러리와 scipy의 ttest_1samp 함수를 임포트\n",
    "import pandas as pd\n",
    "from scipy.stats import ttest_1samp\n",
    "\n",
    "# 고양이의 몸무게 데이터를 추출\n",
    "body_weight = cat['Bwt']\n",
    "\n",
    "# 한 샘플 t-검정을 수행합니다.\n",
    "t_stat, p_value = ttest_1samp(body_weight, 2.5)\n",
    "\n",
    "# 결과를 출력\n",
    "print(\"T-통계량:\", t_stat)\n",
    "print(\"p-값:\", p_value)\n",
    "\n",
    "# p-값이 유의수준 : 0.05 보다 작은지 확인하여 결과를 판정\n",
    "alpha = 0.05\n",
    "if p_value < alpha:\n",
    "    print(\"귀무가설 기각\")\n",
    "else:\n",
    "    print(\"귀무가설 기각 실패\")\n",
    "\n"
   ]
  },
  {
   "cell_type": "markdown",
   "id": "90acf2c3",
   "metadata": {},
   "source": [
    "- 유의수준이 0.05보다 작다. 이에 고양이 몸무게가 2.5라는 귀무가설을 기각하고, 고양이의 몸무게가 2.5가 아니라는 대립가설을 채택한다."
   ]
  }
 ],
 "metadata": {
  "kernelspec": {
   "display_name": "Python 3 (ipykernel)",
   "language": "python",
   "name": "python3"
  },
  "language_info": {
   "codemirror_mode": {
    "name": "ipython",
    "version": 3
   },
   "file_extension": ".py",
   "mimetype": "text/x-python",
   "name": "python",
   "nbconvert_exporter": "python",
   "pygments_lexer": "ipython3",
   "version": "3.9.13"
  }
 },
 "nbformat": 4,
 "nbformat_minor": 5
}
